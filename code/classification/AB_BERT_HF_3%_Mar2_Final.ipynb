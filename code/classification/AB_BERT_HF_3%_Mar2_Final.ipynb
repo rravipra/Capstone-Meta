{
  "nbformat": 4,
  "nbformat_minor": 0,
  "metadata": {
    "colab": {
      "name": "Fine-tuning BERT (and friends) for multi-label text classification.ipynb",
      "provenance": []
    },
    "kernelspec": {
      "name": "python3",
      "display_name": "Python 3"
    },
    "language_info": {
      "name": "python"
    },
    "accelerator": "GPU",
    "widgets": {
      "application/vnd.jupyter.widget-state+json": {
        "a27b6adc605742d58e5e7d3b6160ae66": {
          "model_module": "@jupyter-widgets/controls",
          "model_name": "HBoxModel",
          "model_module_version": "1.5.0",
          "state": {
            "_dom_classes": [],
            "_model_module": "@jupyter-widgets/controls",
            "_model_module_version": "1.5.0",
            "_model_name": "HBoxModel",
            "_view_count": null,
            "_view_module": "@jupyter-widgets/controls",
            "_view_module_version": "1.5.0",
            "_view_name": "HBoxView",
            "box_style": "",
            "children": [
              "IPY_MODEL_edc4534499674120a6c077aa40351b36",
              "IPY_MODEL_2309eb9901034df9a9b1c3f754185e97",
              "IPY_MODEL_081e89f8a86b480bb149f56afd0874bf"
            ],
            "layout": "IPY_MODEL_2c6db67f1bcd4c4b931833c881600f56"
          }
        },
        "edc4534499674120a6c077aa40351b36": {
          "model_module": "@jupyter-widgets/controls",
          "model_name": "HTMLModel",
          "model_module_version": "1.5.0",
          "state": {
            "_dom_classes": [],
            "_model_module": "@jupyter-widgets/controls",
            "_model_module_version": "1.5.0",
            "_model_name": "HTMLModel",
            "_view_count": null,
            "_view_module": "@jupyter-widgets/controls",
            "_view_module_version": "1.5.0",
            "_view_name": "HTMLView",
            "description": "",
            "description_tooltip": null,
            "layout": "IPY_MODEL_3d10788c87cb4438aac90849e52fec2c",
            "placeholder": "​",
            "style": "IPY_MODEL_67c36ea6c5004bedb774a940efce162d",
            "value": "Map: 100%"
          }
        },
        "2309eb9901034df9a9b1c3f754185e97": {
          "model_module": "@jupyter-widgets/controls",
          "model_name": "FloatProgressModel",
          "model_module_version": "1.5.0",
          "state": {
            "_dom_classes": [],
            "_model_module": "@jupyter-widgets/controls",
            "_model_module_version": "1.5.0",
            "_model_name": "FloatProgressModel",
            "_view_count": null,
            "_view_module": "@jupyter-widgets/controls",
            "_view_module_version": "1.5.0",
            "_view_name": "ProgressView",
            "bar_style": "success",
            "description": "",
            "description_tooltip": null,
            "layout": "IPY_MODEL_c61bed2d6abc4480ba40be3a0ae8a033",
            "max": 283685,
            "min": 0,
            "orientation": "horizontal",
            "style": "IPY_MODEL_dd74c52ef7fd46e7a7fdcb57d1ae39e7",
            "value": 283685
          }
        },
        "081e89f8a86b480bb149f56afd0874bf": {
          "model_module": "@jupyter-widgets/controls",
          "model_name": "HTMLModel",
          "model_module_version": "1.5.0",
          "state": {
            "_dom_classes": [],
            "_model_module": "@jupyter-widgets/controls",
            "_model_module_version": "1.5.0",
            "_model_name": "HTMLModel",
            "_view_count": null,
            "_view_module": "@jupyter-widgets/controls",
            "_view_module_version": "1.5.0",
            "_view_name": "HTMLView",
            "description": "",
            "description_tooltip": null,
            "layout": "IPY_MODEL_b0abf2773181456aa5db5e19c91ee6e0",
            "placeholder": "​",
            "style": "IPY_MODEL_0b0a5813f75f4fb88265bb7e1704fe3e",
            "value": " 283685/283685 [00:14&lt;00:00, 19815.43 examples/s]"
          }
        },
        "2c6db67f1bcd4c4b931833c881600f56": {
          "model_module": "@jupyter-widgets/base",
          "model_name": "LayoutModel",
          "model_module_version": "1.2.0",
          "state": {
            "_model_module": "@jupyter-widgets/base",
            "_model_module_version": "1.2.0",
            "_model_name": "LayoutModel",
            "_view_count": null,
            "_view_module": "@jupyter-widgets/base",
            "_view_module_version": "1.2.0",
            "_view_name": "LayoutView",
            "align_content": null,
            "align_items": null,
            "align_self": null,
            "border": null,
            "bottom": null,
            "display": null,
            "flex": null,
            "flex_flow": null,
            "grid_area": null,
            "grid_auto_columns": null,
            "grid_auto_flow": null,
            "grid_auto_rows": null,
            "grid_column": null,
            "grid_gap": null,
            "grid_row": null,
            "grid_template_areas": null,
            "grid_template_columns": null,
            "grid_template_rows": null,
            "height": null,
            "justify_content": null,
            "justify_items": null,
            "left": null,
            "margin": null,
            "max_height": null,
            "max_width": null,
            "min_height": null,
            "min_width": null,
            "object_fit": null,
            "object_position": null,
            "order": null,
            "overflow": null,
            "overflow_x": null,
            "overflow_y": null,
            "padding": null,
            "right": null,
            "top": null,
            "visibility": null,
            "width": null
          }
        },
        "3d10788c87cb4438aac90849e52fec2c": {
          "model_module": "@jupyter-widgets/base",
          "model_name": "LayoutModel",
          "model_module_version": "1.2.0",
          "state": {
            "_model_module": "@jupyter-widgets/base",
            "_model_module_version": "1.2.0",
            "_model_name": "LayoutModel",
            "_view_count": null,
            "_view_module": "@jupyter-widgets/base",
            "_view_module_version": "1.2.0",
            "_view_name": "LayoutView",
            "align_content": null,
            "align_items": null,
            "align_self": null,
            "border": null,
            "bottom": null,
            "display": null,
            "flex": null,
            "flex_flow": null,
            "grid_area": null,
            "grid_auto_columns": null,
            "grid_auto_flow": null,
            "grid_auto_rows": null,
            "grid_column": null,
            "grid_gap": null,
            "grid_row": null,
            "grid_template_areas": null,
            "grid_template_columns": null,
            "grid_template_rows": null,
            "height": null,
            "justify_content": null,
            "justify_items": null,
            "left": null,
            "margin": null,
            "max_height": null,
            "max_width": null,
            "min_height": null,
            "min_width": null,
            "object_fit": null,
            "object_position": null,
            "order": null,
            "overflow": null,
            "overflow_x": null,
            "overflow_y": null,
            "padding": null,
            "right": null,
            "top": null,
            "visibility": null,
            "width": null
          }
        },
        "67c36ea6c5004bedb774a940efce162d": {
          "model_module": "@jupyter-widgets/controls",
          "model_name": "DescriptionStyleModel",
          "model_module_version": "1.5.0",
          "state": {
            "_model_module": "@jupyter-widgets/controls",
            "_model_module_version": "1.5.0",
            "_model_name": "DescriptionStyleModel",
            "_view_count": null,
            "_view_module": "@jupyter-widgets/base",
            "_view_module_version": "1.2.0",
            "_view_name": "StyleView",
            "description_width": ""
          }
        },
        "c61bed2d6abc4480ba40be3a0ae8a033": {
          "model_module": "@jupyter-widgets/base",
          "model_name": "LayoutModel",
          "model_module_version": "1.2.0",
          "state": {
            "_model_module": "@jupyter-widgets/base",
            "_model_module_version": "1.2.0",
            "_model_name": "LayoutModel",
            "_view_count": null,
            "_view_module": "@jupyter-widgets/base",
            "_view_module_version": "1.2.0",
            "_view_name": "LayoutView",
            "align_content": null,
            "align_items": null,
            "align_self": null,
            "border": null,
            "bottom": null,
            "display": null,
            "flex": null,
            "flex_flow": null,
            "grid_area": null,
            "grid_auto_columns": null,
            "grid_auto_flow": null,
            "grid_auto_rows": null,
            "grid_column": null,
            "grid_gap": null,
            "grid_row": null,
            "grid_template_areas": null,
            "grid_template_columns": null,
            "grid_template_rows": null,
            "height": null,
            "justify_content": null,
            "justify_items": null,
            "left": null,
            "margin": null,
            "max_height": null,
            "max_width": null,
            "min_height": null,
            "min_width": null,
            "object_fit": null,
            "object_position": null,
            "order": null,
            "overflow": null,
            "overflow_x": null,
            "overflow_y": null,
            "padding": null,
            "right": null,
            "top": null,
            "visibility": null,
            "width": null
          }
        },
        "dd74c52ef7fd46e7a7fdcb57d1ae39e7": {
          "model_module": "@jupyter-widgets/controls",
          "model_name": "ProgressStyleModel",
          "model_module_version": "1.5.0",
          "state": {
            "_model_module": "@jupyter-widgets/controls",
            "_model_module_version": "1.5.0",
            "_model_name": "ProgressStyleModel",
            "_view_count": null,
            "_view_module": "@jupyter-widgets/base",
            "_view_module_version": "1.2.0",
            "_view_name": "StyleView",
            "bar_color": null,
            "description_width": ""
          }
        },
        "b0abf2773181456aa5db5e19c91ee6e0": {
          "model_module": "@jupyter-widgets/base",
          "model_name": "LayoutModel",
          "model_module_version": "1.2.0",
          "state": {
            "_model_module": "@jupyter-widgets/base",
            "_model_module_version": "1.2.0",
            "_model_name": "LayoutModel",
            "_view_count": null,
            "_view_module": "@jupyter-widgets/base",
            "_view_module_version": "1.2.0",
            "_view_name": "LayoutView",
            "align_content": null,
            "align_items": null,
            "align_self": null,
            "border": null,
            "bottom": null,
            "display": null,
            "flex": null,
            "flex_flow": null,
            "grid_area": null,
            "grid_auto_columns": null,
            "grid_auto_flow": null,
            "grid_auto_rows": null,
            "grid_column": null,
            "grid_gap": null,
            "grid_row": null,
            "grid_template_areas": null,
            "grid_template_columns": null,
            "grid_template_rows": null,
            "height": null,
            "justify_content": null,
            "justify_items": null,
            "left": null,
            "margin": null,
            "max_height": null,
            "max_width": null,
            "min_height": null,
            "min_width": null,
            "object_fit": null,
            "object_position": null,
            "order": null,
            "overflow": null,
            "overflow_x": null,
            "overflow_y": null,
            "padding": null,
            "right": null,
            "top": null,
            "visibility": null,
            "width": null
          }
        },
        "0b0a5813f75f4fb88265bb7e1704fe3e": {
          "model_module": "@jupyter-widgets/controls",
          "model_name": "DescriptionStyleModel",
          "model_module_version": "1.5.0",
          "state": {
            "_model_module": "@jupyter-widgets/controls",
            "_model_module_version": "1.5.0",
            "_model_name": "DescriptionStyleModel",
            "_view_count": null,
            "_view_module": "@jupyter-widgets/base",
            "_view_module_version": "1.2.0",
            "_view_name": "StyleView",
            "description_width": ""
          }
        },
        "e0ed60de6d004ebd9a19dc18bbd911f5": {
          "model_module": "@jupyter-widgets/controls",
          "model_name": "HBoxModel",
          "model_module_version": "1.5.0",
          "state": {
            "_dom_classes": [],
            "_model_module": "@jupyter-widgets/controls",
            "_model_module_version": "1.5.0",
            "_model_name": "HBoxModel",
            "_view_count": null,
            "_view_module": "@jupyter-widgets/controls",
            "_view_module_version": "1.5.0",
            "_view_name": "HBoxView",
            "box_style": "",
            "children": [
              "IPY_MODEL_c1b18391d3a64d20a5057bb825f5f081",
              "IPY_MODEL_0366ba0f35734b2b9264d28947d0e116",
              "IPY_MODEL_e107ab06b6a448a9994ffdfce1f7dfb9"
            ],
            "layout": "IPY_MODEL_718d9fb5e5f04c719c84b99323b0f6bd"
          }
        },
        "c1b18391d3a64d20a5057bb825f5f081": {
          "model_module": "@jupyter-widgets/controls",
          "model_name": "HTMLModel",
          "model_module_version": "1.5.0",
          "state": {
            "_dom_classes": [],
            "_model_module": "@jupyter-widgets/controls",
            "_model_module_version": "1.5.0",
            "_model_name": "HTMLModel",
            "_view_count": null,
            "_view_module": "@jupyter-widgets/controls",
            "_view_module_version": "1.5.0",
            "_view_name": "HTMLView",
            "description": "",
            "description_tooltip": null,
            "layout": "IPY_MODEL_129e77e2b6f944fca4a90a6278442156",
            "placeholder": "​",
            "style": "IPY_MODEL_2d8b0f8276f44ac48706adcf3cad7639",
            "value": "Map: 100%"
          }
        },
        "0366ba0f35734b2b9264d28947d0e116": {
          "model_module": "@jupyter-widgets/controls",
          "model_name": "FloatProgressModel",
          "model_module_version": "1.5.0",
          "state": {
            "_dom_classes": [],
            "_model_module": "@jupyter-widgets/controls",
            "_model_module_version": "1.5.0",
            "_model_name": "FloatProgressModel",
            "_view_count": null,
            "_view_module": "@jupyter-widgets/controls",
            "_view_module_version": "1.5.0",
            "_view_name": "ProgressView",
            "bar_style": "success",
            "description": "",
            "description_tooltip": null,
            "layout": "IPY_MODEL_65ead0554da94b12ae94fcd204110264",
            "max": 60791,
            "min": 0,
            "orientation": "horizontal",
            "style": "IPY_MODEL_9c865d218f6349e3a1736cc0a131d2b8",
            "value": 60791
          }
        },
        "e107ab06b6a448a9994ffdfce1f7dfb9": {
          "model_module": "@jupyter-widgets/controls",
          "model_name": "HTMLModel",
          "model_module_version": "1.5.0",
          "state": {
            "_dom_classes": [],
            "_model_module": "@jupyter-widgets/controls",
            "_model_module_version": "1.5.0",
            "_model_name": "HTMLModel",
            "_view_count": null,
            "_view_module": "@jupyter-widgets/controls",
            "_view_module_version": "1.5.0",
            "_view_name": "HTMLView",
            "description": "",
            "description_tooltip": null,
            "layout": "IPY_MODEL_8169c86d592b4b8eb283adc4733d1e0b",
            "placeholder": "​",
            "style": "IPY_MODEL_b5b5d2e654ce4e75bdddd615c1acff0c",
            "value": " 60791/60791 [00:03&lt;00:00, 19691.40 examples/s]"
          }
        },
        "718d9fb5e5f04c719c84b99323b0f6bd": {
          "model_module": "@jupyter-widgets/base",
          "model_name": "LayoutModel",
          "model_module_version": "1.2.0",
          "state": {
            "_model_module": "@jupyter-widgets/base",
            "_model_module_version": "1.2.0",
            "_model_name": "LayoutModel",
            "_view_count": null,
            "_view_module": "@jupyter-widgets/base",
            "_view_module_version": "1.2.0",
            "_view_name": "LayoutView",
            "align_content": null,
            "align_items": null,
            "align_self": null,
            "border": null,
            "bottom": null,
            "display": null,
            "flex": null,
            "flex_flow": null,
            "grid_area": null,
            "grid_auto_columns": null,
            "grid_auto_flow": null,
            "grid_auto_rows": null,
            "grid_column": null,
            "grid_gap": null,
            "grid_row": null,
            "grid_template_areas": null,
            "grid_template_columns": null,
            "grid_template_rows": null,
            "height": null,
            "justify_content": null,
            "justify_items": null,
            "left": null,
            "margin": null,
            "max_height": null,
            "max_width": null,
            "min_height": null,
            "min_width": null,
            "object_fit": null,
            "object_position": null,
            "order": null,
            "overflow": null,
            "overflow_x": null,
            "overflow_y": null,
            "padding": null,
            "right": null,
            "top": null,
            "visibility": null,
            "width": null
          }
        },
        "129e77e2b6f944fca4a90a6278442156": {
          "model_module": "@jupyter-widgets/base",
          "model_name": "LayoutModel",
          "model_module_version": "1.2.0",
          "state": {
            "_model_module": "@jupyter-widgets/base",
            "_model_module_version": "1.2.0",
            "_model_name": "LayoutModel",
            "_view_count": null,
            "_view_module": "@jupyter-widgets/base",
            "_view_module_version": "1.2.0",
            "_view_name": "LayoutView",
            "align_content": null,
            "align_items": null,
            "align_self": null,
            "border": null,
            "bottom": null,
            "display": null,
            "flex": null,
            "flex_flow": null,
            "grid_area": null,
            "grid_auto_columns": null,
            "grid_auto_flow": null,
            "grid_auto_rows": null,
            "grid_column": null,
            "grid_gap": null,
            "grid_row": null,
            "grid_template_areas": null,
            "grid_template_columns": null,
            "grid_template_rows": null,
            "height": null,
            "justify_content": null,
            "justify_items": null,
            "left": null,
            "margin": null,
            "max_height": null,
            "max_width": null,
            "min_height": null,
            "min_width": null,
            "object_fit": null,
            "object_position": null,
            "order": null,
            "overflow": null,
            "overflow_x": null,
            "overflow_y": null,
            "padding": null,
            "right": null,
            "top": null,
            "visibility": null,
            "width": null
          }
        },
        "2d8b0f8276f44ac48706adcf3cad7639": {
          "model_module": "@jupyter-widgets/controls",
          "model_name": "DescriptionStyleModel",
          "model_module_version": "1.5.0",
          "state": {
            "_model_module": "@jupyter-widgets/controls",
            "_model_module_version": "1.5.0",
            "_model_name": "DescriptionStyleModel",
            "_view_count": null,
            "_view_module": "@jupyter-widgets/base",
            "_view_module_version": "1.2.0",
            "_view_name": "StyleView",
            "description_width": ""
          }
        },
        "65ead0554da94b12ae94fcd204110264": {
          "model_module": "@jupyter-widgets/base",
          "model_name": "LayoutModel",
          "model_module_version": "1.2.0",
          "state": {
            "_model_module": "@jupyter-widgets/base",
            "_model_module_version": "1.2.0",
            "_model_name": "LayoutModel",
            "_view_count": null,
            "_view_module": "@jupyter-widgets/base",
            "_view_module_version": "1.2.0",
            "_view_name": "LayoutView",
            "align_content": null,
            "align_items": null,
            "align_self": null,
            "border": null,
            "bottom": null,
            "display": null,
            "flex": null,
            "flex_flow": null,
            "grid_area": null,
            "grid_auto_columns": null,
            "grid_auto_flow": null,
            "grid_auto_rows": null,
            "grid_column": null,
            "grid_gap": null,
            "grid_row": null,
            "grid_template_areas": null,
            "grid_template_columns": null,
            "grid_template_rows": null,
            "height": null,
            "justify_content": null,
            "justify_items": null,
            "left": null,
            "margin": null,
            "max_height": null,
            "max_width": null,
            "min_height": null,
            "min_width": null,
            "object_fit": null,
            "object_position": null,
            "order": null,
            "overflow": null,
            "overflow_x": null,
            "overflow_y": null,
            "padding": null,
            "right": null,
            "top": null,
            "visibility": null,
            "width": null
          }
        },
        "9c865d218f6349e3a1736cc0a131d2b8": {
          "model_module": "@jupyter-widgets/controls",
          "model_name": "ProgressStyleModel",
          "model_module_version": "1.5.0",
          "state": {
            "_model_module": "@jupyter-widgets/controls",
            "_model_module_version": "1.5.0",
            "_model_name": "ProgressStyleModel",
            "_view_count": null,
            "_view_module": "@jupyter-widgets/base",
            "_view_module_version": "1.2.0",
            "_view_name": "StyleView",
            "bar_color": null,
            "description_width": ""
          }
        },
        "8169c86d592b4b8eb283adc4733d1e0b": {
          "model_module": "@jupyter-widgets/base",
          "model_name": "LayoutModel",
          "model_module_version": "1.2.0",
          "state": {
            "_model_module": "@jupyter-widgets/base",
            "_model_module_version": "1.2.0",
            "_model_name": "LayoutModel",
            "_view_count": null,
            "_view_module": "@jupyter-widgets/base",
            "_view_module_version": "1.2.0",
            "_view_name": "LayoutView",
            "align_content": null,
            "align_items": null,
            "align_self": null,
            "border": null,
            "bottom": null,
            "display": null,
            "flex": null,
            "flex_flow": null,
            "grid_area": null,
            "grid_auto_columns": null,
            "grid_auto_flow": null,
            "grid_auto_rows": null,
            "grid_column": null,
            "grid_gap": null,
            "grid_row": null,
            "grid_template_areas": null,
            "grid_template_columns": null,
            "grid_template_rows": null,
            "height": null,
            "justify_content": null,
            "justify_items": null,
            "left": null,
            "margin": null,
            "max_height": null,
            "max_width": null,
            "min_height": null,
            "min_width": null,
            "object_fit": null,
            "object_position": null,
            "order": null,
            "overflow": null,
            "overflow_x": null,
            "overflow_y": null,
            "padding": null,
            "right": null,
            "top": null,
            "visibility": null,
            "width": null
          }
        },
        "b5b5d2e654ce4e75bdddd615c1acff0c": {
          "model_module": "@jupyter-widgets/controls",
          "model_name": "DescriptionStyleModel",
          "model_module_version": "1.5.0",
          "state": {
            "_model_module": "@jupyter-widgets/controls",
            "_model_module_version": "1.5.0",
            "_model_name": "DescriptionStyleModel",
            "_view_count": null,
            "_view_module": "@jupyter-widgets/base",
            "_view_module_version": "1.2.0",
            "_view_name": "StyleView",
            "description_width": ""
          }
        },
        "c81f67438c9e440c9e8d8efb37063a9b": {
          "model_module": "@jupyter-widgets/controls",
          "model_name": "HBoxModel",
          "model_module_version": "1.5.0",
          "state": {
            "_dom_classes": [],
            "_model_module": "@jupyter-widgets/controls",
            "_model_module_version": "1.5.0",
            "_model_name": "HBoxModel",
            "_view_count": null,
            "_view_module": "@jupyter-widgets/controls",
            "_view_module_version": "1.5.0",
            "_view_name": "HBoxView",
            "box_style": "",
            "children": [
              "IPY_MODEL_d1e50f56eab14365bed3a6bcbe9c0fc0",
              "IPY_MODEL_3bef0b71f5ae473a8d28e4bcfd76af2c",
              "IPY_MODEL_bdadd12f74ee45b9877291b50f17418b"
            ],
            "layout": "IPY_MODEL_e151bd8bbeeb4d0394e6ece3435c2e5c"
          }
        },
        "d1e50f56eab14365bed3a6bcbe9c0fc0": {
          "model_module": "@jupyter-widgets/controls",
          "model_name": "HTMLModel",
          "model_module_version": "1.5.0",
          "state": {
            "_dom_classes": [],
            "_model_module": "@jupyter-widgets/controls",
            "_model_module_version": "1.5.0",
            "_model_name": "HTMLModel",
            "_view_count": null,
            "_view_module": "@jupyter-widgets/controls",
            "_view_module_version": "1.5.0",
            "_view_name": "HTMLView",
            "description": "",
            "description_tooltip": null,
            "layout": "IPY_MODEL_bbaed45afcad4bf5ad7c806f3934a832",
            "placeholder": "​",
            "style": "IPY_MODEL_73ceec692e834a0497a499fcc6b2ae0d",
            "value": "Map: 100%"
          }
        },
        "3bef0b71f5ae473a8d28e4bcfd76af2c": {
          "model_module": "@jupyter-widgets/controls",
          "model_name": "FloatProgressModel",
          "model_module_version": "1.5.0",
          "state": {
            "_dom_classes": [],
            "_model_module": "@jupyter-widgets/controls",
            "_model_module_version": "1.5.0",
            "_model_name": "FloatProgressModel",
            "_view_count": null,
            "_view_module": "@jupyter-widgets/controls",
            "_view_module_version": "1.5.0",
            "_view_name": "ProgressView",
            "bar_style": "success",
            "description": "",
            "description_tooltip": null,
            "layout": "IPY_MODEL_7e95809273024c6d82f2d0190e5ea0c8",
            "max": 60791,
            "min": 0,
            "orientation": "horizontal",
            "style": "IPY_MODEL_69fd8c5632494d7cba400f63d1f2af30",
            "value": 60791
          }
        },
        "bdadd12f74ee45b9877291b50f17418b": {
          "model_module": "@jupyter-widgets/controls",
          "model_name": "HTMLModel",
          "model_module_version": "1.5.0",
          "state": {
            "_dom_classes": [],
            "_model_module": "@jupyter-widgets/controls",
            "_model_module_version": "1.5.0",
            "_model_name": "HTMLModel",
            "_view_count": null,
            "_view_module": "@jupyter-widgets/controls",
            "_view_module_version": "1.5.0",
            "_view_name": "HTMLView",
            "description": "",
            "description_tooltip": null,
            "layout": "IPY_MODEL_45da3778088442dcb784f1fae639be8d",
            "placeholder": "​",
            "style": "IPY_MODEL_bb44d3c7961741ae8050483141cc82c3",
            "value": " 60791/60791 [00:03&lt;00:00, 20411.79 examples/s]"
          }
        },
        "e151bd8bbeeb4d0394e6ece3435c2e5c": {
          "model_module": "@jupyter-widgets/base",
          "model_name": "LayoutModel",
          "model_module_version": "1.2.0",
          "state": {
            "_model_module": "@jupyter-widgets/base",
            "_model_module_version": "1.2.0",
            "_model_name": "LayoutModel",
            "_view_count": null,
            "_view_module": "@jupyter-widgets/base",
            "_view_module_version": "1.2.0",
            "_view_name": "LayoutView",
            "align_content": null,
            "align_items": null,
            "align_self": null,
            "border": null,
            "bottom": null,
            "display": null,
            "flex": null,
            "flex_flow": null,
            "grid_area": null,
            "grid_auto_columns": null,
            "grid_auto_flow": null,
            "grid_auto_rows": null,
            "grid_column": null,
            "grid_gap": null,
            "grid_row": null,
            "grid_template_areas": null,
            "grid_template_columns": null,
            "grid_template_rows": null,
            "height": null,
            "justify_content": null,
            "justify_items": null,
            "left": null,
            "margin": null,
            "max_height": null,
            "max_width": null,
            "min_height": null,
            "min_width": null,
            "object_fit": null,
            "object_position": null,
            "order": null,
            "overflow": null,
            "overflow_x": null,
            "overflow_y": null,
            "padding": null,
            "right": null,
            "top": null,
            "visibility": null,
            "width": null
          }
        },
        "bbaed45afcad4bf5ad7c806f3934a832": {
          "model_module": "@jupyter-widgets/base",
          "model_name": "LayoutModel",
          "model_module_version": "1.2.0",
          "state": {
            "_model_module": "@jupyter-widgets/base",
            "_model_module_version": "1.2.0",
            "_model_name": "LayoutModel",
            "_view_count": null,
            "_view_module": "@jupyter-widgets/base",
            "_view_module_version": "1.2.0",
            "_view_name": "LayoutView",
            "align_content": null,
            "align_items": null,
            "align_self": null,
            "border": null,
            "bottom": null,
            "display": null,
            "flex": null,
            "flex_flow": null,
            "grid_area": null,
            "grid_auto_columns": null,
            "grid_auto_flow": null,
            "grid_auto_rows": null,
            "grid_column": null,
            "grid_gap": null,
            "grid_row": null,
            "grid_template_areas": null,
            "grid_template_columns": null,
            "grid_template_rows": null,
            "height": null,
            "justify_content": null,
            "justify_items": null,
            "left": null,
            "margin": null,
            "max_height": null,
            "max_width": null,
            "min_height": null,
            "min_width": null,
            "object_fit": null,
            "object_position": null,
            "order": null,
            "overflow": null,
            "overflow_x": null,
            "overflow_y": null,
            "padding": null,
            "right": null,
            "top": null,
            "visibility": null,
            "width": null
          }
        },
        "73ceec692e834a0497a499fcc6b2ae0d": {
          "model_module": "@jupyter-widgets/controls",
          "model_name": "DescriptionStyleModel",
          "model_module_version": "1.5.0",
          "state": {
            "_model_module": "@jupyter-widgets/controls",
            "_model_module_version": "1.5.0",
            "_model_name": "DescriptionStyleModel",
            "_view_count": null,
            "_view_module": "@jupyter-widgets/base",
            "_view_module_version": "1.2.0",
            "_view_name": "StyleView",
            "description_width": ""
          }
        },
        "7e95809273024c6d82f2d0190e5ea0c8": {
          "model_module": "@jupyter-widgets/base",
          "model_name": "LayoutModel",
          "model_module_version": "1.2.0",
          "state": {
            "_model_module": "@jupyter-widgets/base",
            "_model_module_version": "1.2.0",
            "_model_name": "LayoutModel",
            "_view_count": null,
            "_view_module": "@jupyter-widgets/base",
            "_view_module_version": "1.2.0",
            "_view_name": "LayoutView",
            "align_content": null,
            "align_items": null,
            "align_self": null,
            "border": null,
            "bottom": null,
            "display": null,
            "flex": null,
            "flex_flow": null,
            "grid_area": null,
            "grid_auto_columns": null,
            "grid_auto_flow": null,
            "grid_auto_rows": null,
            "grid_column": null,
            "grid_gap": null,
            "grid_row": null,
            "grid_template_areas": null,
            "grid_template_columns": null,
            "grid_template_rows": null,
            "height": null,
            "justify_content": null,
            "justify_items": null,
            "left": null,
            "margin": null,
            "max_height": null,
            "max_width": null,
            "min_height": null,
            "min_width": null,
            "object_fit": null,
            "object_position": null,
            "order": null,
            "overflow": null,
            "overflow_x": null,
            "overflow_y": null,
            "padding": null,
            "right": null,
            "top": null,
            "visibility": null,
            "width": null
          }
        },
        "69fd8c5632494d7cba400f63d1f2af30": {
          "model_module": "@jupyter-widgets/controls",
          "model_name": "ProgressStyleModel",
          "model_module_version": "1.5.0",
          "state": {
            "_model_module": "@jupyter-widgets/controls",
            "_model_module_version": "1.5.0",
            "_model_name": "ProgressStyleModel",
            "_view_count": null,
            "_view_module": "@jupyter-widgets/base",
            "_view_module_version": "1.2.0",
            "_view_name": "StyleView",
            "bar_color": null,
            "description_width": ""
          }
        },
        "45da3778088442dcb784f1fae639be8d": {
          "model_module": "@jupyter-widgets/base",
          "model_name": "LayoutModel",
          "model_module_version": "1.2.0",
          "state": {
            "_model_module": "@jupyter-widgets/base",
            "_model_module_version": "1.2.0",
            "_model_name": "LayoutModel",
            "_view_count": null,
            "_view_module": "@jupyter-widgets/base",
            "_view_module_version": "1.2.0",
            "_view_name": "LayoutView",
            "align_content": null,
            "align_items": null,
            "align_self": null,
            "border": null,
            "bottom": null,
            "display": null,
            "flex": null,
            "flex_flow": null,
            "grid_area": null,
            "grid_auto_columns": null,
            "grid_auto_flow": null,
            "grid_auto_rows": null,
            "grid_column": null,
            "grid_gap": null,
            "grid_row": null,
            "grid_template_areas": null,
            "grid_template_columns": null,
            "grid_template_rows": null,
            "height": null,
            "justify_content": null,
            "justify_items": null,
            "left": null,
            "margin": null,
            "max_height": null,
            "max_width": null,
            "min_height": null,
            "min_width": null,
            "object_fit": null,
            "object_position": null,
            "order": null,
            "overflow": null,
            "overflow_x": null,
            "overflow_y": null,
            "padding": null,
            "right": null,
            "top": null,
            "visibility": null,
            "width": null
          }
        },
        "bb44d3c7961741ae8050483141cc82c3": {
          "model_module": "@jupyter-widgets/controls",
          "model_name": "DescriptionStyleModel",
          "model_module_version": "1.5.0",
          "state": {
            "_model_module": "@jupyter-widgets/controls",
            "_model_module_version": "1.5.0",
            "_model_name": "DescriptionStyleModel",
            "_view_count": null,
            "_view_module": "@jupyter-widgets/base",
            "_view_module_version": "1.2.0",
            "_view_name": "StyleView",
            "description_width": ""
          }
        },
        "90b4c8e62c7a4d6f9cd764bf13005781": {
          "model_module": "@jupyter-widgets/controls",
          "model_name": "HBoxModel",
          "model_module_version": "1.5.0",
          "state": {
            "_dom_classes": [],
            "_model_module": "@jupyter-widgets/controls",
            "_model_module_version": "1.5.0",
            "_model_name": "HBoxModel",
            "_view_count": null,
            "_view_module": "@jupyter-widgets/controls",
            "_view_module_version": "1.5.0",
            "_view_name": "HBoxView",
            "box_style": "",
            "children": [
              "IPY_MODEL_8d52cdc99fe942549659872f33dcb245",
              "IPY_MODEL_e0121c81cd714a22aef645809b6c0e1e",
              "IPY_MODEL_8425b3f41fa045c3aa61ed465e802d27"
            ],
            "layout": "IPY_MODEL_9903f9139a504f62a4ced0ff7f95a65b"
          }
        },
        "8d52cdc99fe942549659872f33dcb245": {
          "model_module": "@jupyter-widgets/controls",
          "model_name": "HTMLModel",
          "model_module_version": "1.5.0",
          "state": {
            "_dom_classes": [],
            "_model_module": "@jupyter-widgets/controls",
            "_model_module_version": "1.5.0",
            "_model_name": "HTMLModel",
            "_view_count": null,
            "_view_module": "@jupyter-widgets/controls",
            "_view_module_version": "1.5.0",
            "_view_name": "HTMLView",
            "description": "",
            "description_tooltip": null,
            "layout": "IPY_MODEL_855dbd045df74d7597bd422a2b806c25",
            "placeholder": "​",
            "style": "IPY_MODEL_ed062a8fbe2c49199a02e1ced4c6370f",
            "value": "Map: 100%"
          }
        },
        "e0121c81cd714a22aef645809b6c0e1e": {
          "model_module": "@jupyter-widgets/controls",
          "model_name": "FloatProgressModel",
          "model_module_version": "1.5.0",
          "state": {
            "_dom_classes": [],
            "_model_module": "@jupyter-widgets/controls",
            "_model_module_version": "1.5.0",
            "_model_name": "FloatProgressModel",
            "_view_count": null,
            "_view_module": "@jupyter-widgets/controls",
            "_view_module_version": "1.5.0",
            "_view_name": "ProgressView",
            "bar_style": "success",
            "description": "",
            "description_tooltip": null,
            "layout": "IPY_MODEL_923b9f34ac2a4344b36faf8ab67dd1cf",
            "max": 283685,
            "min": 0,
            "orientation": "horizontal",
            "style": "IPY_MODEL_80a0ded55479402793c64a4975a0ec6e",
            "value": 283685
          }
        },
        "8425b3f41fa045c3aa61ed465e802d27": {
          "model_module": "@jupyter-widgets/controls",
          "model_name": "HTMLModel",
          "model_module_version": "1.5.0",
          "state": {
            "_dom_classes": [],
            "_model_module": "@jupyter-widgets/controls",
            "_model_module_version": "1.5.0",
            "_model_name": "HTMLModel",
            "_view_count": null,
            "_view_module": "@jupyter-widgets/controls",
            "_view_module_version": "1.5.0",
            "_view_name": "HTMLView",
            "description": "",
            "description_tooltip": null,
            "layout": "IPY_MODEL_7ec263afc586448ab8112a2cf1095056",
            "placeholder": "​",
            "style": "IPY_MODEL_50dd04b3041e4254ade49ebea9507d32",
            "value": " 283685/283685 [01:13&lt;00:00, 4074.50 examples/s]"
          }
        },
        "9903f9139a504f62a4ced0ff7f95a65b": {
          "model_module": "@jupyter-widgets/base",
          "model_name": "LayoutModel",
          "model_module_version": "1.2.0",
          "state": {
            "_model_module": "@jupyter-widgets/base",
            "_model_module_version": "1.2.0",
            "_model_name": "LayoutModel",
            "_view_count": null,
            "_view_module": "@jupyter-widgets/base",
            "_view_module_version": "1.2.0",
            "_view_name": "LayoutView",
            "align_content": null,
            "align_items": null,
            "align_self": null,
            "border": null,
            "bottom": null,
            "display": null,
            "flex": null,
            "flex_flow": null,
            "grid_area": null,
            "grid_auto_columns": null,
            "grid_auto_flow": null,
            "grid_auto_rows": null,
            "grid_column": null,
            "grid_gap": null,
            "grid_row": null,
            "grid_template_areas": null,
            "grid_template_columns": null,
            "grid_template_rows": null,
            "height": null,
            "justify_content": null,
            "justify_items": null,
            "left": null,
            "margin": null,
            "max_height": null,
            "max_width": null,
            "min_height": null,
            "min_width": null,
            "object_fit": null,
            "object_position": null,
            "order": null,
            "overflow": null,
            "overflow_x": null,
            "overflow_y": null,
            "padding": null,
            "right": null,
            "top": null,
            "visibility": null,
            "width": null
          }
        },
        "855dbd045df74d7597bd422a2b806c25": {
          "model_module": "@jupyter-widgets/base",
          "model_name": "LayoutModel",
          "model_module_version": "1.2.0",
          "state": {
            "_model_module": "@jupyter-widgets/base",
            "_model_module_version": "1.2.0",
            "_model_name": "LayoutModel",
            "_view_count": null,
            "_view_module": "@jupyter-widgets/base",
            "_view_module_version": "1.2.0",
            "_view_name": "LayoutView",
            "align_content": null,
            "align_items": null,
            "align_self": null,
            "border": null,
            "bottom": null,
            "display": null,
            "flex": null,
            "flex_flow": null,
            "grid_area": null,
            "grid_auto_columns": null,
            "grid_auto_flow": null,
            "grid_auto_rows": null,
            "grid_column": null,
            "grid_gap": null,
            "grid_row": null,
            "grid_template_areas": null,
            "grid_template_columns": null,
            "grid_template_rows": null,
            "height": null,
            "justify_content": null,
            "justify_items": null,
            "left": null,
            "margin": null,
            "max_height": null,
            "max_width": null,
            "min_height": null,
            "min_width": null,
            "object_fit": null,
            "object_position": null,
            "order": null,
            "overflow": null,
            "overflow_x": null,
            "overflow_y": null,
            "padding": null,
            "right": null,
            "top": null,
            "visibility": null,
            "width": null
          }
        },
        "ed062a8fbe2c49199a02e1ced4c6370f": {
          "model_module": "@jupyter-widgets/controls",
          "model_name": "DescriptionStyleModel",
          "model_module_version": "1.5.0",
          "state": {
            "_model_module": "@jupyter-widgets/controls",
            "_model_module_version": "1.5.0",
            "_model_name": "DescriptionStyleModel",
            "_view_count": null,
            "_view_module": "@jupyter-widgets/base",
            "_view_module_version": "1.2.0",
            "_view_name": "StyleView",
            "description_width": ""
          }
        },
        "923b9f34ac2a4344b36faf8ab67dd1cf": {
          "model_module": "@jupyter-widgets/base",
          "model_name": "LayoutModel",
          "model_module_version": "1.2.0",
          "state": {
            "_model_module": "@jupyter-widgets/base",
            "_model_module_version": "1.2.0",
            "_model_name": "LayoutModel",
            "_view_count": null,
            "_view_module": "@jupyter-widgets/base",
            "_view_module_version": "1.2.0",
            "_view_name": "LayoutView",
            "align_content": null,
            "align_items": null,
            "align_self": null,
            "border": null,
            "bottom": null,
            "display": null,
            "flex": null,
            "flex_flow": null,
            "grid_area": null,
            "grid_auto_columns": null,
            "grid_auto_flow": null,
            "grid_auto_rows": null,
            "grid_column": null,
            "grid_gap": null,
            "grid_row": null,
            "grid_template_areas": null,
            "grid_template_columns": null,
            "grid_template_rows": null,
            "height": null,
            "justify_content": null,
            "justify_items": null,
            "left": null,
            "margin": null,
            "max_height": null,
            "max_width": null,
            "min_height": null,
            "min_width": null,
            "object_fit": null,
            "object_position": null,
            "order": null,
            "overflow": null,
            "overflow_x": null,
            "overflow_y": null,
            "padding": null,
            "right": null,
            "top": null,
            "visibility": null,
            "width": null
          }
        },
        "80a0ded55479402793c64a4975a0ec6e": {
          "model_module": "@jupyter-widgets/controls",
          "model_name": "ProgressStyleModel",
          "model_module_version": "1.5.0",
          "state": {
            "_model_module": "@jupyter-widgets/controls",
            "_model_module_version": "1.5.0",
            "_model_name": "ProgressStyleModel",
            "_view_count": null,
            "_view_module": "@jupyter-widgets/base",
            "_view_module_version": "1.2.0",
            "_view_name": "StyleView",
            "bar_color": null,
            "description_width": ""
          }
        },
        "7ec263afc586448ab8112a2cf1095056": {
          "model_module": "@jupyter-widgets/base",
          "model_name": "LayoutModel",
          "model_module_version": "1.2.0",
          "state": {
            "_model_module": "@jupyter-widgets/base",
            "_model_module_version": "1.2.0",
            "_model_name": "LayoutModel",
            "_view_count": null,
            "_view_module": "@jupyter-widgets/base",
            "_view_module_version": "1.2.0",
            "_view_name": "LayoutView",
            "align_content": null,
            "align_items": null,
            "align_self": null,
            "border": null,
            "bottom": null,
            "display": null,
            "flex": null,
            "flex_flow": null,
            "grid_area": null,
            "grid_auto_columns": null,
            "grid_auto_flow": null,
            "grid_auto_rows": null,
            "grid_column": null,
            "grid_gap": null,
            "grid_row": null,
            "grid_template_areas": null,
            "grid_template_columns": null,
            "grid_template_rows": null,
            "height": null,
            "justify_content": null,
            "justify_items": null,
            "left": null,
            "margin": null,
            "max_height": null,
            "max_width": null,
            "min_height": null,
            "min_width": null,
            "object_fit": null,
            "object_position": null,
            "order": null,
            "overflow": null,
            "overflow_x": null,
            "overflow_y": null,
            "padding": null,
            "right": null,
            "top": null,
            "visibility": null,
            "width": null
          }
        },
        "50dd04b3041e4254ade49ebea9507d32": {
          "model_module": "@jupyter-widgets/controls",
          "model_name": "DescriptionStyleModel",
          "model_module_version": "1.5.0",
          "state": {
            "_model_module": "@jupyter-widgets/controls",
            "_model_module_version": "1.5.0",
            "_model_name": "DescriptionStyleModel",
            "_view_count": null,
            "_view_module": "@jupyter-widgets/base",
            "_view_module_version": "1.2.0",
            "_view_name": "StyleView",
            "description_width": ""
          }
        },
        "c26462ecba6e4029af7e06e8561469b4": {
          "model_module": "@jupyter-widgets/controls",
          "model_name": "HBoxModel",
          "model_module_version": "1.5.0",
          "state": {
            "_dom_classes": [],
            "_model_module": "@jupyter-widgets/controls",
            "_model_module_version": "1.5.0",
            "_model_name": "HBoxModel",
            "_view_count": null,
            "_view_module": "@jupyter-widgets/controls",
            "_view_module_version": "1.5.0",
            "_view_name": "HBoxView",
            "box_style": "",
            "children": [
              "IPY_MODEL_fdaa9072734149e59eb8f7f9830a55c5",
              "IPY_MODEL_f901ec0866eb45e0ac6cd2a0c5168bf8",
              "IPY_MODEL_a27affa470504b59b98f968d92b493ee"
            ],
            "layout": "IPY_MODEL_6b2d9978b7fe49d08d1fad75910ac632"
          }
        },
        "fdaa9072734149e59eb8f7f9830a55c5": {
          "model_module": "@jupyter-widgets/controls",
          "model_name": "HTMLModel",
          "model_module_version": "1.5.0",
          "state": {
            "_dom_classes": [],
            "_model_module": "@jupyter-widgets/controls",
            "_model_module_version": "1.5.0",
            "_model_name": "HTMLModel",
            "_view_count": null,
            "_view_module": "@jupyter-widgets/controls",
            "_view_module_version": "1.5.0",
            "_view_name": "HTMLView",
            "description": "",
            "description_tooltip": null,
            "layout": "IPY_MODEL_b33f5b1a839f40e2aafd3394181ab1b2",
            "placeholder": "​",
            "style": "IPY_MODEL_801571eb414f4f269f24bf0516beb433",
            "value": "Map: 100%"
          }
        },
        "f901ec0866eb45e0ac6cd2a0c5168bf8": {
          "model_module": "@jupyter-widgets/controls",
          "model_name": "FloatProgressModel",
          "model_module_version": "1.5.0",
          "state": {
            "_dom_classes": [],
            "_model_module": "@jupyter-widgets/controls",
            "_model_module_version": "1.5.0",
            "_model_name": "FloatProgressModel",
            "_view_count": null,
            "_view_module": "@jupyter-widgets/controls",
            "_view_module_version": "1.5.0",
            "_view_name": "ProgressView",
            "bar_style": "success",
            "description": "",
            "description_tooltip": null,
            "layout": "IPY_MODEL_39093c3a82e944e0b71b5af5591e1725",
            "max": 60791,
            "min": 0,
            "orientation": "horizontal",
            "style": "IPY_MODEL_88bbb56e38494c909535afc573171f34",
            "value": 60791
          }
        },
        "a27affa470504b59b98f968d92b493ee": {
          "model_module": "@jupyter-widgets/controls",
          "model_name": "HTMLModel",
          "model_module_version": "1.5.0",
          "state": {
            "_dom_classes": [],
            "_model_module": "@jupyter-widgets/controls",
            "_model_module_version": "1.5.0",
            "_model_name": "HTMLModel",
            "_view_count": null,
            "_view_module": "@jupyter-widgets/controls",
            "_view_module_version": "1.5.0",
            "_view_name": "HTMLView",
            "description": "",
            "description_tooltip": null,
            "layout": "IPY_MODEL_077b6e36e6384d078da1ad3da5325db5",
            "placeholder": "​",
            "style": "IPY_MODEL_97c46664047a4f35b0e312bec54193c2",
            "value": " 60791/60791 [00:15&lt;00:00, 4128.78 examples/s]"
          }
        },
        "6b2d9978b7fe49d08d1fad75910ac632": {
          "model_module": "@jupyter-widgets/base",
          "model_name": "LayoutModel",
          "model_module_version": "1.2.0",
          "state": {
            "_model_module": "@jupyter-widgets/base",
            "_model_module_version": "1.2.0",
            "_model_name": "LayoutModel",
            "_view_count": null,
            "_view_module": "@jupyter-widgets/base",
            "_view_module_version": "1.2.0",
            "_view_name": "LayoutView",
            "align_content": null,
            "align_items": null,
            "align_self": null,
            "border": null,
            "bottom": null,
            "display": null,
            "flex": null,
            "flex_flow": null,
            "grid_area": null,
            "grid_auto_columns": null,
            "grid_auto_flow": null,
            "grid_auto_rows": null,
            "grid_column": null,
            "grid_gap": null,
            "grid_row": null,
            "grid_template_areas": null,
            "grid_template_columns": null,
            "grid_template_rows": null,
            "height": null,
            "justify_content": null,
            "justify_items": null,
            "left": null,
            "margin": null,
            "max_height": null,
            "max_width": null,
            "min_height": null,
            "min_width": null,
            "object_fit": null,
            "object_position": null,
            "order": null,
            "overflow": null,
            "overflow_x": null,
            "overflow_y": null,
            "padding": null,
            "right": null,
            "top": null,
            "visibility": null,
            "width": null
          }
        },
        "b33f5b1a839f40e2aafd3394181ab1b2": {
          "model_module": "@jupyter-widgets/base",
          "model_name": "LayoutModel",
          "model_module_version": "1.2.0",
          "state": {
            "_model_module": "@jupyter-widgets/base",
            "_model_module_version": "1.2.0",
            "_model_name": "LayoutModel",
            "_view_count": null,
            "_view_module": "@jupyter-widgets/base",
            "_view_module_version": "1.2.0",
            "_view_name": "LayoutView",
            "align_content": null,
            "align_items": null,
            "align_self": null,
            "border": null,
            "bottom": null,
            "display": null,
            "flex": null,
            "flex_flow": null,
            "grid_area": null,
            "grid_auto_columns": null,
            "grid_auto_flow": null,
            "grid_auto_rows": null,
            "grid_column": null,
            "grid_gap": null,
            "grid_row": null,
            "grid_template_areas": null,
            "grid_template_columns": null,
            "grid_template_rows": null,
            "height": null,
            "justify_content": null,
            "justify_items": null,
            "left": null,
            "margin": null,
            "max_height": null,
            "max_width": null,
            "min_height": null,
            "min_width": null,
            "object_fit": null,
            "object_position": null,
            "order": null,
            "overflow": null,
            "overflow_x": null,
            "overflow_y": null,
            "padding": null,
            "right": null,
            "top": null,
            "visibility": null,
            "width": null
          }
        },
        "801571eb414f4f269f24bf0516beb433": {
          "model_module": "@jupyter-widgets/controls",
          "model_name": "DescriptionStyleModel",
          "model_module_version": "1.5.0",
          "state": {
            "_model_module": "@jupyter-widgets/controls",
            "_model_module_version": "1.5.0",
            "_model_name": "DescriptionStyleModel",
            "_view_count": null,
            "_view_module": "@jupyter-widgets/base",
            "_view_module_version": "1.2.0",
            "_view_name": "StyleView",
            "description_width": ""
          }
        },
        "39093c3a82e944e0b71b5af5591e1725": {
          "model_module": "@jupyter-widgets/base",
          "model_name": "LayoutModel",
          "model_module_version": "1.2.0",
          "state": {
            "_model_module": "@jupyter-widgets/base",
            "_model_module_version": "1.2.0",
            "_model_name": "LayoutModel",
            "_view_count": null,
            "_view_module": "@jupyter-widgets/base",
            "_view_module_version": "1.2.0",
            "_view_name": "LayoutView",
            "align_content": null,
            "align_items": null,
            "align_self": null,
            "border": null,
            "bottom": null,
            "display": null,
            "flex": null,
            "flex_flow": null,
            "grid_area": null,
            "grid_auto_columns": null,
            "grid_auto_flow": null,
            "grid_auto_rows": null,
            "grid_column": null,
            "grid_gap": null,
            "grid_row": null,
            "grid_template_areas": null,
            "grid_template_columns": null,
            "grid_template_rows": null,
            "height": null,
            "justify_content": null,
            "justify_items": null,
            "left": null,
            "margin": null,
            "max_height": null,
            "max_width": null,
            "min_height": null,
            "min_width": null,
            "object_fit": null,
            "object_position": null,
            "order": null,
            "overflow": null,
            "overflow_x": null,
            "overflow_y": null,
            "padding": null,
            "right": null,
            "top": null,
            "visibility": null,
            "width": null
          }
        },
        "88bbb56e38494c909535afc573171f34": {
          "model_module": "@jupyter-widgets/controls",
          "model_name": "ProgressStyleModel",
          "model_module_version": "1.5.0",
          "state": {
            "_model_module": "@jupyter-widgets/controls",
            "_model_module_version": "1.5.0",
            "_model_name": "ProgressStyleModel",
            "_view_count": null,
            "_view_module": "@jupyter-widgets/base",
            "_view_module_version": "1.2.0",
            "_view_name": "StyleView",
            "bar_color": null,
            "description_width": ""
          }
        },
        "077b6e36e6384d078da1ad3da5325db5": {
          "model_module": "@jupyter-widgets/base",
          "model_name": "LayoutModel",
          "model_module_version": "1.2.0",
          "state": {
            "_model_module": "@jupyter-widgets/base",
            "_model_module_version": "1.2.0",
            "_model_name": "LayoutModel",
            "_view_count": null,
            "_view_module": "@jupyter-widgets/base",
            "_view_module_version": "1.2.0",
            "_view_name": "LayoutView",
            "align_content": null,
            "align_items": null,
            "align_self": null,
            "border": null,
            "bottom": null,
            "display": null,
            "flex": null,
            "flex_flow": null,
            "grid_area": null,
            "grid_auto_columns": null,
            "grid_auto_flow": null,
            "grid_auto_rows": null,
            "grid_column": null,
            "grid_gap": null,
            "grid_row": null,
            "grid_template_areas": null,
            "grid_template_columns": null,
            "grid_template_rows": null,
            "height": null,
            "justify_content": null,
            "justify_items": null,
            "left": null,
            "margin": null,
            "max_height": null,
            "max_width": null,
            "min_height": null,
            "min_width": null,
            "object_fit": null,
            "object_position": null,
            "order": null,
            "overflow": null,
            "overflow_x": null,
            "overflow_y": null,
            "padding": null,
            "right": null,
            "top": null,
            "visibility": null,
            "width": null
          }
        },
        "97c46664047a4f35b0e312bec54193c2": {
          "model_module": "@jupyter-widgets/controls",
          "model_name": "DescriptionStyleModel",
          "model_module_version": "1.5.0",
          "state": {
            "_model_module": "@jupyter-widgets/controls",
            "_model_module_version": "1.5.0",
            "_model_name": "DescriptionStyleModel",
            "_view_count": null,
            "_view_module": "@jupyter-widgets/base",
            "_view_module_version": "1.2.0",
            "_view_name": "StyleView",
            "description_width": ""
          }
        },
        "2f8bf7b10a4448b998cb1b87ba0e8b03": {
          "model_module": "@jupyter-widgets/controls",
          "model_name": "HBoxModel",
          "model_module_version": "1.5.0",
          "state": {
            "_dom_classes": [],
            "_model_module": "@jupyter-widgets/controls",
            "_model_module_version": "1.5.0",
            "_model_name": "HBoxModel",
            "_view_count": null,
            "_view_module": "@jupyter-widgets/controls",
            "_view_module_version": "1.5.0",
            "_view_name": "HBoxView",
            "box_style": "",
            "children": [
              "IPY_MODEL_7291669f39334707add265346bb6b6d1",
              "IPY_MODEL_c751a6d43e6a4c72a095d9b4e975ad83",
              "IPY_MODEL_532d1e3cac9f480fb7b77bb62dfadbf9"
            ],
            "layout": "IPY_MODEL_ff07fa6af76e478fa7cd1fa55854d7e0"
          }
        },
        "7291669f39334707add265346bb6b6d1": {
          "model_module": "@jupyter-widgets/controls",
          "model_name": "HTMLModel",
          "model_module_version": "1.5.0",
          "state": {
            "_dom_classes": [],
            "_model_module": "@jupyter-widgets/controls",
            "_model_module_version": "1.5.0",
            "_model_name": "HTMLModel",
            "_view_count": null,
            "_view_module": "@jupyter-widgets/controls",
            "_view_module_version": "1.5.0",
            "_view_name": "HTMLView",
            "description": "",
            "description_tooltip": null,
            "layout": "IPY_MODEL_f2b913e11a534c2781e39ff0388b8b16",
            "placeholder": "​",
            "style": "IPY_MODEL_b318051486e143f2b57f082217cf1564",
            "value": "Map: 100%"
          }
        },
        "c751a6d43e6a4c72a095d9b4e975ad83": {
          "model_module": "@jupyter-widgets/controls",
          "model_name": "FloatProgressModel",
          "model_module_version": "1.5.0",
          "state": {
            "_dom_classes": [],
            "_model_module": "@jupyter-widgets/controls",
            "_model_module_version": "1.5.0",
            "_model_name": "FloatProgressModel",
            "_view_count": null,
            "_view_module": "@jupyter-widgets/controls",
            "_view_module_version": "1.5.0",
            "_view_name": "ProgressView",
            "bar_style": "success",
            "description": "",
            "description_tooltip": null,
            "layout": "IPY_MODEL_7c4d65af7067419eb71033c41b909db4",
            "max": 60791,
            "min": 0,
            "orientation": "horizontal",
            "style": "IPY_MODEL_1d84d30803a349fd97b777cc29151505",
            "value": 60791
          }
        },
        "532d1e3cac9f480fb7b77bb62dfadbf9": {
          "model_module": "@jupyter-widgets/controls",
          "model_name": "HTMLModel",
          "model_module_version": "1.5.0",
          "state": {
            "_dom_classes": [],
            "_model_module": "@jupyter-widgets/controls",
            "_model_module_version": "1.5.0",
            "_model_name": "HTMLModel",
            "_view_count": null,
            "_view_module": "@jupyter-widgets/controls",
            "_view_module_version": "1.5.0",
            "_view_name": "HTMLView",
            "description": "",
            "description_tooltip": null,
            "layout": "IPY_MODEL_308a5fb590e3492caf5a23ca8527e7db",
            "placeholder": "​",
            "style": "IPY_MODEL_f2c66df9232e456f9a4b1e9c180d8957",
            "value": " 60791/60791 [00:15&lt;00:00, 3881.58 examples/s]"
          }
        },
        "ff07fa6af76e478fa7cd1fa55854d7e0": {
          "model_module": "@jupyter-widgets/base",
          "model_name": "LayoutModel",
          "model_module_version": "1.2.0",
          "state": {
            "_model_module": "@jupyter-widgets/base",
            "_model_module_version": "1.2.0",
            "_model_name": "LayoutModel",
            "_view_count": null,
            "_view_module": "@jupyter-widgets/base",
            "_view_module_version": "1.2.0",
            "_view_name": "LayoutView",
            "align_content": null,
            "align_items": null,
            "align_self": null,
            "border": null,
            "bottom": null,
            "display": null,
            "flex": null,
            "flex_flow": null,
            "grid_area": null,
            "grid_auto_columns": null,
            "grid_auto_flow": null,
            "grid_auto_rows": null,
            "grid_column": null,
            "grid_gap": null,
            "grid_row": null,
            "grid_template_areas": null,
            "grid_template_columns": null,
            "grid_template_rows": null,
            "height": null,
            "justify_content": null,
            "justify_items": null,
            "left": null,
            "margin": null,
            "max_height": null,
            "max_width": null,
            "min_height": null,
            "min_width": null,
            "object_fit": null,
            "object_position": null,
            "order": null,
            "overflow": null,
            "overflow_x": null,
            "overflow_y": null,
            "padding": null,
            "right": null,
            "top": null,
            "visibility": null,
            "width": null
          }
        },
        "f2b913e11a534c2781e39ff0388b8b16": {
          "model_module": "@jupyter-widgets/base",
          "model_name": "LayoutModel",
          "model_module_version": "1.2.0",
          "state": {
            "_model_module": "@jupyter-widgets/base",
            "_model_module_version": "1.2.0",
            "_model_name": "LayoutModel",
            "_view_count": null,
            "_view_module": "@jupyter-widgets/base",
            "_view_module_version": "1.2.0",
            "_view_name": "LayoutView",
            "align_content": null,
            "align_items": null,
            "align_self": null,
            "border": null,
            "bottom": null,
            "display": null,
            "flex": null,
            "flex_flow": null,
            "grid_area": null,
            "grid_auto_columns": null,
            "grid_auto_flow": null,
            "grid_auto_rows": null,
            "grid_column": null,
            "grid_gap": null,
            "grid_row": null,
            "grid_template_areas": null,
            "grid_template_columns": null,
            "grid_template_rows": null,
            "height": null,
            "justify_content": null,
            "justify_items": null,
            "left": null,
            "margin": null,
            "max_height": null,
            "max_width": null,
            "min_height": null,
            "min_width": null,
            "object_fit": null,
            "object_position": null,
            "order": null,
            "overflow": null,
            "overflow_x": null,
            "overflow_y": null,
            "padding": null,
            "right": null,
            "top": null,
            "visibility": null,
            "width": null
          }
        },
        "b318051486e143f2b57f082217cf1564": {
          "model_module": "@jupyter-widgets/controls",
          "model_name": "DescriptionStyleModel",
          "model_module_version": "1.5.0",
          "state": {
            "_model_module": "@jupyter-widgets/controls",
            "_model_module_version": "1.5.0",
            "_model_name": "DescriptionStyleModel",
            "_view_count": null,
            "_view_module": "@jupyter-widgets/base",
            "_view_module_version": "1.2.0",
            "_view_name": "StyleView",
            "description_width": ""
          }
        },
        "7c4d65af7067419eb71033c41b909db4": {
          "model_module": "@jupyter-widgets/base",
          "model_name": "LayoutModel",
          "model_module_version": "1.2.0",
          "state": {
            "_model_module": "@jupyter-widgets/base",
            "_model_module_version": "1.2.0",
            "_model_name": "LayoutModel",
            "_view_count": null,
            "_view_module": "@jupyter-widgets/base",
            "_view_module_version": "1.2.0",
            "_view_name": "LayoutView",
            "align_content": null,
            "align_items": null,
            "align_self": null,
            "border": null,
            "bottom": null,
            "display": null,
            "flex": null,
            "flex_flow": null,
            "grid_area": null,
            "grid_auto_columns": null,
            "grid_auto_flow": null,
            "grid_auto_rows": null,
            "grid_column": null,
            "grid_gap": null,
            "grid_row": null,
            "grid_template_areas": null,
            "grid_template_columns": null,
            "grid_template_rows": null,
            "height": null,
            "justify_content": null,
            "justify_items": null,
            "left": null,
            "margin": null,
            "max_height": null,
            "max_width": null,
            "min_height": null,
            "min_width": null,
            "object_fit": null,
            "object_position": null,
            "order": null,
            "overflow": null,
            "overflow_x": null,
            "overflow_y": null,
            "padding": null,
            "right": null,
            "top": null,
            "visibility": null,
            "width": null
          }
        },
        "1d84d30803a349fd97b777cc29151505": {
          "model_module": "@jupyter-widgets/controls",
          "model_name": "ProgressStyleModel",
          "model_module_version": "1.5.0",
          "state": {
            "_model_module": "@jupyter-widgets/controls",
            "_model_module_version": "1.5.0",
            "_model_name": "ProgressStyleModel",
            "_view_count": null,
            "_view_module": "@jupyter-widgets/base",
            "_view_module_version": "1.2.0",
            "_view_name": "StyleView",
            "bar_color": null,
            "description_width": ""
          }
        },
        "308a5fb590e3492caf5a23ca8527e7db": {
          "model_module": "@jupyter-widgets/base",
          "model_name": "LayoutModel",
          "model_module_version": "1.2.0",
          "state": {
            "_model_module": "@jupyter-widgets/base",
            "_model_module_version": "1.2.0",
            "_model_name": "LayoutModel",
            "_view_count": null,
            "_view_module": "@jupyter-widgets/base",
            "_view_module_version": "1.2.0",
            "_view_name": "LayoutView",
            "align_content": null,
            "align_items": null,
            "align_self": null,
            "border": null,
            "bottom": null,
            "display": null,
            "flex": null,
            "flex_flow": null,
            "grid_area": null,
            "grid_auto_columns": null,
            "grid_auto_flow": null,
            "grid_auto_rows": null,
            "grid_column": null,
            "grid_gap": null,
            "grid_row": null,
            "grid_template_areas": null,
            "grid_template_columns": null,
            "grid_template_rows": null,
            "height": null,
            "justify_content": null,
            "justify_items": null,
            "left": null,
            "margin": null,
            "max_height": null,
            "max_width": null,
            "min_height": null,
            "min_width": null,
            "object_fit": null,
            "object_position": null,
            "order": null,
            "overflow": null,
            "overflow_x": null,
            "overflow_y": null,
            "padding": null,
            "right": null,
            "top": null,
            "visibility": null,
            "width": null
          }
        },
        "f2c66df9232e456f9a4b1e9c180d8957": {
          "model_module": "@jupyter-widgets/controls",
          "model_name": "DescriptionStyleModel",
          "model_module_version": "1.5.0",
          "state": {
            "_model_module": "@jupyter-widgets/controls",
            "_model_module_version": "1.5.0",
            "_model_name": "DescriptionStyleModel",
            "_view_count": null,
            "_view_module": "@jupyter-widgets/base",
            "_view_module_version": "1.2.0",
            "_view_name": "StyleView",
            "description_width": ""
          }
        }
      }
    }
  },
  "cells": [
    {
      "cell_type": "markdown",
      "metadata": {
        "id": "kLB3I4FKZ5Lr"
      },
      "source": [
        "# Fine-tuning BERT (and friends) for multi-label text classification\n",
        "\n",
        "In this notebook, we are going to fine-tune BERT to predict one or more labels for a given piece of text. Note that this notebook illustrates how to fine-tune a bert-base-uncased model, but you can also fine-tune a RoBERTa, DeBERTa, DistilBERT, CANINE, ... checkpoint in the same way.\n",
        "\n",
        "All of those work in the same way: they add a linear layer on top of the base model, which is used to produce a tensor of shape (batch_size, num_labels), indicating the unnormalized scores for a number of labels for every example in the batch.\n",
        "\n",
        "\n",
        "\n",
        "## Set-up environment\n",
        "\n",
        "First, we install the libraries which we'll use: HuggingFace Transformers and Datasets."
      ]
    },
    {
      "cell_type": "code",
      "source": [],
      "metadata": {
        "id": "axqZhpNUTlAG"
      },
      "execution_count": null,
      "outputs": []
    },
    {
      "cell_type": "code",
      "metadata": {
        "id": "4wxY3x-ZZz8h"
      },
      "source": [
        "!pip install -q transformers datasets"
      ],
      "execution_count": null,
      "outputs": []
    },
    {
      "cell_type": "markdown",
      "metadata": {
        "id": "bIH9NP0MZ6-O"
      },
      "source": [
        "## Load dataset\n",
        "\n",
        "Next, let's download a multi-label text classification dataset from the [hub](https://huggingface.co/).\n",
        "\n",
        "At the time of writing, I picked a random one as follows:   \n",
        "\n",
        "* first, go to the \"datasets\" tab on huggingface.co\n",
        "* next, select the \"multi-label-classification\" tag on the left as well as the the \"1k<10k\" tag (fo find a relatively small dataset).\n",
        "\n",
        "Note that you can also easily load your local data (i.e. csv files, txt files, Parquet files, JSON, ...) as explained [here](https://huggingface.co/docs/datasets/loading.html#local-and-remote-files).\n",
        "\n"
      ]
    },
    {
      "cell_type": "code",
      "source": [
        "# !pip install pyarrow==0.17.1\n",
        "\n",
        "import pandas as pd\n",
        "from datasets import Dataset"
      ],
      "metadata": {
        "id": "-SyuJcZm9ytT"
      },
      "execution_count": null,
      "outputs": []
    },
    {
      "cell_type": "code",
      "source": [
        "# !pip install pyarrow==12.0.0"
      ],
      "metadata": {
        "id": "usqMbON2fNG6"
      },
      "execution_count": null,
      "outputs": []
    },
    {
      "cell_type": "code",
      "source": [
        "from datasets import Dataset"
      ],
      "metadata": {
        "id": "15_nKleEfCVc"
      },
      "execution_count": null,
      "outputs": []
    },
    {
      "cell_type": "code",
      "source": [
        "data_file= '/content/RRAVIPRA_train_final_3%.csv'\n",
        "df_train = pd.read_csv(data_file)\n",
        "\n",
        "data_file= '/content/RRAVIPRA_test_final_3%.csv'\n",
        "df_test = pd.read_csv(data_file)\n",
        "\n",
        "data_file= '/content/RRAVIPRA_val_final_3%.csv'\n",
        "df_val = pd.read_csv(data_file)\n",
        "\n",
        "print(\"train len: \",len(df_train))\n",
        "print(\"test len: \",len(df_test))\n",
        "print(\"val len: \",len(df_val))"
      ],
      "metadata": {
        "colab": {
          "base_uri": "https://localhost:8080/"
        },
        "id": "93C9ZLvA8zr3",
        "executionInfo": {
          "status": "ok",
          "timestamp": 1709588314590,
          "user_tz": 480,
          "elapsed": 1132,
          "user": {
            "displayName": "",
            "userId": ""
          }
        },
        "outputId": "6128f403-64f4-42ea-d594-6a954457d6b0"
      },
      "execution_count": null,
      "outputs": [
        {
          "output_type": "stream",
          "name": "stdout",
          "text": [
            "train len:  283685\n",
            "test len:  60791\n",
            "val len:  60791\n"
          ]
        }
      ]
    },
    {
      "cell_type": "code",
      "source": [
        "#TESTER\n",
        "# df_train = df_train.iloc[:15000,:]\n",
        "# df_test = df_test.iloc[:1500,:]\n",
        "# df_val = df_val.iloc[:1500,:]"
      ],
      "metadata": {
        "id": "xBcb7o2n_109"
      },
      "execution_count": null,
      "outputs": []
    },
    {
      "cell_type": "code",
      "source": [
        "# #synthetic data\n",
        "# import pandas as pd\n",
        "# from datasets import Dataset\n",
        "# data_file= '/content/RRAVIPRA_train_final_.25%.csv'\n",
        "\n",
        "# df = pd.read_csv(data_file)\n",
        "# display(df.head())\n",
        "# # rename the columns\n",
        "# # df = df[['toxicity','text']]\n",
        "# # df.rename(columns={'toxicity':'label', 'text':'message'}, inplace=True)\n",
        "# # df_new = balance_dataset(df)\n",
        "# print(df.head())\n",
        "# df = df.reset_index(drop=True)\n",
        "# display(df.head())\n",
        "# # dataset = Dataset.from_pandas(df)"
      ],
      "metadata": {
        "id": "ppCTyUYjMpPE"
      },
      "execution_count": null,
      "outputs": []
    },
    {
      "cell_type": "code",
      "source": [
        "# Check the distribution of labels in the balanced DataFrame\n",
        "label_distribution = df_train['label'].value_counts()\n",
        "\n",
        "# Display the label distribution\n",
        "print(label_distribution)"
      ],
      "metadata": {
        "colab": {
          "base_uri": "https://localhost:8080/"
        },
        "id": "ZvvcjnK-Bh1q",
        "executionInfo": {
          "status": "ok",
          "timestamp": 1709588314590,
          "user_tz": 480,
          "elapsed": 3,
          "user": {
            "displayName": "",
            "userId": ""
          }
        },
        "outputId": "1fc68d60-81df-4444-8d9d-b9ca6ef41126"
      },
      "execution_count": null,
      "outputs": [
        {
          "output_type": "stream",
          "name": "stdout",
          "text": [
            "0    271837\n",
            "1     11848\n",
            "Name: label, dtype: int64\n"
          ]
        }
      ]
    },
    {
      "cell_type": "code",
      "source": [
        "# !pip install -U imbalanced-learn\n"
      ],
      "metadata": {
        "id": "5eNP5y_vBQsc"
      },
      "execution_count": null,
      "outputs": []
    },
    {
      "cell_type": "code",
      "source": [
        "#Testing out baalcned dataset\n",
        "# print(len(df))"
      ],
      "metadata": {
        "id": "4IecQgoKF2kS"
      },
      "execution_count": null,
      "outputs": []
    },
    {
      "cell_type": "code",
      "source": [
        "# import pandas as pd\n",
        "# from imblearn.under_sampling import RandomUnderSampler\n",
        "\n",
        "\n",
        "# # Separate features and labels\n",
        "# X = df[['message']]\n",
        "# y = df['label']\n",
        "\n",
        "# # Create an undersampler\n",
        "# undersampler = RandomUnderSampler(sampling_strategy='auto', random_state=42)\n",
        "\n",
        "# # Fit and transform the data to create a balanced DataFrame\n",
        "# X_resampled, y_resampled = undersampler.fit_resample(X, y)\n",
        "\n",
        "# # Create a new DataFrame with the balanced data\n",
        "# balanced_df = pd.DataFrame({'message': X_resampled['message'], 'label': y_resampled})\n",
        "\n",
        "# # Check the distribution of labels in the balanced DataFrame\n",
        "# label_distribution = balanced_df['label'].value_counts()\n",
        "\n",
        "# # Display the label distribution\n",
        "# print(label_distribution)\n",
        "# df = balanced_df.copy()"
      ],
      "metadata": {
        "id": "SPOys67zBTiH"
      },
      "execution_count": null,
      "outputs": []
    },
    {
      "cell_type": "code",
      "source": [
        "# label_distribution = df['label'].value_counts()\n",
        "\n",
        "# # Display the label distribution\n",
        "# print(label_distribution)"
      ],
      "metadata": {
        "id": "2xwYVkf9D46F"
      },
      "execution_count": null,
      "outputs": []
    },
    {
      "cell_type": "code",
      "source": [
        "# print(len(df))\n",
        "# shuffled_df = df.sample(frac=1, random_state=42)  # Set a random_state for reproducibility\n",
        "# shuffled_df = shuffled_df.dropna()\n",
        "# print(len(shuffled_df))\n",
        "# # Extract 3765 rows\n",
        "# # df_synthetic = shuffled_df.head(3765)\n",
        "# # len(df_synthetic)\n",
        "# df=shuffled_df.copy()"
      ],
      "metadata": {
        "id": "eetGBl0rx5Xp"
      },
      "execution_count": null,
      "outputs": []
    },
    {
      "cell_type": "code",
      "source": [
        "\n",
        "# df_synthetic=df_synthetic.reset_index(drop=True)\n",
        "# df_synthetic.head()"
      ],
      "metadata": {
        "id": "fRw_ggz9IAF7"
      },
      "execution_count": null,
      "outputs": []
    },
    {
      "cell_type": "code",
      "source": [
        "# df_synthetic['label'] = df_synthetic['label'].fillna(0)\n",
        "# print(\"print\",df_synthetic.dtypes)\n",
        "# df_synthetic['label'] = df_synthetic['label'].astype(int)"
      ],
      "metadata": {
        "id": "c3hrYQrT4fC-"
      },
      "execution_count": null,
      "outputs": []
    },
    {
      "cell_type": "code",
      "source": [
        "# #original dataset\n",
        "# import pandas as pd\n",
        "# from datasets import Dataset\n",
        "# data_file= '/content/combined_dataset.csv'\n",
        "\n",
        "# df = pd.read_csv(data_file)\n",
        "# # rename the columns\n",
        "# df = df[['toxicity','text']]\n",
        "# df.rename(columns={'toxicity':'label', 'text':'message'}, inplace=True)\n",
        "# # df_new = balance_dataset(df)\n",
        "# # print(df.head())\n",
        "# df = df.reset_index(drop=True)\n",
        "# display(df.head())\n",
        "\n",
        "# shuffled_df_orig = df.sample(frac=1, random_state=42)\n",
        "\n",
        "# # Extract 151130 rows -> val + test set (30%)\n",
        "# df_test_val = shuffled_df_orig.head(151130)\n",
        "# print(\"len of df_test_val: \",len(df_test_val))\n",
        "# # dataset = Dataset.from_pandas(df)\n",
        "\n",
        "# # Remaining rows for the training set\n",
        "# df_train = shuffled_df_orig[~shuffled_df_orig.index.isin(df_test_val.index)]\n",
        "\n",
        "# # Save the remaining rows in a DataFrame called df_train\n",
        "# df_train.reset_index(drop=True, inplace=True)\n",
        "# print(\"len of df_train: \",len(df_train))"
      ],
      "metadata": {
        "id": "2ntqM3OEz7qA"
      },
      "execution_count": null,
      "outputs": []
    },
    {
      "cell_type": "code",
      "source": [
        "# df_train=df_train.reset_index(drop=True)\n",
        "# df_test_val=df_test_val.reset_index(drop=True)\n",
        "\n",
        "# display(df_train.head())\n",
        "# print(df_train.dtypes)\n",
        "# print(df_test_val.dtypes)\n",
        "# display(df_test_val.head())"
      ],
      "metadata": {
        "id": "EL7Jotg37prx"
      },
      "execution_count": null,
      "outputs": []
    },
    {
      "cell_type": "code",
      "source": [
        "# #Union of the two\n",
        "# union_df_train = pd.concat([df_train, df_synthetic], ignore_index=True)\n",
        "# union_df_train = union_df_train.sample(frac=1, random_state=42)"
      ],
      "metadata": {
        "id": "nK_TokR90TSx"
      },
      "execution_count": null,
      "outputs": []
    },
    {
      "cell_type": "code",
      "source": [
        "# len(union_df_train)"
      ],
      "metadata": {
        "id": "2plKLKGF0d5b"
      },
      "execution_count": null,
      "outputs": []
    },
    {
      "cell_type": "code",
      "source": [
        "# from sklearn.model_selection import train_test_split\n",
        "# train_df, val_df = train_test_split(df, test_size=0.2)\n",
        "# test_df, val_df = train_test_split(val_df, test_size=0.5)\n",
        "# # train_df=union_df_train"
      ],
      "metadata": {
        "id": "2o-tBfhX34Kt"
      },
      "execution_count": null,
      "outputs": []
    },
    {
      "cell_type": "code",
      "source": [
        "# test_df.to_csv('AB_test_1%.csv')\n",
        "# val_df.to_csv('AB_val_1%.csv')\n",
        "# train_df.to_csv('AB_train_1%.csv')"
      ],
      "metadata": {
        "id": "BvZFItJHJugS"
      },
      "execution_count": null,
      "outputs": []
    },
    {
      "cell_type": "code",
      "source": [
        "from sklearn.model_selection import train_test_split\n",
        "from datasets import Dataset, DatasetDict\n",
        "\n",
        "# Assuming df is your full DataFrame\n",
        "# train_df, test_df = train_test_split(df, test_size=0.3)\n",
        "# # Further split the test dataframe into test and validation\n",
        "# test_df, val_df = train_test_split(test_df, test_size=0.5)\n",
        "\n",
        "# Convert the DataFrames into huggingface datasets\n",
        "train_dataset = Dataset.from_pandas(df_train)\n",
        "test_dataset = Dataset.from_pandas(df_test)\n",
        "val_dataset = Dataset.from_pandas(df_val)\n",
        "\n",
        "# Create a DatasetDict\n",
        "dataset = DatasetDict({\n",
        "    'train': train_dataset,\n",
        "    'test': test_dataset,\n",
        "    'validation': val_dataset\n",
        "})\n"
      ],
      "metadata": {
        "id": "2gGt8OeNOzyx"
      },
      "execution_count": null,
      "outputs": []
    },
    {
      "cell_type": "code",
      "source": [
        "dataset"
      ],
      "metadata": {
        "colab": {
          "base_uri": "https://localhost:8080/"
        },
        "id": "6JRW0sZjNi3V",
        "executionInfo": {
          "status": "ok",
          "timestamp": 1709588315817,
          "user_tz": 480,
          "elapsed": 10,
          "user": {
            "displayName": "",
            "userId": ""
          }
        },
        "outputId": "74771d8b-ad9d-4a36-9963-006354f22fcd"
      },
      "execution_count": null,
      "outputs": [
        {
          "output_type": "execute_result",
          "data": {
            "text/plain": [
              "DatasetDict({\n",
              "    train: Dataset({\n",
              "        features: ['message', 'label'],\n",
              "        num_rows: 283685\n",
              "    })\n",
              "    test: Dataset({\n",
              "        features: ['message', 'label'],\n",
              "        num_rows: 60791\n",
              "    })\n",
              "    validation: Dataset({\n",
              "        features: ['message', 'label'],\n",
              "        num_rows: 60791\n",
              "    })\n",
              "})"
            ]
          },
          "metadata": {},
          "execution_count": 24
        }
      ]
    },
    {
      "cell_type": "code",
      "metadata": {
        "id": "sd1LiXGjZ420"
      },
      "source": [
        "# from datasets import load_dataset\n",
        "\n",
        "# dataset = load_dataset(\"sem_eval_2018_task_1\", \"subtask5.english\")"
      ],
      "execution_count": null,
      "outputs": []
    },
    {
      "cell_type": "markdown",
      "metadata": {
        "id": "QCL02vQgxYTO"
      },
      "source": [
        "As we can see, the dataset contains 3 splits: one for training, one for validation and one for testing."
      ]
    },
    {
      "cell_type": "code",
      "metadata": {
        "colab": {
          "base_uri": "https://localhost:8080/"
        },
        "id": "pRd1kXQZjYIY",
        "outputId": "a036e15a-00e4-478d-fd1d-af874275ceb5",
        "executionInfo": {
          "status": "ok",
          "timestamp": 1709588315817,
          "user_tz": 480,
          "elapsed": 9,
          "user": {
            "displayName": "",
            "userId": ""
          }
        }
      },
      "source": [
        "dataset"
      ],
      "execution_count": null,
      "outputs": [
        {
          "output_type": "execute_result",
          "data": {
            "text/plain": [
              "DatasetDict({\n",
              "    train: Dataset({\n",
              "        features: ['message', 'label'],\n",
              "        num_rows: 283685\n",
              "    })\n",
              "    test: Dataset({\n",
              "        features: ['message', 'label'],\n",
              "        num_rows: 60791\n",
              "    })\n",
              "    validation: Dataset({\n",
              "        features: ['message', 'label'],\n",
              "        num_rows: 60791\n",
              "    })\n",
              "})"
            ]
          },
          "metadata": {},
          "execution_count": 26
        }
      ]
    },
    {
      "cell_type": "code",
      "source": [
        "\n",
        "\n",
        "# dataset=dataset.remove_columns(column_names='__index_level_0__')\n",
        "\n",
        "# # Print the updated dataset information\n",
        "# print(dataset)"
      ],
      "metadata": {
        "id": "8_yBQeq6TQt4"
      },
      "execution_count": null,
      "outputs": []
    },
    {
      "cell_type": "code",
      "source": [
        "# Assuming your dataset is named 'dataset'\n",
        "dataset['train'] = dataset['train'].map(lambda example: {'message': example['message'], 'positive': example['label'] == 1, 'negative': example['label'] == 0})\n",
        "\n",
        "\n",
        "dataset['validation'] = dataset['validation'].map(lambda example: {'message': example['message'], 'positive': example['label'] == 1, 'negative': example['label'] == 0})\n",
        "# dataset=dataset.remove_columns(column_names='label')\n",
        "\n",
        "dataset['test'] = dataset['test'].map(lambda example: {'message': example['message'], 'positive': example['label'] == 1, 'negative': example['label'] == 0})\n",
        "# dataset=dataset.remove_columns(column_names='label')\n",
        "dataset=dataset.remove_columns(column_names='label')\n",
        "# Check the modified dataset\n",
        "print(dataset)\n"
      ],
      "metadata": {
        "colab": {
          "base_uri": "https://localhost:8080/",
          "height": 363,
          "referenced_widgets": [
            "a27b6adc605742d58e5e7d3b6160ae66",
            "edc4534499674120a6c077aa40351b36",
            "2309eb9901034df9a9b1c3f754185e97",
            "081e89f8a86b480bb149f56afd0874bf",
            "2c6db67f1bcd4c4b931833c881600f56",
            "3d10788c87cb4438aac90849e52fec2c",
            "67c36ea6c5004bedb774a940efce162d",
            "c61bed2d6abc4480ba40be3a0ae8a033",
            "dd74c52ef7fd46e7a7fdcb57d1ae39e7",
            "b0abf2773181456aa5db5e19c91ee6e0",
            "0b0a5813f75f4fb88265bb7e1704fe3e",
            "e0ed60de6d004ebd9a19dc18bbd911f5",
            "c1b18391d3a64d20a5057bb825f5f081",
            "0366ba0f35734b2b9264d28947d0e116",
            "e107ab06b6a448a9994ffdfce1f7dfb9",
            "718d9fb5e5f04c719c84b99323b0f6bd",
            "129e77e2b6f944fca4a90a6278442156",
            "2d8b0f8276f44ac48706adcf3cad7639",
            "65ead0554da94b12ae94fcd204110264",
            "9c865d218f6349e3a1736cc0a131d2b8",
            "8169c86d592b4b8eb283adc4733d1e0b",
            "b5b5d2e654ce4e75bdddd615c1acff0c",
            "c81f67438c9e440c9e8d8efb37063a9b",
            "d1e50f56eab14365bed3a6bcbe9c0fc0",
            "3bef0b71f5ae473a8d28e4bcfd76af2c",
            "bdadd12f74ee45b9877291b50f17418b",
            "e151bd8bbeeb4d0394e6ece3435c2e5c",
            "bbaed45afcad4bf5ad7c806f3934a832",
            "73ceec692e834a0497a499fcc6b2ae0d",
            "7e95809273024c6d82f2d0190e5ea0c8",
            "69fd8c5632494d7cba400f63d1f2af30",
            "45da3778088442dcb784f1fae639be8d",
            "bb44d3c7961741ae8050483141cc82c3"
          ]
        },
        "id": "t4MVW5ZxUIOZ",
        "executionInfo": {
          "status": "ok",
          "timestamp": 1709588336405,
          "user_tz": 480,
          "elapsed": 20595,
          "user": {
            "displayName": "",
            "userId": ""
          }
        },
        "outputId": "295b9f2d-28c9-4d9f-db96-b043553c7d60"
      },
      "execution_count": null,
      "outputs": [
        {
          "output_type": "display_data",
          "data": {
            "text/plain": [
              "Map:   0%|          | 0/283685 [00:00<?, ? examples/s]"
            ],
            "application/vnd.jupyter.widget-view+json": {
              "version_major": 2,
              "version_minor": 0,
              "model_id": "a27b6adc605742d58e5e7d3b6160ae66"
            }
          },
          "metadata": {}
        },
        {
          "output_type": "display_data",
          "data": {
            "text/plain": [
              "Map:   0%|          | 0/60791 [00:00<?, ? examples/s]"
            ],
            "application/vnd.jupyter.widget-view+json": {
              "version_major": 2,
              "version_minor": 0,
              "model_id": "e0ed60de6d004ebd9a19dc18bbd911f5"
            }
          },
          "metadata": {}
        },
        {
          "output_type": "display_data",
          "data": {
            "text/plain": [
              "Map:   0%|          | 0/60791 [00:00<?, ? examples/s]"
            ],
            "application/vnd.jupyter.widget-view+json": {
              "version_major": 2,
              "version_minor": 0,
              "model_id": "c81f67438c9e440c9e8d8efb37063a9b"
            }
          },
          "metadata": {}
        },
        {
          "output_type": "stream",
          "name": "stdout",
          "text": [
            "DatasetDict({\n",
            "    train: Dataset({\n",
            "        features: ['message', 'positive', 'negative'],\n",
            "        num_rows: 283685\n",
            "    })\n",
            "    test: Dataset({\n",
            "        features: ['message', 'positive', 'negative'],\n",
            "        num_rows: 60791\n",
            "    })\n",
            "    validation: Dataset({\n",
            "        features: ['message', 'positive', 'negative'],\n",
            "        num_rows: 60791\n",
            "    })\n",
            "})\n"
          ]
        }
      ]
    },
    {
      "cell_type": "markdown",
      "metadata": {
        "id": "PgS0wMWExcqP"
      },
      "source": [
        "\n",
        "Let's check the first example of the training split:"
      ]
    },
    {
      "cell_type": "code",
      "metadata": {
        "colab": {
          "base_uri": "https://localhost:8080/"
        },
        "id": "unjuTtKUjZI3",
        "outputId": "f6a0806a-b09c-41d5-9ca1-65a59f915cf6",
        "executionInfo": {
          "status": "ok",
          "timestamp": 1709588336405,
          "user_tz": 480,
          "elapsed": 41,
          "user": {
            "displayName": "",
            "userId": ""
          }
        }
      },
      "source": [
        "example = dataset['train'][0]\n",
        "example"
      ],
      "execution_count": null,
      "outputs": [
        {
          "output_type": "execute_result",
          "data": {
            "text/plain": [
              "{'message': \"Why can't you just be a man or a woman? Can't you see that's the way things are supposed to be?\",\n",
              " 'positive': True,\n",
              " 'negative': False}"
            ]
          },
          "metadata": {},
          "execution_count": 29
        }
      ]
    },
    {
      "cell_type": "markdown",
      "metadata": {
        "id": "6DV0Rtetxgd4"
      },
      "source": [
        "The dataset consists of tweets, labeled with one or more emotions.\n",
        "\n",
        "Let's create a list that contains the labels, as well as 2 dictionaries that map labels to integers and back."
      ]
    },
    {
      "cell_type": "code",
      "source": [
        "# # Assuming your dataset is a list of dictionaries and each dictionary has a 'your_label_column' key\n",
        "# unique_labels = set(example['label'] for example in dataset['train'])\n",
        "# print(\"Unique Labels:\", unique_labels)\n"
      ],
      "metadata": {
        "id": "rE_64bEnOr6L"
      },
      "execution_count": null,
      "outputs": []
    },
    {
      "cell_type": "code",
      "source": [
        "#Positive = True; Means HOT\n",
        "example = dataset['train'][1]\n",
        "example"
      ],
      "metadata": {
        "colab": {
          "base_uri": "https://localhost:8080/"
        },
        "id": "2x_PEfN4SH-A",
        "executionInfo": {
          "status": "ok",
          "timestamp": 1709588336441,
          "user_tz": 480,
          "elapsed": 72,
          "user": {
            "displayName": "",
            "userId": ""
          }
        },
        "outputId": "932ea4f5-4b6b-4c40-a164-3b513de449f8"
      },
      "execution_count": null,
      "outputs": [
        {
          "output_type": "execute_result",
          "data": {
            "text/plain": [
              "{'message': 'Well, I can’t change the amount of melanin in my skin.  So they’ll just have to get used to it.',\n",
              " 'positive': False,\n",
              " 'negative': True}"
            ]
          },
          "metadata": {},
          "execution_count": 31
        }
      ]
    },
    {
      "cell_type": "code",
      "metadata": {
        "colab": {
          "base_uri": "https://localhost:8080/"
        },
        "id": "e5vZhQpvkE8s",
        "outputId": "1a6931df-62d2-4a64-8b35-f5f13c39c714",
        "executionInfo": {
          "status": "ok",
          "timestamp": 1709588336441,
          "user_tz": 480,
          "elapsed": 2,
          "user": {
            "displayName": "",
            "userId": ""
          }
        }
      },
      "source": [
        "labels = [label for label in dataset['train'].features.keys() if label not in ['message']]\n",
        "# id2label = {idx:label for idx, label in enumerate(labels)}\n",
        "# label2id = {label:idx for idx, label in enumerate(labels)}\n",
        "# print(labels)\n",
        "#TESTTT\n",
        "labels = ['negative', 'positive']\n",
        "\n",
        "# Create id2label mapping\n",
        "id2label = {idx: label for idx, label in enumerate(labels)}\n",
        "\n",
        "# Create label2id mapping\n",
        "label2id = {label: idx for idx, label in enumerate(labels)}\n",
        "\n",
        "# Manually set the mapping for 'positive' to 1 and 'negative' to 0\n",
        "label2id['positive'] = 1\n",
        "label2id['negative'] = 0\n",
        "\n",
        "print(\"id2label:\", id2label)\n",
        "print(\"label2id:\", label2id)"
      ],
      "execution_count": null,
      "outputs": [
        {
          "output_type": "stream",
          "name": "stdout",
          "text": [
            "id2label: {0: 'negative', 1: 'positive'}\n",
            "label2id: {'negative': 0, 'positive': 1}\n"
          ]
        }
      ]
    },
    {
      "cell_type": "markdown",
      "metadata": {
        "id": "nJ3Teyjmank2"
      },
      "source": [
        "## Preprocess data\n",
        "\n",
        "As models like BERT don't expect text as direct input, but rather `input_ids`, etc., we tokenize the text using the tokenizer. Here I'm using the `AutoTokenizer` API, which will automatically load the appropriate tokenizer based on the checkpoint on the hub.\n",
        "\n",
        "What's a bit tricky is that we also need to provide labels to the model. For multi-label text classification, this is a matrix of shape (batch_size, num_labels). Also important: this should be a tensor of floats rather than integers, otherwise PyTorch' `BCEWithLogitsLoss` (which the model will use) will complain, as explained [here](https://discuss.pytorch.org/t/multi-label-binary-classification-result-type-float-cant-be-cast-to-the-desired-output-type-long/117915/3)."
      ]
    },
    {
      "cell_type": "code",
      "source": [
        "#pip list | grep jax"
      ],
      "metadata": {
        "id": "l-sD_vTrFzxx"
      },
      "execution_count": null,
      "outputs": []
    },
    {
      "cell_type": "code",
      "source": [
        "#!pip install -U jax jaxlib"
      ],
      "metadata": {
        "id": "-puzjgm3F4SL"
      },
      "execution_count": null,
      "outputs": []
    },
    {
      "cell_type": "code",
      "metadata": {
        "id": "AFWlSsbZaRLc",
        "executionInfo": {
          "status": "ok",
          "timestamp": 1709588339100,
          "user_tz": 480,
          "elapsed": 2660,
          "user": {
            "displayName": "",
            "userId": ""
          }
        },
        "colab": {
          "base_uri": "https://localhost:8080/"
        },
        "outputId": "06bdcae7-30ea-402e-b94c-17a50382ef12"
      },
      "source": [
        "from transformers import AutoTokenizer\n",
        "import numpy as np\n",
        "\n",
        "tokenizer = AutoTokenizer.from_pretrained(\"bert-base-uncased\")\n",
        "\n",
        "def preprocess_data(examples):\n",
        "  # take a batch of texts\n",
        "  text = examples[\"message\"]\n",
        "  # display(text)\n",
        "  # encode them\n",
        "  encoding = tokenizer(text, padding=\"max_length\", truncation=True, max_length=512)\n",
        "  # add labels\n",
        "  labels_batch = {k: examples[k] for k in examples.keys() if k in labels}\n",
        "  # print(\"labels_batch: \",labels_batch)\n",
        "  # create numpy array of shape (batch_size, num_labels)\n",
        "  labels_matrix = np.zeros((len(text), len(labels)))\n",
        "  # fill numpy array\n",
        "  for idx, label in enumerate(labels):\n",
        "    print(\"idx: \",idx, \"label: \", label)\n",
        "    labels_matrix[:, idx] = labels_batch[label]\n",
        "\n",
        "  encoding[\"labels\"] = labels_matrix.tolist()\n",
        "\n",
        "  return encoding"
      ],
      "execution_count": null,
      "outputs": [
        {
          "output_type": "stream",
          "name": "stderr",
          "text": [
            "/usr/local/lib/python3.10/dist-packages/huggingface_hub/utils/_token.py:88: UserWarning: \n",
            "The secret `HF_TOKEN` does not exist in your Colab secrets.\n",
            "To authenticate with the Hugging Face Hub, create a token in your settings tab (https://huggingface.co/settings/tokens), set it as secret in your Google Colab and restart your session.\n",
            "You will be able to reuse this secret in all of your notebooks.\n",
            "Please note that authentication is recommended but still optional to access public models or datasets.\n",
            "  warnings.warn(\n"
          ]
        }
      ]
    },
    {
      "cell_type": "code",
      "metadata": {
        "colab": {
          "base_uri": "https://localhost:8080/",
          "height": 1000,
          "referenced_widgets": [
            "90b4c8e62c7a4d6f9cd764bf13005781",
            "8d52cdc99fe942549659872f33dcb245",
            "e0121c81cd714a22aef645809b6c0e1e",
            "8425b3f41fa045c3aa61ed465e802d27",
            "9903f9139a504f62a4ced0ff7f95a65b",
            "855dbd045df74d7597bd422a2b806c25",
            "ed062a8fbe2c49199a02e1ced4c6370f",
            "923b9f34ac2a4344b36faf8ab67dd1cf",
            "80a0ded55479402793c64a4975a0ec6e",
            "7ec263afc586448ab8112a2cf1095056",
            "50dd04b3041e4254ade49ebea9507d32",
            "c26462ecba6e4029af7e06e8561469b4",
            "fdaa9072734149e59eb8f7f9830a55c5",
            "f901ec0866eb45e0ac6cd2a0c5168bf8",
            "a27affa470504b59b98f968d92b493ee",
            "6b2d9978b7fe49d08d1fad75910ac632",
            "b33f5b1a839f40e2aafd3394181ab1b2",
            "801571eb414f4f269f24bf0516beb433",
            "39093c3a82e944e0b71b5af5591e1725",
            "88bbb56e38494c909535afc573171f34",
            "077b6e36e6384d078da1ad3da5325db5",
            "97c46664047a4f35b0e312bec54193c2",
            "2f8bf7b10a4448b998cb1b87ba0e8b03",
            "7291669f39334707add265346bb6b6d1",
            "c751a6d43e6a4c72a095d9b4e975ad83",
            "532d1e3cac9f480fb7b77bb62dfadbf9",
            "ff07fa6af76e478fa7cd1fa55854d7e0",
            "f2b913e11a534c2781e39ff0388b8b16",
            "b318051486e143f2b57f082217cf1564",
            "7c4d65af7067419eb71033c41b909db4",
            "1d84d30803a349fd97b777cc29151505",
            "308a5fb590e3492caf5a23ca8527e7db",
            "f2c66df9232e456f9a4b1e9c180d8957"
          ]
        },
        "id": "i4ENBTdulBEI",
        "outputId": "2ed7c0f7-f082-4eb3-94b0-ad3cc2a0974c",
        "executionInfo": {
          "status": "ok",
          "timestamp": 1709588442750,
          "user_tz": 480,
          "elapsed": 103674,
          "user": {
            "displayName": "",
            "userId": ""
          }
        }
      },
      "source": [
        "encoded_dataset = dataset.map(preprocess_data, batched=True, remove_columns=dataset['train'].column_names)"
      ],
      "execution_count": null,
      "outputs": [
        {
          "output_type": "display_data",
          "data": {
            "text/plain": [
              "Map:   0%|          | 0/283685 [00:00<?, ? examples/s]"
            ],
            "application/vnd.jupyter.widget-view+json": {
              "version_major": 2,
              "version_minor": 0,
              "model_id": "90b4c8e62c7a4d6f9cd764bf13005781"
            }
          },
          "metadata": {}
        },
        {
          "output_type": "stream",
          "name": "stdout",
          "text": [
            "idx:  0 label:  negative\n",
            "idx:  1 label:  positive\n",
            "idx:  0 label:  negative\n",
            "idx:  1 label:  positive\n",
            "idx:  0 label:  negative\n",
            "idx:  1 label:  positive\n",
            "idx:  0 label:  negative\n",
            "idx:  1 label:  positive\n",
            "idx:  0 label:  negative\n",
            "idx:  1 label:  positive\n",
            "idx:  0 label:  negative\n",
            "idx:  1 label:  positive\n",
            "idx:  0 label:  negative\n",
            "idx:  1 label:  positive\n",
            "idx:  0 label:  negative\n",
            "idx:  1 label:  positive\n",
            "idx:  0 label:  negative\n",
            "idx:  1 label:  positive\n",
            "idx:  0 label:  negative\n",
            "idx:  1 label:  positive\n",
            "idx:  0 label:  negative\n",
            "idx:  1 label:  positive\n",
            "idx:  0 label:  negative\n",
            "idx:  1 label:  positive\n",
            "idx:  0 label:  negative\n",
            "idx:  1 label:  positive\n",
            "idx:  0 label:  negative\n",
            "idx:  1 label:  positive\n",
            "idx:  0 label:  negative\n",
            "idx:  1 label:  positive\n",
            "idx:  0 label:  negative\n",
            "idx:  1 label:  positive\n",
            "idx:  0 label:  negative\n",
            "idx:  1 label:  positive\n",
            "idx:  0 label:  negative\n",
            "idx:  1 label:  positive\n",
            "idx:  0 label:  negative\n",
            "idx:  1 label:  positive\n",
            "idx:  0 label:  negative\n",
            "idx:  1 label:  positive\n",
            "idx:  0 label:  negative\n",
            "idx:  1 label:  positive\n",
            "idx:  0 label:  negative\n",
            "idx:  1 label:  positive\n",
            "idx:  0 label:  negative\n",
            "idx:  1 label:  positive\n",
            "idx:  0 label:  negative\n",
            "idx:  1 label:  positive\n",
            "idx:  0 label:  negative\n",
            "idx:  1 label:  positive\n",
            "idx:  0 label:  negative\n",
            "idx:  1 label:  positive\n",
            "idx:  0 label:  negative\n",
            "idx:  1 label:  positive\n",
            "idx:  0 label:  negative\n",
            "idx:  1 label:  positive\n",
            "idx:  0 label:  negative\n",
            "idx:  1 label:  positive\n",
            "idx:  0 label:  negative\n",
            "idx:  1 label:  positive\n",
            "idx:  0 label:  negative\n",
            "idx:  1 label:  positive\n",
            "idx:  0 label:  negative\n",
            "idx:  1 label:  positive\n",
            "idx:  0 label:  negative\n",
            "idx:  1 label:  positive\n",
            "idx:  0 label:  negative\n",
            "idx:  1 label:  positive\n",
            "idx:  0 label:  negative\n",
            "idx:  1 label:  positive\n",
            "idx:  0 label:  negative\n",
            "idx:  1 label:  positive\n",
            "idx:  0 label:  negative\n",
            "idx:  1 label:  positive\n",
            "idx:  0 label:  negative\n",
            "idx:  1 label:  positive\n",
            "idx:  0 label:  negative\n",
            "idx:  1 label:  positive\n",
            "idx:  0 label:  negative\n",
            "idx:  1 label:  positive\n",
            "idx:  0 label:  negative\n",
            "idx:  1 label:  positive\n",
            "idx:  0 label:  negative\n",
            "idx:  1 label:  positive\n",
            "idx:  0 label:  negative\n",
            "idx:  1 label:  positive\n",
            "idx:  0 label:  negative\n",
            "idx:  1 label:  positive\n",
            "idx:  0 label:  negative\n",
            "idx:  1 label:  positive\n",
            "idx:  0 label:  negative\n",
            "idx:  1 label:  positive\n",
            "idx:  0 label:  negative\n",
            "idx:  1 label:  positive\n",
            "idx:  0 label:  negative\n",
            "idx:  1 label:  positive\n",
            "idx:  0 label:  negative\n",
            "idx:  1 label:  positive\n",
            "idx:  0 label:  negative\n",
            "idx:  1 label:  positive\n",
            "idx:  0 label:  negative\n",
            "idx:  1 label:  positive\n",
            "idx:  0 label:  negative\n",
            "idx:  1 label:  positive\n",
            "idx:  0 label:  negative\n",
            "idx:  1 label:  positive\n",
            "idx:  0 label:  negative\n",
            "idx:  1 label:  positive\n",
            "idx:  0 label:  negative\n",
            "idx:  1 label:  positive\n",
            "idx:  0 label:  negative\n",
            "idx:  1 label:  positive\n",
            "idx:  0 label:  negative\n",
            "idx:  1 label:  positive\n",
            "idx:  0 label:  negative\n",
            "idx:  1 label:  positive\n",
            "idx:  0 label:  negative\n",
            "idx:  1 label:  positive\n",
            "idx:  0 label:  negative\n",
            "idx:  1 label:  positive\n",
            "idx:  0 label:  negative\n",
            "idx:  1 label:  positive\n",
            "idx:  0 label:  negative\n",
            "idx:  1 label:  positive\n",
            "idx:  0 label:  negative\n",
            "idx:  1 label:  positive\n",
            "idx:  0 label:  negative\n",
            "idx:  1 label:  positive\n",
            "idx:  0 label:  negative\n",
            "idx:  1 label:  positive\n",
            "idx:  0 label:  negative\n",
            "idx:  1 label:  positive\n",
            "idx:  0 label:  negative\n",
            "idx:  1 label:  positive\n",
            "idx:  0 label:  negative\n",
            "idx:  1 label:  positive\n",
            "idx:  0 label:  negative\n",
            "idx:  1 label:  positive\n",
            "idx:  0 label:  negative\n",
            "idx:  1 label:  positive\n",
            "idx:  0 label:  negative\n",
            "idx:  1 label:  positive\n",
            "idx:  0 label:  negative\n",
            "idx:  1 label:  positive\n",
            "idx:  0 label:  negative\n",
            "idx:  1 label:  positive\n",
            "idx:  0 label:  negative\n",
            "idx:  1 label:  positive\n",
            "idx:  0 label:  negative\n",
            "idx:  1 label:  positive\n",
            "idx:  0 label:  negative\n",
            "idx:  1 label:  positive\n",
            "idx:  0 label:  negative\n",
            "idx:  1 label:  positive\n",
            "idx:  0 label:  negative\n",
            "idx:  1 label:  positive\n",
            "idx:  0 label:  negative\n",
            "idx:  1 label:  positive\n",
            "idx:  0 label:  negative\n",
            "idx:  1 label:  positive\n",
            "idx:  0 label:  negative\n",
            "idx:  1 label:  positive\n",
            "idx:  0 label:  negative\n",
            "idx:  1 label:  positive\n",
            "idx:  0 label:  negative\n",
            "idx:  1 label:  positive\n",
            "idx:  0 label:  negative\n",
            "idx:  1 label:  positive\n",
            "idx:  0 label:  negative\n",
            "idx:  1 label:  positive\n",
            "idx:  0 label:  negative\n",
            "idx:  1 label:  positive\n",
            "idx:  0 label:  negative\n",
            "idx:  1 label:  positive\n",
            "idx:  0 label:  negative\n",
            "idx:  1 label:  positive\n",
            "idx:  0 label:  negative\n",
            "idx:  1 label:  positive\n",
            "idx:  0 label:  negative\n",
            "idx:  1 label:  positive\n",
            "idx:  0 label:  negative\n",
            "idx:  1 label:  positive\n",
            "idx:  0 label:  negative\n",
            "idx:  1 label:  positive\n",
            "idx:  0 label:  negative\n",
            "idx:  1 label:  positive\n",
            "idx:  0 label:  negative\n",
            "idx:  1 label:  positive\n",
            "idx:  0 label:  negative\n",
            "idx:  1 label:  positive\n",
            "idx:  0 label:  negative\n",
            "idx:  1 label:  positive\n",
            "idx:  0 label:  negative\n",
            "idx:  1 label:  positive\n",
            "idx:  0 label:  negative\n",
            "idx:  1 label:  positive\n",
            "idx:  0 label:  negative\n",
            "idx:  1 label:  positive\n",
            "idx:  0 label:  negative\n",
            "idx:  1 label:  positive\n",
            "idx:  0 label:  negative\n",
            "idx:  1 label:  positive\n",
            "idx:  0 label:  negative\n",
            "idx:  1 label:  positive\n",
            "idx:  0 label:  negative\n",
            "idx:  1 label:  positive\n",
            "idx:  0 label:  negative\n",
            "idx:  1 label:  positive\n",
            "idx:  0 label:  negative\n",
            "idx:  1 label:  positive\n",
            "idx:  0 label:  negative\n",
            "idx:  1 label:  positive\n",
            "idx:  0 label:  negative\n",
            "idx:  1 label:  positive\n",
            "idx:  0 label:  negative\n",
            "idx:  1 label:  positive\n",
            "idx:  0 label:  negative\n",
            "idx:  1 label:  positive\n",
            "idx:  0 label:  negative\n",
            "idx:  1 label:  positive\n",
            "idx:  0 label:  negative\n",
            "idx:  1 label:  positive\n",
            "idx:  0 label:  negative\n",
            "idx:  1 label:  positive\n",
            "idx:  0 label:  negative\n",
            "idx:  1 label:  positive\n",
            "idx:  0 label:  negative\n",
            "idx:  1 label:  positive\n",
            "idx:  0 label:  negative\n",
            "idx:  1 label:  positive\n",
            "idx:  0 label:  negative\n",
            "idx:  1 label:  positive\n",
            "idx:  0 label:  negative\n",
            "idx:  1 label:  positive\n",
            "idx:  0 label:  negative\n",
            "idx:  1 label:  positive\n",
            "idx:  0 label:  negative\n",
            "idx:  1 label:  positive\n",
            "idx:  0 label:  negative\n",
            "idx:  1 label:  positive\n",
            "idx:  0 label:  negative\n",
            "idx:  1 label:  positive\n",
            "idx:  0 label:  negative\n",
            "idx:  1 label:  positive\n",
            "idx:  0 label:  negative\n",
            "idx:  1 label:  positive\n",
            "idx:  0 label:  negative\n",
            "idx:  1 label:  positive\n",
            "idx:  0 label:  negative\n",
            "idx:  1 label:  positive\n",
            "idx:  0 label:  negative\n",
            "idx:  1 label:  positive\n",
            "idx:  0 label:  negative\n",
            "idx:  1 label:  positive\n",
            "idx:  0 label:  negative\n",
            "idx:  1 label:  positive\n",
            "idx:  0 label:  negative\n",
            "idx:  1 label:  positive\n",
            "idx:  0 label:  negative\n",
            "idx:  1 label:  positive\n",
            "idx:  0 label:  negative\n",
            "idx:  1 label:  positive\n",
            "idx:  0 label:  negative\n",
            "idx:  1 label:  positive\n",
            "idx:  0 label:  negative\n",
            "idx:  1 label:  positive\n",
            "idx:  0 label:  negative\n",
            "idx:  1 label:  positive\n",
            "idx:  0 label:  negative\n",
            "idx:  1 label:  positive\n",
            "idx:  0 label:  negative\n",
            "idx:  1 label:  positive\n",
            "idx:  0 label:  negative\n",
            "idx:  1 label:  positive\n",
            "idx:  0 label:  negative\n",
            "idx:  1 label:  positive\n",
            "idx:  0 label:  negative\n",
            "idx:  1 label:  positive\n",
            "idx:  0 label:  negative\n",
            "idx:  1 label:  positive\n",
            "idx:  0 label:  negative\n",
            "idx:  1 label:  positive\n",
            "idx:  0 label:  negative\n",
            "idx:  1 label:  positive\n",
            "idx:  0 label:  negative\n",
            "idx:  1 label:  positive\n",
            "idx:  0 label:  negative\n",
            "idx:  1 label:  positive\n",
            "idx:  0 label:  negative\n",
            "idx:  1 label:  positive\n",
            "idx:  0 label:  negative\n",
            "idx:  1 label:  positive\n",
            "idx:  0 label:  negative\n",
            "idx:  1 label:  positive\n",
            "idx:  0 label:  negative\n",
            "idx:  1 label:  positive\n",
            "idx:  0 label:  negative\n",
            "idx:  1 label:  positive\n",
            "idx:  0 label:  negative\n",
            "idx:  1 label:  positive\n",
            "idx:  0 label:  negative\n",
            "idx:  1 label:  positive\n",
            "idx:  0 label:  negative\n",
            "idx:  1 label:  positive\n",
            "idx:  0 label:  negative\n",
            "idx:  1 label:  positive\n",
            "idx:  0 label:  negative\n",
            "idx:  1 label:  positive\n",
            "idx:  0 label:  negative\n",
            "idx:  1 label:  positive\n",
            "idx:  0 label:  negative\n",
            "idx:  1 label:  positive\n",
            "idx:  0 label:  negative\n",
            "idx:  1 label:  positive\n",
            "idx:  0 label:  negative\n",
            "idx:  1 label:  positive\n",
            "idx:  0 label:  negative\n",
            "idx:  1 label:  positive\n",
            "idx:  0 label:  negative\n",
            "idx:  1 label:  positive\n",
            "idx:  0 label:  negative\n",
            "idx:  1 label:  positive\n",
            "idx:  0 label:  negative\n",
            "idx:  1 label:  positive\n",
            "idx:  0 label:  negative\n",
            "idx:  1 label:  positive\n",
            "idx:  0 label:  negative\n",
            "idx:  1 label:  positive\n",
            "idx:  0 label:  negative\n",
            "idx:  1 label:  positive\n",
            "idx:  0 label:  negative\n",
            "idx:  1 label:  positive\n",
            "idx:  0 label:  negative\n",
            "idx:  1 label:  positive\n",
            "idx:  0 label:  negative\n",
            "idx:  1 label:  positive\n",
            "idx:  0 label:  negative\n",
            "idx:  1 label:  positive\n",
            "idx:  0 label:  negative\n",
            "idx:  1 label:  positive\n",
            "idx:  0 label:  negative\n",
            "idx:  1 label:  positive\n",
            "idx:  0 label:  negative\n",
            "idx:  1 label:  positive\n",
            "idx:  0 label:  negative\n",
            "idx:  1 label:  positive\n",
            "idx:  0 label:  negative\n",
            "idx:  1 label:  positive\n",
            "idx:  0 label:  negative\n",
            "idx:  1 label:  positive\n",
            "idx:  0 label:  negative\n",
            "idx:  1 label:  positive\n",
            "idx:  0 label:  negative\n",
            "idx:  1 label:  positive\n",
            "idx:  0 label:  negative\n",
            "idx:  1 label:  positive\n",
            "idx:  0 label:  negative\n",
            "idx:  1 label:  positive\n",
            "idx:  0 label:  negative\n",
            "idx:  1 label:  positive\n",
            "idx:  0 label:  negative\n",
            "idx:  1 label:  positive\n",
            "idx:  0 label:  negative\n",
            "idx:  1 label:  positive\n",
            "idx:  0 label:  negative\n",
            "idx:  1 label:  positive\n",
            "idx:  0 label:  negative\n",
            "idx:  1 label:  positive\n",
            "idx:  0 label:  negative\n",
            "idx:  1 label:  positive\n",
            "idx:  0 label:  negative\n",
            "idx:  1 label:  positive\n",
            "idx:  0 label:  negative\n",
            "idx:  1 label:  positive\n",
            "idx:  0 label:  negative\n",
            "idx:  1 label:  positive\n",
            "idx:  0 label:  negative\n",
            "idx:  1 label:  positive\n",
            "idx:  0 label:  negative\n",
            "idx:  1 label:  positive\n",
            "idx:  0 label:  negative\n",
            "idx:  1 label:  positive\n",
            "idx:  0 label:  negative\n",
            "idx:  1 label:  positive\n",
            "idx:  0 label:  negative\n",
            "idx:  1 label:  positive\n",
            "idx:  0 label:  negative\n",
            "idx:  1 label:  positive\n",
            "idx:  0 label:  negative\n",
            "idx:  1 label:  positive\n",
            "idx:  0 label:  negative\n",
            "idx:  1 label:  positive\n",
            "idx:  0 label:  negative\n",
            "idx:  1 label:  positive\n",
            "idx:  0 label:  negative\n",
            "idx:  1 label:  positive\n",
            "idx:  0 label:  negative\n",
            "idx:  1 label:  positive\n",
            "idx:  0 label:  negative\n",
            "idx:  1 label:  positive\n",
            "idx:  0 label:  negative\n",
            "idx:  1 label:  positive\n",
            "idx:  0 label:  negative\n",
            "idx:  1 label:  positive\n",
            "idx:  0 label:  negative\n",
            "idx:  1 label:  positive\n",
            "idx:  0 label:  negative\n",
            "idx:  1 label:  positive\n",
            "idx:  0 label:  negative\n",
            "idx:  1 label:  positive\n",
            "idx:  0 label:  negative\n",
            "idx:  1 label:  positive\n",
            "idx:  0 label:  negative\n",
            "idx:  1 label:  positive\n",
            "idx:  0 label:  negative\n",
            "idx:  1 label:  positive\n",
            "idx:  0 label:  negative\n",
            "idx:  1 label:  positive\n",
            "idx:  0 label:  negative\n",
            "idx:  1 label:  positive\n",
            "idx:  0 label:  negative\n",
            "idx:  1 label:  positive\n",
            "idx:  0 label:  negative\n",
            "idx:  1 label:  positive\n",
            "idx:  0 label:  negative\n",
            "idx:  1 label:  positive\n",
            "idx:  0 label:  negative\n",
            "idx:  1 label:  positive\n",
            "idx:  0 label:  negative\n",
            "idx:  1 label:  positive\n",
            "idx:  0 label:  negative\n",
            "idx:  1 label:  positive\n",
            "idx:  0 label:  negative\n",
            "idx:  1 label:  positive\n",
            "idx:  0 label:  negative\n",
            "idx:  1 label:  positive\n",
            "idx:  0 label:  negative\n",
            "idx:  1 label:  positive\n",
            "idx:  0 label:  negative\n",
            "idx:  1 label:  positive\n",
            "idx:  0 label:  negative\n",
            "idx:  1 label:  positive\n",
            "idx:  0 label:  negative\n",
            "idx:  1 label:  positive\n",
            "idx:  0 label:  negative\n",
            "idx:  1 label:  positive\n",
            "idx:  0 label:  negative\n",
            "idx:  1 label:  positive\n",
            "idx:  0 label:  negative\n",
            "idx:  1 label:  positive\n",
            "idx:  0 label:  negative\n",
            "idx:  1 label:  positive\n",
            "idx:  0 label:  negative\n",
            "idx:  1 label:  positive\n",
            "idx:  0 label:  negative\n",
            "idx:  1 label:  positive\n",
            "idx:  0 label:  negative\n",
            "idx:  1 label:  positive\n",
            "idx:  0 label:  negative\n",
            "idx:  1 label:  positive\n",
            "idx:  0 label:  negative\n",
            "idx:  1 label:  positive\n",
            "idx:  0 label:  negative\n",
            "idx:  1 label:  positive\n",
            "idx:  0 label:  negative\n",
            "idx:  1 label:  positive\n",
            "idx:  0 label:  negative\n",
            "idx:  1 label:  positive\n",
            "idx:  0 label:  negative\n",
            "idx:  1 label:  positive\n",
            "idx:  0 label:  negative\n",
            "idx:  1 label:  positive\n",
            "idx:  0 label:  negative\n",
            "idx:  1 label:  positive\n",
            "idx:  0 label:  negative\n",
            "idx:  1 label:  positive\n",
            "idx:  0 label:  negative\n",
            "idx:  1 label:  positive\n",
            "idx:  0 label:  negative\n",
            "idx:  1 label:  positive\n",
            "idx:  0 label:  negative\n",
            "idx:  1 label:  positive\n",
            "idx:  0 label:  negative\n",
            "idx:  1 label:  positive\n",
            "idx:  0 label:  negative\n",
            "idx:  1 label:  positive\n",
            "idx:  0 label:  negative\n",
            "idx:  1 label:  positive\n",
            "idx:  0 label:  negative\n",
            "idx:  1 label:  positive\n",
            "idx:  0 label:  negative\n",
            "idx:  1 label:  positive\n",
            "idx:  0 label:  negative\n",
            "idx:  1 label:  positive\n",
            "idx:  0 label:  negative\n",
            "idx:  1 label:  positive\n",
            "idx:  0 label:  negative\n",
            "idx:  1 label:  positive\n",
            "idx:  0 label:  negative\n",
            "idx:  1 label:  positive\n",
            "idx:  0 label:  negative\n",
            "idx:  1 label:  positive\n",
            "idx:  0 label:  negative\n",
            "idx:  1 label:  positive\n",
            "idx:  0 label:  negative\n",
            "idx:  1 label:  positive\n",
            "idx:  0 label:  negative\n",
            "idx:  1 label:  positive\n",
            "idx:  0 label:  negative\n",
            "idx:  1 label:  positive\n",
            "idx:  0 label:  negative\n",
            "idx:  1 label:  positive\n",
            "idx:  0 label:  negative\n",
            "idx:  1 label:  positive\n",
            "idx:  0 label:  negative\n",
            "idx:  1 label:  positive\n",
            "idx:  0 label:  negative\n",
            "idx:  1 label:  positive\n",
            "idx:  0 label:  negative\n",
            "idx:  1 label:  positive\n",
            "idx:  0 label:  negative\n",
            "idx:  1 label:  positive\n",
            "idx:  0 label:  negative\n",
            "idx:  1 label:  positive\n",
            "idx:  0 label:  negative\n",
            "idx:  1 label:  positive\n",
            "idx:  0 label:  negative\n",
            "idx:  1 label:  positive\n",
            "idx:  0 label:  negative\n",
            "idx:  1 label:  positive\n",
            "idx:  0 label:  negative\n",
            "idx:  1 label:  positive\n",
            "idx:  0 label:  negative\n",
            "idx:  1 label:  positive\n",
            "idx:  0 label:  negative\n",
            "idx:  1 label:  positive\n",
            "idx:  0 label:  negative\n",
            "idx:  1 label:  positive\n",
            "idx:  0 label:  negative\n",
            "idx:  1 label:  positive\n",
            "idx:  0 label:  negative\n",
            "idx:  1 label:  positive\n",
            "idx:  0 label:  negative\n",
            "idx:  1 label:  positive\n",
            "idx:  0 label:  negative\n",
            "idx:  1 label:  positive\n",
            "idx:  0 label:  negative\n",
            "idx:  1 label:  positive\n",
            "idx:  0 label:  negative\n",
            "idx:  1 label:  positive\n",
            "idx:  0 label:  negative\n",
            "idx:  1 label:  positive\n",
            "idx:  0 label:  negative\n",
            "idx:  1 label:  positive\n",
            "idx:  0 label:  negative\n",
            "idx:  1 label:  positive\n",
            "idx:  0 label:  negative\n",
            "idx:  1 label:  positive\n",
            "idx:  0 label:  negative\n",
            "idx:  1 label:  positive\n",
            "idx:  0 label:  negative\n",
            "idx:  1 label:  positive\n",
            "idx:  0 label:  negative\n",
            "idx:  1 label:  positive\n",
            "idx:  0 label:  negative\n",
            "idx:  1 label:  positive\n",
            "idx:  0 label:  negative\n",
            "idx:  1 label:  positive\n"
          ]
        },
        {
          "output_type": "display_data",
          "data": {
            "text/plain": [
              "Map:   0%|          | 0/60791 [00:00<?, ? examples/s]"
            ],
            "application/vnd.jupyter.widget-view+json": {
              "version_major": 2,
              "version_minor": 0,
              "model_id": "c26462ecba6e4029af7e06e8561469b4"
            }
          },
          "metadata": {}
        },
        {
          "output_type": "stream",
          "name": "stdout",
          "text": [
            "idx:  0 label:  negative\n",
            "idx:  1 label:  positive\n",
            "idx:  0 label:  negative\n",
            "idx:  1 label:  positive\n",
            "idx:  0 label:  negative\n",
            "idx:  1 label:  positive\n",
            "idx:  0 label:  negative\n",
            "idx:  1 label:  positive\n",
            "idx:  0 label:  negative\n",
            "idx:  1 label:  positive\n",
            "idx:  0 label:  negative\n",
            "idx:  1 label:  positive\n",
            "idx:  0 label:  negative\n",
            "idx:  1 label:  positive\n",
            "idx:  0 label:  negative\n",
            "idx:  1 label:  positive\n",
            "idx:  0 label:  negative\n",
            "idx:  1 label:  positive\n",
            "idx:  0 label:  negative\n",
            "idx:  1 label:  positive\n",
            "idx:  0 label:  negative\n",
            "idx:  1 label:  positive\n",
            "idx:  0 label:  negative\n",
            "idx:  1 label:  positive\n",
            "idx:  0 label:  negative\n",
            "idx:  1 label:  positive\n",
            "idx:  0 label:  negative\n",
            "idx:  1 label:  positive\n",
            "idx:  0 label:  negative\n",
            "idx:  1 label:  positive\n",
            "idx:  0 label:  negative\n",
            "idx:  1 label:  positive\n",
            "idx:  0 label:  negative\n",
            "idx:  1 label:  positive\n",
            "idx:  0 label:  negative\n",
            "idx:  1 label:  positive\n",
            "idx:  0 label:  negative\n",
            "idx:  1 label:  positive\n",
            "idx:  0 label:  negative\n",
            "idx:  1 label:  positive\n",
            "idx:  0 label:  negative\n",
            "idx:  1 label:  positive\n",
            "idx:  0 label:  negative\n",
            "idx:  1 label:  positive\n",
            "idx:  0 label:  negative\n",
            "idx:  1 label:  positive\n",
            "idx:  0 label:  negative\n",
            "idx:  1 label:  positive\n",
            "idx:  0 label:  negative\n",
            "idx:  1 label:  positive\n",
            "idx:  0 label:  negative\n",
            "idx:  1 label:  positive\n",
            "idx:  0 label:  negative\n",
            "idx:  1 label:  positive\n",
            "idx:  0 label:  negative\n",
            "idx:  1 label:  positive\n",
            "idx:  0 label:  negative\n",
            "idx:  1 label:  positive\n",
            "idx:  0 label:  negative\n",
            "idx:  1 label:  positive\n",
            "idx:  0 label:  negative\n",
            "idx:  1 label:  positive\n",
            "idx:  0 label:  negative\n",
            "idx:  1 label:  positive\n",
            "idx:  0 label:  negative\n",
            "idx:  1 label:  positive\n",
            "idx:  0 label:  negative\n",
            "idx:  1 label:  positive\n",
            "idx:  0 label:  negative\n",
            "idx:  1 label:  positive\n",
            "idx:  0 label:  negative\n",
            "idx:  1 label:  positive\n",
            "idx:  0 label:  negative\n",
            "idx:  1 label:  positive\n",
            "idx:  0 label:  negative\n",
            "idx:  1 label:  positive\n",
            "idx:  0 label:  negative\n",
            "idx:  1 label:  positive\n",
            "idx:  0 label:  negative\n",
            "idx:  1 label:  positive\n",
            "idx:  0 label:  negative\n",
            "idx:  1 label:  positive\n",
            "idx:  0 label:  negative\n",
            "idx:  1 label:  positive\n",
            "idx:  0 label:  negative\n",
            "idx:  1 label:  positive\n",
            "idx:  0 label:  negative\n",
            "idx:  1 label:  positive\n",
            "idx:  0 label:  negative\n",
            "idx:  1 label:  positive\n",
            "idx:  0 label:  negative\n",
            "idx:  1 label:  positive\n",
            "idx:  0 label:  negative\n",
            "idx:  1 label:  positive\n",
            "idx:  0 label:  negative\n",
            "idx:  1 label:  positive\n",
            "idx:  0 label:  negative\n",
            "idx:  1 label:  positive\n",
            "idx:  0 label:  negative\n",
            "idx:  1 label:  positive\n",
            "idx:  0 label:  negative\n",
            "idx:  1 label:  positive\n",
            "idx:  0 label:  negative\n",
            "idx:  1 label:  positive\n",
            "idx:  0 label:  negative\n",
            "idx:  1 label:  positive\n",
            "idx:  0 label:  negative\n",
            "idx:  1 label:  positive\n",
            "idx:  0 label:  negative\n",
            "idx:  1 label:  positive\n",
            "idx:  0 label:  negative\n",
            "idx:  1 label:  positive\n",
            "idx:  0 label:  negative\n",
            "idx:  1 label:  positive\n",
            "idx:  0 label:  negative\n",
            "idx:  1 label:  positive\n",
            "idx:  0 label:  negative\n",
            "idx:  1 label:  positive\n",
            "idx:  0 label:  negative\n",
            "idx:  1 label:  positive\n",
            "idx:  0 label:  negative\n",
            "idx:  1 label:  positive\n"
          ]
        },
        {
          "output_type": "display_data",
          "data": {
            "text/plain": [
              "Map:   0%|          | 0/60791 [00:00<?, ? examples/s]"
            ],
            "application/vnd.jupyter.widget-view+json": {
              "version_major": 2,
              "version_minor": 0,
              "model_id": "2f8bf7b10a4448b998cb1b87ba0e8b03"
            }
          },
          "metadata": {}
        },
        {
          "output_type": "stream",
          "name": "stdout",
          "text": [
            "idx:  0 label:  negative\n",
            "idx:  1 label:  positive\n",
            "idx:  0 label:  negative\n",
            "idx:  1 label:  positive\n",
            "idx:  0 label:  negative\n",
            "idx:  1 label:  positive\n",
            "idx:  0 label:  negative\n",
            "idx:  1 label:  positive\n",
            "idx:  0 label:  negative\n",
            "idx:  1 label:  positive\n",
            "idx:  0 label:  negative\n",
            "idx:  1 label:  positive\n",
            "idx:  0 label:  negative\n",
            "idx:  1 label:  positive\n",
            "idx:  0 label:  negative\n",
            "idx:  1 label:  positive\n",
            "idx:  0 label:  negative\n",
            "idx:  1 label:  positive\n",
            "idx:  0 label:  negative\n",
            "idx:  1 label:  positive\n",
            "idx:  0 label:  negative\n",
            "idx:  1 label:  positive\n",
            "idx:  0 label:  negative\n",
            "idx:  1 label:  positive\n",
            "idx:  0 label:  negative\n",
            "idx:  1 label:  positive\n",
            "idx:  0 label:  negative\n",
            "idx:  1 label:  positive\n",
            "idx:  0 label:  negative\n",
            "idx:  1 label:  positive\n",
            "idx:  0 label:  negative\n",
            "idx:  1 label:  positive\n",
            "idx:  0 label:  negative\n",
            "idx:  1 label:  positive\n",
            "idx:  0 label:  negative\n",
            "idx:  1 label:  positive\n",
            "idx:  0 label:  negative\n",
            "idx:  1 label:  positive\n",
            "idx:  0 label:  negative\n",
            "idx:  1 label:  positive\n",
            "idx:  0 label:  negative\n",
            "idx:  1 label:  positive\n",
            "idx:  0 label:  negative\n",
            "idx:  1 label:  positive\n",
            "idx:  0 label:  negative\n",
            "idx:  1 label:  positive\n",
            "idx:  0 label:  negative\n",
            "idx:  1 label:  positive\n",
            "idx:  0 label:  negative\n",
            "idx:  1 label:  positive\n",
            "idx:  0 label:  negative\n",
            "idx:  1 label:  positive\n",
            "idx:  0 label:  negative\n",
            "idx:  1 label:  positive\n",
            "idx:  0 label:  negative\n",
            "idx:  1 label:  positive\n",
            "idx:  0 label:  negative\n",
            "idx:  1 label:  positive\n",
            "idx:  0 label:  negative\n",
            "idx:  1 label:  positive\n",
            "idx:  0 label:  negative\n",
            "idx:  1 label:  positive\n",
            "idx:  0 label:  negative\n",
            "idx:  1 label:  positive\n",
            "idx:  0 label:  negative\n",
            "idx:  1 label:  positive\n",
            "idx:  0 label:  negative\n",
            "idx:  1 label:  positive\n",
            "idx:  0 label:  negative\n",
            "idx:  1 label:  positive\n",
            "idx:  0 label:  negative\n",
            "idx:  1 label:  positive\n",
            "idx:  0 label:  negative\n",
            "idx:  1 label:  positive\n",
            "idx:  0 label:  negative\n",
            "idx:  1 label:  positive\n",
            "idx:  0 label:  negative\n",
            "idx:  1 label:  positive\n",
            "idx:  0 label:  negative\n",
            "idx:  1 label:  positive\n",
            "idx:  0 label:  negative\n",
            "idx:  1 label:  positive\n",
            "idx:  0 label:  negative\n",
            "idx:  1 label:  positive\n",
            "idx:  0 label:  negative\n",
            "idx:  1 label:  positive\n",
            "idx:  0 label:  negative\n",
            "idx:  1 label:  positive\n",
            "idx:  0 label:  negative\n",
            "idx:  1 label:  positive\n",
            "idx:  0 label:  negative\n",
            "idx:  1 label:  positive\n",
            "idx:  0 label:  negative\n",
            "idx:  1 label:  positive\n",
            "idx:  0 label:  negative\n",
            "idx:  1 label:  positive\n",
            "idx:  0 label:  negative\n",
            "idx:  1 label:  positive\n",
            "idx:  0 label:  negative\n",
            "idx:  1 label:  positive\n",
            "idx:  0 label:  negative\n",
            "idx:  1 label:  positive\n",
            "idx:  0 label:  negative\n",
            "idx:  1 label:  positive\n",
            "idx:  0 label:  negative\n",
            "idx:  1 label:  positive\n",
            "idx:  0 label:  negative\n",
            "idx:  1 label:  positive\n",
            "idx:  0 label:  negative\n",
            "idx:  1 label:  positive\n",
            "idx:  0 label:  negative\n",
            "idx:  1 label:  positive\n",
            "idx:  0 label:  negative\n",
            "idx:  1 label:  positive\n",
            "idx:  0 label:  negative\n",
            "idx:  1 label:  positive\n",
            "idx:  0 label:  negative\n",
            "idx:  1 label:  positive\n",
            "idx:  0 label:  negative\n",
            "idx:  1 label:  positive\n",
            "idx:  0 label:  negative\n",
            "idx:  1 label:  positive\n"
          ]
        }
      ]
    },
    {
      "cell_type": "code",
      "metadata": {
        "id": "0enAb0W9o25W",
        "colab": {
          "base_uri": "https://localhost:8080/"
        },
        "executionInfo": {
          "status": "ok",
          "timestamp": 1709588442750,
          "user_tz": 480,
          "elapsed": 27,
          "user": {
            "displayName": "",
            "userId": ""
          }
        },
        "outputId": "18d75edd-a27c-41bb-b7e9-609768cc21b0"
      },
      "source": [
        "example = encoded_dataset['train'][0]\n",
        "print(example.keys())"
      ],
      "execution_count": null,
      "outputs": [
        {
          "output_type": "stream",
          "name": "stdout",
          "text": [
            "dict_keys(['input_ids', 'token_type_ids', 'attention_mask', 'labels'])\n"
          ]
        }
      ]
    },
    {
      "cell_type": "code",
      "metadata": {
        "id": "D0McCtJ8HRJY",
        "colab": {
          "base_uri": "https://localhost:8080/",
          "height": 143
        },
        "executionInfo": {
          "status": "ok",
          "timestamp": 1709588445030,
          "user_tz": 480,
          "elapsed": 2302,
          "user": {
            "displayName": "",
            "userId": ""
          }
        },
        "outputId": "2b470110-766d-43d5-eb17-b7b14d3ea9b8"
      },
      "source": [
        "tokenizer.decode(example['input_ids'])"
      ],
      "execution_count": null,
      "outputs": [
        {
          "output_type": "execute_result",
          "data": {
            "text/plain": [
              "\"[CLS] why can't you just be a man or a woman? can't you see that's the way things are supposed to be? [SEP] [PAD] [PAD] [PAD] [PAD] [PAD] [PAD] [PAD] [PAD] [PAD] [PAD] [PAD] [PAD] [PAD] [PAD] [PAD] [PAD] [PAD] [PAD] [PAD] [PAD] [PAD] [PAD] [PAD] [PAD] [PAD] [PAD] [PAD] [PAD] [PAD] [PAD] [PAD] [PAD] [PAD] [PAD] [PAD] [PAD] [PAD] [PAD] [PAD] [PAD] [PAD] [PAD] [PAD] [PAD] [PAD] [PAD] [PAD] [PAD] [PAD] [PAD] [PAD] [PAD] [PAD] [PAD] [PAD] [PAD] [PAD] [PAD] [PAD] [PAD] [PAD] [PAD] [PAD] [PAD] [PAD] [PAD] [PAD] [PAD] [PAD] [PAD] [PAD] [PAD] [PAD] [PAD] [PAD] [PAD] [PAD] [PAD] [PAD] [PAD] [PAD] [PAD] [PAD] [PAD] [PAD] [PAD] [PAD] [PAD] [PAD] [PAD] [PAD] [PAD] [PAD] [PAD] [PAD] [PAD] [PAD] [PAD] [PAD] [PAD] [PAD] [PAD] [PAD] [PAD] [PAD] [PAD] [PAD] [PAD] [PAD] [PAD] [PAD] [PAD] [PAD] [PAD] [PAD] [PAD] [PAD] [PAD] [PAD] [PAD] [PAD] [PAD] [PAD] [PAD] [PAD] [PAD] [PAD] [PAD] [PAD] [PAD] [PAD] [PAD] [PAD] [PAD] [PAD] [PAD] [PAD] [PAD] [PAD] [PAD] [PAD] [PAD] [PAD] [PAD] [PAD] [PAD] [PAD] [PAD] [PAD] [PAD] [PAD] [PAD] [PAD] [PAD] [PAD] [PAD] [PAD] [PAD] [PAD] [PAD] [PAD] [PAD] [PAD] [PAD] [PAD] [PAD] [PAD] [PAD] [PAD] [PAD] [PAD] [PAD] [PAD] [PAD] [PAD] [PAD] [PAD] [PAD] [PAD] [PAD] [PAD] [PAD] [PAD] [PAD] [PAD] [PAD] [PAD] [PAD] [PAD] [PAD] [PAD] [PAD] [PAD] [PAD] [PAD] [PAD] [PAD] [PAD] [PAD] [PAD] [PAD] [PAD] [PAD] [PAD] [PAD] [PAD] [PAD] [PAD] [PAD] [PAD] [PAD] [PAD] [PAD] [PAD] [PAD] [PAD] [PAD] [PAD] [PAD] [PAD] [PAD] [PAD] [PAD] [PAD] [PAD] [PAD] [PAD] [PAD] [PAD] [PAD] [PAD] [PAD] [PAD] [PAD] [PAD] [PAD] [PAD] [PAD] [PAD] [PAD] [PAD] [PAD] [PAD] [PAD] [PAD] [PAD] [PAD] [PAD] [PAD] [PAD] [PAD] [PAD] [PAD] [PAD] [PAD] [PAD] [PAD] [PAD] [PAD] [PAD] [PAD] [PAD] [PAD] [PAD] [PAD] [PAD] [PAD] [PAD] [PAD] [PAD] [PAD] [PAD] [PAD] [PAD] [PAD] [PAD] [PAD] [PAD] [PAD] [PAD] [PAD] [PAD] [PAD] [PAD] [PAD] [PAD] [PAD] [PAD] [PAD] [PAD] [PAD] [PAD] [PAD] [PAD] [PAD] [PAD] [PAD] [PAD] [PAD] [PAD] [PAD] [PAD] [PAD] [PAD] [PAD] [PAD] [PAD] [PAD] [PAD] [PAD] [PAD] [PAD] [PAD] [PAD] [PAD] [PAD] [PAD] [PAD] [PAD] [PAD] [PAD] [PAD] [PAD] [PAD] [PAD] [PAD] [PAD] [PAD] [PAD] [PAD] [PAD] [PAD] [PAD] [PAD] [PAD] [PAD] [PAD] [PAD] [PAD] [PAD] [PAD] [PAD] [PAD] [PAD] [PAD] [PAD] [PAD] [PAD] [PAD] [PAD] [PAD] [PAD] [PAD] [PAD] [PAD] [PAD] [PAD] [PAD] [PAD] [PAD] [PAD] [PAD] [PAD] [PAD] [PAD] [PAD] [PAD] [PAD] [PAD] [PAD] [PAD] [PAD] [PAD] [PAD] [PAD] [PAD] [PAD] [PAD] [PAD] [PAD] [PAD] [PAD] [PAD] [PAD] [PAD] [PAD] [PAD] [PAD] [PAD] [PAD] [PAD] [PAD] [PAD] [PAD] [PAD] [PAD] [PAD] [PAD] [PAD] [PAD] [PAD] [PAD] [PAD] [PAD] [PAD] [PAD] [PAD] [PAD] [PAD] [PAD] [PAD] [PAD] [PAD] [PAD] [PAD] [PAD] [PAD] [PAD] [PAD] [PAD] [PAD] [PAD] [PAD] [PAD] [PAD] [PAD] [PAD] [PAD] [PAD] [PAD] [PAD] [PAD] [PAD] [PAD] [PAD] [PAD] [PAD] [PAD] [PAD] [PAD] [PAD] [PAD] [PAD] [PAD] [PAD] [PAD] [PAD] [PAD] [PAD] [PAD] [PAD] [PAD] [PAD] [PAD] [PAD] [PAD] [PAD] [PAD] [PAD] [PAD] [PAD] [PAD] [PAD] [PAD] [PAD] [PAD] [PAD] [PAD] [PAD] [PAD] [PAD] [PAD] [PAD] [PAD] [PAD] [PAD] [PAD] [PAD] [PAD] [PAD] [PAD]\""
            ],
            "application/vnd.google.colaboratory.intrinsic+json": {
              "type": "string"
            }
          },
          "metadata": {},
          "execution_count": 38
        }
      ]
    },
    {
      "cell_type": "code",
      "metadata": {
        "id": "VdIvj6WjHeZQ",
        "colab": {
          "base_uri": "https://localhost:8080/"
        },
        "executionInfo": {
          "status": "ok",
          "timestamp": 1709588445030,
          "user_tz": 480,
          "elapsed": 10,
          "user": {
            "displayName": "",
            "userId": ""
          }
        },
        "outputId": "9aaf6402-c315-4383-8657-35668d3ba60d"
      },
      "source": [
        "example['labels']"
      ],
      "execution_count": null,
      "outputs": [
        {
          "output_type": "execute_result",
          "data": {
            "text/plain": [
              "[0.0, 1.0]"
            ]
          },
          "metadata": {},
          "execution_count": 39
        }
      ]
    },
    {
      "cell_type": "code",
      "metadata": {
        "id": "q4Dx95t2o6N9",
        "colab": {
          "base_uri": "https://localhost:8080/"
        },
        "executionInfo": {
          "status": "ok",
          "timestamp": 1709588445030,
          "user_tz": 480,
          "elapsed": 9,
          "user": {
            "displayName": "",
            "userId": ""
          }
        },
        "outputId": "4850bb47-3f84-453d-a00a-072253a3ba6f"
      },
      "source": [
        "[id2label[idx] for idx, label in enumerate(example['labels']) if label == 0.0]"
      ],
      "execution_count": null,
      "outputs": [
        {
          "output_type": "execute_result",
          "data": {
            "text/plain": [
              "['negative']"
            ]
          },
          "metadata": {},
          "execution_count": 40
        }
      ]
    },
    {
      "cell_type": "markdown",
      "metadata": {
        "id": "HgpKXDfvKBxn"
      },
      "source": [
        "Finally, we set the format of our data to PyTorch tensors. This will turn the training, validation and test sets into standard PyTorch [datasets](https://pytorch.org/docs/stable/data.html)."
      ]
    },
    {
      "cell_type": "code",
      "metadata": {
        "id": "Lk6Cq9duKBkA"
      },
      "source": [
        "encoded_dataset.set_format(\"torch\")"
      ],
      "execution_count": null,
      "outputs": []
    },
    {
      "cell_type": "markdown",
      "metadata": {
        "id": "w5qSmCgWefWs"
      },
      "source": [
        "## Define model\n",
        "\n",
        "Here we define a model that includes a pre-trained base (i.e. the weights from bert-base-uncased) are loaded, with a random initialized classification head (linear layer) on top. One should fine-tune this head, together with the pre-trained base on a labeled dataset.\n",
        "\n",
        "This is also printed by the warning.\n",
        "\n",
        "We set the `problem_type` to be \"multi_label_classification\", as this will make sure the appropriate loss function is used (namely [`BCEWithLogitsLoss`](https://pytorch.org/docs/stable/generated/torch.nn.BCEWithLogitsLoss.html)). We also make sure the output layer has `len(labels)` output neurons, and we set the id2label and label2id mappings."
      ]
    },
    {
      "cell_type": "code",
      "metadata": {
        "id": "6XPL1Z_RegBF",
        "colab": {
          "base_uri": "https://localhost:8080/"
        },
        "executionInfo": {
          "status": "ok",
          "timestamp": 1709588446881,
          "user_tz": 480,
          "elapsed": 1858,
          "user": {
            "displayName": "",
            "userId": ""
          }
        },
        "outputId": "259dd642-0529-4368-f113-069eb2939f6d"
      },
      "source": [
        "from transformers import AutoModelForSequenceClassification\n",
        "print(len(labels))\n",
        "\n",
        "model = AutoModelForSequenceClassification.from_pretrained(\"bert-base-uncased\",\n",
        "                                                           problem_type=\"multi_label_classification\",\n",
        "                                                           num_labels=len(labels),\n",
        "                                                           id2label=id2label,\n",
        "                                                           label2id=label2id)"
      ],
      "execution_count": null,
      "outputs": [
        {
          "output_type": "stream",
          "name": "stdout",
          "text": [
            "2\n"
          ]
        },
        {
          "output_type": "stream",
          "name": "stderr",
          "text": [
            "Some weights of BertForSequenceClassification were not initialized from the model checkpoint at bert-base-uncased and are newly initialized: ['classifier.bias', 'classifier.weight']\n",
            "You should probably TRAIN this model on a down-stream task to be able to use it for predictions and inference.\n"
          ]
        }
      ]
    },
    {
      "cell_type": "markdown",
      "metadata": {
        "id": "mjJGEXShp7te"
      },
      "source": [
        "## Train the model!\n",
        "\n",
        "We are going to train the model using HuggingFace's Trainer API. This requires us to define 2 things:\n",
        "\n",
        "* `TrainingArguments`, which specify training hyperparameters. All options can be found in the [docs](https://huggingface.co/transformers/main_classes/trainer.html#trainingarguments). Below, we for example specify that we want to evaluate after every epoch of training, we would like to save the model every epoch, we set the learning rate, the batch size to use for training/evaluation, how many epochs to train for, and so on.\n",
        "* a `Trainer` object (docs can be found [here](https://huggingface.co/transformers/main_classes/trainer.html#id1))."
      ]
    },
    {
      "cell_type": "code",
      "metadata": {
        "id": "K5a8_vIKqr7P"
      },
      "source": [
        "\n",
        "\n",
        "batch_size = 16\n",
        "metric_name = \"f1\""
      ],
      "execution_count": null,
      "outputs": []
    },
    {
      "cell_type": "code",
      "source": [
        "# !pip install accelerate -U"
      ],
      "metadata": {
        "id": "Qm0nr6F4G2bV"
      },
      "execution_count": null,
      "outputs": []
    },
    {
      "cell_type": "code",
      "source": [
        "# !pip install transformers[torch]"
      ],
      "metadata": {
        "id": "XynrSQNUG78A"
      },
      "execution_count": null,
      "outputs": []
    },
    {
      "cell_type": "code",
      "source": [
        "!pip show transformers\n",
        "!pip show accelerate\n"
      ],
      "metadata": {
        "colab": {
          "base_uri": "https://localhost:8080/"
        },
        "id": "0a2wrrrQHpOV",
        "executionInfo": {
          "status": "ok",
          "timestamp": 1709588458408,
          "user_tz": 480,
          "elapsed": 11535,
          "user": {
            "displayName": "",
            "userId": ""
          }
        },
        "outputId": "0fb35417-4112-48f4-dcb9-a3e6b2169c75"
      },
      "execution_count": null,
      "outputs": [
        {
          "output_type": "stream",
          "name": "stdout",
          "text": [
            "Name: transformers\n",
            "Version: 4.35.2\n",
            "Summary: State-of-the-art Machine Learning for JAX, PyTorch and TensorFlow\n",
            "Home-page: https://github.com/huggingface/transformers\n",
            "Author: The Hugging Face team (past and future) with the help of all our contributors (https://github.com/huggingface/transformers/graphs/contributors)\n",
            "Author-email: transformers@huggingface.co\n",
            "License: Apache 2.0 License\n",
            "Location: /usr/local/lib/python3.10/dist-packages\n",
            "Requires: filelock, huggingface-hub, numpy, packaging, pyyaml, regex, requests, safetensors, tokenizers, tqdm\n",
            "Required-by: \n",
            "Name: accelerate\n",
            "Version: 0.27.2\n",
            "Summary: Accelerate\n",
            "Home-page: https://github.com/huggingface/accelerate\n",
            "Author: The HuggingFace team\n",
            "Author-email: sylvain@huggingface.co\n",
            "License: Apache\n",
            "Location: /usr/local/lib/python3.10/dist-packages\n",
            "Requires: huggingface-hub, numpy, packaging, psutil, pyyaml, safetensors, torch\n",
            "Required-by: \n"
          ]
        }
      ]
    },
    {
      "cell_type": "code",
      "source": [
        "import accelerate\n",
        "\n",
        "accelerate.__version__"
      ],
      "metadata": {
        "colab": {
          "base_uri": "https://localhost:8080/",
          "height": 35
        },
        "id": "OUC-bcihIAoZ",
        "executionInfo": {
          "status": "ok",
          "timestamp": 1709588458409,
          "user_tz": 480,
          "elapsed": 51,
          "user": {
            "displayName": "",
            "userId": ""
          }
        },
        "outputId": "d0dd244f-1ab1-4b1f-b1bb-7722b3bd5c72"
      },
      "execution_count": null,
      "outputs": [
        {
          "output_type": "execute_result",
          "data": {
            "text/plain": [
              "'0.27.2'"
            ],
            "application/vnd.google.colaboratory.intrinsic+json": {
              "type": "string"
            }
          },
          "metadata": {},
          "execution_count": 47
        }
      ]
    },
    {
      "cell_type": "code",
      "metadata": {
        "id": "dR2GmpvDqbuZ"
      },
      "source": [
        "# !pip install accelerate -U\n",
        "from transformers import TrainingArguments, Trainer\n",
        "\n",
        "args = TrainingArguments(\n",
        "    f\"bert-finetuned\",\n",
        "    evaluation_strategy = \"epoch\",\n",
        "    save_strategy = \"epoch\",\n",
        "    learning_rate=2e-5,\n",
        "    per_device_train_batch_size=batch_size,\n",
        "    per_device_eval_batch_size=batch_size,\n",
        "    num_train_epochs=3,\n",
        "    weight_decay=0.01,\n",
        "    load_best_model_at_end=True,\n",
        "    metric_for_best_model=metric_name,\n",
        "    # gradient_accumulation_steps=2,\n",
        "    logging_strategy = \"epoch\",\n",
        "    logging_steps = 0.1\n",
        "    #push_to_hub=True,\n",
        ")"
      ],
      "execution_count": null,
      "outputs": []
    },
    {
      "cell_type": "code",
      "source": [
        "# !pip show accelerate\n"
      ],
      "metadata": {
        "id": "GBN8a3tyX3BO"
      },
      "execution_count": null,
      "outputs": []
    },
    {
      "cell_type": "markdown",
      "metadata": {
        "id": "1_v2fPFFJ3-v"
      },
      "source": [
        "We are also going to compute metrics while training. For this, we need to define a `compute_metrics` function, that returns a dictionary with the desired metric values."
      ]
    },
    {
      "cell_type": "code",
      "metadata": {
        "id": "797b2WHJqUgZ"
      },
      "source": [
        "from sklearn.metrics import f1_score, roc_auc_score, accuracy_score, precision_score, recall_score, multilabel_confusion_matrix, classification_report\n",
        "from transformers import EvalPrediction\n",
        "import torch\n",
        "import numpy as np\n",
        "import seaborn as sns\n",
        "import matplotlib.pyplot as plt\n",
        "\n",
        "# source: https://jesusleal.io/2021/04/21/Longformer-multilabel-classification/\n",
        "def multi_label_metrics(predictions, labels, threshold=0.5):\n",
        "    # first, apply sigmoid on predictions which are of shape (batch_size, num_labels)\n",
        "    sigmoid = torch.nn.Sigmoid()\n",
        "    probs = sigmoid(torch.Tensor(predictions))\n",
        "    # next, use threshold to turn them into integer predictions\n",
        "    y_pred = np.zeros(probs.shape)\n",
        "    y_pred[np.where(probs >= threshold)] = 1\n",
        "\n",
        "    y_pred = y_pred[:, 1]\n",
        "    labels = np.array(labels)[:, 1]\n",
        "    # finally, compute metrics\n",
        "    y_true = labels\n",
        "    f1_micro_average = f1_score(y_true=y_true, y_pred=y_pred)\n",
        "    roc_auc = roc_auc_score(y_true, y_pred)\n",
        "    accuracy = accuracy_score(y_true, y_pred)\n",
        "    precision = precision_score(y_true, y_pred)\n",
        "    recall = recall_score(y_true, y_pred)\n",
        "\n",
        "    # Print the confusion matrix to understand class distribution\n",
        "    # confusion_mat = confusion_matrix(y_true.cpu().numpy(), y_pred.cpu().numpy())\n",
        "\n",
        "    cm =  multilabel_confusion_matrix(labels, y_pred)\n",
        "    print(cm[1])\n",
        "\n",
        "    # Visualize confusion matrix using Seaborn\n",
        "    # plt.figure(figsize=(8, 6))\n",
        "    # sns.heatmap(cm, annot=True, fmt=\"d\", cmap=\"Blues\", cbar=False)\n",
        "    # plt.xlabel('Predicted Label')\n",
        "    # plt.ylabel('True Label')\n",
        "    # plt.title('Confusion Matrix')\n",
        "    # plt.show()\n",
        "\n",
        "    # return as dictionary\n",
        "    metrics = {'f1': f1_micro_average,\n",
        "               'roc_auc': roc_auc,\n",
        "               'accuracy': accuracy,\n",
        "               'precision': precision,\n",
        "               'recall': recall}\n",
        "    return metrics\n",
        "\n",
        "def compute_metrics(p: EvalPrediction):\n",
        "    preds = p.predictions[0] if isinstance(p.predictions,\n",
        "            tuple) else p.predictions\n",
        "    result = multi_label_metrics(\n",
        "        predictions=preds,\n",
        "        labels=p.label_ids)\n",
        "    return result"
      ],
      "execution_count": null,
      "outputs": []
    },
    {
      "cell_type": "markdown",
      "metadata": {
        "id": "fxNo4_TsvzDm"
      },
      "source": [
        "Let's verify a batch as well as a forward pass:"
      ]
    },
    {
      "cell_type": "code",
      "metadata": {
        "id": "IlOgGiojuWwG",
        "colab": {
          "base_uri": "https://localhost:8080/",
          "height": 35
        },
        "executionInfo": {
          "status": "ok",
          "timestamp": 1709588459602,
          "user_tz": 480,
          "elapsed": 75,
          "user": {
            "displayName": "",
            "userId": ""
          }
        },
        "outputId": "d574081a-903b-4ff5-e874-bb2b93f45103"
      },
      "source": [
        "encoded_dataset['train'][0]['labels'].type()"
      ],
      "execution_count": null,
      "outputs": [
        {
          "output_type": "execute_result",
          "data": {
            "text/plain": [
              "'torch.FloatTensor'"
            ],
            "application/vnd.google.colaboratory.intrinsic+json": {
              "type": "string"
            }
          },
          "metadata": {},
          "execution_count": 51
        }
      ]
    },
    {
      "cell_type": "code",
      "metadata": {
        "id": "Y41Kre_jvD7x",
        "colab": {
          "base_uri": "https://localhost:8080/"
        },
        "executionInfo": {
          "status": "ok",
          "timestamp": 1709588460370,
          "user_tz": 480,
          "elapsed": 774,
          "user": {
            "displayName": "",
            "userId": ""
          }
        },
        "outputId": "0f3ae6bc-369d-489a-a0cd-ff60a898eb51"
      },
      "source": [
        "encoded_dataset['train']['input_ids'][0]"
      ],
      "execution_count": null,
      "outputs": [
        {
          "output_type": "execute_result",
          "data": {
            "text/plain": [
              "tensor([ 101, 2339, 2064, 1005, 1056, 2017, 2074, 2022, 1037, 2158, 2030, 1037,\n",
              "        2450, 1029, 2064, 1005, 1056, 2017, 2156, 2008, 1005, 1055, 1996, 2126,\n",
              "        2477, 2024, 4011, 2000, 2022, 1029,  102,    0,    0,    0,    0,    0,\n",
              "           0,    0,    0,    0,    0,    0,    0,    0,    0,    0,    0,    0,\n",
              "           0,    0,    0,    0,    0,    0,    0,    0,    0,    0,    0,    0,\n",
              "           0,    0,    0,    0,    0,    0,    0,    0,    0,    0,    0,    0,\n",
              "           0,    0,    0,    0,    0,    0,    0,    0,    0,    0,    0,    0,\n",
              "           0,    0,    0,    0,    0,    0,    0,    0,    0,    0,    0,    0,\n",
              "           0,    0,    0,    0,    0,    0,    0,    0,    0,    0,    0,    0,\n",
              "           0,    0,    0,    0,    0,    0,    0,    0,    0,    0,    0,    0,\n",
              "           0,    0,    0,    0,    0,    0,    0,    0,    0,    0,    0,    0,\n",
              "           0,    0,    0,    0,    0,    0,    0,    0,    0,    0,    0,    0,\n",
              "           0,    0,    0,    0,    0,    0,    0,    0,    0,    0,    0,    0,\n",
              "           0,    0,    0,    0,    0,    0,    0,    0,    0,    0,    0,    0,\n",
              "           0,    0,    0,    0,    0,    0,    0,    0,    0,    0,    0,    0,\n",
              "           0,    0,    0,    0,    0,    0,    0,    0,    0,    0,    0,    0,\n",
              "           0,    0,    0,    0,    0,    0,    0,    0,    0,    0,    0,    0,\n",
              "           0,    0,    0,    0,    0,    0,    0,    0,    0,    0,    0,    0,\n",
              "           0,    0,    0,    0,    0,    0,    0,    0,    0,    0,    0,    0,\n",
              "           0,    0,    0,    0,    0,    0,    0,    0,    0,    0,    0,    0,\n",
              "           0,    0,    0,    0,    0,    0,    0,    0,    0,    0,    0,    0,\n",
              "           0,    0,    0,    0,    0,    0,    0,    0,    0,    0,    0,    0,\n",
              "           0,    0,    0,    0,    0,    0,    0,    0,    0,    0,    0,    0,\n",
              "           0,    0,    0,    0,    0,    0,    0,    0,    0,    0,    0,    0,\n",
              "           0,    0,    0,    0,    0,    0,    0,    0,    0,    0,    0,    0,\n",
              "           0,    0,    0,    0,    0,    0,    0,    0,    0,    0,    0,    0,\n",
              "           0,    0,    0,    0,    0,    0,    0,    0,    0,    0,    0,    0,\n",
              "           0,    0,    0,    0,    0,    0,    0,    0,    0,    0,    0,    0,\n",
              "           0,    0,    0,    0,    0,    0,    0,    0,    0,    0,    0,    0,\n",
              "           0,    0,    0,    0,    0,    0,    0,    0,    0,    0,    0,    0,\n",
              "           0,    0,    0,    0,    0,    0,    0,    0,    0,    0,    0,    0,\n",
              "           0,    0,    0,    0,    0,    0,    0,    0,    0,    0,    0,    0,\n",
              "           0,    0,    0,    0,    0,    0,    0,    0,    0,    0,    0,    0,\n",
              "           0,    0,    0,    0,    0,    0,    0,    0,    0,    0,    0,    0,\n",
              "           0,    0,    0,    0,    0,    0,    0,    0,    0,    0,    0,    0,\n",
              "           0,    0,    0,    0,    0,    0,    0,    0,    0,    0,    0,    0,\n",
              "           0,    0,    0,    0,    0,    0,    0,    0,    0,    0,    0,    0,\n",
              "           0,    0,    0,    0,    0,    0,    0,    0,    0,    0,    0,    0,\n",
              "           0,    0,    0,    0,    0,    0,    0,    0,    0,    0,    0,    0,\n",
              "           0,    0,    0,    0,    0,    0,    0,    0,    0,    0,    0,    0,\n",
              "           0,    0,    0,    0,    0,    0,    0,    0,    0,    0,    0,    0,\n",
              "           0,    0,    0,    0,    0,    0,    0,    0,    0,    0,    0,    0,\n",
              "           0,    0,    0,    0,    0,    0,    0,    0])"
            ]
          },
          "metadata": {},
          "execution_count": 52
        }
      ]
    },
    {
      "cell_type": "code",
      "metadata": {
        "id": "sxWcnZ8ku12V",
        "colab": {
          "base_uri": "https://localhost:8080/"
        },
        "executionInfo": {
          "status": "ok",
          "timestamp": 1709588462923,
          "user_tz": 480,
          "elapsed": 2556,
          "user": {
            "displayName": "",
            "userId": ""
          }
        },
        "outputId": "7de7be3c-e8f3-4f63-ec60-14c1e3b7e24a"
      },
      "source": [
        "#forward pass\n",
        "\n",
        "outputs = model(input_ids=encoded_dataset['train']['input_ids'][0].unsqueeze(0),attention_mask=encoded_dataset['train']['attention_mask'][0].unsqueeze(0), labels=encoded_dataset['train'][0]['labels'].unsqueeze(0))\n",
        "outputs"
      ],
      "execution_count": null,
      "outputs": [
        {
          "output_type": "execute_result",
          "data": {
            "text/plain": [
              "SequenceClassifierOutput(loss=tensor(0.8029, grad_fn=<BinaryCrossEntropyWithLogitsBackward0>), logits=tensor([[-0.0604, -0.4485]], grad_fn=<AddmmBackward0>), hidden_states=None, attentions=None)"
            ]
          },
          "metadata": {},
          "execution_count": 53
        }
      ]
    },
    {
      "cell_type": "markdown",
      "metadata": {
        "id": "f-X2brZcv0X6"
      },
      "source": [
        "Let's start training!"
      ]
    },
    {
      "cell_type": "code",
      "source": [
        "# del trainer\n",
        "import os\n",
        "torch.cuda.empty_cache()\n",
        "os.environ['PYTORCH_CUDA_ALLOC_CONF'] = 'max_split_size_mb:100'"
      ],
      "metadata": {
        "id": "KfA9GLEUo_zq"
      },
      "execution_count": null,
      "outputs": []
    },
    {
      "cell_type": "code",
      "source": [
        "from accelerate import Accelerator"
      ],
      "metadata": {
        "id": "qK4uAkYQDSXp"
      },
      "execution_count": null,
      "outputs": []
    },
    {
      "cell_type": "code",
      "metadata": {
        "id": "chq_3nUz73ib"
      },
      "source": [
        "trainer = Trainer(\n",
        "    model,\n",
        "    args,\n",
        "    train_dataset=encoded_dataset[\"train\"],\n",
        "    eval_dataset=encoded_dataset[\"validation\"],\n",
        "    tokenizer=tokenizer,\n",
        "    compute_metrics=compute_metrics\n",
        ")\n"
      ],
      "execution_count": null,
      "outputs": []
    },
    {
      "cell_type": "code",
      "source": [
        "# import os\n",
        "\n",
        "# Set environment variable for PyTorch CUDA allocator configuration\n",
        "# Adjust max_split_size_mb to an appropriate value for your system\n",
        "# os.environ['PYTORCH_CUDA_ALLOC_CONF'] = 'max_split_size_mb:50'\n",
        "\n",
        "# !pip install torch==2.0.0\n",
        "\n"
      ],
      "metadata": {
        "id": "DWGnlBF8bXic"
      },
      "execution_count": null,
      "outputs": []
    },
    {
      "cell_type": "code",
      "source": [
        "# Example: Handling scalar tensor\n",
        "scalar_tensor = torch.tensor(42)  # Replace with your actual tensor\n",
        "scalar_tensor = scalar_tensor.unsqueeze(0)  # Unsqueezing to create a one-dimensional tensor\n",
        "print(scalar_tensor)"
      ],
      "metadata": {
        "id": "NDfAAzMoJ52V",
        "executionInfo": {
          "status": "ok",
          "timestamp": 1709588463856,
          "user_tz": 480,
          "elapsed": 10,
          "user": {
            "displayName": "",
            "userId": ""
          }
        },
        "colab": {
          "base_uri": "https://localhost:8080/"
        },
        "outputId": "622685a5-2fcc-4746-c437-001d21ba2e7b"
      },
      "execution_count": null,
      "outputs": [
        {
          "output_type": "stream",
          "name": "stdout",
          "text": [
            "tensor([42])\n"
          ]
        }
      ]
    },
    {
      "cell_type": "code",
      "metadata": {
        "id": "KXmFds8js6P8",
        "colab": {
          "base_uri": "https://localhost:8080/",
          "height": 475
        },
        "outputId": "5131a99d-a19e-4125-e719-ac7abc7760b5",
        "executionInfo": {
          "status": "ok",
          "timestamp": 1709603557384,
          "user_tz": 480,
          "elapsed": 2303,
          "user": {
            "displayName": "",
            "userId": ""
          }
        }
      },
      "source": [
        "trainer.train()"
      ],
      "execution_count": 59,
      "outputs": [
        {
          "output_type": "stream",
          "name": "stderr",
          "text": [
            "You're using a BertTokenizerFast tokenizer. Please note that with a fast tokenizer, using the `__call__` method is faster than using a method to encode the text followed by a call to the `pad` method to get a padded encoding.\n",
            "/usr/local/lib/python3.10/dist-packages/torch/nn/parallel/_functions.py:68: UserWarning: Was asked to gather along dimension 0, but all input tensors were scalars; will instead unsqueeze and return a vector.\n",
            "  warnings.warn('Was asked to gather along dimension 0, but all '\n"
          ]
        },
        {
          "output_type": "display_data",
          "data": {
            "text/plain": [
              "<IPython.core.display.HTML object>"
            ],
            "text/html": [
              "\n",
              "    <div>\n",
              "      \n",
              "      <progress value='13299' max='13299' style='width:300px; height:20px; vertical-align: middle;'></progress>\n",
              "      [13299/13299 3:52:20, Epoch 3/3]\n",
              "    </div>\n",
              "    <table border=\"1\" class=\"dataframe\">\n",
              "  <thead>\n",
              " <tr style=\"text-align: left;\">\n",
              "      <th>Epoch</th>\n",
              "      <th>Training Loss</th>\n",
              "      <th>Validation Loss</th>\n",
              "      <th>F1</th>\n",
              "      <th>Roc Auc</th>\n",
              "      <th>Accuracy</th>\n",
              "      <th>Precision</th>\n",
              "      <th>Recall</th>\n",
              "    </tr>\n",
              "  </thead>\n",
              "  <tbody>\n",
              "    <tr>\n",
              "      <td>1</td>\n",
              "      <td>0.032200</td>\n",
              "      <td>0.034361</td>\n",
              "      <td>0.214815</td>\n",
              "      <td>0.775961</td>\n",
              "      <td>0.989538</td>\n",
              "      <td>0.132824</td>\n",
              "      <td>0.561290</td>\n",
              "    </tr>\n",
              "    <tr>\n",
              "      <td>2</td>\n",
              "      <td>0.012000</td>\n",
              "      <td>0.016533</td>\n",
              "      <td>0.413043</td>\n",
              "      <td>0.804720</td>\n",
              "      <td>0.995559</td>\n",
              "      <td>0.311475</td>\n",
              "      <td>0.612903</td>\n",
              "    </tr>\n",
              "    <tr>\n",
              "      <td>3</td>\n",
              "      <td>0.004200</td>\n",
              "      <td>0.030085</td>\n",
              "      <td>0.355072</td>\n",
              "      <td>0.813664</td>\n",
              "      <td>0.994144</td>\n",
              "      <td>0.246851</td>\n",
              "      <td>0.632258</td>\n",
              "    </tr>\n",
              "  </tbody>\n",
              "</table><p>"
            ]
          },
          "metadata": {}
        },
        {
          "output_type": "stream",
          "name": "stdout",
          "text": [
            "[[60068   568]\n",
            " [   68    87]]\n"
          ]
        },
        {
          "output_type": "stream",
          "name": "stderr",
          "text": [
            "/usr/local/lib/python3.10/dist-packages/torch/nn/parallel/_functions.py:68: UserWarning: Was asked to gather along dimension 0, but all input tensors were scalars; will instead unsqueeze and return a vector.\n",
            "  warnings.warn('Was asked to gather along dimension 0, but all '\n"
          ]
        },
        {
          "output_type": "stream",
          "name": "stdout",
          "text": [
            "[[60426   210]\n",
            " [   60    95]]\n"
          ]
        },
        {
          "output_type": "stream",
          "name": "stderr",
          "text": [
            "/usr/local/lib/python3.10/dist-packages/torch/nn/parallel/_functions.py:68: UserWarning: Was asked to gather along dimension 0, but all input tensors were scalars; will instead unsqueeze and return a vector.\n",
            "  warnings.warn('Was asked to gather along dimension 0, but all '\n"
          ]
        },
        {
          "output_type": "stream",
          "name": "stdout",
          "text": [
            "[[60337   299]\n",
            " [   57    98]]\n"
          ]
        },
        {
          "output_type": "execute_result",
          "data": {
            "text/plain": [
              "TrainOutput(global_step=13299, training_loss=0.01615993162144108, metrics={'train_runtime': 13950.0924, 'train_samples_per_second': 61.007, 'train_steps_per_second': 0.953, 'total_flos': 2.239219792194048e+17, 'train_loss': 0.01615993162144108, 'epoch': 3.0})"
            ]
          },
          "metadata": {},
          "execution_count": 59
        }
      ]
    },
    {
      "cell_type": "code",
      "source": [
        "# eval_results = trainer.evaluate()\n",
        "# # Access confusion matrix from evaluation results\n",
        "# confusion_matrix_result = eval_results['confusion_mat']\n",
        "# print(\"Confusion Matrix:\")\n",
        "# print(confusion_matrix_result)"
      ],
      "metadata": {
        "id": "akItu2fDJUYm",
        "executionInfo": {
          "status": "ok",
          "timestamp": 1709603557385,
          "user_tz": 480,
          "elapsed": 20,
          "user": {
            "displayName": "",
            "userId": ""
          }
        }
      },
      "execution_count": 60,
      "outputs": []
    },
    {
      "cell_type": "code",
      "source": [
        "from transformers import Trainer, TrainingArguments\n",
        "from sklearn.metrics import multilabel_confusion_matrix, ConfusionMatrixDisplay\n",
        "import torch\n",
        "import matplotlib.pyplot as plt\n",
        "\n",
        "# Define your Trainer and TrainingArguments\n",
        "# ...\n",
        "\n",
        "# Evaluate the model on your test dataset\n",
        "results = trainer.predict(encoded_dataset[\"test\"])\n",
        "\n",
        "# Get true labels and predicted probabilities\n",
        "true_labels = results.label_ids\n",
        "predicted_probs = torch.nn.Softmax(dim=1)(torch.Tensor(results.predictions))\n",
        "\n",
        "# Apply a threshold to convert probabilities to binary predictions\n",
        "threshold = 0.5\n",
        "predicted_labels = (predicted_probs >= threshold).int()\n",
        "\n",
        "# Calculate multi-label confusion matrix\n",
        "conf_matrix = multilabel_confusion_matrix(true_labels, predicted_labels)\n",
        "print(classification_report(true_labels, predicted_labels))\n",
        "\n",
        "# Display the confusion matrix for each label separately\n",
        "for i, mat in enumerate(conf_matrix):\n",
        "    disp = ConfusionMatrixDisplay(confusion_matrix=mat)\n",
        "    disp.plot(cmap='Blues', values_format='d')\n",
        "    plt.title(f'Confusion Matrix - Label {i}')\n",
        "    plt.show()\n"
      ],
      "metadata": {
        "id": "8hc1jXzcoo2E",
        "colab": {
          "base_uri": "https://localhost:8080/",
          "height": 1000
        },
        "executionInfo": {
          "status": "ok",
          "timestamp": 1709609649776,
          "user_tz": 480,
          "elapsed": 367506,
          "user": {
            "displayName": "",
            "userId": ""
          }
        },
        "outputId": "09ea77e7-344b-4892-be8b-066c366778a3"
      },
      "execution_count": 71,
      "outputs": [
        {
          "output_type": "stream",
          "name": "stderr",
          "text": [
            "/usr/local/lib/python3.10/dist-packages/torch/nn/parallel/_functions.py:68: UserWarning: Was asked to gather along dimension 0, but all input tensors were scalars; will instead unsqueeze and return a vector.\n",
            "  warnings.warn('Was asked to gather along dimension 0, but all '\n"
          ]
        },
        {
          "output_type": "display_data",
          "data": {
            "text/plain": [
              "<IPython.core.display.HTML object>"
            ],
            "text/html": []
          },
          "metadata": {}
        },
        {
          "output_type": "stream",
          "name": "stdout",
          "text": [
            "[[60412   224]\n",
            " [   63    92]]\n",
            "              precision    recall  f1-score   support\n",
            "\n",
            "           0       1.00      1.00      1.00     60636\n",
            "           1       0.29      0.59      0.39       155\n",
            "\n",
            "   micro avg       1.00      1.00      1.00     60791\n",
            "   macro avg       0.64      0.79      0.69     60791\n",
            "weighted avg       1.00      1.00      1.00     60791\n",
            " samples avg       1.00      1.00      1.00     60791\n",
            "\n"
          ]
        },
        {
          "output_type": "display_data",
          "data": {
            "text/plain": [
              "<Figure size 640x480 with 2 Axes>"
            ],
            "image/png": "[encoded data removed]"
          },
          "metadata": {}
        },
        {
          "output_type": "display_data",
          "data": {
            "text/plain": [
              "<Figure size 640x480 with 2 Axes>"
            ],
            "image/png": "[encoded data removed]"
          },
          "metadata": {}
        }
      ]
    },
    {
      "cell_type": "code",
      "source": [
        "from transformers import Trainer, TrainingArguments\n",
        "from sklearn.metrics import multilabel_confusion_matrix, ConfusionMatrixDisplay, classification_report\n",
        "import torch\n",
        "import matplotlib.pyplot as plt\n",
        "\n",
        "# Define your Trainer and TrainingArguments\n",
        "# ...\n",
        "\n",
        "# Evaluate the model on your test dataset\n",
        "# results = trainer.predict(encoded_dataset[\"test\"])\n",
        "\n",
        "# Get true labels and predicted probabilities\n",
        "true_labels = results.label_ids\n",
        "predicted_probs = torch.nn.Softmax(dim=1)(torch.Tensor(results.predictions))\n",
        "\n",
        "# Apply a threshold to convert probabilities to binary predictions\n",
        "threshold = 0.5\n",
        "predicted_labels = (predicted_probs >= threshold).int()\n",
        "\n",
        "# Calculate multi-label confusion matrix\n",
        "conf_matrix = multilabel_confusion_matrix(true_labels, predicted_labels)\n",
        "print(classification_report(true_labels, predicted_labels))\n",
        "\n",
        "# Display the confusion matrix for each label separately\n",
        "for i, mat in enumerate(conf_matrix):\n",
        "    disp = ConfusionMatrixDisplay(confusion_matrix=mat)\n",
        "    disp.plot(cmap='Blues', values_format='d')  # Changed 'viridis' to 'Blues'\n",
        "    plt.title(f'Confusion Matrix - Label {i}')\n",
        "    plt.show()\n"
      ],
      "metadata": {
        "id": "sAz7jiAa79Vx",
        "colab": {
          "base_uri": "https://localhost:8080/",
          "height": 1000
        },
        "executionInfo": {
          "status": "ok",
          "timestamp": 1709603557388,
          "user_tz": 480,
          "elapsed": 18,
          "user": {
            "displayName": "",
            "userId": ""
          }
        },
        "outputId": "a1d4e03a-72e3-473e-cf37-76d257e16191"
      },
      "execution_count": 62,
      "outputs": [
        {
          "output_type": "stream",
          "name": "stdout",
          "text": [
            "              precision    recall  f1-score   support\n",
            "\n",
            "           0       1.00      1.00      1.00     60636\n",
            "           1       0.29      0.59      0.39       155\n",
            "\n",
            "   micro avg       1.00      1.00      1.00     60791\n",
            "   macro avg       0.64      0.79      0.69     60791\n",
            "weighted avg       1.00      1.00      1.00     60791\n",
            " samples avg       1.00      1.00      1.00     60791\n",
            "\n"
          ]
        },
        {
          "output_type": "display_data",
          "data": {
            "text/plain": [
              "<Figure size 640x480 with 2 Axes>"
            ],
            "image/png": "[encoded data removed]"
          },
          "metadata": {}
        },
        {
          "output_type": "display_data",
          "data": {
            "text/plain": [
              "<Figure size 640x480 with 2 Axes>"
            ],
            "image/png": "[encoded data removed]"
          },
          "metadata": {}
        }
      ]
    },
    {
      "cell_type": "code",
      "source": [
        "train_logs = trainer.state.log_history\n",
        "\n",
        "# Extract training and validation losses\n",
        "train_losses = [log['loss'] for log in train_logs if 'loss' in log and 'eval_loss' not in log]\n",
        "eval_losses = [log['eval_loss'] for log in train_logs if 'eval_loss' in log]\n",
        "\n",
        "# Generate a gradient of colors\n",
        "gradient = np.linspace(0, 1, len(train_losses))\n",
        "\n",
        "# Plot the training and validation loss with a gradient\n",
        "plt.plot(train_losses, label=\"Train Loss\", color=plt.cm.coolwarm(gradient[0]), linewidth=2)\n",
        "plt.plot(eval_losses, label=\"Validation Loss\", color=plt.cm.coolwarm(gradient[-1]), linewidth=2)\n",
        "plt.xlabel(\"Training Steps\")\n",
        "plt.ylabel(\"Loss\")\n",
        "plt.legend()\n",
        "\n",
        "# Show the plot\n",
        "plt.show()"
      ],
      "metadata": {
        "id": "wv_zMW8ltKvP",
        "colab": {
          "base_uri": "https://localhost:8080/",
          "height": 449
        },
        "executionInfo": {
          "status": "ok",
          "timestamp": 1709603557389,
          "user_tz": 480,
          "elapsed": 18,
          "user": {
            "displayName": "",
            "userId": ""
          }
        },
        "outputId": "1550702a-a52c-4e81-b516-355c9d53d4f8"
      },
      "execution_count": 63,
      "outputs": [
        {
          "output_type": "display_data",
          "data": {
            "text/plain": [
              "<Figure size 640x480 with 1 Axes>"
            ],
            "image/png": "[encoded data removed]"
          },
          "metadata": {}
        }
      ]
    },
    {
      "cell_type": "markdown",
      "metadata": {
        "id": "hiloh9eMK91o"
      },
      "source": [
        "## Evaluate\n",
        "\n",
        "After training, we evaluate our model on the validation set."
      ]
    },
    {
      "cell_type": "code",
      "source": [
        "#Overfitting above"
      ],
      "metadata": {
        "id": "FmUcFAA16fAS",
        "executionInfo": {
          "status": "ok",
          "timestamp": 1709603557389,
          "user_tz": 480,
          "elapsed": 18,
          "user": {
            "displayName": "",
            "userId": ""
          }
        }
      },
      "execution_count": 64,
      "outputs": []
    },
    {
      "cell_type": "code",
      "metadata": {
        "id": "cMlebJ83LRYG",
        "colab": {
          "base_uri": "https://localhost:8080/",
          "height": 307
        },
        "executionInfo": {
          "status": "ok",
          "timestamp": 1709603557390,
          "user_tz": 480,
          "elapsed": 19,
          "user": {
            "displayName": "",
            "userId": ""
          }
        },
        "outputId": "a06a3225-9bf0-4673-a51d-c1706791e58e"
      },
      "source": [
        "trainer.evaluate()"
      ],
      "execution_count": 65,
      "outputs": [
        {
          "output_type": "stream",
          "name": "stderr",
          "text": [
            "/usr/local/lib/python3.10/dist-packages/torch/nn/parallel/_functions.py:68: UserWarning: Was asked to gather along dimension 0, but all input tensors were scalars; will instead unsqueeze and return a vector.\n",
            "  warnings.warn('Was asked to gather along dimension 0, but all '\n"
          ]
        },
        {
          "output_type": "display_data",
          "data": {
            "text/plain": [
              "<IPython.core.display.HTML object>"
            ],
            "text/html": [
              "\n",
              "    <div>\n",
              "      \n",
              "      <progress value='950' max='950' style='width:300px; height:20px; vertical-align: middle;'></progress>\n",
              "      [950/950 06:05]\n",
              "    </div>\n",
              "    "
            ]
          },
          "metadata": {}
        },
        {
          "output_type": "stream",
          "name": "stdout",
          "text": [
            "[[60426   210]\n",
            " [   60    95]]\n"
          ]
        },
        {
          "output_type": "execute_result",
          "data": {
            "text/plain": [
              "{'eval_loss': 0.01653311215341091,\n",
              " 'eval_f1': 0.41304347826086957,\n",
              " 'eval_roc_auc': 0.8047199683356421,\n",
              " 'eval_accuracy': 0.9955585530752907,\n",
              " 'eval_precision': 0.3114754098360656,\n",
              " 'eval_recall': 0.6129032258064516,\n",
              " 'eval_runtime': 366.0965,\n",
              " 'eval_samples_per_second': 166.052,\n",
              " 'eval_steps_per_second': 2.595,\n",
              " 'epoch': 3.0}"
            ]
          },
          "metadata": {},
          "execution_count": 65
        }
      ]
    },
    {
      "cell_type": "markdown",
      "metadata": {
        "id": "3nmvJp0pLq-3"
      },
      "source": [
        "## Inference\n",
        "\n",
        "Let's test the model on a new sentence:"
      ]
    },
    {
      "cell_type": "code",
      "metadata": {
        "id": "3fxjfr8PLD42",
        "executionInfo": {
          "status": "ok",
          "timestamp": 1709603557391,
          "user_tz": 480,
          "elapsed": 12,
          "user": {
            "displayName": "",
            "userId": ""
          }
        }
      },
      "source": [
        "text = \"Fuck you\"\n",
        "\n",
        "encoding = tokenizer(text, return_tensors=\"pt\")\n",
        "encoding = {k: v.to(trainer.model.device) for k,v in encoding.items()}\n",
        "\n",
        "outputs = trainer.model(**encoding)"
      ],
      "execution_count": 66,
      "outputs": []
    },
    {
      "cell_type": "markdown",
      "metadata": {
        "id": "8THm5-XgNHPm"
      },
      "source": [
        "The logits that come out of the model are of shape (batch_size, num_labels). As we are only forwarding a single sentence through the model, the `batch_size` equals 1. The logits is a tensor that contains the (unnormalized) scores for every individual label."
      ]
    },
    {
      "cell_type": "code",
      "metadata": {
        "id": "KOBosj4UL2tU",
        "colab": {
          "base_uri": "https://localhost:8080/"
        },
        "executionInfo": {
          "status": "ok",
          "timestamp": 1709603557391,
          "user_tz": 480,
          "elapsed": 12,
          "user": {
            "displayName": "",
            "userId": ""
          }
        },
        "outputId": "f8c23c8d-d9f0-4f82-aaaa-4f9837d49fbf"
      },
      "source": [
        "logits = outputs.logits\n",
        "logits.shape"
      ],
      "execution_count": 67,
      "outputs": [
        {
          "output_type": "execute_result",
          "data": {
            "text/plain": [
              "torch.Size([1, 2])"
            ]
          },
          "metadata": {},
          "execution_count": 67
        }
      ]
    },
    {
      "cell_type": "markdown",
      "metadata": {
        "id": "DC4XdDaHNVcd"
      },
      "source": [
        "To turn them into actual predicted labels, we first apply a sigmoid function independently to every score, such that every score is turned into a number between 0 and 1, that can be interpreted as a \"probability\" for how certain the model is that a given class belongs to the input text.\n",
        "\n",
        "Next, we use a threshold (typically, 0.5) to turn every probability into either a 1 (which means, we predict the label for the given example) or a 0 (which means, we don't predict the label for the given example)."
      ]
    },
    {
      "cell_type": "code",
      "metadata": {
        "id": "mEkAQleMMT0k",
        "colab": {
          "base_uri": "https://localhost:8080/"
        },
        "executionInfo": {
          "status": "ok",
          "timestamp": 1709603557391,
          "user_tz": 480,
          "elapsed": 11,
          "user": {
            "displayName": "",
            "userId": ""
          }
        },
        "outputId": "ec1ec34d-b03c-4219-9ade-abc01a88984b"
      },
      "source": [
        "# apply sigmoid + threshold\n",
        "sigmoid = torch.nn.Sigmoid()\n",
        "probs = sigmoid(logits.squeeze().cpu())\n",
        "predictions = np.zeros(probs.shape)\n",
        "print(predictions.shape)\n",
        "predictions[np.where(probs >= 0.5)] = 1\n",
        "# turn predicted id's into actual label names\n",
        "predicted_labels = [id2label[idx] for idx, label in enumerate(predictions) if label == 0.0]\n",
        "print(predicted_labels)"
      ],
      "execution_count": 68,
      "outputs": [
        {
          "output_type": "stream",
          "name": "stdout",
          "text": [
            "(2,)\n",
            "['positive']\n"
          ]
        }
      ]
    },
    {
      "cell_type": "code",
      "source": [
        "trainer.predict(encoded_dataset[\"test\"])"
      ],
      "metadata": {
        "id": "l0GyDQPqt69V",
        "colab": {
          "base_uri": "https://localhost:8080/",
          "height": 394
        },
        "executionInfo": {
          "status": "ok",
          "timestamp": 1709603557392,
          "user_tz": 480,
          "elapsed": 11,
          "user": {
            "displayName": "",
            "userId": ""
          }
        },
        "outputId": "e9846590-d227-47c2-c74e-506daa7c90a6"
      },
      "execution_count": 69,
      "outputs": [
        {
          "output_type": "stream",
          "name": "stderr",
          "text": [
            "/usr/local/lib/python3.10/dist-packages/torch/nn/parallel/_functions.py:68: UserWarning: Was asked to gather along dimension 0, but all input tensors were scalars; will instead unsqueeze and return a vector.\n",
            "  warnings.warn('Was asked to gather along dimension 0, but all '\n"
          ]
        },
        {
          "output_type": "display_data",
          "data": {
            "text/plain": [
              "<IPython.core.display.HTML object>"
            ],
            "text/html": []
          },
          "metadata": {}
        },
        {
          "output_type": "stream",
          "name": "stdout",
          "text": [
            "[[60412   224]\n",
            " [   63    92]]\n"
          ]
        },
        {
          "output_type": "execute_result",
          "data": {
            "text/plain": [
              "PredictionOutput(predictions=array([[ 8.46888  , -8.40307  ],\n",
              "       [ 8.026888 , -7.932641 ],\n",
              "       [ 5.9883156, -5.978117 ],\n",
              "       ...,\n",
              "       [ 8.825829 , -8.820027 ],\n",
              "       [ 8.860619 , -8.841258 ],\n",
              "       [ 6.425159 , -6.4357653]], dtype=float32), label_ids=array([[1., 0.],\n",
              "       [1., 0.],\n",
              "       [1., 0.],\n",
              "       ...,\n",
              "       [1., 0.],\n",
              "       [1., 0.],\n",
              "       [1., 0.]], dtype=float32), metrics={'test_loss': 0.017562508583068848, 'test_f1': 0.3906581740976645, 'test_roc_auc': 0.7949271060096312, 'test_accuracy': 0.9952789064170683, 'test_precision': 0.2911392405063291, 'test_recall': 0.5935483870967742, 'test_runtime': 366.3022, 'test_samples_per_second': 165.959, 'test_steps_per_second': 2.593})"
            ]
          },
          "metadata": {},
          "execution_count": 69
        }
      ]
    },
    {
      "cell_type": "code",
      "source": [
        "#high test cz most are zeroes and would ve assigned the same i presume?"
      ],
      "metadata": {
        "id": "bgkPuA0gydZ3",
        "executionInfo": {
          "status": "ok",
          "timestamp": 1709603557392,
          "user_tz": 480,
          "elapsed": 8,
          "user": {
            "displayName": "",
            "userId": ""
          }
        }
      },
      "execution_count": 70,
      "outputs": []
    },
    {
      "cell_type": "code",
      "source": [],
      "metadata": {
        "id": "lLRuGUNO99co",
        "executionInfo": {
          "status": "ok",
          "timestamp": 1709603557392,
          "user_tz": 480,
          "elapsed": 8,
          "user": {
            "displayName": "",
            "userId": ""
          }
        }
      },
      "execution_count": 70,
      "outputs": []
    }
  ]
}