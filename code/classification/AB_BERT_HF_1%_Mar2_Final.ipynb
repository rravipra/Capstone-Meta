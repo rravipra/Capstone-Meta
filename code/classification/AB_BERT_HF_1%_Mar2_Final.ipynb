{
  "nbformat": 4,
  "nbformat_minor": 0,
  "metadata": {
    "colab": {
      "name": "Fine-tuning BERT (and friends) for multi-label text classification.ipynb",
      "provenance": []
    },
    "kernelspec": {
      "name": "python3",
      "display_name": "Python 3"
    },
    "language_info": {
      "name": "python"
    },
    "accelerator": "GPU",
    "widgets": {
      "application/vnd.jupyter.widget-state+json": {
        "c661f8e5dd3d4de8beca34f54aecc735": {
          "model_module": "@jupyter-widgets/controls",
          "model_name": "HBoxModel",
          "model_module_version": "1.5.0",
          "state": {
            "_dom_classes": [],
            "_model_module": "@jupyter-widgets/controls",
            "_model_module_version": "1.5.0",
            "_model_name": "HBoxModel",
            "_view_count": null,
            "_view_module": "@jupyter-widgets/controls",
            "_view_module_version": "1.5.0",
            "_view_name": "HBoxView",
            "box_style": "",
            "children": [
              "IPY_MODEL_ee9467f8e2fb484fb6f1fea07026f819",
              "IPY_MODEL_40c0ef3e9a9f46638bbba65cc097b0d6",
              "IPY_MODEL_8c5a9c9808714f98a9513dc25528092e"
            ],
            "layout": "IPY_MODEL_1a6361c498804165af60e3d292a19ec8"
          }
        },
        "ee9467f8e2fb484fb6f1fea07026f819": {
          "model_module": "@jupyter-widgets/controls",
          "model_name": "HTMLModel",
          "model_module_version": "1.5.0",
          "state": {
            "_dom_classes": [],
            "_model_module": "@jupyter-widgets/controls",
            "_model_module_version": "1.5.0",
            "_model_name": "HTMLModel",
            "_view_count": null,
            "_view_module": "@jupyter-widgets/controls",
            "_view_module_version": "1.5.0",
            "_view_name": "HTMLView",
            "description": "",
            "description_tooltip": null,
            "layout": "IPY_MODEL_7719d84e8b974232b17340ccc9d243c6",
            "placeholder": "​",
            "style": "IPY_MODEL_da46d9398a2447dc97300873cca09b96",
            "value": "Map: 100%"
          }
        },
        "40c0ef3e9a9f46638bbba65cc097b0d6": {
          "model_module": "@jupyter-widgets/controls",
          "model_name": "FloatProgressModel",
          "model_module_version": "1.5.0",
          "state": {
            "_dom_classes": [],
            "_model_module": "@jupyter-widgets/controls",
            "_model_module_version": "1.5.0",
            "_model_name": "FloatProgressModel",
            "_view_count": null,
            "_view_module": "@jupyter-widgets/controls",
            "_view_module_version": "1.5.0",
            "_view_name": "ProgressView",
            "bar_style": "success",
            "description": "",
            "description_tooltip": null,
            "layout": "IPY_MODEL_c9fe08feb29a4071bc9b74915d37250b",
            "max": 283685,
            "min": 0,
            "orientation": "horizontal",
            "style": "IPY_MODEL_c1d706381e4c4e56b6b8a78e301bfb60",
            "value": 283685
          }
        },
        "8c5a9c9808714f98a9513dc25528092e": {
          "model_module": "@jupyter-widgets/controls",
          "model_name": "HTMLModel",
          "model_module_version": "1.5.0",
          "state": {
            "_dom_classes": [],
            "_model_module": "@jupyter-widgets/controls",
            "_model_module_version": "1.5.0",
            "_model_name": "HTMLModel",
            "_view_count": null,
            "_view_module": "@jupyter-widgets/controls",
            "_view_module_version": "1.5.0",
            "_view_name": "HTMLView",
            "description": "",
            "description_tooltip": null,
            "layout": "IPY_MODEL_9750b8ac16294050bf573d5266785269",
            "placeholder": "​",
            "style": "IPY_MODEL_219b8c31829c4f668025fcaebb862484",
            "value": " 283685/283685 [00:14&lt;00:00, 19902.69 examples/s]"
          }
        },
        "1a6361c498804165af60e3d292a19ec8": {
          "model_module": "@jupyter-widgets/base",
          "model_name": "LayoutModel",
          "model_module_version": "1.2.0",
          "state": {
            "_model_module": "@jupyter-widgets/base",
            "_model_module_version": "1.2.0",
            "_model_name": "LayoutModel",
            "_view_count": null,
            "_view_module": "@jupyter-widgets/base",
            "_view_module_version": "1.2.0",
            "_view_name": "LayoutView",
            "align_content": null,
            "align_items": null,
            "align_self": null,
            "border": null,
            "bottom": null,
            "display": null,
            "flex": null,
            "flex_flow": null,
            "grid_area": null,
            "grid_auto_columns": null,
            "grid_auto_flow": null,
            "grid_auto_rows": null,
            "grid_column": null,
            "grid_gap": null,
            "grid_row": null,
            "grid_template_areas": null,
            "grid_template_columns": null,
            "grid_template_rows": null,
            "height": null,
            "justify_content": null,
            "justify_items": null,
            "left": null,
            "margin": null,
            "max_height": null,
            "max_width": null,
            "min_height": null,
            "min_width": null,
            "object_fit": null,
            "object_position": null,
            "order": null,
            "overflow": null,
            "overflow_x": null,
            "overflow_y": null,
            "padding": null,
            "right": null,
            "top": null,
            "visibility": null,
            "width": null
          }
        },
        "7719d84e8b974232b17340ccc9d243c6": {
          "model_module": "@jupyter-widgets/base",
          "model_name": "LayoutModel",
          "model_module_version": "1.2.0",
          "state": {
            "_model_module": "@jupyter-widgets/base",
            "_model_module_version": "1.2.0",
            "_model_name": "LayoutModel",
            "_view_count": null,
            "_view_module": "@jupyter-widgets/base",
            "_view_module_version": "1.2.0",
            "_view_name": "LayoutView",
            "align_content": null,
            "align_items": null,
            "align_self": null,
            "border": null,
            "bottom": null,
            "display": null,
            "flex": null,
            "flex_flow": null,
            "grid_area": null,
            "grid_auto_columns": null,
            "grid_auto_flow": null,
            "grid_auto_rows": null,
            "grid_column": null,
            "grid_gap": null,
            "grid_row": null,
            "grid_template_areas": null,
            "grid_template_columns": null,
            "grid_template_rows": null,
            "height": null,
            "justify_content": null,
            "justify_items": null,
            "left": null,
            "margin": null,
            "max_height": null,
            "max_width": null,
            "min_height": null,
            "min_width": null,
            "object_fit": null,
            "object_position": null,
            "order": null,
            "overflow": null,
            "overflow_x": null,
            "overflow_y": null,
            "padding": null,
            "right": null,
            "top": null,
            "visibility": null,
            "width": null
          }
        },
        "da46d9398a2447dc97300873cca09b96": {
          "model_module": "@jupyter-widgets/controls",
          "model_name": "DescriptionStyleModel",
          "model_module_version": "1.5.0",
          "state": {
            "_model_module": "@jupyter-widgets/controls",
            "_model_module_version": "1.5.0",
            "_model_name": "DescriptionStyleModel",
            "_view_count": null,
            "_view_module": "@jupyter-widgets/base",
            "_view_module_version": "1.2.0",
            "_view_name": "StyleView",
            "description_width": ""
          }
        },
        "c9fe08feb29a4071bc9b74915d37250b": {
          "model_module": "@jupyter-widgets/base",
          "model_name": "LayoutModel",
          "model_module_version": "1.2.0",
          "state": {
            "_model_module": "@jupyter-widgets/base",
            "_model_module_version": "1.2.0",
            "_model_name": "LayoutModel",
            "_view_count": null,
            "_view_module": "@jupyter-widgets/base",
            "_view_module_version": "1.2.0",
            "_view_name": "LayoutView",
            "align_content": null,
            "align_items": null,
            "align_self": null,
            "border": null,
            "bottom": null,
            "display": null,
            "flex": null,
            "flex_flow": null,
            "grid_area": null,
            "grid_auto_columns": null,
            "grid_auto_flow": null,
            "grid_auto_rows": null,
            "grid_column": null,
            "grid_gap": null,
            "grid_row": null,
            "grid_template_areas": null,
            "grid_template_columns": null,
            "grid_template_rows": null,
            "height": null,
            "justify_content": null,
            "justify_items": null,
            "left": null,
            "margin": null,
            "max_height": null,
            "max_width": null,
            "min_height": null,
            "min_width": null,
            "object_fit": null,
            "object_position": null,
            "order": null,
            "overflow": null,
            "overflow_x": null,
            "overflow_y": null,
            "padding": null,
            "right": null,
            "top": null,
            "visibility": null,
            "width": null
          }
        },
        "c1d706381e4c4e56b6b8a78e301bfb60": {
          "model_module": "@jupyter-widgets/controls",
          "model_name": "ProgressStyleModel",
          "model_module_version": "1.5.0",
          "state": {
            "_model_module": "@jupyter-widgets/controls",
            "_model_module_version": "1.5.0",
            "_model_name": "ProgressStyleModel",
            "_view_count": null,
            "_view_module": "@jupyter-widgets/base",
            "_view_module_version": "1.2.0",
            "_view_name": "StyleView",
            "bar_color": null,
            "description_width": ""
          }
        },
        "9750b8ac16294050bf573d5266785269": {
          "model_module": "@jupyter-widgets/base",
          "model_name": "LayoutModel",
          "model_module_version": "1.2.0",
          "state": {
            "_model_module": "@jupyter-widgets/base",
            "_model_module_version": "1.2.0",
            "_model_name": "LayoutModel",
            "_view_count": null,
            "_view_module": "@jupyter-widgets/base",
            "_view_module_version": "1.2.0",
            "_view_name": "LayoutView",
            "align_content": null,
            "align_items": null,
            "align_self": null,
            "border": null,
            "bottom": null,
            "display": null,
            "flex": null,
            "flex_flow": null,
            "grid_area": null,
            "grid_auto_columns": null,
            "grid_auto_flow": null,
            "grid_auto_rows": null,
            "grid_column": null,
            "grid_gap": null,
            "grid_row": null,
            "grid_template_areas": null,
            "grid_template_columns": null,
            "grid_template_rows": null,
            "height": null,
            "justify_content": null,
            "justify_items": null,
            "left": null,
            "margin": null,
            "max_height": null,
            "max_width": null,
            "min_height": null,
            "min_width": null,
            "object_fit": null,
            "object_position": null,
            "order": null,
            "overflow": null,
            "overflow_x": null,
            "overflow_y": null,
            "padding": null,
            "right": null,
            "top": null,
            "visibility": null,
            "width": null
          }
        },
        "219b8c31829c4f668025fcaebb862484": {
          "model_module": "@jupyter-widgets/controls",
          "model_name": "DescriptionStyleModel",
          "model_module_version": "1.5.0",
          "state": {
            "_model_module": "@jupyter-widgets/controls",
            "_model_module_version": "1.5.0",
            "_model_name": "DescriptionStyleModel",
            "_view_count": null,
            "_view_module": "@jupyter-widgets/base",
            "_view_module_version": "1.2.0",
            "_view_name": "StyleView",
            "description_width": ""
          }
        },
        "00104849247641e6a95ba0d6bcc3f652": {
          "model_module": "@jupyter-widgets/controls",
          "model_name": "HBoxModel",
          "model_module_version": "1.5.0",
          "state": {
            "_dom_classes": [],
            "_model_module": "@jupyter-widgets/controls",
            "_model_module_version": "1.5.0",
            "_model_name": "HBoxModel",
            "_view_count": null,
            "_view_module": "@jupyter-widgets/controls",
            "_view_module_version": "1.5.0",
            "_view_name": "HBoxView",
            "box_style": "",
            "children": [
              "IPY_MODEL_f638bb874fe5418a94bf997e765963c1",
              "IPY_MODEL_01a2b7b5c2fb4150b5f15bff0fd34ce3",
              "IPY_MODEL_ce4c83dc08744ccdafe0644343e83c4e"
            ],
            "layout": "IPY_MODEL_eb6862a12ee842e6a5acd9b7a94327e7"
          }
        },
        "f638bb874fe5418a94bf997e765963c1": {
          "model_module": "@jupyter-widgets/controls",
          "model_name": "HTMLModel",
          "model_module_version": "1.5.0",
          "state": {
            "_dom_classes": [],
            "_model_module": "@jupyter-widgets/controls",
            "_model_module_version": "1.5.0",
            "_model_name": "HTMLModel",
            "_view_count": null,
            "_view_module": "@jupyter-widgets/controls",
            "_view_module_version": "1.5.0",
            "_view_name": "HTMLView",
            "description": "",
            "description_tooltip": null,
            "layout": "IPY_MODEL_68ce5ed6014e49b9b938456a310a41c3",
            "placeholder": "​",
            "style": "IPY_MODEL_d8402829226e46cbafe6a179d0f03305",
            "value": "Map: 100%"
          }
        },
        "01a2b7b5c2fb4150b5f15bff0fd34ce3": {
          "model_module": "@jupyter-widgets/controls",
          "model_name": "FloatProgressModel",
          "model_module_version": "1.5.0",
          "state": {
            "_dom_classes": [],
            "_model_module": "@jupyter-widgets/controls",
            "_model_module_version": "1.5.0",
            "_model_name": "FloatProgressModel",
            "_view_count": null,
            "_view_module": "@jupyter-widgets/controls",
            "_view_module_version": "1.5.0",
            "_view_name": "ProgressView",
            "bar_style": "success",
            "description": "",
            "description_tooltip": null,
            "layout": "IPY_MODEL_5ef90c3451d440d6bad2ebfedd537986",
            "max": 60791,
            "min": 0,
            "orientation": "horizontal",
            "style": "IPY_MODEL_13f2be22e543402eac4bc4b4fefd8177",
            "value": 60791
          }
        },
        "ce4c83dc08744ccdafe0644343e83c4e": {
          "model_module": "@jupyter-widgets/controls",
          "model_name": "HTMLModel",
          "model_module_version": "1.5.0",
          "state": {
            "_dom_classes": [],
            "_model_module": "@jupyter-widgets/controls",
            "_model_module_version": "1.5.0",
            "_model_name": "HTMLModel",
            "_view_count": null,
            "_view_module": "@jupyter-widgets/controls",
            "_view_module_version": "1.5.0",
            "_view_name": "HTMLView",
            "description": "",
            "description_tooltip": null,
            "layout": "IPY_MODEL_060b1d8c7b9547e586cb9d955e16593f",
            "placeholder": "​",
            "style": "IPY_MODEL_7879b4cc98d243cdbb76d06c4fedda00",
            "value": " 60791/60791 [00:03&lt;00:00, 19852.78 examples/s]"
          }
        },
        "eb6862a12ee842e6a5acd9b7a94327e7": {
          "model_module": "@jupyter-widgets/base",
          "model_name": "LayoutModel",
          "model_module_version": "1.2.0",
          "state": {
            "_model_module": "@jupyter-widgets/base",
            "_model_module_version": "1.2.0",
            "_model_name": "LayoutModel",
            "_view_count": null,
            "_view_module": "@jupyter-widgets/base",
            "_view_module_version": "1.2.0",
            "_view_name": "LayoutView",
            "align_content": null,
            "align_items": null,
            "align_self": null,
            "border": null,
            "bottom": null,
            "display": null,
            "flex": null,
            "flex_flow": null,
            "grid_area": null,
            "grid_auto_columns": null,
            "grid_auto_flow": null,
            "grid_auto_rows": null,
            "grid_column": null,
            "grid_gap": null,
            "grid_row": null,
            "grid_template_areas": null,
            "grid_template_columns": null,
            "grid_template_rows": null,
            "height": null,
            "justify_content": null,
            "justify_items": null,
            "left": null,
            "margin": null,
            "max_height": null,
            "max_width": null,
            "min_height": null,
            "min_width": null,
            "object_fit": null,
            "object_position": null,
            "order": null,
            "overflow": null,
            "overflow_x": null,
            "overflow_y": null,
            "padding": null,
            "right": null,
            "top": null,
            "visibility": null,
            "width": null
          }
        },
        "68ce5ed6014e49b9b938456a310a41c3": {
          "model_module": "@jupyter-widgets/base",
          "model_name": "LayoutModel",
          "model_module_version": "1.2.0",
          "state": {
            "_model_module": "@jupyter-widgets/base",
            "_model_module_version": "1.2.0",
            "_model_name": "LayoutModel",
            "_view_count": null,
            "_view_module": "@jupyter-widgets/base",
            "_view_module_version": "1.2.0",
            "_view_name": "LayoutView",
            "align_content": null,
            "align_items": null,
            "align_self": null,
            "border": null,
            "bottom": null,
            "display": null,
            "flex": null,
            "flex_flow": null,
            "grid_area": null,
            "grid_auto_columns": null,
            "grid_auto_flow": null,
            "grid_auto_rows": null,
            "grid_column": null,
            "grid_gap": null,
            "grid_row": null,
            "grid_template_areas": null,
            "grid_template_columns": null,
            "grid_template_rows": null,
            "height": null,
            "justify_content": null,
            "justify_items": null,
            "left": null,
            "margin": null,
            "max_height": null,
            "max_width": null,
            "min_height": null,
            "min_width": null,
            "object_fit": null,
            "object_position": null,
            "order": null,
            "overflow": null,
            "overflow_x": null,
            "overflow_y": null,
            "padding": null,
            "right": null,
            "top": null,
            "visibility": null,
            "width": null
          }
        },
        "d8402829226e46cbafe6a179d0f03305": {
          "model_module": "@jupyter-widgets/controls",
          "model_name": "DescriptionStyleModel",
          "model_module_version": "1.5.0",
          "state": {
            "_model_module": "@jupyter-widgets/controls",
            "_model_module_version": "1.5.0",
            "_model_name": "DescriptionStyleModel",
            "_view_count": null,
            "_view_module": "@jupyter-widgets/base",
            "_view_module_version": "1.2.0",
            "_view_name": "StyleView",
            "description_width": ""
          }
        },
        "5ef90c3451d440d6bad2ebfedd537986": {
          "model_module": "@jupyter-widgets/base",
          "model_name": "LayoutModel",
          "model_module_version": "1.2.0",
          "state": {
            "_model_module": "@jupyter-widgets/base",
            "_model_module_version": "1.2.0",
            "_model_name": "LayoutModel",
            "_view_count": null,
            "_view_module": "@jupyter-widgets/base",
            "_view_module_version": "1.2.0",
            "_view_name": "LayoutView",
            "align_content": null,
            "align_items": null,
            "align_self": null,
            "border": null,
            "bottom": null,
            "display": null,
            "flex": null,
            "flex_flow": null,
            "grid_area": null,
            "grid_auto_columns": null,
            "grid_auto_flow": null,
            "grid_auto_rows": null,
            "grid_column": null,
            "grid_gap": null,
            "grid_row": null,
            "grid_template_areas": null,
            "grid_template_columns": null,
            "grid_template_rows": null,
            "height": null,
            "justify_content": null,
            "justify_items": null,
            "left": null,
            "margin": null,
            "max_height": null,
            "max_width": null,
            "min_height": null,
            "min_width": null,
            "object_fit": null,
            "object_position": null,
            "order": null,
            "overflow": null,
            "overflow_x": null,
            "overflow_y": null,
            "padding": null,
            "right": null,
            "top": null,
            "visibility": null,
            "width": null
          }
        },
        "13f2be22e543402eac4bc4b4fefd8177": {
          "model_module": "@jupyter-widgets/controls",
          "model_name": "ProgressStyleModel",
          "model_module_version": "1.5.0",
          "state": {
            "_model_module": "@jupyter-widgets/controls",
            "_model_module_version": "1.5.0",
            "_model_name": "ProgressStyleModel",
            "_view_count": null,
            "_view_module": "@jupyter-widgets/base",
            "_view_module_version": "1.2.0",
            "_view_name": "StyleView",
            "bar_color": null,
            "description_width": ""
          }
        },
        "060b1d8c7b9547e586cb9d955e16593f": {
          "model_module": "@jupyter-widgets/base",
          "model_name": "LayoutModel",
          "model_module_version": "1.2.0",
          "state": {
            "_model_module": "@jupyter-widgets/base",
            "_model_module_version": "1.2.0",
            "_model_name": "LayoutModel",
            "_view_count": null,
            "_view_module": "@jupyter-widgets/base",
            "_view_module_version": "1.2.0",
            "_view_name": "LayoutView",
            "align_content": null,
            "align_items": null,
            "align_self": null,
            "border": null,
            "bottom": null,
            "display": null,
            "flex": null,
            "flex_flow": null,
            "grid_area": null,
            "grid_auto_columns": null,
            "grid_auto_flow": null,
            "grid_auto_rows": null,
            "grid_column": null,
            "grid_gap": null,
            "grid_row": null,
            "grid_template_areas": null,
            "grid_template_columns": null,
            "grid_template_rows": null,
            "height": null,
            "justify_content": null,
            "justify_items": null,
            "left": null,
            "margin": null,
            "max_height": null,
            "max_width": null,
            "min_height": null,
            "min_width": null,
            "object_fit": null,
            "object_position": null,
            "order": null,
            "overflow": null,
            "overflow_x": null,
            "overflow_y": null,
            "padding": null,
            "right": null,
            "top": null,
            "visibility": null,
            "width": null
          }
        },
        "7879b4cc98d243cdbb76d06c4fedda00": {
          "model_module": "@jupyter-widgets/controls",
          "model_name": "DescriptionStyleModel",
          "model_module_version": "1.5.0",
          "state": {
            "_model_module": "@jupyter-widgets/controls",
            "_model_module_version": "1.5.0",
            "_model_name": "DescriptionStyleModel",
            "_view_count": null,
            "_view_module": "@jupyter-widgets/base",
            "_view_module_version": "1.2.0",
            "_view_name": "StyleView",
            "description_width": ""
          }
        },
        "3b56fb88366b45c1b9b734ead9c0d201": {
          "model_module": "@jupyter-widgets/controls",
          "model_name": "HBoxModel",
          "model_module_version": "1.5.0",
          "state": {
            "_dom_classes": [],
            "_model_module": "@jupyter-widgets/controls",
            "_model_module_version": "1.5.0",
            "_model_name": "HBoxModel",
            "_view_count": null,
            "_view_module": "@jupyter-widgets/controls",
            "_view_module_version": "1.5.0",
            "_view_name": "HBoxView",
            "box_style": "",
            "children": [
              "IPY_MODEL_320c1497d5c247b38c8a2b096de69c18",
              "IPY_MODEL_263441a3000d46da883bc8a9d69433fc",
              "IPY_MODEL_a0000829e55147f5b44dd9b9be5985f2"
            ],
            "layout": "IPY_MODEL_4e839145cf434df7af35d85299b8c40b"
          }
        },
        "320c1497d5c247b38c8a2b096de69c18": {
          "model_module": "@jupyter-widgets/controls",
          "model_name": "HTMLModel",
          "model_module_version": "1.5.0",
          "state": {
            "_dom_classes": [],
            "_model_module": "@jupyter-widgets/controls",
            "_model_module_version": "1.5.0",
            "_model_name": "HTMLModel",
            "_view_count": null,
            "_view_module": "@jupyter-widgets/controls",
            "_view_module_version": "1.5.0",
            "_view_name": "HTMLView",
            "description": "",
            "description_tooltip": null,
            "layout": "IPY_MODEL_999b482a1e77467e873a922638ee1b64",
            "placeholder": "​",
            "style": "IPY_MODEL_94840b00886e4ea9980f830a43b90649",
            "value": "Map: 100%"
          }
        },
        "263441a3000d46da883bc8a9d69433fc": {
          "model_module": "@jupyter-widgets/controls",
          "model_name": "FloatProgressModel",
          "model_module_version": "1.5.0",
          "state": {
            "_dom_classes": [],
            "_model_module": "@jupyter-widgets/controls",
            "_model_module_version": "1.5.0",
            "_model_name": "FloatProgressModel",
            "_view_count": null,
            "_view_module": "@jupyter-widgets/controls",
            "_view_module_version": "1.5.0",
            "_view_name": "ProgressView",
            "bar_style": "success",
            "description": "",
            "description_tooltip": null,
            "layout": "IPY_MODEL_52ded18c3dd04b57b283288aedeae84d",
            "max": 60791,
            "min": 0,
            "orientation": "horizontal",
            "style": "IPY_MODEL_f66b3e6c6f8141fc9aed4aca3655e05a",
            "value": 60791
          }
        },
        "a0000829e55147f5b44dd9b9be5985f2": {
          "model_module": "@jupyter-widgets/controls",
          "model_name": "HTMLModel",
          "model_module_version": "1.5.0",
          "state": {
            "_dom_classes": [],
            "_model_module": "@jupyter-widgets/controls",
            "_model_module_version": "1.5.0",
            "_model_name": "HTMLModel",
            "_view_count": null,
            "_view_module": "@jupyter-widgets/controls",
            "_view_module_version": "1.5.0",
            "_view_name": "HTMLView",
            "description": "",
            "description_tooltip": null,
            "layout": "IPY_MODEL_cffe83f00c4a4684991193da5bc2cb7a",
            "placeholder": "​",
            "style": "IPY_MODEL_c7e351a3d9744d86831f213780520746",
            "value": " 60791/60791 [00:03&lt;00:00, 19423.67 examples/s]"
          }
        },
        "4e839145cf434df7af35d85299b8c40b": {
          "model_module": "@jupyter-widgets/base",
          "model_name": "LayoutModel",
          "model_module_version": "1.2.0",
          "state": {
            "_model_module": "@jupyter-widgets/base",
            "_model_module_version": "1.2.0",
            "_model_name": "LayoutModel",
            "_view_count": null,
            "_view_module": "@jupyter-widgets/base",
            "_view_module_version": "1.2.0",
            "_view_name": "LayoutView",
            "align_content": null,
            "align_items": null,
            "align_self": null,
            "border": null,
            "bottom": null,
            "display": null,
            "flex": null,
            "flex_flow": null,
            "grid_area": null,
            "grid_auto_columns": null,
            "grid_auto_flow": null,
            "grid_auto_rows": null,
            "grid_column": null,
            "grid_gap": null,
            "grid_row": null,
            "grid_template_areas": null,
            "grid_template_columns": null,
            "grid_template_rows": null,
            "height": null,
            "justify_content": null,
            "justify_items": null,
            "left": null,
            "margin": null,
            "max_height": null,
            "max_width": null,
            "min_height": null,
            "min_width": null,
            "object_fit": null,
            "object_position": null,
            "order": null,
            "overflow": null,
            "overflow_x": null,
            "overflow_y": null,
            "padding": null,
            "right": null,
            "top": null,
            "visibility": null,
            "width": null
          }
        },
        "999b482a1e77467e873a922638ee1b64": {
          "model_module": "@jupyter-widgets/base",
          "model_name": "LayoutModel",
          "model_module_version": "1.2.0",
          "state": {
            "_model_module": "@jupyter-widgets/base",
            "_model_module_version": "1.2.0",
            "_model_name": "LayoutModel",
            "_view_count": null,
            "_view_module": "@jupyter-widgets/base",
            "_view_module_version": "1.2.0",
            "_view_name": "LayoutView",
            "align_content": null,
            "align_items": null,
            "align_self": null,
            "border": null,
            "bottom": null,
            "display": null,
            "flex": null,
            "flex_flow": null,
            "grid_area": null,
            "grid_auto_columns": null,
            "grid_auto_flow": null,
            "grid_auto_rows": null,
            "grid_column": null,
            "grid_gap": null,
            "grid_row": null,
            "grid_template_areas": null,
            "grid_template_columns": null,
            "grid_template_rows": null,
            "height": null,
            "justify_content": null,
            "justify_items": null,
            "left": null,
            "margin": null,
            "max_height": null,
            "max_width": null,
            "min_height": null,
            "min_width": null,
            "object_fit": null,
            "object_position": null,
            "order": null,
            "overflow": null,
            "overflow_x": null,
            "overflow_y": null,
            "padding": null,
            "right": null,
            "top": null,
            "visibility": null,
            "width": null
          }
        },
        "94840b00886e4ea9980f830a43b90649": {
          "model_module": "@jupyter-widgets/controls",
          "model_name": "DescriptionStyleModel",
          "model_module_version": "1.5.0",
          "state": {
            "_model_module": "@jupyter-widgets/controls",
            "_model_module_version": "1.5.0",
            "_model_name": "DescriptionStyleModel",
            "_view_count": null,
            "_view_module": "@jupyter-widgets/base",
            "_view_module_version": "1.2.0",
            "_view_name": "StyleView",
            "description_width": ""
          }
        },
        "52ded18c3dd04b57b283288aedeae84d": {
          "model_module": "@jupyter-widgets/base",
          "model_name": "LayoutModel",
          "model_module_version": "1.2.0",
          "state": {
            "_model_module": "@jupyter-widgets/base",
            "_model_module_version": "1.2.0",
            "_model_name": "LayoutModel",
            "_view_count": null,
            "_view_module": "@jupyter-widgets/base",
            "_view_module_version": "1.2.0",
            "_view_name": "LayoutView",
            "align_content": null,
            "align_items": null,
            "align_self": null,
            "border": null,
            "bottom": null,
            "display": null,
            "flex": null,
            "flex_flow": null,
            "grid_area": null,
            "grid_auto_columns": null,
            "grid_auto_flow": null,
            "grid_auto_rows": null,
            "grid_column": null,
            "grid_gap": null,
            "grid_row": null,
            "grid_template_areas": null,
            "grid_template_columns": null,
            "grid_template_rows": null,
            "height": null,
            "justify_content": null,
            "justify_items": null,
            "left": null,
            "margin": null,
            "max_height": null,
            "max_width": null,
            "min_height": null,
            "min_width": null,
            "object_fit": null,
            "object_position": null,
            "order": null,
            "overflow": null,
            "overflow_x": null,
            "overflow_y": null,
            "padding": null,
            "right": null,
            "top": null,
            "visibility": null,
            "width": null
          }
        },
        "f66b3e6c6f8141fc9aed4aca3655e05a": {
          "model_module": "@jupyter-widgets/controls",
          "model_name": "ProgressStyleModel",
          "model_module_version": "1.5.0",
          "state": {
            "_model_module": "@jupyter-widgets/controls",
            "_model_module_version": "1.5.0",
            "_model_name": "ProgressStyleModel",
            "_view_count": null,
            "_view_module": "@jupyter-widgets/base",
            "_view_module_version": "1.2.0",
            "_view_name": "StyleView",
            "bar_color": null,
            "description_width": ""
          }
        },
        "cffe83f00c4a4684991193da5bc2cb7a": {
          "model_module": "@jupyter-widgets/base",
          "model_name": "LayoutModel",
          "model_module_version": "1.2.0",
          "state": {
            "_model_module": "@jupyter-widgets/base",
            "_model_module_version": "1.2.0",
            "_model_name": "LayoutModel",
            "_view_count": null,
            "_view_module": "@jupyter-widgets/base",
            "_view_module_version": "1.2.0",
            "_view_name": "LayoutView",
            "align_content": null,
            "align_items": null,
            "align_self": null,
            "border": null,
            "bottom": null,
            "display": null,
            "flex": null,
            "flex_flow": null,
            "grid_area": null,
            "grid_auto_columns": null,
            "grid_auto_flow": null,
            "grid_auto_rows": null,
            "grid_column": null,
            "grid_gap": null,
            "grid_row": null,
            "grid_template_areas": null,
            "grid_template_columns": null,
            "grid_template_rows": null,
            "height": null,
            "justify_content": null,
            "justify_items": null,
            "left": null,
            "margin": null,
            "max_height": null,
            "max_width": null,
            "min_height": null,
            "min_width": null,
            "object_fit": null,
            "object_position": null,
            "order": null,
            "overflow": null,
            "overflow_x": null,
            "overflow_y": null,
            "padding": null,
            "right": null,
            "top": null,
            "visibility": null,
            "width": null
          }
        },
        "c7e351a3d9744d86831f213780520746": {
          "model_module": "@jupyter-widgets/controls",
          "model_name": "DescriptionStyleModel",
          "model_module_version": "1.5.0",
          "state": {
            "_model_module": "@jupyter-widgets/controls",
            "_model_module_version": "1.5.0",
            "_model_name": "DescriptionStyleModel",
            "_view_count": null,
            "_view_module": "@jupyter-widgets/base",
            "_view_module_version": "1.2.0",
            "_view_name": "StyleView",
            "description_width": ""
          }
        },
        "429bfd9abde64107ae9b8bba03e43c5e": {
          "model_module": "@jupyter-widgets/controls",
          "model_name": "HBoxModel",
          "model_module_version": "1.5.0",
          "state": {
            "_dom_classes": [],
            "_model_module": "@jupyter-widgets/controls",
            "_model_module_version": "1.5.0",
            "_model_name": "HBoxModel",
            "_view_count": null,
            "_view_module": "@jupyter-widgets/controls",
            "_view_module_version": "1.5.0",
            "_view_name": "HBoxView",
            "box_style": "",
            "children": [
              "IPY_MODEL_8d85f79dcb934ac5a55262bb35943540",
              "IPY_MODEL_f98b7f88d36442aabd80a9939cf76fee",
              "IPY_MODEL_449478c10a9e440e9e46a843dbeffb52"
            ],
            "layout": "IPY_MODEL_6ca93e9941464dd99215c818d27b325f"
          }
        },
        "8d85f79dcb934ac5a55262bb35943540": {
          "model_module": "@jupyter-widgets/controls",
          "model_name": "HTMLModel",
          "model_module_version": "1.5.0",
          "state": {
            "_dom_classes": [],
            "_model_module": "@jupyter-widgets/controls",
            "_model_module_version": "1.5.0",
            "_model_name": "HTMLModel",
            "_view_count": null,
            "_view_module": "@jupyter-widgets/controls",
            "_view_module_version": "1.5.0",
            "_view_name": "HTMLView",
            "description": "",
            "description_tooltip": null,
            "layout": "IPY_MODEL_7367edcb48bb47778d638c6f4b418e54",
            "placeholder": "​",
            "style": "IPY_MODEL_6eba8de054884e4a8e89fbcb1fb5be7d",
            "value": "Map: 100%"
          }
        },
        "f98b7f88d36442aabd80a9939cf76fee": {
          "model_module": "@jupyter-widgets/controls",
          "model_name": "FloatProgressModel",
          "model_module_version": "1.5.0",
          "state": {
            "_dom_classes": [],
            "_model_module": "@jupyter-widgets/controls",
            "_model_module_version": "1.5.0",
            "_model_name": "FloatProgressModel",
            "_view_count": null,
            "_view_module": "@jupyter-widgets/controls",
            "_view_module_version": "1.5.0",
            "_view_name": "ProgressView",
            "bar_style": "success",
            "description": "",
            "description_tooltip": null,
            "layout": "IPY_MODEL_b0cecba923624d389163f9387db67ac5",
            "max": 283685,
            "min": 0,
            "orientation": "horizontal",
            "style": "IPY_MODEL_d254e188bf164e1f8b701c5b858813ca",
            "value": 283685
          }
        },
        "449478c10a9e440e9e46a843dbeffb52": {
          "model_module": "@jupyter-widgets/controls",
          "model_name": "HTMLModel",
          "model_module_version": "1.5.0",
          "state": {
            "_dom_classes": [],
            "_model_module": "@jupyter-widgets/controls",
            "_model_module_version": "1.5.0",
            "_model_name": "HTMLModel",
            "_view_count": null,
            "_view_module": "@jupyter-widgets/controls",
            "_view_module_version": "1.5.0",
            "_view_name": "HTMLView",
            "description": "",
            "description_tooltip": null,
            "layout": "IPY_MODEL_f7bd58a1e1bd45b9b21a88c570013cb0",
            "placeholder": "​",
            "style": "IPY_MODEL_4b2b39680da0412db5eb3e6b696a4506",
            "value": " 283685/283685 [01:18&lt;00:00, 3725.85 examples/s]"
          }
        },
        "6ca93e9941464dd99215c818d27b325f": {
          "model_module": "@jupyter-widgets/base",
          "model_name": "LayoutModel",
          "model_module_version": "1.2.0",
          "state": {
            "_model_module": "@jupyter-widgets/base",
            "_model_module_version": "1.2.0",
            "_model_name": "LayoutModel",
            "_view_count": null,
            "_view_module": "@jupyter-widgets/base",
            "_view_module_version": "1.2.0",
            "_view_name": "LayoutView",
            "align_content": null,
            "align_items": null,
            "align_self": null,
            "border": null,
            "bottom": null,
            "display": null,
            "flex": null,
            "flex_flow": null,
            "grid_area": null,
            "grid_auto_columns": null,
            "grid_auto_flow": null,
            "grid_auto_rows": null,
            "grid_column": null,
            "grid_gap": null,
            "grid_row": null,
            "grid_template_areas": null,
            "grid_template_columns": null,
            "grid_template_rows": null,
            "height": null,
            "justify_content": null,
            "justify_items": null,
            "left": null,
            "margin": null,
            "max_height": null,
            "max_width": null,
            "min_height": null,
            "min_width": null,
            "object_fit": null,
            "object_position": null,
            "order": null,
            "overflow": null,
            "overflow_x": null,
            "overflow_y": null,
            "padding": null,
            "right": null,
            "top": null,
            "visibility": null,
            "width": null
          }
        },
        "7367edcb48bb47778d638c6f4b418e54": {
          "model_module": "@jupyter-widgets/base",
          "model_name": "LayoutModel",
          "model_module_version": "1.2.0",
          "state": {
            "_model_module": "@jupyter-widgets/base",
            "_model_module_version": "1.2.0",
            "_model_name": "LayoutModel",
            "_view_count": null,
            "_view_module": "@jupyter-widgets/base",
            "_view_module_version": "1.2.0",
            "_view_name": "LayoutView",
            "align_content": null,
            "align_items": null,
            "align_self": null,
            "border": null,
            "bottom": null,
            "display": null,
            "flex": null,
            "flex_flow": null,
            "grid_area": null,
            "grid_auto_columns": null,
            "grid_auto_flow": null,
            "grid_auto_rows": null,
            "grid_column": null,
            "grid_gap": null,
            "grid_row": null,
            "grid_template_areas": null,
            "grid_template_columns": null,
            "grid_template_rows": null,
            "height": null,
            "justify_content": null,
            "justify_items": null,
            "left": null,
            "margin": null,
            "max_height": null,
            "max_width": null,
            "min_height": null,
            "min_width": null,
            "object_fit": null,
            "object_position": null,
            "order": null,
            "overflow": null,
            "overflow_x": null,
            "overflow_y": null,
            "padding": null,
            "right": null,
            "top": null,
            "visibility": null,
            "width": null
          }
        },
        "6eba8de054884e4a8e89fbcb1fb5be7d": {
          "model_module": "@jupyter-widgets/controls",
          "model_name": "DescriptionStyleModel",
          "model_module_version": "1.5.0",
          "state": {
            "_model_module": "@jupyter-widgets/controls",
            "_model_module_version": "1.5.0",
            "_model_name": "DescriptionStyleModel",
            "_view_count": null,
            "_view_module": "@jupyter-widgets/base",
            "_view_module_version": "1.2.0",
            "_view_name": "StyleView",
            "description_width": ""
          }
        },
        "b0cecba923624d389163f9387db67ac5": {
          "model_module": "@jupyter-widgets/base",
          "model_name": "LayoutModel",
          "model_module_version": "1.2.0",
          "state": {
            "_model_module": "@jupyter-widgets/base",
            "_model_module_version": "1.2.0",
            "_model_name": "LayoutModel",
            "_view_count": null,
            "_view_module": "@jupyter-widgets/base",
            "_view_module_version": "1.2.0",
            "_view_name": "LayoutView",
            "align_content": null,
            "align_items": null,
            "align_self": null,
            "border": null,
            "bottom": null,
            "display": null,
            "flex": null,
            "flex_flow": null,
            "grid_area": null,
            "grid_auto_columns": null,
            "grid_auto_flow": null,
            "grid_auto_rows": null,
            "grid_column": null,
            "grid_gap": null,
            "grid_row": null,
            "grid_template_areas": null,
            "grid_template_columns": null,
            "grid_template_rows": null,
            "height": null,
            "justify_content": null,
            "justify_items": null,
            "left": null,
            "margin": null,
            "max_height": null,
            "max_width": null,
            "min_height": null,
            "min_width": null,
            "object_fit": null,
            "object_position": null,
            "order": null,
            "overflow": null,
            "overflow_x": null,
            "overflow_y": null,
            "padding": null,
            "right": null,
            "top": null,
            "visibility": null,
            "width": null
          }
        },
        "d254e188bf164e1f8b701c5b858813ca": {
          "model_module": "@jupyter-widgets/controls",
          "model_name": "ProgressStyleModel",
          "model_module_version": "1.5.0",
          "state": {
            "_model_module": "@jupyter-widgets/controls",
            "_model_module_version": "1.5.0",
            "_model_name": "ProgressStyleModel",
            "_view_count": null,
            "_view_module": "@jupyter-widgets/base",
            "_view_module_version": "1.2.0",
            "_view_name": "StyleView",
            "bar_color": null,
            "description_width": ""
          }
        },
        "f7bd58a1e1bd45b9b21a88c570013cb0": {
          "model_module": "@jupyter-widgets/base",
          "model_name": "LayoutModel",
          "model_module_version": "1.2.0",
          "state": {
            "_model_module": "@jupyter-widgets/base",
            "_model_module_version": "1.2.0",
            "_model_name": "LayoutModel",
            "_view_count": null,
            "_view_module": "@jupyter-widgets/base",
            "_view_module_version": "1.2.0",
            "_view_name": "LayoutView",
            "align_content": null,
            "align_items": null,
            "align_self": null,
            "border": null,
            "bottom": null,
            "display": null,
            "flex": null,
            "flex_flow": null,
            "grid_area": null,
            "grid_auto_columns": null,
            "grid_auto_flow": null,
            "grid_auto_rows": null,
            "grid_column": null,
            "grid_gap": null,
            "grid_row": null,
            "grid_template_areas": null,
            "grid_template_columns": null,
            "grid_template_rows": null,
            "height": null,
            "justify_content": null,
            "justify_items": null,
            "left": null,
            "margin": null,
            "max_height": null,
            "max_width": null,
            "min_height": null,
            "min_width": null,
            "object_fit": null,
            "object_position": null,
            "order": null,
            "overflow": null,
            "overflow_x": null,
            "overflow_y": null,
            "padding": null,
            "right": null,
            "top": null,
            "visibility": null,
            "width": null
          }
        },
        "4b2b39680da0412db5eb3e6b696a4506": {
          "model_module": "@jupyter-widgets/controls",
          "model_name": "DescriptionStyleModel",
          "model_module_version": "1.5.0",
          "state": {
            "_model_module": "@jupyter-widgets/controls",
            "_model_module_version": "1.5.0",
            "_model_name": "DescriptionStyleModel",
            "_view_count": null,
            "_view_module": "@jupyter-widgets/base",
            "_view_module_version": "1.2.0",
            "_view_name": "StyleView",
            "description_width": ""
          }
        },
        "6b59fe4a435d454eb9471acb6c8279fb": {
          "model_module": "@jupyter-widgets/controls",
          "model_name": "HBoxModel",
          "model_module_version": "1.5.0",
          "state": {
            "_dom_classes": [],
            "_model_module": "@jupyter-widgets/controls",
            "_model_module_version": "1.5.0",
            "_model_name": "HBoxModel",
            "_view_count": null,
            "_view_module": "@jupyter-widgets/controls",
            "_view_module_version": "1.5.0",
            "_view_name": "HBoxView",
            "box_style": "",
            "children": [
              "IPY_MODEL_281a796d54534d418dbda115f5844ce9",
              "IPY_MODEL_f7e1857f630a49e3847c886d51bf061b",
              "IPY_MODEL_b1aa81dac594430890e0c5e4dd54f971"
            ],
            "layout": "IPY_MODEL_472618330c524c0b96aa062273b71e10"
          }
        },
        "281a796d54534d418dbda115f5844ce9": {
          "model_module": "@jupyter-widgets/controls",
          "model_name": "HTMLModel",
          "model_module_version": "1.5.0",
          "state": {
            "_dom_classes": [],
            "_model_module": "@jupyter-widgets/controls",
            "_model_module_version": "1.5.0",
            "_model_name": "HTMLModel",
            "_view_count": null,
            "_view_module": "@jupyter-widgets/controls",
            "_view_module_version": "1.5.0",
            "_view_name": "HTMLView",
            "description": "",
            "description_tooltip": null,
            "layout": "IPY_MODEL_6c9e2f7ea7ab41fab705ee59da22a757",
            "placeholder": "​",
            "style": "IPY_MODEL_0b77b353598d493b92ccda0592b1909b",
            "value": "Map: 100%"
          }
        },
        "f7e1857f630a49e3847c886d51bf061b": {
          "model_module": "@jupyter-widgets/controls",
          "model_name": "FloatProgressModel",
          "model_module_version": "1.5.0",
          "state": {
            "_dom_classes": [],
            "_model_module": "@jupyter-widgets/controls",
            "_model_module_version": "1.5.0",
            "_model_name": "FloatProgressModel",
            "_view_count": null,
            "_view_module": "@jupyter-widgets/controls",
            "_view_module_version": "1.5.0",
            "_view_name": "ProgressView",
            "bar_style": "success",
            "description": "",
            "description_tooltip": null,
            "layout": "IPY_MODEL_384840402fd14a6aaa5fa1d576bb0171",
            "max": 60791,
            "min": 0,
            "orientation": "horizontal",
            "style": "IPY_MODEL_9db4e7b1e38a4c38a3b06ab9b9164d8e",
            "value": 60791
          }
        },
        "b1aa81dac594430890e0c5e4dd54f971": {
          "model_module": "@jupyter-widgets/controls",
          "model_name": "HTMLModel",
          "model_module_version": "1.5.0",
          "state": {
            "_dom_classes": [],
            "_model_module": "@jupyter-widgets/controls",
            "_model_module_version": "1.5.0",
            "_model_name": "HTMLModel",
            "_view_count": null,
            "_view_module": "@jupyter-widgets/controls",
            "_view_module_version": "1.5.0",
            "_view_name": "HTMLView",
            "description": "",
            "description_tooltip": null,
            "layout": "IPY_MODEL_4ffd93da76804a0cb6d47131b8a6fcb5",
            "placeholder": "​",
            "style": "IPY_MODEL_fbc67bb61f4c459f9fe516c945df78f3",
            "value": " 60791/60791 [00:17&lt;00:00, 3603.92 examples/s]"
          }
        },
        "472618330c524c0b96aa062273b71e10": {
          "model_module": "@jupyter-widgets/base",
          "model_name": "LayoutModel",
          "model_module_version": "1.2.0",
          "state": {
            "_model_module": "@jupyter-widgets/base",
            "_model_module_version": "1.2.0",
            "_model_name": "LayoutModel",
            "_view_count": null,
            "_view_module": "@jupyter-widgets/base",
            "_view_module_version": "1.2.0",
            "_view_name": "LayoutView",
            "align_content": null,
            "align_items": null,
            "align_self": null,
            "border": null,
            "bottom": null,
            "display": null,
            "flex": null,
            "flex_flow": null,
            "grid_area": null,
            "grid_auto_columns": null,
            "grid_auto_flow": null,
            "grid_auto_rows": null,
            "grid_column": null,
            "grid_gap": null,
            "grid_row": null,
            "grid_template_areas": null,
            "grid_template_columns": null,
            "grid_template_rows": null,
            "height": null,
            "justify_content": null,
            "justify_items": null,
            "left": null,
            "margin": null,
            "max_height": null,
            "max_width": null,
            "min_height": null,
            "min_width": null,
            "object_fit": null,
            "object_position": null,
            "order": null,
            "overflow": null,
            "overflow_x": null,
            "overflow_y": null,
            "padding": null,
            "right": null,
            "top": null,
            "visibility": null,
            "width": null
          }
        },
        "6c9e2f7ea7ab41fab705ee59da22a757": {
          "model_module": "@jupyter-widgets/base",
          "model_name": "LayoutModel",
          "model_module_version": "1.2.0",
          "state": {
            "_model_module": "@jupyter-widgets/base",
            "_model_module_version": "1.2.0",
            "_model_name": "LayoutModel",
            "_view_count": null,
            "_view_module": "@jupyter-widgets/base",
            "_view_module_version": "1.2.0",
            "_view_name": "LayoutView",
            "align_content": null,
            "align_items": null,
            "align_self": null,
            "border": null,
            "bottom": null,
            "display": null,
            "flex": null,
            "flex_flow": null,
            "grid_area": null,
            "grid_auto_columns": null,
            "grid_auto_flow": null,
            "grid_auto_rows": null,
            "grid_column": null,
            "grid_gap": null,
            "grid_row": null,
            "grid_template_areas": null,
            "grid_template_columns": null,
            "grid_template_rows": null,
            "height": null,
            "justify_content": null,
            "justify_items": null,
            "left": null,
            "margin": null,
            "max_height": null,
            "max_width": null,
            "min_height": null,
            "min_width": null,
            "object_fit": null,
            "object_position": null,
            "order": null,
            "overflow": null,
            "overflow_x": null,
            "overflow_y": null,
            "padding": null,
            "right": null,
            "top": null,
            "visibility": null,
            "width": null
          }
        },
        "0b77b353598d493b92ccda0592b1909b": {
          "model_module": "@jupyter-widgets/controls",
          "model_name": "DescriptionStyleModel",
          "model_module_version": "1.5.0",
          "state": {
            "_model_module": "@jupyter-widgets/controls",
            "_model_module_version": "1.5.0",
            "_model_name": "DescriptionStyleModel",
            "_view_count": null,
            "_view_module": "@jupyter-widgets/base",
            "_view_module_version": "1.2.0",
            "_view_name": "StyleView",
            "description_width": ""
          }
        },
        "384840402fd14a6aaa5fa1d576bb0171": {
          "model_module": "@jupyter-widgets/base",
          "model_name": "LayoutModel",
          "model_module_version": "1.2.0",
          "state": {
            "_model_module": "@jupyter-widgets/base",
            "_model_module_version": "1.2.0",
            "_model_name": "LayoutModel",
            "_view_count": null,
            "_view_module": "@jupyter-widgets/base",
            "_view_module_version": "1.2.0",
            "_view_name": "LayoutView",
            "align_content": null,
            "align_items": null,
            "align_self": null,
            "border": null,
            "bottom": null,
            "display": null,
            "flex": null,
            "flex_flow": null,
            "grid_area": null,
            "grid_auto_columns": null,
            "grid_auto_flow": null,
            "grid_auto_rows": null,
            "grid_column": null,
            "grid_gap": null,
            "grid_row": null,
            "grid_template_areas": null,
            "grid_template_columns": null,
            "grid_template_rows": null,
            "height": null,
            "justify_content": null,
            "justify_items": null,
            "left": null,
            "margin": null,
            "max_height": null,
            "max_width": null,
            "min_height": null,
            "min_width": null,
            "object_fit": null,
            "object_position": null,
            "order": null,
            "overflow": null,
            "overflow_x": null,
            "overflow_y": null,
            "padding": null,
            "right": null,
            "top": null,
            "visibility": null,
            "width": null
          }
        },
        "9db4e7b1e38a4c38a3b06ab9b9164d8e": {
          "model_module": "@jupyter-widgets/controls",
          "model_name": "ProgressStyleModel",
          "model_module_version": "1.5.0",
          "state": {
            "_model_module": "@jupyter-widgets/controls",
            "_model_module_version": "1.5.0",
            "_model_name": "ProgressStyleModel",
            "_view_count": null,
            "_view_module": "@jupyter-widgets/base",
            "_view_module_version": "1.2.0",
            "_view_name": "StyleView",
            "bar_color": null,
            "description_width": ""
          }
        },
        "4ffd93da76804a0cb6d47131b8a6fcb5": {
          "model_module": "@jupyter-widgets/base",
          "model_name": "LayoutModel",
          "model_module_version": "1.2.0",
          "state": {
            "_model_module": "@jupyter-widgets/base",
            "_model_module_version": "1.2.0",
            "_model_name": "LayoutModel",
            "_view_count": null,
            "_view_module": "@jupyter-widgets/base",
            "_view_module_version": "1.2.0",
            "_view_name": "LayoutView",
            "align_content": null,
            "align_items": null,
            "align_self": null,
            "border": null,
            "bottom": null,
            "display": null,
            "flex": null,
            "flex_flow": null,
            "grid_area": null,
            "grid_auto_columns": null,
            "grid_auto_flow": null,
            "grid_auto_rows": null,
            "grid_column": null,
            "grid_gap": null,
            "grid_row": null,
            "grid_template_areas": null,
            "grid_template_columns": null,
            "grid_template_rows": null,
            "height": null,
            "justify_content": null,
            "justify_items": null,
            "left": null,
            "margin": null,
            "max_height": null,
            "max_width": null,
            "min_height": null,
            "min_width": null,
            "object_fit": null,
            "object_position": null,
            "order": null,
            "overflow": null,
            "overflow_x": null,
            "overflow_y": null,
            "padding": null,
            "right": null,
            "top": null,
            "visibility": null,
            "width": null
          }
        },
        "fbc67bb61f4c459f9fe516c945df78f3": {
          "model_module": "@jupyter-widgets/controls",
          "model_name": "DescriptionStyleModel",
          "model_module_version": "1.5.0",
          "state": {
            "_model_module": "@jupyter-widgets/controls",
            "_model_module_version": "1.5.0",
            "_model_name": "DescriptionStyleModel",
            "_view_count": null,
            "_view_module": "@jupyter-widgets/base",
            "_view_module_version": "1.2.0",
            "_view_name": "StyleView",
            "description_width": ""
          }
        },
        "d13d2015db0945af929181752e73cb36": {
          "model_module": "@jupyter-widgets/controls",
          "model_name": "HBoxModel",
          "model_module_version": "1.5.0",
          "state": {
            "_dom_classes": [],
            "_model_module": "@jupyter-widgets/controls",
            "_model_module_version": "1.5.0",
            "_model_name": "HBoxModel",
            "_view_count": null,
            "_view_module": "@jupyter-widgets/controls",
            "_view_module_version": "1.5.0",
            "_view_name": "HBoxView",
            "box_style": "",
            "children": [
              "IPY_MODEL_4bcc9366e40f453aa00be52bd3464be5",
              "IPY_MODEL_85477698adb94f0dbf542f7557bb720a",
              "IPY_MODEL_bb6bce8fe8fe403a990c782f9ad1f14e"
            ],
            "layout": "IPY_MODEL_dd46a7cf974445a08adaa7640f9aa44b"
          }
        },
        "4bcc9366e40f453aa00be52bd3464be5": {
          "model_module": "@jupyter-widgets/controls",
          "model_name": "HTMLModel",
          "model_module_version": "1.5.0",
          "state": {
            "_dom_classes": [],
            "_model_module": "@jupyter-widgets/controls",
            "_model_module_version": "1.5.0",
            "_model_name": "HTMLModel",
            "_view_count": null,
            "_view_module": "@jupyter-widgets/controls",
            "_view_module_version": "1.5.0",
            "_view_name": "HTMLView",
            "description": "",
            "description_tooltip": null,
            "layout": "IPY_MODEL_dda19492e31d433081539251150d8117",
            "placeholder": "​",
            "style": "IPY_MODEL_c77a48f1bf754e65841405da004edcc0",
            "value": "Map: 100%"
          }
        },
        "85477698adb94f0dbf542f7557bb720a": {
          "model_module": "@jupyter-widgets/controls",
          "model_name": "FloatProgressModel",
          "model_module_version": "1.5.0",
          "state": {
            "_dom_classes": [],
            "_model_module": "@jupyter-widgets/controls",
            "_model_module_version": "1.5.0",
            "_model_name": "FloatProgressModel",
            "_view_count": null,
            "_view_module": "@jupyter-widgets/controls",
            "_view_module_version": "1.5.0",
            "_view_name": "ProgressView",
            "bar_style": "success",
            "description": "",
            "description_tooltip": null,
            "layout": "IPY_MODEL_64bd95df851042549623c398d05814d0",
            "max": 60791,
            "min": 0,
            "orientation": "horizontal",
            "style": "IPY_MODEL_ea9a95b0d4e14ea783da2e37ffa652a3",
            "value": 60791
          }
        },
        "bb6bce8fe8fe403a990c782f9ad1f14e": {
          "model_module": "@jupyter-widgets/controls",
          "model_name": "HTMLModel",
          "model_module_version": "1.5.0",
          "state": {
            "_dom_classes": [],
            "_model_module": "@jupyter-widgets/controls",
            "_model_module_version": "1.5.0",
            "_model_name": "HTMLModel",
            "_view_count": null,
            "_view_module": "@jupyter-widgets/controls",
            "_view_module_version": "1.5.0",
            "_view_name": "HTMLView",
            "description": "",
            "description_tooltip": null,
            "layout": "IPY_MODEL_25a5b3dc955a4aae8cd6c700cfac4dc2",
            "placeholder": "​",
            "style": "IPY_MODEL_4dd205f0d0584f4e9b81487e68c6b0cb",
            "value": " 60791/60791 [00:16&lt;00:00, 3777.75 examples/s]"
          }
        },
        "dd46a7cf974445a08adaa7640f9aa44b": {
          "model_module": "@jupyter-widgets/base",
          "model_name": "LayoutModel",
          "model_module_version": "1.2.0",
          "state": {
            "_model_module": "@jupyter-widgets/base",
            "_model_module_version": "1.2.0",
            "_model_name": "LayoutModel",
            "_view_count": null,
            "_view_module": "@jupyter-widgets/base",
            "_view_module_version": "1.2.0",
            "_view_name": "LayoutView",
            "align_content": null,
            "align_items": null,
            "align_self": null,
            "border": null,
            "bottom": null,
            "display": null,
            "flex": null,
            "flex_flow": null,
            "grid_area": null,
            "grid_auto_columns": null,
            "grid_auto_flow": null,
            "grid_auto_rows": null,
            "grid_column": null,
            "grid_gap": null,
            "grid_row": null,
            "grid_template_areas": null,
            "grid_template_columns": null,
            "grid_template_rows": null,
            "height": null,
            "justify_content": null,
            "justify_items": null,
            "left": null,
            "margin": null,
            "max_height": null,
            "max_width": null,
            "min_height": null,
            "min_width": null,
            "object_fit": null,
            "object_position": null,
            "order": null,
            "overflow": null,
            "overflow_x": null,
            "overflow_y": null,
            "padding": null,
            "right": null,
            "top": null,
            "visibility": null,
            "width": null
          }
        },
        "dda19492e31d433081539251150d8117": {
          "model_module": "@jupyter-widgets/base",
          "model_name": "LayoutModel",
          "model_module_version": "1.2.0",
          "state": {
            "_model_module": "@jupyter-widgets/base",
            "_model_module_version": "1.2.0",
            "_model_name": "LayoutModel",
            "_view_count": null,
            "_view_module": "@jupyter-widgets/base",
            "_view_module_version": "1.2.0",
            "_view_name": "LayoutView",
            "align_content": null,
            "align_items": null,
            "align_self": null,
            "border": null,
            "bottom": null,
            "display": null,
            "flex": null,
            "flex_flow": null,
            "grid_area": null,
            "grid_auto_columns": null,
            "grid_auto_flow": null,
            "grid_auto_rows": null,
            "grid_column": null,
            "grid_gap": null,
            "grid_row": null,
            "grid_template_areas": null,
            "grid_template_columns": null,
            "grid_template_rows": null,
            "height": null,
            "justify_content": null,
            "justify_items": null,
            "left": null,
            "margin": null,
            "max_height": null,
            "max_width": null,
            "min_height": null,
            "min_width": null,
            "object_fit": null,
            "object_position": null,
            "order": null,
            "overflow": null,
            "overflow_x": null,
            "overflow_y": null,
            "padding": null,
            "right": null,
            "top": null,
            "visibility": null,
            "width": null
          }
        },
        "c77a48f1bf754e65841405da004edcc0": {
          "model_module": "@jupyter-widgets/controls",
          "model_name": "DescriptionStyleModel",
          "model_module_version": "1.5.0",
          "state": {
            "_model_module": "@jupyter-widgets/controls",
            "_model_module_version": "1.5.0",
            "_model_name": "DescriptionStyleModel",
            "_view_count": null,
            "_view_module": "@jupyter-widgets/base",
            "_view_module_version": "1.2.0",
            "_view_name": "StyleView",
            "description_width": ""
          }
        },
        "64bd95df851042549623c398d05814d0": {
          "model_module": "@jupyter-widgets/base",
          "model_name": "LayoutModel",
          "model_module_version": "1.2.0",
          "state": {
            "_model_module": "@jupyter-widgets/base",
            "_model_module_version": "1.2.0",
            "_model_name": "LayoutModel",
            "_view_count": null,
            "_view_module": "@jupyter-widgets/base",
            "_view_module_version": "1.2.0",
            "_view_name": "LayoutView",
            "align_content": null,
            "align_items": null,
            "align_self": null,
            "border": null,
            "bottom": null,
            "display": null,
            "flex": null,
            "flex_flow": null,
            "grid_area": null,
            "grid_auto_columns": null,
            "grid_auto_flow": null,
            "grid_auto_rows": null,
            "grid_column": null,
            "grid_gap": null,
            "grid_row": null,
            "grid_template_areas": null,
            "grid_template_columns": null,
            "grid_template_rows": null,
            "height": null,
            "justify_content": null,
            "justify_items": null,
            "left": null,
            "margin": null,
            "max_height": null,
            "max_width": null,
            "min_height": null,
            "min_width": null,
            "object_fit": null,
            "object_position": null,
            "order": null,
            "overflow": null,
            "overflow_x": null,
            "overflow_y": null,
            "padding": null,
            "right": null,
            "top": null,
            "visibility": null,
            "width": null
          }
        },
        "ea9a95b0d4e14ea783da2e37ffa652a3": {
          "model_module": "@jupyter-widgets/controls",
          "model_name": "ProgressStyleModel",
          "model_module_version": "1.5.0",
          "state": {
            "_model_module": "@jupyter-widgets/controls",
            "_model_module_version": "1.5.0",
            "_model_name": "ProgressStyleModel",
            "_view_count": null,
            "_view_module": "@jupyter-widgets/base",
            "_view_module_version": "1.2.0",
            "_view_name": "StyleView",
            "bar_color": null,
            "description_width": ""
          }
        },
        "25a5b3dc955a4aae8cd6c700cfac4dc2": {
          "model_module": "@jupyter-widgets/base",
          "model_name": "LayoutModel",
          "model_module_version": "1.2.0",
          "state": {
            "_model_module": "@jupyter-widgets/base",
            "_model_module_version": "1.2.0",
            "_model_name": "LayoutModel",
            "_view_count": null,
            "_view_module": "@jupyter-widgets/base",
            "_view_module_version": "1.2.0",
            "_view_name": "LayoutView",
            "align_content": null,
            "align_items": null,
            "align_self": null,
            "border": null,
            "bottom": null,
            "display": null,
            "flex": null,
            "flex_flow": null,
            "grid_area": null,
            "grid_auto_columns": null,
            "grid_auto_flow": null,
            "grid_auto_rows": null,
            "grid_column": null,
            "grid_gap": null,
            "grid_row": null,
            "grid_template_areas": null,
            "grid_template_columns": null,
            "grid_template_rows": null,
            "height": null,
            "justify_content": null,
            "justify_items": null,
            "left": null,
            "margin": null,
            "max_height": null,
            "max_width": null,
            "min_height": null,
            "min_width": null,
            "object_fit": null,
            "object_position": null,
            "order": null,
            "overflow": null,
            "overflow_x": null,
            "overflow_y": null,
            "padding": null,
            "right": null,
            "top": null,
            "visibility": null,
            "width": null
          }
        },
        "4dd205f0d0584f4e9b81487e68c6b0cb": {
          "model_module": "@jupyter-widgets/controls",
          "model_name": "DescriptionStyleModel",
          "model_module_version": "1.5.0",
          "state": {
            "_model_module": "@jupyter-widgets/controls",
            "_model_module_version": "1.5.0",
            "_model_name": "DescriptionStyleModel",
            "_view_count": null,
            "_view_module": "@jupyter-widgets/base",
            "_view_module_version": "1.2.0",
            "_view_name": "StyleView",
            "description_width": ""
          }
        }
      }
    }
  },
  "cells": [
    {
      "cell_type": "markdown",
      "metadata": {
        "id": "kLB3I4FKZ5Lr"
      },
      "source": [
        "# Fine-tuning BERT (and friends) for multi-label text classification\n",
        "\n",
        "In this notebook, we are going to fine-tune BERT to predict one or more labels for a given piece of text. Note that this notebook illustrates how to fine-tune a bert-base-uncased model, but you can also fine-tune a RoBERTa, DeBERTa, DistilBERT, CANINE, ... checkpoint in the same way.\n",
        "\n",
        "All of those work in the same way: they add a linear layer on top of the base model, which is used to produce a tensor of shape (batch_size, num_labels), indicating the unnormalized scores for a number of labels for every example in the batch.\n",
        "\n",
        "\n",
        "\n",
        "## Set-up environment\n",
        "\n",
        "First, we install the libraries which we'll use: HuggingFace Transformers and Datasets."
      ]
    },
    {
      "cell_type": "code",
      "source": [],
      "metadata": {
        "id": "axqZhpNUTlAG"
      },
      "execution_count": null,
      "outputs": []
    },
    {
      "cell_type": "code",
      "metadata": {
        "id": "4wxY3x-ZZz8h",
        "executionInfo": {
          "status": "ok",
          "timestamp": 1709543169358,
          "user_tz": 480,
          "elapsed": 6234,
          "user": {
            "displayName": "",
            "userId": ""
          }
        }
      },
      "source": [
        "!pip install -q transformers datasets"
      ],
      "execution_count": 1,
      "outputs": []
    },
    {
      "cell_type": "markdown",
      "metadata": {
        "id": "bIH9NP0MZ6-O"
      },
      "source": [
        "## Load dataset\n",
        "\n",
        "Next, let's download a multi-label text classification dataset from the [hub](https://huggingface.co/).\n",
        "\n",
        "At the time of writing, I picked a random one as follows:   \n",
        "\n",
        "* first, go to the \"datasets\" tab on huggingface.co\n",
        "* next, select the \"multi-label-classification\" tag on the left as well as the the \"1k<10k\" tag (fo find a relatively small dataset).\n",
        "\n",
        "Note that you can also easily load your local data (i.e. csv files, txt files, Parquet files, JSON, ...) as explained [here](https://huggingface.co/docs/datasets/loading.html#local-and-remote-files).\n",
        "\n"
      ]
    },
    {
      "cell_type": "code",
      "source": [
        "# !pip install pyarrow==0.17.1\n",
        "\n",
        "import pandas as pd\n",
        "from datasets import Dataset"
      ],
      "metadata": {
        "id": "-SyuJcZm9ytT",
        "executionInfo": {
          "status": "ok",
          "timestamp": 1709543169807,
          "user_tz": 480,
          "elapsed": 451,
          "user": {
            "displayName": "",
            "userId": ""
          }
        }
      },
      "execution_count": 2,
      "outputs": []
    },
    {
      "cell_type": "code",
      "source": [
        "# !pip install pyarrow==11.0.0"
      ],
      "metadata": {
        "id": "usqMbON2fNG6",
        "executionInfo": {
          "status": "ok",
          "timestamp": 1709543169808,
          "user_tz": 480,
          "elapsed": 4,
          "user": {
            "displayName": "",
            "userId": ""
          }
        }
      },
      "execution_count": 3,
      "outputs": []
    },
    {
      "cell_type": "code",
      "source": [
        "from datasets import Dataset"
      ],
      "metadata": {
        "id": "15_nKleEfCVc",
        "executionInfo": {
          "status": "ok",
          "timestamp": 1709543169808,
          "user_tz": 480,
          "elapsed": 3,
          "user": {
            "displayName": "",
            "userId": ""
          }
        }
      },
      "execution_count": 4,
      "outputs": []
    },
    {
      "cell_type": "code",
      "source": [
        "data_file= '/content/RRAVIPRA_train_final_1%.csv'\n",
        "df_train = pd.read_csv(data_file)\n",
        "\n",
        "data_file= '/content/RRAVIPRA_test_final_1%.csv'\n",
        "df_test = pd.read_csv(data_file)\n",
        "\n",
        "data_file= '/content/RRAVIPRA_val_final_1%.csv'\n",
        "df_val = pd.read_csv(data_file)\n",
        "\n",
        "print(\"train len: \",len(df_train))\n",
        "print(\"test len: \",len(df_test))\n",
        "print(\"val len: \",len(df_val))"
      ],
      "metadata": {
        "colab": {
          "base_uri": "https://localhost:8080/"
        },
        "id": "93C9ZLvA8zr3",
        "executionInfo": {
          "status": "ok",
          "timestamp": 1709543171045,
          "user_tz": 480,
          "elapsed": 1240,
          "user": {
            "displayName": "",
            "userId": ""
          }
        },
        "outputId": "0bbc8301-d074-46fd-c235-100b0738ae69"
      },
      "execution_count": 5,
      "outputs": [
        {
          "output_type": "stream",
          "name": "stdout",
          "text": [
            "train len:  283685\n",
            "test len:  60791\n",
            "val len:  60791\n"
          ]
        }
      ]
    },
    {
      "cell_type": "code",
      "source": [
        "#TESTER\n",
        "# df_train = df_train.iloc[:15000,:]\n",
        "# df_test = df_test.iloc[:1500,:]\n",
        "# df_val = df_val.iloc[:1500,:]"
      ],
      "metadata": {
        "id": "xBcb7o2n_109",
        "executionInfo": {
          "status": "ok",
          "timestamp": 1709543171045,
          "user_tz": 480,
          "elapsed": 6,
          "user": {
            "displayName": "",
            "userId": ""
          }
        }
      },
      "execution_count": 6,
      "outputs": []
    },
    {
      "cell_type": "code",
      "source": [
        "# #synthetic data\n",
        "# import pandas as pd\n",
        "# from datasets import Dataset\n",
        "# data_file= '/content/RRAVIPRA_train_final_.25%.csv'\n",
        "\n",
        "# df = pd.read_csv(data_file)\n",
        "# display(df.head())\n",
        "# # rename the columns\n",
        "# # df = df[['toxicity','text']]\n",
        "# # df.rename(columns={'toxicity':'label', 'text':'message'}, inplace=True)\n",
        "# # df_new = balance_dataset(df)\n",
        "# print(df.head())\n",
        "# df = df.reset_index(drop=True)\n",
        "# display(df.head())\n",
        "# # dataset = Dataset.from_pandas(df)"
      ],
      "metadata": {
        "id": "ppCTyUYjMpPE",
        "executionInfo": {
          "status": "ok",
          "timestamp": 1709543171045,
          "user_tz": 480,
          "elapsed": 6,
          "user": {
            "displayName": "",
            "userId": ""
          }
        }
      },
      "execution_count": 7,
      "outputs": []
    },
    {
      "cell_type": "code",
      "source": [
        "# Check the distribution of labels in the balanced DataFrame\n",
        "label_distribution = df_train['label'].value_counts()\n",
        "\n",
        "# Display the label distribution\n",
        "print(label_distribution)"
      ],
      "metadata": {
        "colab": {
          "base_uri": "https://localhost:8080/"
        },
        "id": "ZvvcjnK-Bh1q",
        "executionInfo": {
          "status": "ok",
          "timestamp": 1709543171045,
          "user_tz": 480,
          "elapsed": 6,
          "user": {
            "displayName": "",
            "userId": ""
          }
        },
        "outputId": "1848de32-08ca-42e9-c02d-41dba8a7c5c8"
      },
      "execution_count": 8,
      "outputs": [
        {
          "output_type": "stream",
          "name": "stdout",
          "text": [
            "0    279942\n",
            "1      3743\n",
            "Name: label, dtype: int64\n"
          ]
        }
      ]
    },
    {
      "cell_type": "code",
      "source": [
        "# !pip install -U imbalanced-learn\n"
      ],
      "metadata": {
        "id": "5eNP5y_vBQsc",
        "executionInfo": {
          "status": "ok",
          "timestamp": 1709543171045,
          "user_tz": 480,
          "elapsed": 4,
          "user": {
            "displayName": "",
            "userId": ""
          }
        }
      },
      "execution_count": 9,
      "outputs": []
    },
    {
      "cell_type": "code",
      "source": [
        "#Testing out baalcned dataset\n",
        "# print(len(df))"
      ],
      "metadata": {
        "id": "4IecQgoKF2kS",
        "executionInfo": {
          "status": "ok",
          "timestamp": 1709543171045,
          "user_tz": 480,
          "elapsed": 4,
          "user": {
            "displayName": "",
            "userId": ""
          }
        }
      },
      "execution_count": 10,
      "outputs": []
    },
    {
      "cell_type": "code",
      "source": [
        "# import pandas as pd\n",
        "# from imblearn.under_sampling import RandomUnderSampler\n",
        "\n",
        "\n",
        "# # Separate features and labels\n",
        "# X = df[['message']]\n",
        "# y = df['label']\n",
        "\n",
        "# # Create an undersampler\n",
        "# undersampler = RandomUnderSampler(sampling_strategy='auto', random_state=42)\n",
        "\n",
        "# # Fit and transform the data to create a balanced DataFrame\n",
        "# X_resampled, y_resampled = undersampler.fit_resample(X, y)\n",
        "\n",
        "# # Create a new DataFrame with the balanced data\n",
        "# balanced_df = pd.DataFrame({'message': X_resampled['message'], 'label': y_resampled})\n",
        "\n",
        "# # Check the distribution of labels in the balanced DataFrame\n",
        "# label_distribution = balanced_df['label'].value_counts()\n",
        "\n",
        "# # Display the label distribution\n",
        "# print(label_distribution)\n",
        "# df = balanced_df.copy()"
      ],
      "metadata": {
        "id": "SPOys67zBTiH",
        "executionInfo": {
          "status": "ok",
          "timestamp": 1709543171045,
          "user_tz": 480,
          "elapsed": 4,
          "user": {
            "displayName": "",
            "userId": ""
          }
        }
      },
      "execution_count": 11,
      "outputs": []
    },
    {
      "cell_type": "code",
      "source": [
        "# label_distribution = df['label'].value_counts()\n",
        "\n",
        "# # Display the label distribution\n",
        "# print(label_distribution)"
      ],
      "metadata": {
        "id": "2xwYVkf9D46F",
        "executionInfo": {
          "status": "ok",
          "timestamp": 1709543171045,
          "user_tz": 480,
          "elapsed": 4,
          "user": {
            "displayName": "",
            "userId": ""
          }
        }
      },
      "execution_count": 12,
      "outputs": []
    },
    {
      "cell_type": "code",
      "source": [
        "# print(len(df))\n",
        "# shuffled_df = df.sample(frac=1, random_state=42)  # Set a random_state for reproducibility\n",
        "# shuffled_df = shuffled_df.dropna()\n",
        "# print(len(shuffled_df))\n",
        "# # Extract 3765 rows\n",
        "# # df_synthetic = shuffled_df.head(3765)\n",
        "# # len(df_synthetic)\n",
        "# df=shuffled_df.copy()"
      ],
      "metadata": {
        "id": "eetGBl0rx5Xp",
        "executionInfo": {
          "status": "ok",
          "timestamp": 1709543171045,
          "user_tz": 480,
          "elapsed": 4,
          "user": {
            "displayName": "",
            "userId": ""
          }
        }
      },
      "execution_count": 13,
      "outputs": []
    },
    {
      "cell_type": "code",
      "source": [
        "\n",
        "# df_synthetic=df_synthetic.reset_index(drop=True)\n",
        "# df_synthetic.head()"
      ],
      "metadata": {
        "id": "fRw_ggz9IAF7",
        "executionInfo": {
          "status": "ok",
          "timestamp": 1709543171045,
          "user_tz": 480,
          "elapsed": 4,
          "user": {
            "displayName": "",
            "userId": ""
          }
        }
      },
      "execution_count": 14,
      "outputs": []
    },
    {
      "cell_type": "code",
      "source": [
        "# df_synthetic['label'] = df_synthetic['label'].fillna(0)\n",
        "# print(\"print\",df_synthetic.dtypes)\n",
        "# df_synthetic['label'] = df_synthetic['label'].astype(int)"
      ],
      "metadata": {
        "id": "c3hrYQrT4fC-",
        "executionInfo": {
          "status": "ok",
          "timestamp": 1709543171045,
          "user_tz": 480,
          "elapsed": 3,
          "user": {
            "displayName": "",
            "userId": ""
          }
        }
      },
      "execution_count": 15,
      "outputs": []
    },
    {
      "cell_type": "code",
      "source": [
        "# #original dataset\n",
        "# import pandas as pd\n",
        "# from datasets import Dataset\n",
        "# data_file= '/content/combined_dataset.csv'\n",
        "\n",
        "# df = pd.read_csv(data_file)\n",
        "# # rename the columns\n",
        "# df = df[['toxicity','text']]\n",
        "# df.rename(columns={'toxicity':'label', 'text':'message'}, inplace=True)\n",
        "# # df_new = balance_dataset(df)\n",
        "# # print(df.head())\n",
        "# df = df.reset_index(drop=True)\n",
        "# display(df.head())\n",
        "\n",
        "# shuffled_df_orig = df.sample(frac=1, random_state=42)\n",
        "\n",
        "# # Extract 151130 rows -> val + test set (30%)\n",
        "# df_test_val = shuffled_df_orig.head(151130)\n",
        "# print(\"len of df_test_val: \",len(df_test_val))\n",
        "# # dataset = Dataset.from_pandas(df)\n",
        "\n",
        "# # Remaining rows for the training set\n",
        "# df_train = shuffled_df_orig[~shuffled_df_orig.index.isin(df_test_val.index)]\n",
        "\n",
        "# # Save the remaining rows in a DataFrame called df_train\n",
        "# df_train.reset_index(drop=True, inplace=True)\n",
        "# print(\"len of df_train: \",len(df_train))"
      ],
      "metadata": {
        "id": "2ntqM3OEz7qA",
        "executionInfo": {
          "status": "ok",
          "timestamp": 1709543171045,
          "user_tz": 480,
          "elapsed": 3,
          "user": {
            "displayName": "",
            "userId": ""
          }
        }
      },
      "execution_count": 16,
      "outputs": []
    },
    {
      "cell_type": "code",
      "source": [
        "# df_train=df_train.reset_index(drop=True)\n",
        "# df_test_val=df_test_val.reset_index(drop=True)\n",
        "\n",
        "# display(df_train.head())\n",
        "# print(df_train.dtypes)\n",
        "# print(df_test_val.dtypes)\n",
        "# display(df_test_val.head())"
      ],
      "metadata": {
        "id": "EL7Jotg37prx",
        "executionInfo": {
          "status": "ok",
          "timestamp": 1709543171045,
          "user_tz": 480,
          "elapsed": 3,
          "user": {
            "displayName": "",
            "userId": ""
          }
        }
      },
      "execution_count": 17,
      "outputs": []
    },
    {
      "cell_type": "code",
      "source": [
        "# #Union of the two\n",
        "# union_df_train = pd.concat([df_train, df_synthetic], ignore_index=True)\n",
        "# union_df_train = union_df_train.sample(frac=1, random_state=42)"
      ],
      "metadata": {
        "id": "nK_TokR90TSx",
        "executionInfo": {
          "status": "ok",
          "timestamp": 1709543171045,
          "user_tz": 480,
          "elapsed": 3,
          "user": {
            "displayName": "",
            "userId": ""
          }
        }
      },
      "execution_count": 18,
      "outputs": []
    },
    {
      "cell_type": "code",
      "source": [
        "# len(union_df_train)"
      ],
      "metadata": {
        "id": "2plKLKGF0d5b",
        "executionInfo": {
          "status": "ok",
          "timestamp": 1709543171046,
          "user_tz": 480,
          "elapsed": 4,
          "user": {
            "displayName": "",
            "userId": ""
          }
        }
      },
      "execution_count": 19,
      "outputs": []
    },
    {
      "cell_type": "code",
      "source": [
        "# from sklearn.model_selection import train_test_split\n",
        "# train_df, val_df = train_test_split(df, test_size=0.2)\n",
        "# test_df, val_df = train_test_split(val_df, test_size=0.5)\n",
        "# # train_df=union_df_train"
      ],
      "metadata": {
        "id": "2o-tBfhX34Kt",
        "executionInfo": {
          "status": "ok",
          "timestamp": 1709543171046,
          "user_tz": 480,
          "elapsed": 4,
          "user": {
            "displayName": "",
            "userId": ""
          }
        }
      },
      "execution_count": 20,
      "outputs": []
    },
    {
      "cell_type": "code",
      "source": [
        "# test_df.to_csv('AB_test_1%.csv')\n",
        "# val_df.to_csv('AB_val_1%.csv')\n",
        "# train_df.to_csv('AB_train_1%.csv')"
      ],
      "metadata": {
        "id": "BvZFItJHJugS",
        "executionInfo": {
          "status": "ok",
          "timestamp": 1709543171046,
          "user_tz": 480,
          "elapsed": 4,
          "user": {
            "displayName": "",
            "userId": ""
          }
        }
      },
      "execution_count": 21,
      "outputs": []
    },
    {
      "cell_type": "code",
      "source": [
        "from sklearn.model_selection import train_test_split\n",
        "from datasets import Dataset, DatasetDict\n",
        "\n",
        "# Assuming df is your full DataFrame\n",
        "# train_df, test_df = train_test_split(df, test_size=0.3)\n",
        "# # Further split the test dataframe into test and validation\n",
        "# test_df, val_df = train_test_split(test_df, test_size=0.5)\n",
        "\n",
        "# Convert the DataFrames into huggingface datasets\n",
        "train_dataset = Dataset.from_pandas(df_train)\n",
        "test_dataset = Dataset.from_pandas(df_test)\n",
        "val_dataset = Dataset.from_pandas(df_val)\n",
        "\n",
        "# Create a DatasetDict\n",
        "dataset = DatasetDict({\n",
        "    'train': train_dataset,\n",
        "    'test': test_dataset,\n",
        "    'validation': val_dataset\n",
        "})\n"
      ],
      "metadata": {
        "id": "2gGt8OeNOzyx",
        "executionInfo": {
          "status": "ok",
          "timestamp": 1709543172172,
          "user_tz": 480,
          "elapsed": 1130,
          "user": {
            "displayName": "",
            "userId": ""
          }
        }
      },
      "execution_count": 22,
      "outputs": []
    },
    {
      "cell_type": "code",
      "source": [
        "dataset"
      ],
      "metadata": {
        "colab": {
          "base_uri": "https://localhost:8080/"
        },
        "id": "6JRW0sZjNi3V",
        "executionInfo": {
          "status": "ok",
          "timestamp": 1709543172173,
          "user_tz": 480,
          "elapsed": 7,
          "user": {
            "displayName": "",
            "userId": ""
          }
        },
        "outputId": "bcbad1cd-9237-464b-a9d3-1dea4fcab9bb"
      },
      "execution_count": 23,
      "outputs": [
        {
          "output_type": "execute_result",
          "data": {
            "text/plain": [
              "DatasetDict({\n",
              "    train: Dataset({\n",
              "        features: ['message', 'label'],\n",
              "        num_rows: 283685\n",
              "    })\n",
              "    test: Dataset({\n",
              "        features: ['message', 'label'],\n",
              "        num_rows: 60791\n",
              "    })\n",
              "    validation: Dataset({\n",
              "        features: ['message', 'label'],\n",
              "        num_rows: 60791\n",
              "    })\n",
              "})"
            ]
          },
          "metadata": {},
          "execution_count": 23
        }
      ]
    },
    {
      "cell_type": "code",
      "metadata": {
        "id": "sd1LiXGjZ420",
        "executionInfo": {
          "status": "ok",
          "timestamp": 1709543172173,
          "user_tz": 480,
          "elapsed": 7,
          "user": {
            "displayName": "",
            "userId": ""
          }
        }
      },
      "source": [
        "# from datasets import load_dataset\n",
        "\n",
        "# dataset = load_dataset(\"sem_eval_2018_task_1\", \"subtask5.english\")"
      ],
      "execution_count": 24,
      "outputs": []
    },
    {
      "cell_type": "markdown",
      "metadata": {
        "id": "QCL02vQgxYTO"
      },
      "source": [
        "As we can see, the dataset contains 3 splits: one for training, one for validation and one for testing."
      ]
    },
    {
      "cell_type": "code",
      "metadata": {
        "colab": {
          "base_uri": "https://localhost:8080/"
        },
        "id": "pRd1kXQZjYIY",
        "outputId": "7498c0c1-2d8e-4856-a956-b41319e228c6",
        "executionInfo": {
          "status": "ok",
          "timestamp": 1709543172174,
          "user_tz": 480,
          "elapsed": 7,
          "user": {
            "displayName": "",
            "userId": ""
          }
        }
      },
      "source": [
        "dataset"
      ],
      "execution_count": 25,
      "outputs": [
        {
          "output_type": "execute_result",
          "data": {
            "text/plain": [
              "DatasetDict({\n",
              "    train: Dataset({\n",
              "        features: ['message', 'label'],\n",
              "        num_rows: 283685\n",
              "    })\n",
              "    test: Dataset({\n",
              "        features: ['message', 'label'],\n",
              "        num_rows: 60791\n",
              "    })\n",
              "    validation: Dataset({\n",
              "        features: ['message', 'label'],\n",
              "        num_rows: 60791\n",
              "    })\n",
              "})"
            ]
          },
          "metadata": {},
          "execution_count": 25
        }
      ]
    },
    {
      "cell_type": "code",
      "source": [
        "\n",
        "\n",
        "# dataset=dataset.remove_columns(column_names='__index_level_0__')\n",
        "\n",
        "# # Print the updated dataset information\n",
        "# print(dataset)"
      ],
      "metadata": {
        "id": "8_yBQeq6TQt4",
        "executionInfo": {
          "status": "ok",
          "timestamp": 1709543172174,
          "user_tz": 480,
          "elapsed": 6,
          "user": {
            "displayName": "",
            "userId": ""
          }
        }
      },
      "execution_count": 26,
      "outputs": []
    },
    {
      "cell_type": "code",
      "source": [
        "# Assuming your dataset is named 'dataset'\n",
        "dataset['train'] = dataset['train'].map(lambda example: {'message': example['message'], 'positive': example['label'] == 1, 'negative': example['label'] == 0})\n",
        "\n",
        "\n",
        "dataset['validation'] = dataset['validation'].map(lambda example: {'message': example['message'], 'positive': example['label'] == 1, 'negative': example['label'] == 0})\n",
        "# dataset=dataset.remove_columns(column_names='label')\n",
        "\n",
        "dataset['test'] = dataset['test'].map(lambda example: {'message': example['message'], 'positive': example['label'] == 1, 'negative': example['label'] == 0})\n",
        "# dataset=dataset.remove_columns(column_names='label')\n",
        "dataset=dataset.remove_columns(column_names='label')\n",
        "# Check the modified dataset\n",
        "print(dataset)\n"
      ],
      "metadata": {
        "colab": {
          "base_uri": "https://localhost:8080/",
          "height": 363,
          "referenced_widgets": [
            "c661f8e5dd3d4de8beca34f54aecc735",
            "ee9467f8e2fb484fb6f1fea07026f819",
            "40c0ef3e9a9f46638bbba65cc097b0d6",
            "8c5a9c9808714f98a9513dc25528092e",
            "1a6361c498804165af60e3d292a19ec8",
            "7719d84e8b974232b17340ccc9d243c6",
            "da46d9398a2447dc97300873cca09b96",
            "c9fe08feb29a4071bc9b74915d37250b",
            "c1d706381e4c4e56b6b8a78e301bfb60",
            "9750b8ac16294050bf573d5266785269",
            "219b8c31829c4f668025fcaebb862484",
            "00104849247641e6a95ba0d6bcc3f652",
            "f638bb874fe5418a94bf997e765963c1",
            "01a2b7b5c2fb4150b5f15bff0fd34ce3",
            "ce4c83dc08744ccdafe0644343e83c4e",
            "eb6862a12ee842e6a5acd9b7a94327e7",
            "68ce5ed6014e49b9b938456a310a41c3",
            "d8402829226e46cbafe6a179d0f03305",
            "5ef90c3451d440d6bad2ebfedd537986",
            "13f2be22e543402eac4bc4b4fefd8177",
            "060b1d8c7b9547e586cb9d955e16593f",
            "7879b4cc98d243cdbb76d06c4fedda00",
            "3b56fb88366b45c1b9b734ead9c0d201",
            "320c1497d5c247b38c8a2b096de69c18",
            "263441a3000d46da883bc8a9d69433fc",
            "a0000829e55147f5b44dd9b9be5985f2",
            "4e839145cf434df7af35d85299b8c40b",
            "999b482a1e77467e873a922638ee1b64",
            "94840b00886e4ea9980f830a43b90649",
            "52ded18c3dd04b57b283288aedeae84d",
            "f66b3e6c6f8141fc9aed4aca3655e05a",
            "cffe83f00c4a4684991193da5bc2cb7a",
            "c7e351a3d9744d86831f213780520746"
          ]
        },
        "id": "t4MVW5ZxUIOZ",
        "executionInfo": {
          "status": "ok",
          "timestamp": 1709543193308,
          "user_tz": 480,
          "elapsed": 21140,
          "user": {
            "displayName": "",
            "userId": ""
          }
        },
        "outputId": "4d48c9b8-1865-442b-daef-77a90c9ba263"
      },
      "execution_count": 27,
      "outputs": [
        {
          "output_type": "display_data",
          "data": {
            "text/plain": [
              "Map:   0%|          | 0/283685 [00:00<?, ? examples/s]"
            ],
            "application/vnd.jupyter.widget-view+json": {
              "version_major": 2,
              "version_minor": 0,
              "model_id": "c661f8e5dd3d4de8beca34f54aecc735"
            }
          },
          "metadata": {}
        },
        {
          "output_type": "display_data",
          "data": {
            "text/plain": [
              "Map:   0%|          | 0/60791 [00:00<?, ? examples/s]"
            ],
            "application/vnd.jupyter.widget-view+json": {
              "version_major": 2,
              "version_minor": 0,
              "model_id": "00104849247641e6a95ba0d6bcc3f652"
            }
          },
          "metadata": {}
        },
        {
          "output_type": "display_data",
          "data": {
            "text/plain": [
              "Map:   0%|          | 0/60791 [00:00<?, ? examples/s]"
            ],
            "application/vnd.jupyter.widget-view+json": {
              "version_major": 2,
              "version_minor": 0,
              "model_id": "3b56fb88366b45c1b9b734ead9c0d201"
            }
          },
          "metadata": {}
        },
        {
          "output_type": "stream",
          "name": "stdout",
          "text": [
            "DatasetDict({\n",
            "    train: Dataset({\n",
            "        features: ['message', 'positive', 'negative'],\n",
            "        num_rows: 283685\n",
            "    })\n",
            "    test: Dataset({\n",
            "        features: ['message', 'positive', 'negative'],\n",
            "        num_rows: 60791\n",
            "    })\n",
            "    validation: Dataset({\n",
            "        features: ['message', 'positive', 'negative'],\n",
            "        num_rows: 60791\n",
            "    })\n",
            "})\n"
          ]
        }
      ]
    },
    {
      "cell_type": "markdown",
      "metadata": {
        "id": "PgS0wMWExcqP"
      },
      "source": [
        "\n",
        "Let's check the first example of the training split:"
      ]
    },
    {
      "cell_type": "code",
      "metadata": {
        "colab": {
          "base_uri": "https://localhost:8080/"
        },
        "id": "unjuTtKUjZI3",
        "outputId": "9b1c5b4b-7f6c-43e0-cc80-1290829462c0",
        "executionInfo": {
          "status": "ok",
          "timestamp": 1709543193308,
          "user_tz": 480,
          "elapsed": 21,
          "user": {
            "displayName": "",
            "userId": ""
          }
        }
      },
      "source": [
        "example = dataset['train'][0]\n",
        "example"
      ],
      "execution_count": 28,
      "outputs": [
        {
          "output_type": "execute_result",
          "data": {
            "text/plain": [
              "{'message': 'she was reported to many times on insta so her acc was deleted',\n",
              " 'positive': False,\n",
              " 'negative': True}"
            ]
          },
          "metadata": {},
          "execution_count": 28
        }
      ]
    },
    {
      "cell_type": "markdown",
      "metadata": {
        "id": "6DV0Rtetxgd4"
      },
      "source": [
        "The dataset consists of tweets, labeled with one or more emotions.\n",
        "\n",
        "Let's create a list that contains the labels, as well as 2 dictionaries that map labels to integers and back."
      ]
    },
    {
      "cell_type": "code",
      "source": [
        "# # Assuming your dataset is a list of dictionaries and each dictionary has a 'your_label_column' key\n",
        "# unique_labels = set(example['label'] for example in dataset['train'])\n",
        "# print(\"Unique Labels:\", unique_labels)\n"
      ],
      "metadata": {
        "id": "rE_64bEnOr6L",
        "executionInfo": {
          "status": "ok",
          "timestamp": 1709543193308,
          "user_tz": 480,
          "elapsed": 19,
          "user": {
            "displayName": "",
            "userId": ""
          }
        }
      },
      "execution_count": 29,
      "outputs": []
    },
    {
      "cell_type": "code",
      "source": [
        "#Positive = True; Means HOT\n",
        "example = dataset['train'][1]\n",
        "example"
      ],
      "metadata": {
        "colab": {
          "base_uri": "https://localhost:8080/"
        },
        "id": "2x_PEfN4SH-A",
        "executionInfo": {
          "status": "ok",
          "timestamp": 1709543193308,
          "user_tz": 480,
          "elapsed": 18,
          "user": {
            "displayName": "",
            "userId": ""
          }
        },
        "outputId": "d1663520-74ef-45c9-cc48-73b6120477ae"
      },
      "execution_count": 30,
      "outputs": [
        {
          "output_type": "execute_result",
          "data": {
            "text/plain": [
              "{'message': 'I feel like a modern story would not have mentioned that it was believed to be an attempted suicide.',\n",
              " 'positive': False,\n",
              " 'negative': True}"
            ]
          },
          "metadata": {},
          "execution_count": 30
        }
      ]
    },
    {
      "cell_type": "code",
      "metadata": {
        "colab": {
          "base_uri": "https://localhost:8080/"
        },
        "id": "e5vZhQpvkE8s",
        "outputId": "52ed77e3-c202-418c-974d-85fee7a3cfa5",
        "executionInfo": {
          "status": "ok",
          "timestamp": 1709543193378,
          "user_tz": 480,
          "elapsed": 82,
          "user": {
            "displayName": "",
            "userId": ""
          }
        }
      },
      "source": [
        "labels = [label for label in dataset['train'].features.keys() if label not in ['message']]\n",
        "# id2label = {idx:label for idx, label in enumerate(labels)}\n",
        "# label2id = {label:idx for idx, label in enumerate(labels)}\n",
        "# print(labels)\n",
        "#TESTTT\n",
        "labels = ['negative', 'positive']\n",
        "\n",
        "# Create id2label mapping\n",
        "id2label = {idx: label for idx, label in enumerate(labels)}\n",
        "\n",
        "# Create label2id mapping\n",
        "label2id = {label: idx for idx, label in enumerate(labels)}\n",
        "\n",
        "# Manually set the mapping for 'positive' to 1 and 'negative' to 0\n",
        "label2id['positive'] = 1\n",
        "label2id['negative'] = 0\n",
        "\n",
        "print(\"id2label:\", id2label)\n",
        "print(\"label2id:\", label2id)"
      ],
      "execution_count": 31,
      "outputs": [
        {
          "output_type": "stream",
          "name": "stdout",
          "text": [
            "id2label: {0: 'negative', 1: 'positive'}\n",
            "label2id: {'negative': 0, 'positive': 1}\n"
          ]
        }
      ]
    },
    {
      "cell_type": "markdown",
      "metadata": {
        "id": "nJ3Teyjmank2"
      },
      "source": [
        "## Preprocess data\n",
        "\n",
        "As models like BERT don't expect text as direct input, but rather `input_ids`, etc., we tokenize the text using the tokenizer. Here I'm using the `AutoTokenizer` API, which will automatically load the appropriate tokenizer based on the checkpoint on the hub.\n",
        "\n",
        "What's a bit tricky is that we also need to provide labels to the model. For multi-label text classification, this is a matrix of shape (batch_size, num_labels). Also important: this should be a tensor of floats rather than integers, otherwise PyTorch' `BCEWithLogitsLoss` (which the model will use) will complain, as explained [here](https://discuss.pytorch.org/t/multi-label-binary-classification-result-type-float-cant-be-cast-to-the-desired-output-type-long/117915/3)."
      ]
    },
    {
      "cell_type": "code",
      "source": [
        "#pip list | grep jax"
      ],
      "metadata": {
        "id": "l-sD_vTrFzxx",
        "executionInfo": {
          "status": "ok",
          "timestamp": 1709543193378,
          "user_tz": 480,
          "elapsed": 1,
          "user": {
            "displayName": "",
            "userId": ""
          }
        }
      },
      "execution_count": 32,
      "outputs": []
    },
    {
      "cell_type": "code",
      "source": [
        "#!pip install -U jax jaxlib"
      ],
      "metadata": {
        "id": "-puzjgm3F4SL",
        "executionInfo": {
          "status": "ok",
          "timestamp": 1709543193378,
          "user_tz": 480,
          "elapsed": 1,
          "user": {
            "displayName": "",
            "userId": ""
          }
        }
      },
      "execution_count": 33,
      "outputs": []
    },
    {
      "cell_type": "code",
      "metadata": {
        "id": "AFWlSsbZaRLc",
        "executionInfo": {
          "status": "ok",
          "timestamp": 1709543196194,
          "user_tz": 480,
          "elapsed": 2817,
          "user": {
            "displayName": "",
            "userId": ""
          }
        },
        "colab": {
          "base_uri": "https://localhost:8080/"
        },
        "outputId": "866ee39e-3548-43a3-e6fd-2e6bf393cd3f"
      },
      "source": [
        "from transformers import AutoTokenizer\n",
        "import numpy as np\n",
        "\n",
        "tokenizer = AutoTokenizer.from_pretrained(\"bert-base-uncased\")\n",
        "\n",
        "def preprocess_data(examples):\n",
        "  # take a batch of texts\n",
        "  text = examples[\"message\"]\n",
        "  # display(text)\n",
        "  # encode them\n",
        "  encoding = tokenizer(text, padding=\"max_length\", truncation=True, max_length=512)\n",
        "  # add labels\n",
        "  labels_batch = {k: examples[k] for k in examples.keys() if k in labels}\n",
        "  # print(\"labels_batch: \",labels_batch)\n",
        "  # create numpy array of shape (batch_size, num_labels)\n",
        "  labels_matrix = np.zeros((len(text), len(labels)))\n",
        "  # fill numpy array\n",
        "  for idx, label in enumerate(labels):\n",
        "    print(\"idx: \",idx, \"label: \", label)\n",
        "    labels_matrix[:, idx] = labels_batch[label]\n",
        "\n",
        "  encoding[\"labels\"] = labels_matrix.tolist()\n",
        "\n",
        "  return encoding"
      ],
      "execution_count": 34,
      "outputs": [
        {
          "output_type": "stream",
          "name": "stderr",
          "text": [
            "/usr/local/lib/python3.10/dist-packages/huggingface_hub/utils/_token.py:88: UserWarning: \n",
            "The secret `HF_TOKEN` does not exist in your Colab secrets.\n",
            "To authenticate with the Hugging Face Hub, create a token in your settings tab (https://huggingface.co/settings/tokens), set it as secret in your Google Colab and restart your session.\n",
            "You will be able to reuse this secret in all of your notebooks.\n",
            "Please note that authentication is recommended but still optional to access public models or datasets.\n",
            "  warnings.warn(\n"
          ]
        }
      ]
    },
    {
      "cell_type": "code",
      "metadata": {
        "colab": {
          "base_uri": "https://localhost:8080/",
          "height": 1000,
          "referenced_widgets": [
            "429bfd9abde64107ae9b8bba03e43c5e",
            "8d85f79dcb934ac5a55262bb35943540",
            "f98b7f88d36442aabd80a9939cf76fee",
            "449478c10a9e440e9e46a843dbeffb52",
            "6ca93e9941464dd99215c818d27b325f",
            "7367edcb48bb47778d638c6f4b418e54",
            "6eba8de054884e4a8e89fbcb1fb5be7d",
            "b0cecba923624d389163f9387db67ac5",
            "d254e188bf164e1f8b701c5b858813ca",
            "f7bd58a1e1bd45b9b21a88c570013cb0",
            "4b2b39680da0412db5eb3e6b696a4506",
            "6b59fe4a435d454eb9471acb6c8279fb",
            "281a796d54534d418dbda115f5844ce9",
            "f7e1857f630a49e3847c886d51bf061b",
            "b1aa81dac594430890e0c5e4dd54f971",
            "472618330c524c0b96aa062273b71e10",
            "6c9e2f7ea7ab41fab705ee59da22a757",
            "0b77b353598d493b92ccda0592b1909b",
            "384840402fd14a6aaa5fa1d576bb0171",
            "9db4e7b1e38a4c38a3b06ab9b9164d8e",
            "4ffd93da76804a0cb6d47131b8a6fcb5",
            "fbc67bb61f4c459f9fe516c945df78f3",
            "d13d2015db0945af929181752e73cb36",
            "4bcc9366e40f453aa00be52bd3464be5",
            "85477698adb94f0dbf542f7557bb720a",
            "bb6bce8fe8fe403a990c782f9ad1f14e",
            "dd46a7cf974445a08adaa7640f9aa44b",
            "dda19492e31d433081539251150d8117",
            "c77a48f1bf754e65841405da004edcc0",
            "64bd95df851042549623c398d05814d0",
            "ea9a95b0d4e14ea783da2e37ffa652a3",
            "25a5b3dc955a4aae8cd6c700cfac4dc2",
            "4dd205f0d0584f4e9b81487e68c6b0cb"
          ]
        },
        "id": "i4ENBTdulBEI",
        "outputId": "ef206e37-8eaa-4c0a-e35a-33102c7a061d",
        "executionInfo": {
          "status": "ok",
          "timestamp": 1709543307833,
          "user_tz": 480,
          "elapsed": 111643,
          "user": {
            "displayName": "",
            "userId": ""
          }
        }
      },
      "source": [
        "encoded_dataset = dataset.map(preprocess_data, batched=True, remove_columns=dataset['train'].column_names)"
      ],
      "execution_count": 35,
      "outputs": [
        {
          "output_type": "display_data",
          "data": {
            "text/plain": [
              "Map:   0%|          | 0/283685 [00:00<?, ? examples/s]"
            ],
            "application/vnd.jupyter.widget-view+json": {
              "version_major": 2,
              "version_minor": 0,
              "model_id": "429bfd9abde64107ae9b8bba03e43c5e"
            }
          },
          "metadata": {}
        },
        {
          "output_type": "stream",
          "name": "stdout",
          "text": [
            "idx:  0 label:  negative\n",
            "idx:  1 label:  positive\n",
            "idx:  0 label:  negative\n",
            "idx:  1 label:  positive\n",
            "idx:  0 label:  negative\n",
            "idx:  1 label:  positive\n",
            "idx:  0 label:  negative\n",
            "idx:  1 label:  positive\n",
            "idx:  0 label:  negative\n",
            "idx:  1 label:  positive\n",
            "idx:  0 label:  negative\n",
            "idx:  1 label:  positive\n",
            "idx:  0 label:  negative\n",
            "idx:  1 label:  positive\n",
            "idx:  0 label:  negative\n",
            "idx:  1 label:  positive\n",
            "idx:  0 label:  negative\n",
            "idx:  1 label:  positive\n",
            "idx:  0 label:  negative\n",
            "idx:  1 label:  positive\n",
            "idx:  0 label:  negative\n",
            "idx:  1 label:  positive\n",
            "idx:  0 label:  negative\n",
            "idx:  1 label:  positive\n",
            "idx:  0 label:  negative\n",
            "idx:  1 label:  positive\n",
            "idx:  0 label:  negative\n",
            "idx:  1 label:  positive\n",
            "idx:  0 label:  negative\n",
            "idx:  1 label:  positive\n",
            "idx:  0 label:  negative\n",
            "idx:  1 label:  positive\n",
            "idx:  0 label:  negative\n",
            "idx:  1 label:  positive\n",
            "idx:  0 label:  negative\n",
            "idx:  1 label:  positive\n",
            "idx:  0 label:  negative\n",
            "idx:  1 label:  positive\n",
            "idx:  0 label:  negative\n",
            "idx:  1 label:  positive\n",
            "idx:  0 label:  negative\n",
            "idx:  1 label:  positive\n",
            "idx:  0 label:  negative\n",
            "idx:  1 label:  positive\n",
            "idx:  0 label:  negative\n",
            "idx:  1 label:  positive\n",
            "idx:  0 label:  negative\n",
            "idx:  1 label:  positive\n",
            "idx:  0 label:  negative\n",
            "idx:  1 label:  positive\n",
            "idx:  0 label:  negative\n",
            "idx:  1 label:  positive\n",
            "idx:  0 label:  negative\n",
            "idx:  1 label:  positive\n",
            "idx:  0 label:  negative\n",
            "idx:  1 label:  positive\n",
            "idx:  0 label:  negative\n",
            "idx:  1 label:  positive\n",
            "idx:  0 label:  negative\n",
            "idx:  1 label:  positive\n",
            "idx:  0 label:  negative\n",
            "idx:  1 label:  positive\n",
            "idx:  0 label:  negative\n",
            "idx:  1 label:  positive\n",
            "idx:  0 label:  negative\n",
            "idx:  1 label:  positive\n",
            "idx:  0 label:  negative\n",
            "idx:  1 label:  positive\n",
            "idx:  0 label:  negative\n",
            "idx:  1 label:  positive\n",
            "idx:  0 label:  negative\n",
            "idx:  1 label:  positive\n",
            "idx:  0 label:  negative\n",
            "idx:  1 label:  positive\n",
            "idx:  0 label:  negative\n",
            "idx:  1 label:  positive\n",
            "idx:  0 label:  negative\n",
            "idx:  1 label:  positive\n",
            "idx:  0 label:  negative\n",
            "idx:  1 label:  positive\n",
            "idx:  0 label:  negative\n",
            "idx:  1 label:  positive\n",
            "idx:  0 label:  negative\n",
            "idx:  1 label:  positive\n",
            "idx:  0 label:  negative\n",
            "idx:  1 label:  positive\n",
            "idx:  0 label:  negative\n",
            "idx:  1 label:  positive\n",
            "idx:  0 label:  negative\n",
            "idx:  1 label:  positive\n",
            "idx:  0 label:  negative\n",
            "idx:  1 label:  positive\n",
            "idx:  0 label:  negative\n",
            "idx:  1 label:  positive\n",
            "idx:  0 label:  negative\n",
            "idx:  1 label:  positive\n",
            "idx:  0 label:  negative\n",
            "idx:  1 label:  positive\n",
            "idx:  0 label:  negative\n",
            "idx:  1 label:  positive\n",
            "idx:  0 label:  negative\n",
            "idx:  1 label:  positive\n",
            "idx:  0 label:  negative\n",
            "idx:  1 label:  positive\n",
            "idx:  0 label:  negative\n",
            "idx:  1 label:  positive\n",
            "idx:  0 label:  negative\n",
            "idx:  1 label:  positive\n",
            "idx:  0 label:  negative\n",
            "idx:  1 label:  positive\n",
            "idx:  0 label:  negative\n",
            "idx:  1 label:  positive\n",
            "idx:  0 label:  negative\n",
            "idx:  1 label:  positive\n",
            "idx:  0 label:  negative\n",
            "idx:  1 label:  positive\n",
            "idx:  0 label:  negative\n",
            "idx:  1 label:  positive\n",
            "idx:  0 label:  negative\n",
            "idx:  1 label:  positive\n",
            "idx:  0 label:  negative\n",
            "idx:  1 label:  positive\n",
            "idx:  0 label:  negative\n",
            "idx:  1 label:  positive\n",
            "idx:  0 label:  negative\n",
            "idx:  1 label:  positive\n",
            "idx:  0 label:  negative\n",
            "idx:  1 label:  positive\n",
            "idx:  0 label:  negative\n",
            "idx:  1 label:  positive\n",
            "idx:  0 label:  negative\n",
            "idx:  1 label:  positive\n",
            "idx:  0 label:  negative\n",
            "idx:  1 label:  positive\n",
            "idx:  0 label:  negative\n",
            "idx:  1 label:  positive\n",
            "idx:  0 label:  negative\n",
            "idx:  1 label:  positive\n",
            "idx:  0 label:  negative\n",
            "idx:  1 label:  positive\n",
            "idx:  0 label:  negative\n",
            "idx:  1 label:  positive\n",
            "idx:  0 label:  negative\n",
            "idx:  1 label:  positive\n",
            "idx:  0 label:  negative\n",
            "idx:  1 label:  positive\n",
            "idx:  0 label:  negative\n",
            "idx:  1 label:  positive\n",
            "idx:  0 label:  negative\n",
            "idx:  1 label:  positive\n",
            "idx:  0 label:  negative\n",
            "idx:  1 label:  positive\n",
            "idx:  0 label:  negative\n",
            "idx:  1 label:  positive\n",
            "idx:  0 label:  negative\n",
            "idx:  1 label:  positive\n",
            "idx:  0 label:  negative\n",
            "idx:  1 label:  positive\n",
            "idx:  0 label:  negative\n",
            "idx:  1 label:  positive\n",
            "idx:  0 label:  negative\n",
            "idx:  1 label:  positive\n",
            "idx:  0 label:  negative\n",
            "idx:  1 label:  positive\n",
            "idx:  0 label:  negative\n",
            "idx:  1 label:  positive\n",
            "idx:  0 label:  negative\n",
            "idx:  1 label:  positive\n",
            "idx:  0 label:  negative\n",
            "idx:  1 label:  positive\n",
            "idx:  0 label:  negative\n",
            "idx:  1 label:  positive\n",
            "idx:  0 label:  negative\n",
            "idx:  1 label:  positive\n",
            "idx:  0 label:  negative\n",
            "idx:  1 label:  positive\n",
            "idx:  0 label:  negative\n",
            "idx:  1 label:  positive\n",
            "idx:  0 label:  negative\n",
            "idx:  1 label:  positive\n",
            "idx:  0 label:  negative\n",
            "idx:  1 label:  positive\n",
            "idx:  0 label:  negative\n",
            "idx:  1 label:  positive\n",
            "idx:  0 label:  negative\n",
            "idx:  1 label:  positive\n",
            "idx:  0 label:  negative\n",
            "idx:  1 label:  positive\n",
            "idx:  0 label:  negative\n",
            "idx:  1 label:  positive\n",
            "idx:  0 label:  negative\n",
            "idx:  1 label:  positive\n",
            "idx:  0 label:  negative\n",
            "idx:  1 label:  positive\n",
            "idx:  0 label:  negative\n",
            "idx:  1 label:  positive\n",
            "idx:  0 label:  negative\n",
            "idx:  1 label:  positive\n",
            "idx:  0 label:  negative\n",
            "idx:  1 label:  positive\n",
            "idx:  0 label:  negative\n",
            "idx:  1 label:  positive\n",
            "idx:  0 label:  negative\n",
            "idx:  1 label:  positive\n",
            "idx:  0 label:  negative\n",
            "idx:  1 label:  positive\n",
            "idx:  0 label:  negative\n",
            "idx:  1 label:  positive\n",
            "idx:  0 label:  negative\n",
            "idx:  1 label:  positive\n",
            "idx:  0 label:  negative\n",
            "idx:  1 label:  positive\n",
            "idx:  0 label:  negative\n",
            "idx:  1 label:  positive\n",
            "idx:  0 label:  negative\n",
            "idx:  1 label:  positive\n",
            "idx:  0 label:  negative\n",
            "idx:  1 label:  positive\n",
            "idx:  0 label:  negative\n",
            "idx:  1 label:  positive\n",
            "idx:  0 label:  negative\n",
            "idx:  1 label:  positive\n",
            "idx:  0 label:  negative\n",
            "idx:  1 label:  positive\n",
            "idx:  0 label:  negative\n",
            "idx:  1 label:  positive\n",
            "idx:  0 label:  negative\n",
            "idx:  1 label:  positive\n",
            "idx:  0 label:  negative\n",
            "idx:  1 label:  positive\n",
            "idx:  0 label:  negative\n",
            "idx:  1 label:  positive\n",
            "idx:  0 label:  negative\n",
            "idx:  1 label:  positive\n",
            "idx:  0 label:  negative\n",
            "idx:  1 label:  positive\n",
            "idx:  0 label:  negative\n",
            "idx:  1 label:  positive\n",
            "idx:  0 label:  negative\n",
            "idx:  1 label:  positive\n",
            "idx:  0 label:  negative\n",
            "idx:  1 label:  positive\n",
            "idx:  0 label:  negative\n",
            "idx:  1 label:  positive\n",
            "idx:  0 label:  negative\n",
            "idx:  1 label:  positive\n",
            "idx:  0 label:  negative\n",
            "idx:  1 label:  positive\n",
            "idx:  0 label:  negative\n",
            "idx:  1 label:  positive\n",
            "idx:  0 label:  negative\n",
            "idx:  1 label:  positive\n",
            "idx:  0 label:  negative\n",
            "idx:  1 label:  positive\n",
            "idx:  0 label:  negative\n",
            "idx:  1 label:  positive\n",
            "idx:  0 label:  negative\n",
            "idx:  1 label:  positive\n",
            "idx:  0 label:  negative\n",
            "idx:  1 label:  positive\n",
            "idx:  0 label:  negative\n",
            "idx:  1 label:  positive\n",
            "idx:  0 label:  negative\n",
            "idx:  1 label:  positive\n",
            "idx:  0 label:  negative\n",
            "idx:  1 label:  positive\n",
            "idx:  0 label:  negative\n",
            "idx:  1 label:  positive\n",
            "idx:  0 label:  negative\n",
            "idx:  1 label:  positive\n",
            "idx:  0 label:  negative\n",
            "idx:  1 label:  positive\n",
            "idx:  0 label:  negative\n",
            "idx:  1 label:  positive\n",
            "idx:  0 label:  negative\n",
            "idx:  1 label:  positive\n",
            "idx:  0 label:  negative\n",
            "idx:  1 label:  positive\n",
            "idx:  0 label:  negative\n",
            "idx:  1 label:  positive\n",
            "idx:  0 label:  negative\n",
            "idx:  1 label:  positive\n",
            "idx:  0 label:  negative\n",
            "idx:  1 label:  positive\n",
            "idx:  0 label:  negative\n",
            "idx:  1 label:  positive\n",
            "idx:  0 label:  negative\n",
            "idx:  1 label:  positive\n",
            "idx:  0 label:  negative\n",
            "idx:  1 label:  positive\n",
            "idx:  0 label:  negative\n",
            "idx:  1 label:  positive\n",
            "idx:  0 label:  negative\n",
            "idx:  1 label:  positive\n",
            "idx:  0 label:  negative\n",
            "idx:  1 label:  positive\n",
            "idx:  0 label:  negative\n",
            "idx:  1 label:  positive\n",
            "idx:  0 label:  negative\n",
            "idx:  1 label:  positive\n",
            "idx:  0 label:  negative\n",
            "idx:  1 label:  positive\n",
            "idx:  0 label:  negative\n",
            "idx:  1 label:  positive\n",
            "idx:  0 label:  negative\n",
            "idx:  1 label:  positive\n",
            "idx:  0 label:  negative\n",
            "idx:  1 label:  positive\n",
            "idx:  0 label:  negative\n",
            "idx:  1 label:  positive\n",
            "idx:  0 label:  negative\n",
            "idx:  1 label:  positive\n",
            "idx:  0 label:  negative\n",
            "idx:  1 label:  positive\n",
            "idx:  0 label:  negative\n",
            "idx:  1 label:  positive\n",
            "idx:  0 label:  negative\n",
            "idx:  1 label:  positive\n",
            "idx:  0 label:  negative\n",
            "idx:  1 label:  positive\n",
            "idx:  0 label:  negative\n",
            "idx:  1 label:  positive\n",
            "idx:  0 label:  negative\n",
            "idx:  1 label:  positive\n",
            "idx:  0 label:  negative\n",
            "idx:  1 label:  positive\n",
            "idx:  0 label:  negative\n",
            "idx:  1 label:  positive\n",
            "idx:  0 label:  negative\n",
            "idx:  1 label:  positive\n",
            "idx:  0 label:  negative\n",
            "idx:  1 label:  positive\n",
            "idx:  0 label:  negative\n",
            "idx:  1 label:  positive\n",
            "idx:  0 label:  negative\n",
            "idx:  1 label:  positive\n",
            "idx:  0 label:  negative\n",
            "idx:  1 label:  positive\n",
            "idx:  0 label:  negative\n",
            "idx:  1 label:  positive\n",
            "idx:  0 label:  negative\n",
            "idx:  1 label:  positive\n",
            "idx:  0 label:  negative\n",
            "idx:  1 label:  positive\n",
            "idx:  0 label:  negative\n",
            "idx:  1 label:  positive\n",
            "idx:  0 label:  negative\n",
            "idx:  1 label:  positive\n",
            "idx:  0 label:  negative\n",
            "idx:  1 label:  positive\n",
            "idx:  0 label:  negative\n",
            "idx:  1 label:  positive\n",
            "idx:  0 label:  negative\n",
            "idx:  1 label:  positive\n",
            "idx:  0 label:  negative\n",
            "idx:  1 label:  positive\n",
            "idx:  0 label:  negative\n",
            "idx:  1 label:  positive\n",
            "idx:  0 label:  negative\n",
            "idx:  1 label:  positive\n",
            "idx:  0 label:  negative\n",
            "idx:  1 label:  positive\n",
            "idx:  0 label:  negative\n",
            "idx:  1 label:  positive\n",
            "idx:  0 label:  negative\n",
            "idx:  1 label:  positive\n",
            "idx:  0 label:  negative\n",
            "idx:  1 label:  positive\n",
            "idx:  0 label:  negative\n",
            "idx:  1 label:  positive\n",
            "idx:  0 label:  negative\n",
            "idx:  1 label:  positive\n",
            "idx:  0 label:  negative\n",
            "idx:  1 label:  positive\n",
            "idx:  0 label:  negative\n",
            "idx:  1 label:  positive\n",
            "idx:  0 label:  negative\n",
            "idx:  1 label:  positive\n",
            "idx:  0 label:  negative\n",
            "idx:  1 label:  positive\n",
            "idx:  0 label:  negative\n",
            "idx:  1 label:  positive\n",
            "idx:  0 label:  negative\n",
            "idx:  1 label:  positive\n",
            "idx:  0 label:  negative\n",
            "idx:  1 label:  positive\n",
            "idx:  0 label:  negative\n",
            "idx:  1 label:  positive\n",
            "idx:  0 label:  negative\n",
            "idx:  1 label:  positive\n",
            "idx:  0 label:  negative\n",
            "idx:  1 label:  positive\n",
            "idx:  0 label:  negative\n",
            "idx:  1 label:  positive\n",
            "idx:  0 label:  negative\n",
            "idx:  1 label:  positive\n",
            "idx:  0 label:  negative\n",
            "idx:  1 label:  positive\n",
            "idx:  0 label:  negative\n",
            "idx:  1 label:  positive\n",
            "idx:  0 label:  negative\n",
            "idx:  1 label:  positive\n",
            "idx:  0 label:  negative\n",
            "idx:  1 label:  positive\n",
            "idx:  0 label:  negative\n",
            "idx:  1 label:  positive\n",
            "idx:  0 label:  negative\n",
            "idx:  1 label:  positive\n",
            "idx:  0 label:  negative\n",
            "idx:  1 label:  positive\n",
            "idx:  0 label:  negative\n",
            "idx:  1 label:  positive\n",
            "idx:  0 label:  negative\n",
            "idx:  1 label:  positive\n",
            "idx:  0 label:  negative\n",
            "idx:  1 label:  positive\n",
            "idx:  0 label:  negative\n",
            "idx:  1 label:  positive\n",
            "idx:  0 label:  negative\n",
            "idx:  1 label:  positive\n",
            "idx:  0 label:  negative\n",
            "idx:  1 label:  positive\n",
            "idx:  0 label:  negative\n",
            "idx:  1 label:  positive\n",
            "idx:  0 label:  negative\n",
            "idx:  1 label:  positive\n",
            "idx:  0 label:  negative\n",
            "idx:  1 label:  positive\n",
            "idx:  0 label:  negative\n",
            "idx:  1 label:  positive\n",
            "idx:  0 label:  negative\n",
            "idx:  1 label:  positive\n",
            "idx:  0 label:  negative\n",
            "idx:  1 label:  positive\n",
            "idx:  0 label:  negative\n",
            "idx:  1 label:  positive\n",
            "idx:  0 label:  negative\n",
            "idx:  1 label:  positive\n",
            "idx:  0 label:  negative\n",
            "idx:  1 label:  positive\n",
            "idx:  0 label:  negative\n",
            "idx:  1 label:  positive\n",
            "idx:  0 label:  negative\n",
            "idx:  1 label:  positive\n",
            "idx:  0 label:  negative\n",
            "idx:  1 label:  positive\n",
            "idx:  0 label:  negative\n",
            "idx:  1 label:  positive\n",
            "idx:  0 label:  negative\n",
            "idx:  1 label:  positive\n",
            "idx:  0 label:  negative\n",
            "idx:  1 label:  positive\n",
            "idx:  0 label:  negative\n",
            "idx:  1 label:  positive\n",
            "idx:  0 label:  negative\n",
            "idx:  1 label:  positive\n",
            "idx:  0 label:  negative\n",
            "idx:  1 label:  positive\n",
            "idx:  0 label:  negative\n",
            "idx:  1 label:  positive\n",
            "idx:  0 label:  negative\n",
            "idx:  1 label:  positive\n",
            "idx:  0 label:  negative\n",
            "idx:  1 label:  positive\n",
            "idx:  0 label:  negative\n",
            "idx:  1 label:  positive\n",
            "idx:  0 label:  negative\n",
            "idx:  1 label:  positive\n",
            "idx:  0 label:  negative\n",
            "idx:  1 label:  positive\n",
            "idx:  0 label:  negative\n",
            "idx:  1 label:  positive\n",
            "idx:  0 label:  negative\n",
            "idx:  1 label:  positive\n",
            "idx:  0 label:  negative\n",
            "idx:  1 label:  positive\n",
            "idx:  0 label:  negative\n",
            "idx:  1 label:  positive\n",
            "idx:  0 label:  negative\n",
            "idx:  1 label:  positive\n",
            "idx:  0 label:  negative\n",
            "idx:  1 label:  positive\n",
            "idx:  0 label:  negative\n",
            "idx:  1 label:  positive\n",
            "idx:  0 label:  negative\n",
            "idx:  1 label:  positive\n",
            "idx:  0 label:  negative\n",
            "idx:  1 label:  positive\n",
            "idx:  0 label:  negative\n",
            "idx:  1 label:  positive\n",
            "idx:  0 label:  negative\n",
            "idx:  1 label:  positive\n",
            "idx:  0 label:  negative\n",
            "idx:  1 label:  positive\n",
            "idx:  0 label:  negative\n",
            "idx:  1 label:  positive\n",
            "idx:  0 label:  negative\n",
            "idx:  1 label:  positive\n",
            "idx:  0 label:  negative\n",
            "idx:  1 label:  positive\n",
            "idx:  0 label:  negative\n",
            "idx:  1 label:  positive\n",
            "idx:  0 label:  negative\n",
            "idx:  1 label:  positive\n",
            "idx:  0 label:  negative\n",
            "idx:  1 label:  positive\n",
            "idx:  0 label:  negative\n",
            "idx:  1 label:  positive\n",
            "idx:  0 label:  negative\n",
            "idx:  1 label:  positive\n",
            "idx:  0 label:  negative\n",
            "idx:  1 label:  positive\n",
            "idx:  0 label:  negative\n",
            "idx:  1 label:  positive\n",
            "idx:  0 label:  negative\n",
            "idx:  1 label:  positive\n",
            "idx:  0 label:  negative\n",
            "idx:  1 label:  positive\n",
            "idx:  0 label:  negative\n",
            "idx:  1 label:  positive\n",
            "idx:  0 label:  negative\n",
            "idx:  1 label:  positive\n",
            "idx:  0 label:  negative\n",
            "idx:  1 label:  positive\n",
            "idx:  0 label:  negative\n",
            "idx:  1 label:  positive\n",
            "idx:  0 label:  negative\n",
            "idx:  1 label:  positive\n",
            "idx:  0 label:  negative\n",
            "idx:  1 label:  positive\n",
            "idx:  0 label:  negative\n",
            "idx:  1 label:  positive\n",
            "idx:  0 label:  negative\n",
            "idx:  1 label:  positive\n",
            "idx:  0 label:  negative\n",
            "idx:  1 label:  positive\n",
            "idx:  0 label:  negative\n",
            "idx:  1 label:  positive\n",
            "idx:  0 label:  negative\n",
            "idx:  1 label:  positive\n",
            "idx:  0 label:  negative\n",
            "idx:  1 label:  positive\n",
            "idx:  0 label:  negative\n",
            "idx:  1 label:  positive\n",
            "idx:  0 label:  negative\n",
            "idx:  1 label:  positive\n",
            "idx:  0 label:  negative\n",
            "idx:  1 label:  positive\n",
            "idx:  0 label:  negative\n",
            "idx:  1 label:  positive\n",
            "idx:  0 label:  negative\n",
            "idx:  1 label:  positive\n",
            "idx:  0 label:  negative\n",
            "idx:  1 label:  positive\n",
            "idx:  0 label:  negative\n",
            "idx:  1 label:  positive\n",
            "idx:  0 label:  negative\n",
            "idx:  1 label:  positive\n",
            "idx:  0 label:  negative\n",
            "idx:  1 label:  positive\n",
            "idx:  0 label:  negative\n",
            "idx:  1 label:  positive\n",
            "idx:  0 label:  negative\n",
            "idx:  1 label:  positive\n",
            "idx:  0 label:  negative\n",
            "idx:  1 label:  positive\n",
            "idx:  0 label:  negative\n",
            "idx:  1 label:  positive\n"
          ]
        },
        {
          "output_type": "display_data",
          "data": {
            "text/plain": [
              "Map:   0%|          | 0/60791 [00:00<?, ? examples/s]"
            ],
            "application/vnd.jupyter.widget-view+json": {
              "version_major": 2,
              "version_minor": 0,
              "model_id": "6b59fe4a435d454eb9471acb6c8279fb"
            }
          },
          "metadata": {}
        },
        {
          "output_type": "stream",
          "name": "stdout",
          "text": [
            "idx:  0 label:  negative\n",
            "idx:  1 label:  positive\n",
            "idx:  0 label:  negative\n",
            "idx:  1 label:  positive\n",
            "idx:  0 label:  negative\n",
            "idx:  1 label:  positive\n",
            "idx:  0 label:  negative\n",
            "idx:  1 label:  positive\n",
            "idx:  0 label:  negative\n",
            "idx:  1 label:  positive\n",
            "idx:  0 label:  negative\n",
            "idx:  1 label:  positive\n",
            "idx:  0 label:  negative\n",
            "idx:  1 label:  positive\n",
            "idx:  0 label:  negative\n",
            "idx:  1 label:  positive\n",
            "idx:  0 label:  negative\n",
            "idx:  1 label:  positive\n",
            "idx:  0 label:  negative\n",
            "idx:  1 label:  positive\n",
            "idx:  0 label:  negative\n",
            "idx:  1 label:  positive\n",
            "idx:  0 label:  negative\n",
            "idx:  1 label:  positive\n",
            "idx:  0 label:  negative\n",
            "idx:  1 label:  positive\n",
            "idx:  0 label:  negative\n",
            "idx:  1 label:  positive\n",
            "idx:  0 label:  negative\n",
            "idx:  1 label:  positive\n",
            "idx:  0 label:  negative\n",
            "idx:  1 label:  positive\n",
            "idx:  0 label:  negative\n",
            "idx:  1 label:  positive\n",
            "idx:  0 label:  negative\n",
            "idx:  1 label:  positive\n",
            "idx:  0 label:  negative\n",
            "idx:  1 label:  positive\n",
            "idx:  0 label:  negative\n",
            "idx:  1 label:  positive\n",
            "idx:  0 label:  negative\n",
            "idx:  1 label:  positive\n",
            "idx:  0 label:  negative\n",
            "idx:  1 label:  positive\n",
            "idx:  0 label:  negative\n",
            "idx:  1 label:  positive\n",
            "idx:  0 label:  negative\n",
            "idx:  1 label:  positive\n",
            "idx:  0 label:  negative\n",
            "idx:  1 label:  positive\n",
            "idx:  0 label:  negative\n",
            "idx:  1 label:  positive\n",
            "idx:  0 label:  negative\n",
            "idx:  1 label:  positive\n",
            "idx:  0 label:  negative\n",
            "idx:  1 label:  positive\n",
            "idx:  0 label:  negative\n",
            "idx:  1 label:  positive\n",
            "idx:  0 label:  negative\n",
            "idx:  1 label:  positive\n",
            "idx:  0 label:  negative\n",
            "idx:  1 label:  positive\n",
            "idx:  0 label:  negative\n",
            "idx:  1 label:  positive\n",
            "idx:  0 label:  negative\n",
            "idx:  1 label:  positive\n",
            "idx:  0 label:  negative\n",
            "idx:  1 label:  positive\n",
            "idx:  0 label:  negative\n",
            "idx:  1 label:  positive\n",
            "idx:  0 label:  negative\n",
            "idx:  1 label:  positive\n",
            "idx:  0 label:  negative\n",
            "idx:  1 label:  positive\n",
            "idx:  0 label:  negative\n",
            "idx:  1 label:  positive\n",
            "idx:  0 label:  negative\n",
            "idx:  1 label:  positive\n",
            "idx:  0 label:  negative\n",
            "idx:  1 label:  positive\n",
            "idx:  0 label:  negative\n",
            "idx:  1 label:  positive\n",
            "idx:  0 label:  negative\n",
            "idx:  1 label:  positive\n",
            "idx:  0 label:  negative\n",
            "idx:  1 label:  positive\n",
            "idx:  0 label:  negative\n",
            "idx:  1 label:  positive\n",
            "idx:  0 label:  negative\n",
            "idx:  1 label:  positive\n",
            "idx:  0 label:  negative\n",
            "idx:  1 label:  positive\n",
            "idx:  0 label:  negative\n",
            "idx:  1 label:  positive\n",
            "idx:  0 label:  negative\n",
            "idx:  1 label:  positive\n",
            "idx:  0 label:  negative\n",
            "idx:  1 label:  positive\n",
            "idx:  0 label:  negative\n",
            "idx:  1 label:  positive\n",
            "idx:  0 label:  negative\n",
            "idx:  1 label:  positive\n",
            "idx:  0 label:  negative\n",
            "idx:  1 label:  positive\n",
            "idx:  0 label:  negative\n",
            "idx:  1 label:  positive\n",
            "idx:  0 label:  negative\n",
            "idx:  1 label:  positive\n",
            "idx:  0 label:  negative\n",
            "idx:  1 label:  positive\n",
            "idx:  0 label:  negative\n",
            "idx:  1 label:  positive\n",
            "idx:  0 label:  negative\n",
            "idx:  1 label:  positive\n",
            "idx:  0 label:  negative\n",
            "idx:  1 label:  positive\n",
            "idx:  0 label:  negative\n",
            "idx:  1 label:  positive\n",
            "idx:  0 label:  negative\n",
            "idx:  1 label:  positive\n",
            "idx:  0 label:  negative\n",
            "idx:  1 label:  positive\n"
          ]
        },
        {
          "output_type": "display_data",
          "data": {
            "text/plain": [
              "Map:   0%|          | 0/60791 [00:00<?, ? examples/s]"
            ],
            "application/vnd.jupyter.widget-view+json": {
              "version_major": 2,
              "version_minor": 0,
              "model_id": "d13d2015db0945af929181752e73cb36"
            }
          },
          "metadata": {}
        },
        {
          "output_type": "stream",
          "name": "stdout",
          "text": [
            "idx:  0 label:  negative\n",
            "idx:  1 label:  positive\n",
            "idx:  0 label:  negative\n",
            "idx:  1 label:  positive\n",
            "idx:  0 label:  negative\n",
            "idx:  1 label:  positive\n",
            "idx:  0 label:  negative\n",
            "idx:  1 label:  positive\n",
            "idx:  0 label:  negative\n",
            "idx:  1 label:  positive\n",
            "idx:  0 label:  negative\n",
            "idx:  1 label:  positive\n",
            "idx:  0 label:  negative\n",
            "idx:  1 label:  positive\n",
            "idx:  0 label:  negative\n",
            "idx:  1 label:  positive\n",
            "idx:  0 label:  negative\n",
            "idx:  1 label:  positive\n",
            "idx:  0 label:  negative\n",
            "idx:  1 label:  positive\n",
            "idx:  0 label:  negative\n",
            "idx:  1 label:  positive\n",
            "idx:  0 label:  negative\n",
            "idx:  1 label:  positive\n",
            "idx:  0 label:  negative\n",
            "idx:  1 label:  positive\n",
            "idx:  0 label:  negative\n",
            "idx:  1 label:  positive\n",
            "idx:  0 label:  negative\n",
            "idx:  1 label:  positive\n",
            "idx:  0 label:  negative\n",
            "idx:  1 label:  positive\n",
            "idx:  0 label:  negative\n",
            "idx:  1 label:  positive\n",
            "idx:  0 label:  negative\n",
            "idx:  1 label:  positive\n",
            "idx:  0 label:  negative\n",
            "idx:  1 label:  positive\n",
            "idx:  0 label:  negative\n",
            "idx:  1 label:  positive\n",
            "idx:  0 label:  negative\n",
            "idx:  1 label:  positive\n",
            "idx:  0 label:  negative\n",
            "idx:  1 label:  positive\n",
            "idx:  0 label:  negative\n",
            "idx:  1 label:  positive\n",
            "idx:  0 label:  negative\n",
            "idx:  1 label:  positive\n",
            "idx:  0 label:  negative\n",
            "idx:  1 label:  positive\n",
            "idx:  0 label:  negative\n",
            "idx:  1 label:  positive\n",
            "idx:  0 label:  negative\n",
            "idx:  1 label:  positive\n",
            "idx:  0 label:  negative\n",
            "idx:  1 label:  positive\n",
            "idx:  0 label:  negative\n",
            "idx:  1 label:  positive\n",
            "idx:  0 label:  negative\n",
            "idx:  1 label:  positive\n",
            "idx:  0 label:  negative\n",
            "idx:  1 label:  positive\n",
            "idx:  0 label:  negative\n",
            "idx:  1 label:  positive\n",
            "idx:  0 label:  negative\n",
            "idx:  1 label:  positive\n",
            "idx:  0 label:  negative\n",
            "idx:  1 label:  positive\n",
            "idx:  0 label:  negative\n",
            "idx:  1 label:  positive\n",
            "idx:  0 label:  negative\n",
            "idx:  1 label:  positive\n",
            "idx:  0 label:  negative\n",
            "idx:  1 label:  positive\n",
            "idx:  0 label:  negative\n",
            "idx:  1 label:  positive\n",
            "idx:  0 label:  negative\n",
            "idx:  1 label:  positive\n",
            "idx:  0 label:  negative\n",
            "idx:  1 label:  positive\n",
            "idx:  0 label:  negative\n",
            "idx:  1 label:  positive\n",
            "idx:  0 label:  negative\n",
            "idx:  1 label:  positive\n",
            "idx:  0 label:  negative\n",
            "idx:  1 label:  positive\n",
            "idx:  0 label:  negative\n",
            "idx:  1 label:  positive\n",
            "idx:  0 label:  negative\n",
            "idx:  1 label:  positive\n",
            "idx:  0 label:  negative\n",
            "idx:  1 label:  positive\n",
            "idx:  0 label:  negative\n",
            "idx:  1 label:  positive\n",
            "idx:  0 label:  negative\n",
            "idx:  1 label:  positive\n",
            "idx:  0 label:  negative\n",
            "idx:  1 label:  positive\n",
            "idx:  0 label:  negative\n",
            "idx:  1 label:  positive\n",
            "idx:  0 label:  negative\n",
            "idx:  1 label:  positive\n",
            "idx:  0 label:  negative\n",
            "idx:  1 label:  positive\n",
            "idx:  0 label:  negative\n",
            "idx:  1 label:  positive\n",
            "idx:  0 label:  negative\n",
            "idx:  1 label:  positive\n",
            "idx:  0 label:  negative\n",
            "idx:  1 label:  positive\n",
            "idx:  0 label:  negative\n",
            "idx:  1 label:  positive\n",
            "idx:  0 label:  negative\n",
            "idx:  1 label:  positive\n",
            "idx:  0 label:  negative\n",
            "idx:  1 label:  positive\n",
            "idx:  0 label:  negative\n",
            "idx:  1 label:  positive\n",
            "idx:  0 label:  negative\n",
            "idx:  1 label:  positive\n",
            "idx:  0 label:  negative\n",
            "idx:  1 label:  positive\n"
          ]
        }
      ]
    },
    {
      "cell_type": "code",
      "metadata": {
        "id": "0enAb0W9o25W",
        "colab": {
          "base_uri": "https://localhost:8080/"
        },
        "executionInfo": {
          "status": "ok",
          "timestamp": 1709543307833,
          "user_tz": 480,
          "elapsed": 13,
          "user": {
            "displayName": "",
            "userId": ""
          }
        },
        "outputId": "7cc61d20-5c75-4bd2-fe7a-4d007489a6cd"
      },
      "source": [
        "example = encoded_dataset['train'][0]\n",
        "print(example.keys())"
      ],
      "execution_count": 36,
      "outputs": [
        {
          "output_type": "stream",
          "name": "stdout",
          "text": [
            "dict_keys(['input_ids', 'token_type_ids', 'attention_mask', 'labels'])\n"
          ]
        }
      ]
    },
    {
      "cell_type": "code",
      "metadata": {
        "id": "D0McCtJ8HRJY",
        "colab": {
          "base_uri": "https://localhost:8080/",
          "height": 196
        },
        "executionInfo": {
          "status": "ok",
          "timestamp": 1709543310121,
          "user_tz": 480,
          "elapsed": 2299,
          "user": {
            "displayName": "",
            "userId": ""
          }
        },
        "outputId": "cea6b3ac-92c1-4fbe-a972-23ccb2c146be"
      },
      "source": [
        "tokenizer.decode(example['input_ids'])"
      ],
      "execution_count": 37,
      "outputs": [
        {
          "output_type": "execute_result",
          "data": {
            "text/plain": [
              "'[CLS] she was reported to many times on insta so her acc was deleted [SEP] [PAD] [PAD] [PAD] [PAD] [PAD] [PAD] [PAD] [PAD] [PAD] [PAD] [PAD] [PAD] [PAD] [PAD] [PAD] [PAD] [PAD] [PAD] [PAD] [PAD] [PAD] [PAD] [PAD] [PAD] [PAD] [PAD] [PAD] [PAD] [PAD] [PAD] [PAD] [PAD] [PAD] [PAD] [PAD] [PAD] [PAD] [PAD] [PAD] [PAD] [PAD] [PAD] [PAD] [PAD] [PAD] [PAD] [PAD] [PAD] [PAD] [PAD] [PAD] [PAD] [PAD] [PAD] [PAD] [PAD] [PAD] [PAD] [PAD] [PAD] [PAD] [PAD] [PAD] [PAD] [PAD] [PAD] [PAD] [PAD] [PAD] [PAD] [PAD] [PAD] [PAD] [PAD] [PAD] [PAD] [PAD] [PAD] [PAD] [PAD] [PAD] [PAD] [PAD] [PAD] [PAD] [PAD] [PAD] [PAD] [PAD] [PAD] [PAD] [PAD] [PAD] [PAD] [PAD] [PAD] [PAD] [PAD] [PAD] [PAD] [PAD] [PAD] [PAD] [PAD] [PAD] [PAD] [PAD] [PAD] [PAD] [PAD] [PAD] [PAD] [PAD] [PAD] [PAD] [PAD] [PAD] [PAD] [PAD] [PAD] [PAD] [PAD] [PAD] [PAD] [PAD] [PAD] [PAD] [PAD] [PAD] [PAD] [PAD] [PAD] [PAD] [PAD] [PAD] [PAD] [PAD] [PAD] [PAD] [PAD] [PAD] [PAD] [PAD] [PAD] [PAD] [PAD] [PAD] [PAD] [PAD] [PAD] [PAD] [PAD] [PAD] [PAD] [PAD] [PAD] [PAD] [PAD] [PAD] [PAD] [PAD] [PAD] [PAD] [PAD] [PAD] [PAD] [PAD] [PAD] [PAD] [PAD] [PAD] [PAD] [PAD] [PAD] [PAD] [PAD] [PAD] [PAD] [PAD] [PAD] [PAD] [PAD] [PAD] [PAD] [PAD] [PAD] [PAD] [PAD] [PAD] [PAD] [PAD] [PAD] [PAD] [PAD] [PAD] [PAD] [PAD] [PAD] [PAD] [PAD] [PAD] [PAD] [PAD] [PAD] [PAD] [PAD] [PAD] [PAD] [PAD] [PAD] [PAD] [PAD] [PAD] [PAD] [PAD] [PAD] [PAD] [PAD] [PAD] [PAD] [PAD] [PAD] [PAD] [PAD] [PAD] [PAD] [PAD] [PAD] [PAD] [PAD] [PAD] [PAD] [PAD] [PAD] [PAD] [PAD] [PAD] [PAD] [PAD] [PAD] [PAD] [PAD] [PAD] [PAD] [PAD] [PAD] [PAD] [PAD] [PAD] [PAD] [PAD] [PAD] [PAD] [PAD] [PAD] [PAD] [PAD] [PAD] [PAD] [PAD] [PAD] [PAD] [PAD] [PAD] [PAD] [PAD] [PAD] [PAD] [PAD] [PAD] [PAD] [PAD] [PAD] [PAD] [PAD] [PAD] [PAD] [PAD] [PAD] [PAD] [PAD] [PAD] [PAD] [PAD] [PAD] [PAD] [PAD] [PAD] [PAD] [PAD] [PAD] [PAD] [PAD] [PAD] [PAD] [PAD] [PAD] [PAD] [PAD] [PAD] [PAD] [PAD] [PAD] [PAD] [PAD] [PAD] [PAD] [PAD] [PAD] [PAD] [PAD] [PAD] [PAD] [PAD] [PAD] [PAD] [PAD] [PAD] [PAD] [PAD] [PAD] [PAD] [PAD] [PAD] [PAD] [PAD] [PAD] [PAD] [PAD] [PAD] [PAD] [PAD] [PAD] [PAD] [PAD] [PAD] [PAD] [PAD] [PAD] [PAD] [PAD] [PAD] [PAD] [PAD] [PAD] [PAD] [PAD] [PAD] [PAD] [PAD] [PAD] [PAD] [PAD] [PAD] [PAD] [PAD] [PAD] [PAD] [PAD] [PAD] [PAD] [PAD] [PAD] [PAD] [PAD] [PAD] [PAD] [PAD] [PAD] [PAD] [PAD] [PAD] [PAD] [PAD] [PAD] [PAD] [PAD] [PAD] [PAD] [PAD] [PAD] [PAD] [PAD] [PAD] [PAD] [PAD] [PAD] [PAD] [PAD] [PAD] [PAD] [PAD] [PAD] [PAD] [PAD] [PAD] [PAD] [PAD] [PAD] [PAD] [PAD] [PAD] [PAD] [PAD] [PAD] [PAD] [PAD] [PAD] [PAD] [PAD] [PAD] [PAD] [PAD] [PAD] [PAD] [PAD] [PAD] [PAD] [PAD] [PAD] [PAD] [PAD] [PAD] [PAD] [PAD] [PAD] [PAD] [PAD] [PAD] [PAD] [PAD] [PAD] [PAD] [PAD] [PAD] [PAD] [PAD] [PAD] [PAD] [PAD] [PAD] [PAD] [PAD] [PAD] [PAD] [PAD] [PAD] [PAD] [PAD] [PAD] [PAD] [PAD] [PAD] [PAD] [PAD] [PAD] [PAD] [PAD] [PAD] [PAD] [PAD] [PAD] [PAD] [PAD] [PAD] [PAD] [PAD] [PAD] [PAD] [PAD] [PAD] [PAD] [PAD] [PAD] [PAD] [PAD] [PAD] [PAD] [PAD] [PAD] [PAD] [PAD] [PAD] [PAD] [PAD] [PAD] [PAD] [PAD] [PAD] [PAD] [PAD] [PAD] [PAD] [PAD] [PAD] [PAD]'"
            ],
            "application/vnd.google.colaboratory.intrinsic+json": {
              "type": "string"
            }
          },
          "metadata": {},
          "execution_count": 37
        }
      ]
    },
    {
      "cell_type": "code",
      "metadata": {
        "id": "VdIvj6WjHeZQ",
        "colab": {
          "base_uri": "https://localhost:8080/"
        },
        "executionInfo": {
          "status": "ok",
          "timestamp": 1709543310121,
          "user_tz": 480,
          "elapsed": 3,
          "user": {
            "displayName": "",
            "userId": ""
          }
        },
        "outputId": "52710dcd-383d-47a3-dded-9d26b74fb447"
      },
      "source": [
        "example['labels']"
      ],
      "execution_count": 38,
      "outputs": [
        {
          "output_type": "execute_result",
          "data": {
            "text/plain": [
              "[1.0, 0.0]"
            ]
          },
          "metadata": {},
          "execution_count": 38
        }
      ]
    },
    {
      "cell_type": "code",
      "metadata": {
        "id": "q4Dx95t2o6N9",
        "colab": {
          "base_uri": "https://localhost:8080/"
        },
        "executionInfo": {
          "status": "ok",
          "timestamp": 1709543310121,
          "user_tz": 480,
          "elapsed": 3,
          "user": {
            "displayName": "",
            "userId": ""
          }
        },
        "outputId": "18dc53d4-b170-4562-a930-3838c7966886"
      },
      "source": [
        "[id2label[idx] for idx, label in enumerate(example['labels']) if label == 0.0]"
      ],
      "execution_count": 39,
      "outputs": [
        {
          "output_type": "execute_result",
          "data": {
            "text/plain": [
              "['positive']"
            ]
          },
          "metadata": {},
          "execution_count": 39
        }
      ]
    },
    {
      "cell_type": "markdown",
      "metadata": {
        "id": "HgpKXDfvKBxn"
      },
      "source": [
        "Finally, we set the format of our data to PyTorch tensors. This will turn the training, validation and test sets into standard PyTorch [datasets](https://pytorch.org/docs/stable/data.html)."
      ]
    },
    {
      "cell_type": "code",
      "metadata": {
        "id": "Lk6Cq9duKBkA",
        "executionInfo": {
          "status": "ok",
          "timestamp": 1709543310121,
          "user_tz": 480,
          "elapsed": 2,
          "user": {
            "displayName": "",
            "userId": ""
          }
        }
      },
      "source": [
        "encoded_dataset.set_format(\"torch\")"
      ],
      "execution_count": 40,
      "outputs": []
    },
    {
      "cell_type": "markdown",
      "metadata": {
        "id": "w5qSmCgWefWs"
      },
      "source": [
        "## Define model\n",
        "\n",
        "Here we define a model that includes a pre-trained base (i.e. the weights from bert-base-uncased) are loaded, with a random initialized classification head (linear layer) on top. One should fine-tune this head, together with the pre-trained base on a labeled dataset.\n",
        "\n",
        "This is also printed by the warning.\n",
        "\n",
        "We set the `problem_type` to be \"multi_label_classification\", as this will make sure the appropriate loss function is used (namely [`BCEWithLogitsLoss`](https://pytorch.org/docs/stable/generated/torch.nn.BCEWithLogitsLoss.html)). We also make sure the output layer has `len(labels)` output neurons, and we set the id2label and label2id mappings."
      ]
    },
    {
      "cell_type": "code",
      "metadata": {
        "id": "6XPL1Z_RegBF",
        "colab": {
          "base_uri": "https://localhost:8080/"
        },
        "executionInfo": {
          "status": "ok",
          "timestamp": 1709543312537,
          "user_tz": 480,
          "elapsed": 2418,
          "user": {
            "displayName": "",
            "userId": ""
          }
        },
        "outputId": "21fb091e-2fa6-4038-a997-21dd21133060"
      },
      "source": [
        "from transformers import AutoModelForSequenceClassification\n",
        "print(len(labels))\n",
        "\n",
        "model = AutoModelForSequenceClassification.from_pretrained(\"bert-base-uncased\",\n",
        "                                                           problem_type=\"multi_label_classification\",\n",
        "                                                           num_labels=len(labels),\n",
        "                                                           id2label=id2label,\n",
        "                                                           label2id=label2id)"
      ],
      "execution_count": 41,
      "outputs": [
        {
          "output_type": "stream",
          "name": "stdout",
          "text": [
            "2\n"
          ]
        },
        {
          "output_type": "stream",
          "name": "stderr",
          "text": [
            "Some weights of BertForSequenceClassification were not initialized from the model checkpoint at bert-base-uncased and are newly initialized: ['classifier.weight', 'classifier.bias']\n",
            "You should probably TRAIN this model on a down-stream task to be able to use it for predictions and inference.\n"
          ]
        }
      ]
    },
    {
      "cell_type": "markdown",
      "metadata": {
        "id": "mjJGEXShp7te"
      },
      "source": [
        "## Train the model!\n",
        "\n",
        "We are going to train the model using HuggingFace's Trainer API. This requires us to define 2 things:\n",
        "\n",
        "* `TrainingArguments`, which specify training hyperparameters. All options can be found in the [docs](https://huggingface.co/transformers/main_classes/trainer.html#trainingarguments). Below, we for example specify that we want to evaluate after every epoch of training, we would like to save the model every epoch, we set the learning rate, the batch size to use for training/evaluation, how many epochs to train for, and so on.\n",
        "* a `Trainer` object (docs can be found [here](https://huggingface.co/transformers/main_classes/trainer.html#id1))."
      ]
    },
    {
      "cell_type": "code",
      "metadata": {
        "id": "K5a8_vIKqr7P",
        "executionInfo": {
          "status": "ok",
          "timestamp": 1709543312537,
          "user_tz": 480,
          "elapsed": 2,
          "user": {
            "displayName": "",
            "userId": ""
          }
        }
      },
      "source": [
        "\n",
        "\n",
        "batch_size = 16\n",
        "metric_name = \"f1\""
      ],
      "execution_count": 42,
      "outputs": []
    },
    {
      "cell_type": "code",
      "source": [
        "# !pip install accelerate==0.21.0"
      ],
      "metadata": {
        "id": "Qm0nr6F4G2bV",
        "executionInfo": {
          "status": "ok",
          "timestamp": 1709543312538,
          "user_tz": 480,
          "elapsed": 3,
          "user": {
            "displayName": "",
            "userId": ""
          }
        }
      },
      "execution_count": 43,
      "outputs": []
    },
    {
      "cell_type": "code",
      "source": [
        "# !pip install transformers[torch]"
      ],
      "metadata": {
        "id": "XynrSQNUG78A",
        "executionInfo": {
          "status": "ok",
          "timestamp": 1709543312538,
          "user_tz": 480,
          "elapsed": 2,
          "user": {
            "displayName": "",
            "userId": ""
          }
        }
      },
      "execution_count": 44,
      "outputs": []
    },
    {
      "cell_type": "code",
      "source": [
        "!pip show transformers\n",
        "!pip show accelerate\n"
      ],
      "metadata": {
        "colab": {
          "base_uri": "https://localhost:8080/"
        },
        "id": "0a2wrrrQHpOV",
        "executionInfo": {
          "status": "ok",
          "timestamp": 1709543324225,
          "user_tz": 480,
          "elapsed": 11689,
          "user": {
            "displayName": "",
            "userId": ""
          }
        },
        "outputId": "3b82c97a-b6fc-4d3a-8cbd-b9f0204b373b"
      },
      "execution_count": 45,
      "outputs": [
        {
          "output_type": "stream",
          "name": "stdout",
          "text": [
            "Name: transformers\n",
            "Version: 4.35.2\n",
            "Summary: State-of-the-art Machine Learning for JAX, PyTorch and TensorFlow\n",
            "Home-page: https://github.com/huggingface/transformers\n",
            "Author: The Hugging Face team (past and future) with the help of all our contributors (https://github.com/huggingface/transformers/graphs/contributors)\n",
            "Author-email: transformers@huggingface.co\n",
            "License: Apache 2.0 License\n",
            "Location: /usr/local/lib/python3.10/dist-packages\n",
            "Requires: filelock, huggingface-hub, numpy, packaging, pyyaml, regex, requests, safetensors, tokenizers, tqdm\n",
            "Required-by: \n",
            "Name: accelerate\n",
            "Version: 0.21.0\n",
            "Summary: Accelerate\n",
            "Home-page: https://github.com/huggingface/accelerate\n",
            "Author: The HuggingFace team\n",
            "Author-email: sylvain@huggingface.co\n",
            "License: Apache\n",
            "Location: /usr/local/lib/python3.10/dist-packages\n",
            "Requires: numpy, packaging, psutil, pyyaml, torch\n",
            "Required-by: \n"
          ]
        }
      ]
    },
    {
      "cell_type": "code",
      "source": [
        "import accelerate\n",
        "\n",
        "accelerate.__version__"
      ],
      "metadata": {
        "colab": {
          "base_uri": "https://localhost:8080/",
          "height": 35
        },
        "id": "OUC-bcihIAoZ",
        "executionInfo": {
          "status": "ok",
          "timestamp": 1709543324225,
          "user_tz": 480,
          "elapsed": 14,
          "user": {
            "displayName": "",
            "userId": ""
          }
        },
        "outputId": "da8b247f-3dfc-4e5c-def3-1f38eed054a9"
      },
      "execution_count": 46,
      "outputs": [
        {
          "output_type": "execute_result",
          "data": {
            "text/plain": [
              "'0.21.0'"
            ],
            "application/vnd.google.colaboratory.intrinsic+json": {
              "type": "string"
            }
          },
          "metadata": {},
          "execution_count": 46
        }
      ]
    },
    {
      "cell_type": "code",
      "metadata": {
        "id": "dR2GmpvDqbuZ",
        "executionInfo": {
          "status": "ok",
          "timestamp": 1709543324303,
          "user_tz": 480,
          "elapsed": 89,
          "user": {
            "displayName": "",
            "userId": ""
          }
        }
      },
      "source": [
        "# !pip install accelerate -U\n",
        "from transformers import TrainingArguments, Trainer\n",
        "\n",
        "args = TrainingArguments(\n",
        "    f\"bert-finetuned\",\n",
        "    evaluation_strategy = \"epoch\",\n",
        "    save_strategy = \"epoch\",\n",
        "    learning_rate=2e-5,\n",
        "    per_device_train_batch_size=batch_size,\n",
        "    per_device_eval_batch_size=batch_size,\n",
        "    num_train_epochs=3,\n",
        "    weight_decay=0.01,\n",
        "    load_best_model_at_end=True,\n",
        "    metric_for_best_model=metric_name,\n",
        "    # gradient_accumulation_steps=2,\n",
        "    logging_strategy = \"epoch\",\n",
        "    logging_steps = 0.1\n",
        "    #push_to_hub=True,\n",
        ")"
      ],
      "execution_count": 47,
      "outputs": []
    },
    {
      "cell_type": "code",
      "source": [
        "# !pip show accelerate\n"
      ],
      "metadata": {
        "id": "GBN8a3tyX3BO",
        "executionInfo": {
          "status": "ok",
          "timestamp": 1709543324392,
          "user_tz": 480,
          "elapsed": 89,
          "user": {
            "displayName": "",
            "userId": ""
          }
        }
      },
      "execution_count": 48,
      "outputs": []
    },
    {
      "cell_type": "markdown",
      "metadata": {
        "id": "1_v2fPFFJ3-v"
      },
      "source": [
        "We are also going to compute metrics while training. For this, we need to define a `compute_metrics` function, that returns a dictionary with the desired metric values."
      ]
    },
    {
      "cell_type": "code",
      "metadata": {
        "id": "797b2WHJqUgZ",
        "executionInfo": {
          "status": "ok",
          "timestamp": 1709543324949,
          "user_tz": 480,
          "elapsed": 558,
          "user": {
            "displayName": "",
            "userId": ""
          }
        }
      },
      "source": [
        "from sklearn.metrics import f1_score, roc_auc_score, accuracy_score, precision_score, recall_score, multilabel_confusion_matrix, classification_report\n",
        "from transformers import EvalPrediction\n",
        "import torch\n",
        "import numpy as np\n",
        "import seaborn as sns\n",
        "import matplotlib.pyplot as plt\n",
        "\n",
        "# source: https://jesusleal.io/2021/04/21/Longformer-multilabel-classification/\n",
        "def multi_label_metrics(predictions, labels, threshold=0.5):\n",
        "    # first, apply sigmoid on predictions which are of shape (batch_size, num_labels)\n",
        "    sigmoid = torch.nn.Sigmoid()\n",
        "    probs = sigmoid(torch.Tensor(predictions))\n",
        "    # next, use threshold to turn them into integer predictions\n",
        "    y_pred = np.zeros(probs.shape)\n",
        "    y_pred[np.where(probs >= threshold)] = 1\n",
        "\n",
        "    y_pred = y_pred[:, 1]\n",
        "    labels = np.array(labels)[:, 1]\n",
        "    # finally, compute metrics\n",
        "    y_true = labels\n",
        "    f1_micro_average = f1_score(y_true=y_true, y_pred=y_pred)\n",
        "    roc_auc = roc_auc_score(y_true, y_pred)\n",
        "    accuracy = accuracy_score(y_true, y_pred)\n",
        "    precision = precision_score(y_true, y_pred)\n",
        "    recall = recall_score(y_true, y_pred)\n",
        "\n",
        "    # Print the confusion matrix to understand class distribution\n",
        "    # confusion_mat = confusion_matrix(y_true.cpu().numpy(), y_pred.cpu().numpy())\n",
        "\n",
        "    cm =  multilabel_confusion_matrix(labels, y_pred)\n",
        "    print(cm[1])\n",
        "\n",
        "    # Visualize confusion matrix using Seaborn\n",
        "    # plt.figure(figsize=(8, 6))\n",
        "    # sns.heatmap(cm, annot=True, fmt=\"d\", cmap=\"Blues\", cbar=False)\n",
        "    # plt.xlabel('Predicted Label')\n",
        "    # plt.ylabel('True Label')\n",
        "    # plt.title('Confusion Matrix')\n",
        "    # plt.show()\n",
        "\n",
        "    # return as dictionary\n",
        "    metrics = {'f1': f1_micro_average,\n",
        "               'roc_auc': roc_auc,\n",
        "               'accuracy': accuracy,\n",
        "               'precision': precision,\n",
        "               'recall': recall}\n",
        "    return metrics\n",
        "\n",
        "def compute_metrics(p: EvalPrediction):\n",
        "    preds = p.predictions[0] if isinstance(p.predictions,\n",
        "            tuple) else p.predictions\n",
        "    result = multi_label_metrics(\n",
        "        predictions=preds,\n",
        "        labels=p.label_ids)\n",
        "    return result"
      ],
      "execution_count": 49,
      "outputs": []
    },
    {
      "cell_type": "markdown",
      "metadata": {
        "id": "fxNo4_TsvzDm"
      },
      "source": [
        "Let's verify a batch as well as a forward pass:"
      ]
    },
    {
      "cell_type": "code",
      "metadata": {
        "id": "IlOgGiojuWwG",
        "colab": {
          "base_uri": "https://localhost:8080/",
          "height": 35
        },
        "executionInfo": {
          "status": "ok",
          "timestamp": 1709543325039,
          "user_tz": 480,
          "elapsed": 96,
          "user": {
            "displayName": "",
            "userId": ""
          }
        },
        "outputId": "40974455-c68e-4312-bf86-f31318637408"
      },
      "source": [
        "encoded_dataset['train'][0]['labels'].type()"
      ],
      "execution_count": 50,
      "outputs": [
        {
          "output_type": "execute_result",
          "data": {
            "text/plain": [
              "'torch.FloatTensor'"
            ],
            "application/vnd.google.colaboratory.intrinsic+json": {
              "type": "string"
            }
          },
          "metadata": {},
          "execution_count": 50
        }
      ]
    },
    {
      "cell_type": "code",
      "metadata": {
        "id": "Y41Kre_jvD7x",
        "colab": {
          "base_uri": "https://localhost:8080/"
        },
        "executionInfo": {
          "status": "ok",
          "timestamp": 1709543325819,
          "user_tz": 480,
          "elapsed": 781,
          "user": {
            "displayName": "",
            "userId": ""
          }
        },
        "outputId": "a446f0c5-224a-4768-fe9f-c5e1b7ef67e9"
      },
      "source": [
        "encoded_dataset['train']['input_ids'][0]"
      ],
      "execution_count": 51,
      "outputs": [
        {
          "output_type": "execute_result",
          "data": {
            "text/plain": [
              "tensor([  101,  2016,  2001,  2988,  2000,  2116,  2335,  2006, 16021,  2696,\n",
              "         2061,  2014, 16222,  2001, 17159,   102,     0,     0,     0,     0,\n",
              "            0,     0,     0,     0,     0,     0,     0,     0,     0,     0,\n",
              "            0,     0,     0,     0,     0,     0,     0,     0,     0,     0,\n",
              "            0,     0,     0,     0,     0,     0,     0,     0,     0,     0,\n",
              "            0,     0,     0,     0,     0,     0,     0,     0,     0,     0,\n",
              "            0,     0,     0,     0,     0,     0,     0,     0,     0,     0,\n",
              "            0,     0,     0,     0,     0,     0,     0,     0,     0,     0,\n",
              "            0,     0,     0,     0,     0,     0,     0,     0,     0,     0,\n",
              "            0,     0,     0,     0,     0,     0,     0,     0,     0,     0,\n",
              "            0,     0,     0,     0,     0,     0,     0,     0,     0,     0,\n",
              "            0,     0,     0,     0,     0,     0,     0,     0,     0,     0,\n",
              "            0,     0,     0,     0,     0,     0,     0,     0,     0,     0,\n",
              "            0,     0,     0,     0,     0,     0,     0,     0,     0,     0,\n",
              "            0,     0,     0,     0,     0,     0,     0,     0,     0,     0,\n",
              "            0,     0,     0,     0,     0,     0,     0,     0,     0,     0,\n",
              "            0,     0,     0,     0,     0,     0,     0,     0,     0,     0,\n",
              "            0,     0,     0,     0,     0,     0,     0,     0,     0,     0,\n",
              "            0,     0,     0,     0,     0,     0,     0,     0,     0,     0,\n",
              "            0,     0,     0,     0,     0,     0,     0,     0,     0,     0,\n",
              "            0,     0,     0,     0,     0,     0,     0,     0,     0,     0,\n",
              "            0,     0,     0,     0,     0,     0,     0,     0,     0,     0,\n",
              "            0,     0,     0,     0,     0,     0,     0,     0,     0,     0,\n",
              "            0,     0,     0,     0,     0,     0,     0,     0,     0,     0,\n",
              "            0,     0,     0,     0,     0,     0,     0,     0,     0,     0,\n",
              "            0,     0,     0,     0,     0,     0,     0,     0,     0,     0,\n",
              "            0,     0,     0,     0,     0,     0,     0,     0,     0,     0,\n",
              "            0,     0,     0,     0,     0,     0,     0,     0,     0,     0,\n",
              "            0,     0,     0,     0,     0,     0,     0,     0,     0,     0,\n",
              "            0,     0,     0,     0,     0,     0,     0,     0,     0,     0,\n",
              "            0,     0,     0,     0,     0,     0,     0,     0,     0,     0,\n",
              "            0,     0,     0,     0,     0,     0,     0,     0,     0,     0,\n",
              "            0,     0,     0,     0,     0,     0,     0,     0,     0,     0,\n",
              "            0,     0,     0,     0,     0,     0,     0,     0,     0,     0,\n",
              "            0,     0,     0,     0,     0,     0,     0,     0,     0,     0,\n",
              "            0,     0,     0,     0,     0,     0,     0,     0,     0,     0,\n",
              "            0,     0,     0,     0,     0,     0,     0,     0,     0,     0,\n",
              "            0,     0,     0,     0,     0,     0,     0,     0,     0,     0,\n",
              "            0,     0,     0,     0,     0,     0,     0,     0,     0,     0,\n",
              "            0,     0,     0,     0,     0,     0,     0,     0,     0,     0,\n",
              "            0,     0,     0,     0,     0,     0,     0,     0,     0,     0,\n",
              "            0,     0,     0,     0,     0,     0,     0,     0,     0,     0,\n",
              "            0,     0,     0,     0,     0,     0,     0,     0,     0,     0,\n",
              "            0,     0,     0,     0,     0,     0,     0,     0,     0,     0,\n",
              "            0,     0,     0,     0,     0,     0,     0,     0,     0,     0,\n",
              "            0,     0,     0,     0,     0,     0,     0,     0,     0,     0,\n",
              "            0,     0,     0,     0,     0,     0,     0,     0,     0,     0,\n",
              "            0,     0,     0,     0,     0,     0,     0,     0,     0,     0,\n",
              "            0,     0,     0,     0,     0,     0,     0,     0,     0,     0,\n",
              "            0,     0,     0,     0,     0,     0,     0,     0,     0,     0,\n",
              "            0,     0,     0,     0,     0,     0,     0,     0,     0,     0,\n",
              "            0,     0])"
            ]
          },
          "metadata": {},
          "execution_count": 51
        }
      ]
    },
    {
      "cell_type": "code",
      "metadata": {
        "id": "sxWcnZ8ku12V",
        "colab": {
          "base_uri": "https://localhost:8080/"
        },
        "executionInfo": {
          "status": "ok",
          "timestamp": 1709543328672,
          "user_tz": 480,
          "elapsed": 2854,
          "user": {
            "displayName": "",
            "userId": ""
          }
        },
        "outputId": "5b106a64-1145-45ef-c5bd-64ca2877653a"
      },
      "source": [
        "#forward pass\n",
        "\n",
        "outputs = model(input_ids=encoded_dataset['train']['input_ids'][0].unsqueeze(0),attention_mask=encoded_dataset['train']['attention_mask'][0].unsqueeze(0), labels=encoded_dataset['train'][0]['labels'].unsqueeze(0))\n",
        "outputs"
      ],
      "execution_count": 52,
      "outputs": [
        {
          "output_type": "execute_result",
          "data": {
            "text/plain": [
              "SequenceClassifierOutput(loss=tensor(0.4830, grad_fn=<BinaryCrossEntropyWithLogitsBackward0>), logits=tensor([[ 0.6385, -0.3293]], grad_fn=<AddmmBackward0>), hidden_states=None, attentions=None)"
            ]
          },
          "metadata": {},
          "execution_count": 52
        }
      ]
    },
    {
      "cell_type": "markdown",
      "metadata": {
        "id": "f-X2brZcv0X6"
      },
      "source": [
        "Let's start training!"
      ]
    },
    {
      "cell_type": "code",
      "source": [
        "# del trainer\n",
        "import os\n",
        "torch.cuda.empty_cache()\n",
        "os.environ['PYTORCH_CUDA_ALLOC_CONF'] = 'max_split_size_mb:100'"
      ],
      "metadata": {
        "id": "KfA9GLEUo_zq",
        "executionInfo": {
          "status": "ok",
          "timestamp": 1709543328672,
          "user_tz": 480,
          "elapsed": 3,
          "user": {
            "displayName": "",
            "userId": ""
          }
        }
      },
      "execution_count": 53,
      "outputs": []
    },
    {
      "cell_type": "code",
      "source": [
        "from accelerate import Accelerator"
      ],
      "metadata": {
        "id": "qK4uAkYQDSXp",
        "executionInfo": {
          "status": "ok",
          "timestamp": 1709543328672,
          "user_tz": 480,
          "elapsed": 2,
          "user": {
            "displayName": "",
            "userId": ""
          }
        }
      },
      "execution_count": 54,
      "outputs": []
    },
    {
      "cell_type": "code",
      "metadata": {
        "id": "chq_3nUz73ib",
        "executionInfo": {
          "status": "ok",
          "timestamp": 1709543329605,
          "user_tz": 480,
          "elapsed": 935,
          "user": {
            "displayName": "",
            "userId": ""
          }
        }
      },
      "source": [
        "trainer = Trainer(\n",
        "    model,\n",
        "    args,\n",
        "    train_dataset=encoded_dataset[\"train\"],\n",
        "    eval_dataset=encoded_dataset[\"validation\"],\n",
        "    tokenizer=tokenizer,\n",
        "    compute_metrics=compute_metrics\n",
        ")\n"
      ],
      "execution_count": 55,
      "outputs": []
    },
    {
      "cell_type": "code",
      "source": [
        "# import os\n",
        "\n",
        "# Set environment variable for PyTorch CUDA allocator configuration\n",
        "# Adjust max_split_size_mb to an appropriate value for your system\n",
        "# os.environ['PYTORCH_CUDA_ALLOC_CONF'] = 'max_split_size_mb:50'\n",
        "\n",
        "# !pip install torch==2.0.0\n",
        "\n"
      ],
      "metadata": {
        "id": "DWGnlBF8bXic",
        "executionInfo": {
          "status": "ok",
          "timestamp": 1709543329605,
          "user_tz": 480,
          "elapsed": 2,
          "user": {
            "displayName": "",
            "userId": ""
          }
        }
      },
      "execution_count": 56,
      "outputs": []
    },
    {
      "cell_type": "code",
      "source": [
        "# Example: Handling scalar tensor\n",
        "scalar_tensor = torch.tensor(42)  # Replace with your actual tensor\n",
        "scalar_tensor = scalar_tensor.unsqueeze(0)  # Unsqueezing to create a one-dimensional tensor\n",
        "print(scalar_tensor)"
      ],
      "metadata": {
        "id": "NDfAAzMoJ52V",
        "executionInfo": {
          "status": "ok",
          "timestamp": 1709543329606,
          "user_tz": 480,
          "elapsed": 2,
          "user": {
            "displayName": "",
            "userId": ""
          }
        },
        "colab": {
          "base_uri": "https://localhost:8080/"
        },
        "outputId": "1cdb3224-e2a7-42f6-9028-96b79979341f"
      },
      "execution_count": 57,
      "outputs": [
        {
          "output_type": "stream",
          "name": "stdout",
          "text": [
            "tensor([42])\n"
          ]
        }
      ]
    },
    {
      "cell_type": "code",
      "metadata": {
        "id": "KXmFds8js6P8",
        "colab": {
          "base_uri": "https://localhost:8080/",
          "height": 475
        },
        "outputId": "69ef46b8-37e3-40b8-ccd2-f338994266c7",
        "executionInfo": {
          "status": "ok",
          "timestamp": 1709568072907,
          "user_tz": 480,
          "elapsed": 24743098,
          "user": {
            "displayName": "",
            "userId": ""
          }
        }
      },
      "source": [
        "trainer.train()"
      ],
      "execution_count": 58,
      "outputs": [
        {
          "output_type": "stream",
          "name": "stderr",
          "text": [
            "You're using a BertTokenizerFast tokenizer. Please note that with a fast tokenizer, using the `__call__` method is faster than using a method to encode the text followed by a call to the `pad` method to get a padded encoding.\n",
            "/usr/local/lib/python3.10/dist-packages/torch/nn/parallel/_functions.py:68: UserWarning: Was asked to gather along dimension 0, but all input tensors were scalars; will instead unsqueeze and return a vector.\n",
            "  warnings.warn('Was asked to gather along dimension 0, but all '\n"
          ]
        },
        {
          "output_type": "display_data",
          "data": {
            "text/plain": [
              "<IPython.core.display.HTML object>"
            ],
            "text/html": [
              "\n",
              "    <div>\n",
              "      \n",
              "      <progress value='26598' max='26598' style='width:300px; height:20px; vertical-align: middle;'></progress>\n",
              "      [26598/26598 6:52:13, Epoch 3/3]\n",
              "    </div>\n",
              "    <table border=\"1\" class=\"dataframe\">\n",
              "  <thead>\n",
              " <tr style=\"text-align: left;\">\n",
              "      <th>Epoch</th>\n",
              "      <th>Training Loss</th>\n",
              "      <th>Validation Loss</th>\n",
              "      <th>F1</th>\n",
              "      <th>Roc Auc</th>\n",
              "      <th>Accuracy</th>\n",
              "      <th>Precision</th>\n",
              "      <th>Recall</th>\n",
              "    </tr>\n",
              "  </thead>\n",
              "  <tbody>\n",
              "    <tr>\n",
              "      <td>1</td>\n",
              "      <td>0.022100</td>\n",
              "      <td>0.014473</td>\n",
              "      <td>0.449315</td>\n",
              "      <td>0.763461</td>\n",
              "      <td>0.996694</td>\n",
              "      <td>0.390476</td>\n",
              "      <td>0.529032</td>\n",
              "    </tr>\n",
              "    <tr>\n",
              "      <td>2</td>\n",
              "      <td>0.009500</td>\n",
              "      <td>0.010896</td>\n",
              "      <td>0.554140</td>\n",
              "      <td>0.780051</td>\n",
              "      <td>0.997697</td>\n",
              "      <td>0.547170</td>\n",
              "      <td>0.561290</td>\n",
              "    </tr>\n",
              "    <tr>\n",
              "      <td>3</td>\n",
              "      <td>0.003800</td>\n",
              "      <td>0.016493</td>\n",
              "      <td>0.512535</td>\n",
              "      <td>0.795851</td>\n",
              "      <td>0.997121</td>\n",
              "      <td>0.450980</td>\n",
              "      <td>0.593548</td>\n",
              "    </tr>\n",
              "  </tbody>\n",
              "</table><p>"
            ]
          },
          "metadata": {}
        },
        {
          "output_type": "stream",
          "name": "stdout",
          "text": [
            "[[60508   128]\n",
            " [   73    82]]\n"
          ]
        },
        {
          "output_type": "stream",
          "name": "stderr",
          "text": [
            "/usr/local/lib/python3.10/dist-packages/torch/nn/parallel/_functions.py:68: UserWarning: Was asked to gather along dimension 0, but all input tensors were scalars; will instead unsqueeze and return a vector.\n",
            "  warnings.warn('Was asked to gather along dimension 0, but all '\n"
          ]
        },
        {
          "output_type": "stream",
          "name": "stdout",
          "text": [
            "[[60564    72]\n",
            " [   68    87]]\n"
          ]
        },
        {
          "output_type": "stream",
          "name": "stderr",
          "text": [
            "/usr/local/lib/python3.10/dist-packages/torch/nn/parallel/_functions.py:68: UserWarning: Was asked to gather along dimension 0, but all input tensors were scalars; will instead unsqueeze and return a vector.\n",
            "  warnings.warn('Was asked to gather along dimension 0, but all '\n"
          ]
        },
        {
          "output_type": "stream",
          "name": "stdout",
          "text": [
            "[[60524   112]\n",
            " [   63    92]]\n"
          ]
        },
        {
          "output_type": "execute_result",
          "data": {
            "text/plain": [
              "TrainOutput(global_step=26598, training_loss=0.01181192811839302, metrics={'train_runtime': 24742.8611, 'train_samples_per_second': 34.396, 'train_steps_per_second': 1.075, 'total_flos': 2.239219792194048e+17, 'train_loss': 0.01181192811839302, 'epoch': 3.0})"
            ]
          },
          "metadata": {},
          "execution_count": 58
        }
      ]
    },
    {
      "cell_type": "code",
      "source": [
        "# eval_results = trainer.evaluate()\n",
        "# # Access confusion matrix from evaluation results\n",
        "# confusion_matrix_result = eval_results['confusion_mat']\n",
        "# print(\"Confusion Matrix:\")\n",
        "# print(confusion_matrix_result)"
      ],
      "metadata": {
        "id": "akItu2fDJUYm",
        "executionInfo": {
          "status": "ok",
          "timestamp": 1709568072907,
          "user_tz": 480,
          "elapsed": 28,
          "user": {
            "displayName": "",
            "userId": ""
          }
        }
      },
      "execution_count": 59,
      "outputs": []
    },
    {
      "cell_type": "code",
      "source": [
        "from transformers import Trainer, TrainingArguments\n",
        "from sklearn.metrics import multilabel_confusion_matrix, ConfusionMatrixDisplay\n",
        "import torch\n",
        "import matplotlib.pyplot as plt\n",
        "\n",
        "# Define your Trainer and TrainingArguments\n",
        "# ...\n",
        "\n",
        "# Evaluate the model on your test dataset\n",
        "results = trainer.predict(encoded_dataset[\"test\"])\n",
        "\n",
        "# Get true labels and predicted probabilities\n",
        "true_labels = results.label_ids\n",
        "predicted_probs = torch.nn.Softmax(dim=1)(torch.Tensor(results.predictions))\n",
        "\n",
        "# Apply a threshold to convert probabilities to binary predictions\n",
        "threshold = 0.5\n",
        "predicted_labels = (predicted_probs >= threshold).int()\n",
        "\n",
        "# Calculate multi-label confusion matrix\n",
        "conf_matrix = multilabel_confusion_matrix(true_labels, predicted_labels)\n",
        "print(classification_report(true_labels, predicted_labels))\n",
        "\n",
        "# Display the confusion matrix for each label separately\n",
        "for i, mat in enumerate(conf_matrix):\n",
        "    disp = ConfusionMatrixDisplay(confusion_matrix=mat)\n",
        "    disp.plot(cmap='viridis', values_format='d')\n",
        "    plt.title(f'Confusion Matrix - Label {i}')\n",
        "    plt.show()\n"
      ],
      "metadata": {
        "id": "8hc1jXzcoo2E",
        "colab": {
          "base_uri": "https://localhost:8080/",
          "height": 1000
        },
        "executionInfo": {
          "status": "ok",
          "timestamp": 1709568688282,
          "user_tz": 480,
          "elapsed": 615382,
          "user": {
            "displayName": "",
            "userId": ""
          }
        },
        "outputId": "b566e50b-0166-4c1c-8e7f-cfaa069f3411"
      },
      "execution_count": 60,
      "outputs": [
        {
          "output_type": "stream",
          "name": "stderr",
          "text": [
            "/usr/local/lib/python3.10/dist-packages/torch/nn/parallel/_functions.py:68: UserWarning: Was asked to gather along dimension 0, but all input tensors were scalars; will instead unsqueeze and return a vector.\n",
            "  warnings.warn('Was asked to gather along dimension 0, but all '\n"
          ]
        },
        {
          "output_type": "display_data",
          "data": {
            "text/plain": [
              "<IPython.core.display.HTML object>"
            ],
            "text/html": []
          },
          "metadata": {}
        },
        {
          "output_type": "stream",
          "name": "stdout",
          "text": [
            "[[60574    62]\n",
            " [   68    87]]\n",
            "              precision    recall  f1-score   support\n",
            "\n",
            "           0       1.00      1.00      1.00     60636\n",
            "           1       0.58      0.56      0.57       155\n",
            "\n",
            "   micro avg       1.00      1.00      1.00     60791\n",
            "   macro avg       0.79      0.78      0.79     60791\n",
            "weighted avg       1.00      1.00      1.00     60791\n",
            " samples avg       1.00      1.00      1.00     60791\n",
            "\n"
          ]
        },
        {
          "output_type": "display_data",
          "data": {
            "text/plain": [
              "<Figure size 640x480 with 2 Axes>"
            ],
            "image/png": "[encoded data removed]"
          },
          "metadata": {}
        },
        {
          "output_type": "display_data",
          "data": {
            "text/plain": [
              "<Figure size 640x480 with 2 Axes>"
            ],
            "image/png": "[encoded data removed]"
          },
          "metadata": {}
        }
      ]
    },
    {
      "cell_type": "code",
      "source": [
        "from transformers import Trainer, TrainingArguments\n",
        "from sklearn.metrics import multilabel_confusion_matrix, ConfusionMatrixDisplay, classification_report\n",
        "import torch\n",
        "import matplotlib.pyplot as plt\n",
        "\n",
        "# Define your Trainer and TrainingArguments\n",
        "# ...\n",
        "\n",
        "# Evaluate the model on your test dataset\n",
        "# results = trainer.predict(encoded_dataset[\"test\"])\n",
        "\n",
        "# Get true labels and predicted probabilities\n",
        "true_labels = results.label_ids\n",
        "predicted_probs = torch.nn.Softmax(dim=1)(torch.Tensor(results.predictions))\n",
        "\n",
        "# Apply a threshold to convert probabilities to binary predictions\n",
        "threshold = 0.5\n",
        "predicted_labels = (predicted_probs >= threshold).int()\n",
        "\n",
        "# Calculate multi-label confusion matrix\n",
        "conf_matrix = multilabel_confusion_matrix(true_labels, predicted_labels)\n",
        "print(classification_report(true_labels, predicted_labels))\n",
        "\n",
        "# Display the confusion matrix for each label separately\n",
        "for i, mat in enumerate(conf_matrix):\n",
        "    disp = ConfusionMatrixDisplay(confusion_matrix=mat)\n",
        "    disp.plot(cmap='Blues', values_format='d')  # Changed 'viridis' to 'Blues'\n",
        "    plt.title(f'Confusion Matrix - Label {i}')\n",
        "    plt.show()\n"
      ],
      "metadata": {
        "id": "sAz7jiAa79Vx",
        "executionInfo": {
          "status": "ok",
          "timestamp": 1709583691161,
          "user_tz": 480,
          "elapsed": 532,
          "user": {
            "displayName": "",
            "userId": ""
          }
        },
        "colab": {
          "base_uri": "https://localhost:8080/",
          "height": 1000
        },
        "outputId": "cb57f21a-40d0-4e35-9d3f-a590cd12c7b5"
      },
      "execution_count": 71,
      "outputs": [
        {
          "output_type": "stream",
          "name": "stdout",
          "text": [
            "              precision    recall  f1-score   support\n",
            "\n",
            "           0       1.00      1.00      1.00     60636\n",
            "           1       0.58      0.56      0.57       155\n",
            "\n",
            "   micro avg       1.00      1.00      1.00     60791\n",
            "   macro avg       0.79      0.78      0.79     60791\n",
            "weighted avg       1.00      1.00      1.00     60791\n",
            " samples avg       1.00      1.00      1.00     60791\n",
            "\n"
          ]
        },
        {
          "output_type": "display_data",
          "data": {
            "text/plain": [
              "<Figure size 640x480 with 2 Axes>"
            ],
            "image/png": "[encoded data removed]"
          },
          "metadata": {}
        },
        {
          "output_type": "display_data",
          "data": {
            "text/plain": [
              "<Figure size 640x480 with 2 Axes>"
            ],
            "image/png": "[encoded data removed]"
          },
          "metadata": {}
        }
      ]
    },
    {
      "cell_type": "code",
      "source": [
        "train_logs = trainer.state.log_history\n",
        "\n",
        "# Extract training and validation losses\n",
        "train_losses = [log['loss'] for log in train_logs if 'loss' in log and 'eval_loss' not in log]\n",
        "eval_losses = [log['eval_loss'] for log in train_logs if 'eval_loss' in log]\n",
        "\n",
        "# Generate a gradient of colors\n",
        "gradient = np.linspace(0, 1, len(train_losses))\n",
        "\n",
        "# Plot the training and validation loss with a gradient\n",
        "plt.plot(train_losses, label=\"Train Loss\", color=plt.cm.coolwarm(gradient[0]), linewidth=2)\n",
        "plt.plot(eval_losses, label=\"Validation Loss\", color=plt.cm.coolwarm(gradient[-1]), linewidth=2)\n",
        "plt.xlabel(\"Training Steps\")\n",
        "plt.ylabel(\"Loss\")\n",
        "plt.legend()\n",
        "\n",
        "# Show the plot\n",
        "plt.show()"
      ],
      "metadata": {
        "id": "wv_zMW8ltKvP",
        "colab": {
          "base_uri": "https://localhost:8080/",
          "height": 449
        },
        "executionInfo": {
          "status": "ok",
          "timestamp": 1709568688351,
          "user_tz": 480,
          "elapsed": 129,
          "user": {
            "displayName": "",
            "userId": ""
          }
        },
        "outputId": "198e77e5-fce9-4744-b173-0e82ada5b3f8"
      },
      "execution_count": 62,
      "outputs": [
        {
          "output_type": "display_data",
          "data": {
            "text/plain": [
              "<Figure size 640x480 with 1 Axes>"
            ],
            "image/png": "[encoded data removed]"
          },
          "metadata": {}
        }
      ]
    },
    {
      "cell_type": "markdown",
      "metadata": {
        "id": "hiloh9eMK91o"
      },
      "source": [
        "## Evaluate\n",
        "\n",
        "After training, we evaluate our model on the validation set."
      ]
    },
    {
      "cell_type": "code",
      "source": [
        "#Overfitting above"
      ],
      "metadata": {
        "id": "FmUcFAA16fAS",
        "executionInfo": {
          "status": "ok",
          "timestamp": 1709568688423,
          "user_tz": 480,
          "elapsed": 90,
          "user": {
            "displayName": "",
            "userId": ""
          }
        }
      },
      "execution_count": 63,
      "outputs": []
    },
    {
      "cell_type": "code",
      "metadata": {
        "id": "cMlebJ83LRYG",
        "colab": {
          "base_uri": "https://localhost:8080/",
          "height": 307
        },
        "executionInfo": {
          "status": "ok",
          "timestamp": 1709569302986,
          "user_tz": 480,
          "elapsed": 614565,
          "user": {
            "displayName": "",
            "userId": ""
          }
        },
        "outputId": "31021168-eb58-42c4-9fa8-d0a7706dacea"
      },
      "source": [
        "trainer.evaluate()"
      ],
      "execution_count": 64,
      "outputs": [
        {
          "output_type": "stream",
          "name": "stderr",
          "text": [
            "/usr/local/lib/python3.10/dist-packages/torch/nn/parallel/_functions.py:68: UserWarning: Was asked to gather along dimension 0, but all input tensors were scalars; will instead unsqueeze and return a vector.\n",
            "  warnings.warn('Was asked to gather along dimension 0, but all '\n"
          ]
        },
        {
          "output_type": "display_data",
          "data": {
            "text/plain": [
              "<IPython.core.display.HTML object>"
            ],
            "text/html": [
              "\n",
              "    <div>\n",
              "      \n",
              "      <progress value='1900' max='1900' style='width:300px; height:20px; vertical-align: middle;'></progress>\n",
              "      [1900/1900 10:13]\n",
              "    </div>\n",
              "    "
            ]
          },
          "metadata": {}
        },
        {
          "output_type": "stream",
          "name": "stdout",
          "text": [
            "[[60564    72]\n",
            " [   68    87]]\n"
          ]
        },
        {
          "output_type": "execute_result",
          "data": {
            "text/plain": [
              "{'eval_loss': 0.010895826853811741,\n",
              " 'eval_f1': 0.554140127388535,\n",
              " 'eval_roc_auc': 0.7800514545814368,\n",
              " 'eval_accuracy': 0.9976970275205211,\n",
              " 'eval_precision': 0.5471698113207547,\n",
              " 'eval_recall': 0.5612903225806452,\n",
              " 'eval_runtime': 614.4655,\n",
              " 'eval_samples_per_second': 98.933,\n",
              " 'eval_steps_per_second': 3.092,\n",
              " 'epoch': 3.0}"
            ]
          },
          "metadata": {},
          "execution_count": 64
        }
      ]
    },
    {
      "cell_type": "markdown",
      "metadata": {
        "id": "3nmvJp0pLq-3"
      },
      "source": [
        "## Inference\n",
        "\n",
        "Let's test the model on a new sentence:"
      ]
    },
    {
      "cell_type": "code",
      "metadata": {
        "id": "3fxjfr8PLD42",
        "executionInfo": {
          "status": "ok",
          "timestamp": 1709569303629,
          "user_tz": 480,
          "elapsed": 669,
          "user": {
            "displayName": "",
            "userId": ""
          }
        }
      },
      "source": [
        "text = \"Fuck you\"\n",
        "\n",
        "encoding = tokenizer(text, return_tensors=\"pt\")\n",
        "encoding = {k: v.to(trainer.model.device) for k,v in encoding.items()}\n",
        "\n",
        "outputs = trainer.model(**encoding)"
      ],
      "execution_count": 65,
      "outputs": []
    },
    {
      "cell_type": "markdown",
      "metadata": {
        "id": "8THm5-XgNHPm"
      },
      "source": [
        "The logits that come out of the model are of shape (batch_size, num_labels). As we are only forwarding a single sentence through the model, the `batch_size` equals 1. The logits is a tensor that contains the (unnormalized) scores for every individual label."
      ]
    },
    {
      "cell_type": "code",
      "metadata": {
        "id": "KOBosj4UL2tU",
        "colab": {
          "base_uri": "https://localhost:8080/"
        },
        "executionInfo": {
          "status": "ok",
          "timestamp": 1709569303629,
          "user_tz": 480,
          "elapsed": 18,
          "user": {
            "displayName": "",
            "userId": ""
          }
        },
        "outputId": "77604426-2403-4a3f-8813-e2073634a766"
      },
      "source": [
        "logits = outputs.logits\n",
        "logits.shape"
      ],
      "execution_count": 66,
      "outputs": [
        {
          "output_type": "execute_result",
          "data": {
            "text/plain": [
              "torch.Size([1, 2])"
            ]
          },
          "metadata": {},
          "execution_count": 66
        }
      ]
    },
    {
      "cell_type": "markdown",
      "metadata": {
        "id": "DC4XdDaHNVcd"
      },
      "source": [
        "To turn them into actual predicted labels, we first apply a sigmoid function independently to every score, such that every score is turned into a number between 0 and 1, that can be interpreted as a \"probability\" for how certain the model is that a given class belongs to the input text.\n",
        "\n",
        "Next, we use a threshold (typically, 0.5) to turn every probability into either a 1 (which means, we predict the label for the given example) or a 0 (which means, we don't predict the label for the given example)."
      ]
    },
    {
      "cell_type": "code",
      "metadata": {
        "id": "mEkAQleMMT0k",
        "colab": {
          "base_uri": "https://localhost:8080/"
        },
        "executionInfo": {
          "status": "ok",
          "timestamp": 1709569303629,
          "user_tz": 480,
          "elapsed": 14,
          "user": {
            "displayName": "",
            "userId": ""
          }
        },
        "outputId": "516d9402-3148-4f04-a7b8-7707830fccd9"
      },
      "source": [
        "# apply sigmoid + threshold\n",
        "sigmoid = torch.nn.Sigmoid()\n",
        "probs = sigmoid(logits.squeeze().cpu())\n",
        "predictions = np.zeros(probs.shape)\n",
        "print(predictions.shape)\n",
        "predictions[np.where(probs >= 0.5)] = 1\n",
        "# turn predicted id's into actual label names\n",
        "predicted_labels = [id2label[idx] for idx, label in enumerate(predictions) if label == 0.0]\n",
        "print(predicted_labels)"
      ],
      "execution_count": 67,
      "outputs": [
        {
          "output_type": "stream",
          "name": "stdout",
          "text": [
            "(2,)\n",
            "['positive']\n"
          ]
        }
      ]
    },
    {
      "cell_type": "code",
      "source": [
        "trainer.predict(encoded_dataset[\"test\"])"
      ],
      "metadata": {
        "id": "l0GyDQPqt69V",
        "colab": {
          "base_uri": "https://localhost:8080/",
          "height": 394
        },
        "executionInfo": {
          "status": "ok",
          "timestamp": 1709569920275,
          "user_tz": 480,
          "elapsed": 616650,
          "user": {
            "displayName": "",
            "userId": ""
          }
        },
        "outputId": "f9891f68-c28d-42af-d706-c2988a4f991e"
      },
      "execution_count": 68,
      "outputs": [
        {
          "output_type": "stream",
          "name": "stderr",
          "text": [
            "/usr/local/lib/python3.10/dist-packages/torch/nn/parallel/_functions.py:68: UserWarning: Was asked to gather along dimension 0, but all input tensors were scalars; will instead unsqueeze and return a vector.\n",
            "  warnings.warn('Was asked to gather along dimension 0, but all '\n"
          ]
        },
        {
          "output_type": "display_data",
          "data": {
            "text/plain": [
              "<IPython.core.display.HTML object>"
            ],
            "text/html": []
          },
          "metadata": {}
        },
        {
          "output_type": "stream",
          "name": "stdout",
          "text": [
            "[[60574    62]\n",
            " [   68    87]]\n"
          ]
        },
        {
          "output_type": "execute_result",
          "data": {
            "text/plain": [
              "PredictionOutput(predictions=array([[ 8.041879 , -8.065804 ],\n",
              "       [ 8.080339 , -8.103852 ],\n",
              "       [ 6.856856 , -6.8621006],\n",
              "       ...,\n",
              "       [ 8.11154  , -8.141255 ],\n",
              "       [ 8.1073   , -8.126675 ],\n",
              "       [ 7.5809135, -7.5926294]], dtype=float32), label_ids=array([[1., 0.],\n",
              "       [1., 0.],\n",
              "       [1., 0.],\n",
              "       ...,\n",
              "       [1., 0.],\n",
              "       [1., 0.],\n",
              "       [1., 0.]], dtype=float32), metrics={'test_loss': 0.009386032819747925, 'test_f1': 0.5723684210526315, 'test_roc_auc': 0.7801339138465597, 'test_accuracy': 0.9978615255547696, 'test_precision': 0.5838926174496645, 'test_recall': 0.5612903225806452, 'test_runtime': 616.5999, 'test_samples_per_second': 98.591, 'test_steps_per_second': 3.081})"
            ]
          },
          "metadata": {},
          "execution_count": 68
        }
      ]
    },
    {
      "cell_type": "code",
      "source": [
        "#high test cz most are zeroes and would ve assigned the same i presume?"
      ],
      "metadata": {
        "id": "bgkPuA0gydZ3",
        "executionInfo": {
          "status": "ok",
          "timestamp": 1709569920276,
          "user_tz": 480,
          "elapsed": 35,
          "user": {
            "displayName": "",
            "userId": ""
          }
        }
      },
      "execution_count": 69,
      "outputs": []
    },
    {
      "cell_type": "code",
      "source": [],
      "metadata": {
        "id": "lLRuGUNO99co",
        "executionInfo": {
          "status": "ok",
          "timestamp": 1709569920276,
          "user_tz": 480,
          "elapsed": 32,
          "user": {
            "displayName": "",
            "userId": ""
          }
        }
      },
      "execution_count": 69,
      "outputs": []
    }
  ]
}