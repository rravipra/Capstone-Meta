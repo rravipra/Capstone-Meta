{
  "nbformat": 4,
  "nbformat_minor": 0,
  "metadata": {
    "colab": {
      "name": "Fine-tuning BERT (and friends) for multi-label text classification.ipynb",
      "provenance": []
    },
    "kernelspec": {
      "name": "python3",
      "display_name": "Python 3"
    },
    "language_info": {
      "name": "python"
    },
    "accelerator": "GPU",
    "widgets": {
      "application/vnd.jupyter.widget-state+json": {
        "dbe2fe209c334e6a826b187ab05b2126": {
          "model_module": "@jupyter-widgets/controls",
          "model_name": "HBoxModel",
          "model_module_version": "1.5.0",
          "state": {
            "_dom_classes": [],
            "_model_module": "@jupyter-widgets/controls",
            "_model_module_version": "1.5.0",
            "_model_name": "HBoxModel",
            "_view_count": null,
            "_view_module": "@jupyter-widgets/controls",
            "_view_module_version": "1.5.0",
            "_view_name": "HBoxView",
            "box_style": "",
            "children": [
              "IPY_MODEL_698082d0113b499b8561e08bc7b7909d",
              "IPY_MODEL_fa7e3055a523469bae6c82575af367d4",
              "IPY_MODEL_d6debb50563d4a39bf81f9f621c66701"
            ],
            "layout": "IPY_MODEL_0ce4415a8d1c4244b85d483e31f9bd3a"
          }
        },
        "698082d0113b499b8561e08bc7b7909d": {
          "model_module": "@jupyter-widgets/controls",
          "model_name": "HTMLModel",
          "model_module_version": "1.5.0",
          "state": {
            "_dom_classes": [],
            "_model_module": "@jupyter-widgets/controls",
            "_model_module_version": "1.5.0",
            "_model_name": "HTMLModel",
            "_view_count": null,
            "_view_module": "@jupyter-widgets/controls",
            "_view_module_version": "1.5.0",
            "_view_name": "HTMLView",
            "description": "",
            "description_tooltip": null,
            "layout": "IPY_MODEL_59f7a221787942a1acacb19b929b1dab",
            "placeholder": "​",
            "style": "IPY_MODEL_8e2db855b21f4d5591ca305a7873b6c5",
            "value": "Map: 100%"
          }
        },
        "fa7e3055a523469bae6c82575af367d4": {
          "model_module": "@jupyter-widgets/controls",
          "model_name": "FloatProgressModel",
          "model_module_version": "1.5.0",
          "state": {
            "_dom_classes": [],
            "_model_module": "@jupyter-widgets/controls",
            "_model_module_version": "1.5.0",
            "_model_name": "FloatProgressModel",
            "_view_count": null,
            "_view_module": "@jupyter-widgets/controls",
            "_view_module_version": "1.5.0",
            "_view_name": "ProgressView",
            "bar_style": "success",
            "description": "",
            "description_tooltip": null,
            "layout": "IPY_MODEL_f5371104fe67457b8b4586f1e093fbc3",
            "max": 283685,
            "min": 0,
            "orientation": "horizontal",
            "style": "IPY_MODEL_8ad264a057aa4836bdb328cca73e5537",
            "value": 283685
          }
        },
        "d6debb50563d4a39bf81f9f621c66701": {
          "model_module": "@jupyter-widgets/controls",
          "model_name": "HTMLModel",
          "model_module_version": "1.5.0",
          "state": {
            "_dom_classes": [],
            "_model_module": "@jupyter-widgets/controls",
            "_model_module_version": "1.5.0",
            "_model_name": "HTMLModel",
            "_view_count": null,
            "_view_module": "@jupyter-widgets/controls",
            "_view_module_version": "1.5.0",
            "_view_name": "HTMLView",
            "description": "",
            "description_tooltip": null,
            "layout": "IPY_MODEL_7769192d881a4eb5a3b3d881df06a3b8",
            "placeholder": "​",
            "style": "IPY_MODEL_a88530d7ec74492780f381aaa9e2cfeb",
            "value": " 283685/283685 [00:15&lt;00:00, 18448.63 examples/s]"
          }
        },
        "0ce4415a8d1c4244b85d483e31f9bd3a": {
          "model_module": "@jupyter-widgets/base",
          "model_name": "LayoutModel",
          "model_module_version": "1.2.0",
          "state": {
            "_model_module": "@jupyter-widgets/base",
            "_model_module_version": "1.2.0",
            "_model_name": "LayoutModel",
            "_view_count": null,
            "_view_module": "@jupyter-widgets/base",
            "_view_module_version": "1.2.0",
            "_view_name": "LayoutView",
            "align_content": null,
            "align_items": null,
            "align_self": null,
            "border": null,
            "bottom": null,
            "display": null,
            "flex": null,
            "flex_flow": null,
            "grid_area": null,
            "grid_auto_columns": null,
            "grid_auto_flow": null,
            "grid_auto_rows": null,
            "grid_column": null,
            "grid_gap": null,
            "grid_row": null,
            "grid_template_areas": null,
            "grid_template_columns": null,
            "grid_template_rows": null,
            "height": null,
            "justify_content": null,
            "justify_items": null,
            "left": null,
            "margin": null,
            "max_height": null,
            "max_width": null,
            "min_height": null,
            "min_width": null,
            "object_fit": null,
            "object_position": null,
            "order": null,
            "overflow": null,
            "overflow_x": null,
            "overflow_y": null,
            "padding": null,
            "right": null,
            "top": null,
            "visibility": null,
            "width": null
          }
        },
        "59f7a221787942a1acacb19b929b1dab": {
          "model_module": "@jupyter-widgets/base",
          "model_name": "LayoutModel",
          "model_module_version": "1.2.0",
          "state": {
            "_model_module": "@jupyter-widgets/base",
            "_model_module_version": "1.2.0",
            "_model_name": "LayoutModel",
            "_view_count": null,
            "_view_module": "@jupyter-widgets/base",
            "_view_module_version": "1.2.0",
            "_view_name": "LayoutView",
            "align_content": null,
            "align_items": null,
            "align_self": null,
            "border": null,
            "bottom": null,
            "display": null,
            "flex": null,
            "flex_flow": null,
            "grid_area": null,
            "grid_auto_columns": null,
            "grid_auto_flow": null,
            "grid_auto_rows": null,
            "grid_column": null,
            "grid_gap": null,
            "grid_row": null,
            "grid_template_areas": null,
            "grid_template_columns": null,
            "grid_template_rows": null,
            "height": null,
            "justify_content": null,
            "justify_items": null,
            "left": null,
            "margin": null,
            "max_height": null,
            "max_width": null,
            "min_height": null,
            "min_width": null,
            "object_fit": null,
            "object_position": null,
            "order": null,
            "overflow": null,
            "overflow_x": null,
            "overflow_y": null,
            "padding": null,
            "right": null,
            "top": null,
            "visibility": null,
            "width": null
          }
        },
        "8e2db855b21f4d5591ca305a7873b6c5": {
          "model_module": "@jupyter-widgets/controls",
          "model_name": "DescriptionStyleModel",
          "model_module_version": "1.5.0",
          "state": {
            "_model_module": "@jupyter-widgets/controls",
            "_model_module_version": "1.5.0",
            "_model_name": "DescriptionStyleModel",
            "_view_count": null,
            "_view_module": "@jupyter-widgets/base",
            "_view_module_version": "1.2.0",
            "_view_name": "StyleView",
            "description_width": ""
          }
        },
        "f5371104fe67457b8b4586f1e093fbc3": {
          "model_module": "@jupyter-widgets/base",
          "model_name": "LayoutModel",
          "model_module_version": "1.2.0",
          "state": {
            "_model_module": "@jupyter-widgets/base",
            "_model_module_version": "1.2.0",
            "_model_name": "LayoutModel",
            "_view_count": null,
            "_view_module": "@jupyter-widgets/base",
            "_view_module_version": "1.2.0",
            "_view_name": "LayoutView",
            "align_content": null,
            "align_items": null,
            "align_self": null,
            "border": null,
            "bottom": null,
            "display": null,
            "flex": null,
            "flex_flow": null,
            "grid_area": null,
            "grid_auto_columns": null,
            "grid_auto_flow": null,
            "grid_auto_rows": null,
            "grid_column": null,
            "grid_gap": null,
            "grid_row": null,
            "grid_template_areas": null,
            "grid_template_columns": null,
            "grid_template_rows": null,
            "height": null,
            "justify_content": null,
            "justify_items": null,
            "left": null,
            "margin": null,
            "max_height": null,
            "max_width": null,
            "min_height": null,
            "min_width": null,
            "object_fit": null,
            "object_position": null,
            "order": null,
            "overflow": null,
            "overflow_x": null,
            "overflow_y": null,
            "padding": null,
            "right": null,
            "top": null,
            "visibility": null,
            "width": null
          }
        },
        "8ad264a057aa4836bdb328cca73e5537": {
          "model_module": "@jupyter-widgets/controls",
          "model_name": "ProgressStyleModel",
          "model_module_version": "1.5.0",
          "state": {
            "_model_module": "@jupyter-widgets/controls",
            "_model_module_version": "1.5.0",
            "_model_name": "ProgressStyleModel",
            "_view_count": null,
            "_view_module": "@jupyter-widgets/base",
            "_view_module_version": "1.2.0",
            "_view_name": "StyleView",
            "bar_color": null,
            "description_width": ""
          }
        },
        "7769192d881a4eb5a3b3d881df06a3b8": {
          "model_module": "@jupyter-widgets/base",
          "model_name": "LayoutModel",
          "model_module_version": "1.2.0",
          "state": {
            "_model_module": "@jupyter-widgets/base",
            "_model_module_version": "1.2.0",
            "_model_name": "LayoutModel",
            "_view_count": null,
            "_view_module": "@jupyter-widgets/base",
            "_view_module_version": "1.2.0",
            "_view_name": "LayoutView",
            "align_content": null,
            "align_items": null,
            "align_self": null,
            "border": null,
            "bottom": null,
            "display": null,
            "flex": null,
            "flex_flow": null,
            "grid_area": null,
            "grid_auto_columns": null,
            "grid_auto_flow": null,
            "grid_auto_rows": null,
            "grid_column": null,
            "grid_gap": null,
            "grid_row": null,
            "grid_template_areas": null,
            "grid_template_columns": null,
            "grid_template_rows": null,
            "height": null,
            "justify_content": null,
            "justify_items": null,
            "left": null,
            "margin": null,
            "max_height": null,
            "max_width": null,
            "min_height": null,
            "min_width": null,
            "object_fit": null,
            "object_position": null,
            "order": null,
            "overflow": null,
            "overflow_x": null,
            "overflow_y": null,
            "padding": null,
            "right": null,
            "top": null,
            "visibility": null,
            "width": null
          }
        },
        "a88530d7ec74492780f381aaa9e2cfeb": {
          "model_module": "@jupyter-widgets/controls",
          "model_name": "DescriptionStyleModel",
          "model_module_version": "1.5.0",
          "state": {
            "_model_module": "@jupyter-widgets/controls",
            "_model_module_version": "1.5.0",
            "_model_name": "DescriptionStyleModel",
            "_view_count": null,
            "_view_module": "@jupyter-widgets/base",
            "_view_module_version": "1.2.0",
            "_view_name": "StyleView",
            "description_width": ""
          }
        },
        "977d3253e42e4170b85cc5632782f116": {
          "model_module": "@jupyter-widgets/controls",
          "model_name": "HBoxModel",
          "model_module_version": "1.5.0",
          "state": {
            "_dom_classes": [],
            "_model_module": "@jupyter-widgets/controls",
            "_model_module_version": "1.5.0",
            "_model_name": "HBoxModel",
            "_view_count": null,
            "_view_module": "@jupyter-widgets/controls",
            "_view_module_version": "1.5.0",
            "_view_name": "HBoxView",
            "box_style": "",
            "children": [
              "IPY_MODEL_84cd3c3ec3a04ee5b8b36bd118788dd9",
              "IPY_MODEL_8c235ceadff2426d994f768fc807dc28",
              "IPY_MODEL_05c928c92f8b4893abd71e0699f716c1"
            ],
            "layout": "IPY_MODEL_3ff21253eccd4a599be3854dc79d3493"
          }
        },
        "84cd3c3ec3a04ee5b8b36bd118788dd9": {
          "model_module": "@jupyter-widgets/controls",
          "model_name": "HTMLModel",
          "model_module_version": "1.5.0",
          "state": {
            "_dom_classes": [],
            "_model_module": "@jupyter-widgets/controls",
            "_model_module_version": "1.5.0",
            "_model_name": "HTMLModel",
            "_view_count": null,
            "_view_module": "@jupyter-widgets/controls",
            "_view_module_version": "1.5.0",
            "_view_name": "HTMLView",
            "description": "",
            "description_tooltip": null,
            "layout": "IPY_MODEL_126adf290a4a4afa951dc9ff8fbffe82",
            "placeholder": "​",
            "style": "IPY_MODEL_5982d56c8abb4dada8352b046d7e9018",
            "value": "Map: 100%"
          }
        },
        "8c235ceadff2426d994f768fc807dc28": {
          "model_module": "@jupyter-widgets/controls",
          "model_name": "FloatProgressModel",
          "model_module_version": "1.5.0",
          "state": {
            "_dom_classes": [],
            "_model_module": "@jupyter-widgets/controls",
            "_model_module_version": "1.5.0",
            "_model_name": "FloatProgressModel",
            "_view_count": null,
            "_view_module": "@jupyter-widgets/controls",
            "_view_module_version": "1.5.0",
            "_view_name": "ProgressView",
            "bar_style": "success",
            "description": "",
            "description_tooltip": null,
            "layout": "IPY_MODEL_a978b63bd73a48a2a7cd2e000c2b16a8",
            "max": 60791,
            "min": 0,
            "orientation": "horizontal",
            "style": "IPY_MODEL_8235fe9700e64bec8f851503945171c1",
            "value": 60791
          }
        },
        "05c928c92f8b4893abd71e0699f716c1": {
          "model_module": "@jupyter-widgets/controls",
          "model_name": "HTMLModel",
          "model_module_version": "1.5.0",
          "state": {
            "_dom_classes": [],
            "_model_module": "@jupyter-widgets/controls",
            "_model_module_version": "1.5.0",
            "_model_name": "HTMLModel",
            "_view_count": null,
            "_view_module": "@jupyter-widgets/controls",
            "_view_module_version": "1.5.0",
            "_view_name": "HTMLView",
            "description": "",
            "description_tooltip": null,
            "layout": "IPY_MODEL_45f6a0d06c1b46859bcfff38d85108b4",
            "placeholder": "​",
            "style": "IPY_MODEL_c275848275634c5e8e98872f80f065c9",
            "value": " 60791/60791 [00:03&lt;00:00, 18823.06 examples/s]"
          }
        },
        "3ff21253eccd4a599be3854dc79d3493": {
          "model_module": "@jupyter-widgets/base",
          "model_name": "LayoutModel",
          "model_module_version": "1.2.0",
          "state": {
            "_model_module": "@jupyter-widgets/base",
            "_model_module_version": "1.2.0",
            "_model_name": "LayoutModel",
            "_view_count": null,
            "_view_module": "@jupyter-widgets/base",
            "_view_module_version": "1.2.0",
            "_view_name": "LayoutView",
            "align_content": null,
            "align_items": null,
            "align_self": null,
            "border": null,
            "bottom": null,
            "display": null,
            "flex": null,
            "flex_flow": null,
            "grid_area": null,
            "grid_auto_columns": null,
            "grid_auto_flow": null,
            "grid_auto_rows": null,
            "grid_column": null,
            "grid_gap": null,
            "grid_row": null,
            "grid_template_areas": null,
            "grid_template_columns": null,
            "grid_template_rows": null,
            "height": null,
            "justify_content": null,
            "justify_items": null,
            "left": null,
            "margin": null,
            "max_height": null,
            "max_width": null,
            "min_height": null,
            "min_width": null,
            "object_fit": null,
            "object_position": null,
            "order": null,
            "overflow": null,
            "overflow_x": null,
            "overflow_y": null,
            "padding": null,
            "right": null,
            "top": null,
            "visibility": null,
            "width": null
          }
        },
        "126adf290a4a4afa951dc9ff8fbffe82": {
          "model_module": "@jupyter-widgets/base",
          "model_name": "LayoutModel",
          "model_module_version": "1.2.0",
          "state": {
            "_model_module": "@jupyter-widgets/base",
            "_model_module_version": "1.2.0",
            "_model_name": "LayoutModel",
            "_view_count": null,
            "_view_module": "@jupyter-widgets/base",
            "_view_module_version": "1.2.0",
            "_view_name": "LayoutView",
            "align_content": null,
            "align_items": null,
            "align_self": null,
            "border": null,
            "bottom": null,
            "display": null,
            "flex": null,
            "flex_flow": null,
            "grid_area": null,
            "grid_auto_columns": null,
            "grid_auto_flow": null,
            "grid_auto_rows": null,
            "grid_column": null,
            "grid_gap": null,
            "grid_row": null,
            "grid_template_areas": null,
            "grid_template_columns": null,
            "grid_template_rows": null,
            "height": null,
            "justify_content": null,
            "justify_items": null,
            "left": null,
            "margin": null,
            "max_height": null,
            "max_width": null,
            "min_height": null,
            "min_width": null,
            "object_fit": null,
            "object_position": null,
            "order": null,
            "overflow": null,
            "overflow_x": null,
            "overflow_y": null,
            "padding": null,
            "right": null,
            "top": null,
            "visibility": null,
            "width": null
          }
        },
        "5982d56c8abb4dada8352b046d7e9018": {
          "model_module": "@jupyter-widgets/controls",
          "model_name": "DescriptionStyleModel",
          "model_module_version": "1.5.0",
          "state": {
            "_model_module": "@jupyter-widgets/controls",
            "_model_module_version": "1.5.0",
            "_model_name": "DescriptionStyleModel",
            "_view_count": null,
            "_view_module": "@jupyter-widgets/base",
            "_view_module_version": "1.2.0",
            "_view_name": "StyleView",
            "description_width": ""
          }
        },
        "a978b63bd73a48a2a7cd2e000c2b16a8": {
          "model_module": "@jupyter-widgets/base",
          "model_name": "LayoutModel",
          "model_module_version": "1.2.0",
          "state": {
            "_model_module": "@jupyter-widgets/base",
            "_model_module_version": "1.2.0",
            "_model_name": "LayoutModel",
            "_view_count": null,
            "_view_module": "@jupyter-widgets/base",
            "_view_module_version": "1.2.0",
            "_view_name": "LayoutView",
            "align_content": null,
            "align_items": null,
            "align_self": null,
            "border": null,
            "bottom": null,
            "display": null,
            "flex": null,
            "flex_flow": null,
            "grid_area": null,
            "grid_auto_columns": null,
            "grid_auto_flow": null,
            "grid_auto_rows": null,
            "grid_column": null,
            "grid_gap": null,
            "grid_row": null,
            "grid_template_areas": null,
            "grid_template_columns": null,
            "grid_template_rows": null,
            "height": null,
            "justify_content": null,
            "justify_items": null,
            "left": null,
            "margin": null,
            "max_height": null,
            "max_width": null,
            "min_height": null,
            "min_width": null,
            "object_fit": null,
            "object_position": null,
            "order": null,
            "overflow": null,
            "overflow_x": null,
            "overflow_y": null,
            "padding": null,
            "right": null,
            "top": null,
            "visibility": null,
            "width": null
          }
        },
        "8235fe9700e64bec8f851503945171c1": {
          "model_module": "@jupyter-widgets/controls",
          "model_name": "ProgressStyleModel",
          "model_module_version": "1.5.0",
          "state": {
            "_model_module": "@jupyter-widgets/controls",
            "_model_module_version": "1.5.0",
            "_model_name": "ProgressStyleModel",
            "_view_count": null,
            "_view_module": "@jupyter-widgets/base",
            "_view_module_version": "1.2.0",
            "_view_name": "StyleView",
            "bar_color": null,
            "description_width": ""
          }
        },
        "45f6a0d06c1b46859bcfff38d85108b4": {
          "model_module": "@jupyter-widgets/base",
          "model_name": "LayoutModel",
          "model_module_version": "1.2.0",
          "state": {
            "_model_module": "@jupyter-widgets/base",
            "_model_module_version": "1.2.0",
            "_model_name": "LayoutModel",
            "_view_count": null,
            "_view_module": "@jupyter-widgets/base",
            "_view_module_version": "1.2.0",
            "_view_name": "LayoutView",
            "align_content": null,
            "align_items": null,
            "align_self": null,
            "border": null,
            "bottom": null,
            "display": null,
            "flex": null,
            "flex_flow": null,
            "grid_area": null,
            "grid_auto_columns": null,
            "grid_auto_flow": null,
            "grid_auto_rows": null,
            "grid_column": null,
            "grid_gap": null,
            "grid_row": null,
            "grid_template_areas": null,
            "grid_template_columns": null,
            "grid_template_rows": null,
            "height": null,
            "justify_content": null,
            "justify_items": null,
            "left": null,
            "margin": null,
            "max_height": null,
            "max_width": null,
            "min_height": null,
            "min_width": null,
            "object_fit": null,
            "object_position": null,
            "order": null,
            "overflow": null,
            "overflow_x": null,
            "overflow_y": null,
            "padding": null,
            "right": null,
            "top": null,
            "visibility": null,
            "width": null
          }
        },
        "c275848275634c5e8e98872f80f065c9": {
          "model_module": "@jupyter-widgets/controls",
          "model_name": "DescriptionStyleModel",
          "model_module_version": "1.5.0",
          "state": {
            "_model_module": "@jupyter-widgets/controls",
            "_model_module_version": "1.5.0",
            "_model_name": "DescriptionStyleModel",
            "_view_count": null,
            "_view_module": "@jupyter-widgets/base",
            "_view_module_version": "1.2.0",
            "_view_name": "StyleView",
            "description_width": ""
          }
        },
        "b6140d89b0634d18aae11f21d88d5070": {
          "model_module": "@jupyter-widgets/controls",
          "model_name": "HBoxModel",
          "model_module_version": "1.5.0",
          "state": {
            "_dom_classes": [],
            "_model_module": "@jupyter-widgets/controls",
            "_model_module_version": "1.5.0",
            "_model_name": "HBoxModel",
            "_view_count": null,
            "_view_module": "@jupyter-widgets/controls",
            "_view_module_version": "1.5.0",
            "_view_name": "HBoxView",
            "box_style": "",
            "children": [
              "IPY_MODEL_06a8007f83cf4015a36498e56e1c38b6",
              "IPY_MODEL_7eeaf3d95f4d41199931fdd6594d7b34",
              "IPY_MODEL_4739d33bfe5348ca8b309dd23c47e6b2"
            ],
            "layout": "IPY_MODEL_910e3ff7a9a841d8a37e48bb54e5e1a1"
          }
        },
        "06a8007f83cf4015a36498e56e1c38b6": {
          "model_module": "@jupyter-widgets/controls",
          "model_name": "HTMLModel",
          "model_module_version": "1.5.0",
          "state": {
            "_dom_classes": [],
            "_model_module": "@jupyter-widgets/controls",
            "_model_module_version": "1.5.0",
            "_model_name": "HTMLModel",
            "_view_count": null,
            "_view_module": "@jupyter-widgets/controls",
            "_view_module_version": "1.5.0",
            "_view_name": "HTMLView",
            "description": "",
            "description_tooltip": null,
            "layout": "IPY_MODEL_f1a9214388174e2884b3de9de7dfb4fc",
            "placeholder": "​",
            "style": "IPY_MODEL_800a9922669a4079943237af057dd0d7",
            "value": "Map: 100%"
          }
        },
        "7eeaf3d95f4d41199931fdd6594d7b34": {
          "model_module": "@jupyter-widgets/controls",
          "model_name": "FloatProgressModel",
          "model_module_version": "1.5.0",
          "state": {
            "_dom_classes": [],
            "_model_module": "@jupyter-widgets/controls",
            "_model_module_version": "1.5.0",
            "_model_name": "FloatProgressModel",
            "_view_count": null,
            "_view_module": "@jupyter-widgets/controls",
            "_view_module_version": "1.5.0",
            "_view_name": "ProgressView",
            "bar_style": "success",
            "description": "",
            "description_tooltip": null,
            "layout": "IPY_MODEL_76b5f85050c248e086a45a54635b5fc2",
            "max": 60791,
            "min": 0,
            "orientation": "horizontal",
            "style": "IPY_MODEL_0312680ba7034daf856363a275769d37",
            "value": 60791
          }
        },
        "4739d33bfe5348ca8b309dd23c47e6b2": {
          "model_module": "@jupyter-widgets/controls",
          "model_name": "HTMLModel",
          "model_module_version": "1.5.0",
          "state": {
            "_dom_classes": [],
            "_model_module": "@jupyter-widgets/controls",
            "_model_module_version": "1.5.0",
            "_model_name": "HTMLModel",
            "_view_count": null,
            "_view_module": "@jupyter-widgets/controls",
            "_view_module_version": "1.5.0",
            "_view_name": "HTMLView",
            "description": "",
            "description_tooltip": null,
            "layout": "IPY_MODEL_331bb11a11d04b2bb19c2d371bcd67b9",
            "placeholder": "​",
            "style": "IPY_MODEL_1e1aa4cb20be4e7aa8d619f9b333ca6a",
            "value": " 60791/60791 [00:03&lt;00:00, 19169.41 examples/s]"
          }
        },
        "910e3ff7a9a841d8a37e48bb54e5e1a1": {
          "model_module": "@jupyter-widgets/base",
          "model_name": "LayoutModel",
          "model_module_version": "1.2.0",
          "state": {
            "_model_module": "@jupyter-widgets/base",
            "_model_module_version": "1.2.0",
            "_model_name": "LayoutModel",
            "_view_count": null,
            "_view_module": "@jupyter-widgets/base",
            "_view_module_version": "1.2.0",
            "_view_name": "LayoutView",
            "align_content": null,
            "align_items": null,
            "align_self": null,
            "border": null,
            "bottom": null,
            "display": null,
            "flex": null,
            "flex_flow": null,
            "grid_area": null,
            "grid_auto_columns": null,
            "grid_auto_flow": null,
            "grid_auto_rows": null,
            "grid_column": null,
            "grid_gap": null,
            "grid_row": null,
            "grid_template_areas": null,
            "grid_template_columns": null,
            "grid_template_rows": null,
            "height": null,
            "justify_content": null,
            "justify_items": null,
            "left": null,
            "margin": null,
            "max_height": null,
            "max_width": null,
            "min_height": null,
            "min_width": null,
            "object_fit": null,
            "object_position": null,
            "order": null,
            "overflow": null,
            "overflow_x": null,
            "overflow_y": null,
            "padding": null,
            "right": null,
            "top": null,
            "visibility": null,
            "width": null
          }
        },
        "f1a9214388174e2884b3de9de7dfb4fc": {
          "model_module": "@jupyter-widgets/base",
          "model_name": "LayoutModel",
          "model_module_version": "1.2.0",
          "state": {
            "_model_module": "@jupyter-widgets/base",
            "_model_module_version": "1.2.0",
            "_model_name": "LayoutModel",
            "_view_count": null,
            "_view_module": "@jupyter-widgets/base",
            "_view_module_version": "1.2.0",
            "_view_name": "LayoutView",
            "align_content": null,
            "align_items": null,
            "align_self": null,
            "border": null,
            "bottom": null,
            "display": null,
            "flex": null,
            "flex_flow": null,
            "grid_area": null,
            "grid_auto_columns": null,
            "grid_auto_flow": null,
            "grid_auto_rows": null,
            "grid_column": null,
            "grid_gap": null,
            "grid_row": null,
            "grid_template_areas": null,
            "grid_template_columns": null,
            "grid_template_rows": null,
            "height": null,
            "justify_content": null,
            "justify_items": null,
            "left": null,
            "margin": null,
            "max_height": null,
            "max_width": null,
            "min_height": null,
            "min_width": null,
            "object_fit": null,
            "object_position": null,
            "order": null,
            "overflow": null,
            "overflow_x": null,
            "overflow_y": null,
            "padding": null,
            "right": null,
            "top": null,
            "visibility": null,
            "width": null
          }
        },
        "800a9922669a4079943237af057dd0d7": {
          "model_module": "@jupyter-widgets/controls",
          "model_name": "DescriptionStyleModel",
          "model_module_version": "1.5.0",
          "state": {
            "_model_module": "@jupyter-widgets/controls",
            "_model_module_version": "1.5.0",
            "_model_name": "DescriptionStyleModel",
            "_view_count": null,
            "_view_module": "@jupyter-widgets/base",
            "_view_module_version": "1.2.0",
            "_view_name": "StyleView",
            "description_width": ""
          }
        },
        "76b5f85050c248e086a45a54635b5fc2": {
          "model_module": "@jupyter-widgets/base",
          "model_name": "LayoutModel",
          "model_module_version": "1.2.0",
          "state": {
            "_model_module": "@jupyter-widgets/base",
            "_model_module_version": "1.2.0",
            "_model_name": "LayoutModel",
            "_view_count": null,
            "_view_module": "@jupyter-widgets/base",
            "_view_module_version": "1.2.0",
            "_view_name": "LayoutView",
            "align_content": null,
            "align_items": null,
            "align_self": null,
            "border": null,
            "bottom": null,
            "display": null,
            "flex": null,
            "flex_flow": null,
            "grid_area": null,
            "grid_auto_columns": null,
            "grid_auto_flow": null,
            "grid_auto_rows": null,
            "grid_column": null,
            "grid_gap": null,
            "grid_row": null,
            "grid_template_areas": null,
            "grid_template_columns": null,
            "grid_template_rows": null,
            "height": null,
            "justify_content": null,
            "justify_items": null,
            "left": null,
            "margin": null,
            "max_height": null,
            "max_width": null,
            "min_height": null,
            "min_width": null,
            "object_fit": null,
            "object_position": null,
            "order": null,
            "overflow": null,
            "overflow_x": null,
            "overflow_y": null,
            "padding": null,
            "right": null,
            "top": null,
            "visibility": null,
            "width": null
          }
        },
        "0312680ba7034daf856363a275769d37": {
          "model_module": "@jupyter-widgets/controls",
          "model_name": "ProgressStyleModel",
          "model_module_version": "1.5.0",
          "state": {
            "_model_module": "@jupyter-widgets/controls",
            "_model_module_version": "1.5.0",
            "_model_name": "ProgressStyleModel",
            "_view_count": null,
            "_view_module": "@jupyter-widgets/base",
            "_view_module_version": "1.2.0",
            "_view_name": "StyleView",
            "bar_color": null,
            "description_width": ""
          }
        },
        "331bb11a11d04b2bb19c2d371bcd67b9": {
          "model_module": "@jupyter-widgets/base",
          "model_name": "LayoutModel",
          "model_module_version": "1.2.0",
          "state": {
            "_model_module": "@jupyter-widgets/base",
            "_model_module_version": "1.2.0",
            "_model_name": "LayoutModel",
            "_view_count": null,
            "_view_module": "@jupyter-widgets/base",
            "_view_module_version": "1.2.0",
            "_view_name": "LayoutView",
            "align_content": null,
            "align_items": null,
            "align_self": null,
            "border": null,
            "bottom": null,
            "display": null,
            "flex": null,
            "flex_flow": null,
            "grid_area": null,
            "grid_auto_columns": null,
            "grid_auto_flow": null,
            "grid_auto_rows": null,
            "grid_column": null,
            "grid_gap": null,
            "grid_row": null,
            "grid_template_areas": null,
            "grid_template_columns": null,
            "grid_template_rows": null,
            "height": null,
            "justify_content": null,
            "justify_items": null,
            "left": null,
            "margin": null,
            "max_height": null,
            "max_width": null,
            "min_height": null,
            "min_width": null,
            "object_fit": null,
            "object_position": null,
            "order": null,
            "overflow": null,
            "overflow_x": null,
            "overflow_y": null,
            "padding": null,
            "right": null,
            "top": null,
            "visibility": null,
            "width": null
          }
        },
        "1e1aa4cb20be4e7aa8d619f9b333ca6a": {
          "model_module": "@jupyter-widgets/controls",
          "model_name": "DescriptionStyleModel",
          "model_module_version": "1.5.0",
          "state": {
            "_model_module": "@jupyter-widgets/controls",
            "_model_module_version": "1.5.0",
            "_model_name": "DescriptionStyleModel",
            "_view_count": null,
            "_view_module": "@jupyter-widgets/base",
            "_view_module_version": "1.2.0",
            "_view_name": "StyleView",
            "description_width": ""
          }
        },
        "1d80e4ca543d43adb5c7ab26fa0cf654": {
          "model_module": "@jupyter-widgets/controls",
          "model_name": "HBoxModel",
          "model_module_version": "1.5.0",
          "state": {
            "_dom_classes": [],
            "_model_module": "@jupyter-widgets/controls",
            "_model_module_version": "1.5.0",
            "_model_name": "HBoxModel",
            "_view_count": null,
            "_view_module": "@jupyter-widgets/controls",
            "_view_module_version": "1.5.0",
            "_view_name": "HBoxView",
            "box_style": "",
            "children": [
              "IPY_MODEL_da3233391917457f9ab4b1ba6346c4b9",
              "IPY_MODEL_9facee684a244e01a9c0bdc38b5ab18f",
              "IPY_MODEL_95b96ecefdf54da799d51efcf40ccb75"
            ],
            "layout": "IPY_MODEL_7dadb123da6a448b93389b6c73682cac"
          }
        },
        "da3233391917457f9ab4b1ba6346c4b9": {
          "model_module": "@jupyter-widgets/controls",
          "model_name": "HTMLModel",
          "model_module_version": "1.5.0",
          "state": {
            "_dom_classes": [],
            "_model_module": "@jupyter-widgets/controls",
            "_model_module_version": "1.5.0",
            "_model_name": "HTMLModel",
            "_view_count": null,
            "_view_module": "@jupyter-widgets/controls",
            "_view_module_version": "1.5.0",
            "_view_name": "HTMLView",
            "description": "",
            "description_tooltip": null,
            "layout": "IPY_MODEL_e6f7695654bb47d38310e54346cf68b8",
            "placeholder": "​",
            "style": "IPY_MODEL_8b90e6975f3b48f6b7189d9cf8a88ae8",
            "value": "Map: 100%"
          }
        },
        "9facee684a244e01a9c0bdc38b5ab18f": {
          "model_module": "@jupyter-widgets/controls",
          "model_name": "FloatProgressModel",
          "model_module_version": "1.5.0",
          "state": {
            "_dom_classes": [],
            "_model_module": "@jupyter-widgets/controls",
            "_model_module_version": "1.5.0",
            "_model_name": "FloatProgressModel",
            "_view_count": null,
            "_view_module": "@jupyter-widgets/controls",
            "_view_module_version": "1.5.0",
            "_view_name": "ProgressView",
            "bar_style": "success",
            "description": "",
            "description_tooltip": null,
            "layout": "IPY_MODEL_d419c37b4bb9426495b70003d2e17980",
            "max": 283685,
            "min": 0,
            "orientation": "horizontal",
            "style": "IPY_MODEL_7c74b98da25e411e90f6d83f11c6936b",
            "value": 283685
          }
        },
        "95b96ecefdf54da799d51efcf40ccb75": {
          "model_module": "@jupyter-widgets/controls",
          "model_name": "HTMLModel",
          "model_module_version": "1.5.0",
          "state": {
            "_dom_classes": [],
            "_model_module": "@jupyter-widgets/controls",
            "_model_module_version": "1.5.0",
            "_model_name": "HTMLModel",
            "_view_count": null,
            "_view_module": "@jupyter-widgets/controls",
            "_view_module_version": "1.5.0",
            "_view_name": "HTMLView",
            "description": "",
            "description_tooltip": null,
            "layout": "IPY_MODEL_152a66356443438bac199f15bb040e6a",
            "placeholder": "​",
            "style": "IPY_MODEL_e6ec3a906eac481d81c2174da580e868",
            "value": " 283685/283685 [01:20&lt;00:00, 3124.45 examples/s]"
          }
        },
        "7dadb123da6a448b93389b6c73682cac": {
          "model_module": "@jupyter-widgets/base",
          "model_name": "LayoutModel",
          "model_module_version": "1.2.0",
          "state": {
            "_model_module": "@jupyter-widgets/base",
            "_model_module_version": "1.2.0",
            "_model_name": "LayoutModel",
            "_view_count": null,
            "_view_module": "@jupyter-widgets/base",
            "_view_module_version": "1.2.0",
            "_view_name": "LayoutView",
            "align_content": null,
            "align_items": null,
            "align_self": null,
            "border": null,
            "bottom": null,
            "display": null,
            "flex": null,
            "flex_flow": null,
            "grid_area": null,
            "grid_auto_columns": null,
            "grid_auto_flow": null,
            "grid_auto_rows": null,
            "grid_column": null,
            "grid_gap": null,
            "grid_row": null,
            "grid_template_areas": null,
            "grid_template_columns": null,
            "grid_template_rows": null,
            "height": null,
            "justify_content": null,
            "justify_items": null,
            "left": null,
            "margin": null,
            "max_height": null,
            "max_width": null,
            "min_height": null,
            "min_width": null,
            "object_fit": null,
            "object_position": null,
            "order": null,
            "overflow": null,
            "overflow_x": null,
            "overflow_y": null,
            "padding": null,
            "right": null,
            "top": null,
            "visibility": null,
            "width": null
          }
        },
        "e6f7695654bb47d38310e54346cf68b8": {
          "model_module": "@jupyter-widgets/base",
          "model_name": "LayoutModel",
          "model_module_version": "1.2.0",
          "state": {
            "_model_module": "@jupyter-widgets/base",
            "_model_module_version": "1.2.0",
            "_model_name": "LayoutModel",
            "_view_count": null,
            "_view_module": "@jupyter-widgets/base",
            "_view_module_version": "1.2.0",
            "_view_name": "LayoutView",
            "align_content": null,
            "align_items": null,
            "align_self": null,
            "border": null,
            "bottom": null,
            "display": null,
            "flex": null,
            "flex_flow": null,
            "grid_area": null,
            "grid_auto_columns": null,
            "grid_auto_flow": null,
            "grid_auto_rows": null,
            "grid_column": null,
            "grid_gap": null,
            "grid_row": null,
            "grid_template_areas": null,
            "grid_template_columns": null,
            "grid_template_rows": null,
            "height": null,
            "justify_content": null,
            "justify_items": null,
            "left": null,
            "margin": null,
            "max_height": null,
            "max_width": null,
            "min_height": null,
            "min_width": null,
            "object_fit": null,
            "object_position": null,
            "order": null,
            "overflow": null,
            "overflow_x": null,
            "overflow_y": null,
            "padding": null,
            "right": null,
            "top": null,
            "visibility": null,
            "width": null
          }
        },
        "8b90e6975f3b48f6b7189d9cf8a88ae8": {
          "model_module": "@jupyter-widgets/controls",
          "model_name": "DescriptionStyleModel",
          "model_module_version": "1.5.0",
          "state": {
            "_model_module": "@jupyter-widgets/controls",
            "_model_module_version": "1.5.0",
            "_model_name": "DescriptionStyleModel",
            "_view_count": null,
            "_view_module": "@jupyter-widgets/base",
            "_view_module_version": "1.2.0",
            "_view_name": "StyleView",
            "description_width": ""
          }
        },
        "d419c37b4bb9426495b70003d2e17980": {
          "model_module": "@jupyter-widgets/base",
          "model_name": "LayoutModel",
          "model_module_version": "1.2.0",
          "state": {
            "_model_module": "@jupyter-widgets/base",
            "_model_module_version": "1.2.0",
            "_model_name": "LayoutModel",
            "_view_count": null,
            "_view_module": "@jupyter-widgets/base",
            "_view_module_version": "1.2.0",
            "_view_name": "LayoutView",
            "align_content": null,
            "align_items": null,
            "align_self": null,
            "border": null,
            "bottom": null,
            "display": null,
            "flex": null,
            "flex_flow": null,
            "grid_area": null,
            "grid_auto_columns": null,
            "grid_auto_flow": null,
            "grid_auto_rows": null,
            "grid_column": null,
            "grid_gap": null,
            "grid_row": null,
            "grid_template_areas": null,
            "grid_template_columns": null,
            "grid_template_rows": null,
            "height": null,
            "justify_content": null,
            "justify_items": null,
            "left": null,
            "margin": null,
            "max_height": null,
            "max_width": null,
            "min_height": null,
            "min_width": null,
            "object_fit": null,
            "object_position": null,
            "order": null,
            "overflow": null,
            "overflow_x": null,
            "overflow_y": null,
            "padding": null,
            "right": null,
            "top": null,
            "visibility": null,
            "width": null
          }
        },
        "7c74b98da25e411e90f6d83f11c6936b": {
          "model_module": "@jupyter-widgets/controls",
          "model_name": "ProgressStyleModel",
          "model_module_version": "1.5.0",
          "state": {
            "_model_module": "@jupyter-widgets/controls",
            "_model_module_version": "1.5.0",
            "_model_name": "ProgressStyleModel",
            "_view_count": null,
            "_view_module": "@jupyter-widgets/base",
            "_view_module_version": "1.2.0",
            "_view_name": "StyleView",
            "bar_color": null,
            "description_width": ""
          }
        },
        "152a66356443438bac199f15bb040e6a": {
          "model_module": "@jupyter-widgets/base",
          "model_name": "LayoutModel",
          "model_module_version": "1.2.0",
          "state": {
            "_model_module": "@jupyter-widgets/base",
            "_model_module_version": "1.2.0",
            "_model_name": "LayoutModel",
            "_view_count": null,
            "_view_module": "@jupyter-widgets/base",
            "_view_module_version": "1.2.0",
            "_view_name": "LayoutView",
            "align_content": null,
            "align_items": null,
            "align_self": null,
            "border": null,
            "bottom": null,
            "display": null,
            "flex": null,
            "flex_flow": null,
            "grid_area": null,
            "grid_auto_columns": null,
            "grid_auto_flow": null,
            "grid_auto_rows": null,
            "grid_column": null,
            "grid_gap": null,
            "grid_row": null,
            "grid_template_areas": null,
            "grid_template_columns": null,
            "grid_template_rows": null,
            "height": null,
            "justify_content": null,
            "justify_items": null,
            "left": null,
            "margin": null,
            "max_height": null,
            "max_width": null,
            "min_height": null,
            "min_width": null,
            "object_fit": null,
            "object_position": null,
            "order": null,
            "overflow": null,
            "overflow_x": null,
            "overflow_y": null,
            "padding": null,
            "right": null,
            "top": null,
            "visibility": null,
            "width": null
          }
        },
        "e6ec3a906eac481d81c2174da580e868": {
          "model_module": "@jupyter-widgets/controls",
          "model_name": "DescriptionStyleModel",
          "model_module_version": "1.5.0",
          "state": {
            "_model_module": "@jupyter-widgets/controls",
            "_model_module_version": "1.5.0",
            "_model_name": "DescriptionStyleModel",
            "_view_count": null,
            "_view_module": "@jupyter-widgets/base",
            "_view_module_version": "1.2.0",
            "_view_name": "StyleView",
            "description_width": ""
          }
        },
        "8fe8b1f529b442adbf3700ab0426663a": {
          "model_module": "@jupyter-widgets/controls",
          "model_name": "HBoxModel",
          "model_module_version": "1.5.0",
          "state": {
            "_dom_classes": [],
            "_model_module": "@jupyter-widgets/controls",
            "_model_module_version": "1.5.0",
            "_model_name": "HBoxModel",
            "_view_count": null,
            "_view_module": "@jupyter-widgets/controls",
            "_view_module_version": "1.5.0",
            "_view_name": "HBoxView",
            "box_style": "",
            "children": [
              "IPY_MODEL_5b2dd07a1b6546f28851f4ce830d34c8",
              "IPY_MODEL_15e43ad2d41b43e9a5e3db4b83b6788e",
              "IPY_MODEL_21eedae097674ff7807b7e0339cf58ed"
            ],
            "layout": "IPY_MODEL_728740fc29f74c7599a4059c589bdeab"
          }
        },
        "5b2dd07a1b6546f28851f4ce830d34c8": {
          "model_module": "@jupyter-widgets/controls",
          "model_name": "HTMLModel",
          "model_module_version": "1.5.0",
          "state": {
            "_dom_classes": [],
            "_model_module": "@jupyter-widgets/controls",
            "_model_module_version": "1.5.0",
            "_model_name": "HTMLModel",
            "_view_count": null,
            "_view_module": "@jupyter-widgets/controls",
            "_view_module_version": "1.5.0",
            "_view_name": "HTMLView",
            "description": "",
            "description_tooltip": null,
            "layout": "IPY_MODEL_743c626c1f9840668534873d3573f5b5",
            "placeholder": "​",
            "style": "IPY_MODEL_179a44b49c0e468b8288431ffe236407",
            "value": "Map: 100%"
          }
        },
        "15e43ad2d41b43e9a5e3db4b83b6788e": {
          "model_module": "@jupyter-widgets/controls",
          "model_name": "FloatProgressModel",
          "model_module_version": "1.5.0",
          "state": {
            "_dom_classes": [],
            "_model_module": "@jupyter-widgets/controls",
            "_model_module_version": "1.5.0",
            "_model_name": "FloatProgressModel",
            "_view_count": null,
            "_view_module": "@jupyter-widgets/controls",
            "_view_module_version": "1.5.0",
            "_view_name": "ProgressView",
            "bar_style": "success",
            "description": "",
            "description_tooltip": null,
            "layout": "IPY_MODEL_4518ae82b3a04f6c8ca1543203a28742",
            "max": 60791,
            "min": 0,
            "orientation": "horizontal",
            "style": "IPY_MODEL_f58e97115e6f4ad38d38ba9484e201ec",
            "value": 60791
          }
        },
        "21eedae097674ff7807b7e0339cf58ed": {
          "model_module": "@jupyter-widgets/controls",
          "model_name": "HTMLModel",
          "model_module_version": "1.5.0",
          "state": {
            "_dom_classes": [],
            "_model_module": "@jupyter-widgets/controls",
            "_model_module_version": "1.5.0",
            "_model_name": "HTMLModel",
            "_view_count": null,
            "_view_module": "@jupyter-widgets/controls",
            "_view_module_version": "1.5.0",
            "_view_name": "HTMLView",
            "description": "",
            "description_tooltip": null,
            "layout": "IPY_MODEL_ff6c4ec646a94d59a63ced1db57403b4",
            "placeholder": "​",
            "style": "IPY_MODEL_0fda65b28551446c9214a4e51f7f7abb",
            "value": " 60791/60791 [00:16&lt;00:00, 3754.50 examples/s]"
          }
        },
        "728740fc29f74c7599a4059c589bdeab": {
          "model_module": "@jupyter-widgets/base",
          "model_name": "LayoutModel",
          "model_module_version": "1.2.0",
          "state": {
            "_model_module": "@jupyter-widgets/base",
            "_model_module_version": "1.2.0",
            "_model_name": "LayoutModel",
            "_view_count": null,
            "_view_module": "@jupyter-widgets/base",
            "_view_module_version": "1.2.0",
            "_view_name": "LayoutView",
            "align_content": null,
            "align_items": null,
            "align_self": null,
            "border": null,
            "bottom": null,
            "display": null,
            "flex": null,
            "flex_flow": null,
            "grid_area": null,
            "grid_auto_columns": null,
            "grid_auto_flow": null,
            "grid_auto_rows": null,
            "grid_column": null,
            "grid_gap": null,
            "grid_row": null,
            "grid_template_areas": null,
            "grid_template_columns": null,
            "grid_template_rows": null,
            "height": null,
            "justify_content": null,
            "justify_items": null,
            "left": null,
            "margin": null,
            "max_height": null,
            "max_width": null,
            "min_height": null,
            "min_width": null,
            "object_fit": null,
            "object_position": null,
            "order": null,
            "overflow": null,
            "overflow_x": null,
            "overflow_y": null,
            "padding": null,
            "right": null,
            "top": null,
            "visibility": null,
            "width": null
          }
        },
        "743c626c1f9840668534873d3573f5b5": {
          "model_module": "@jupyter-widgets/base",
          "model_name": "LayoutModel",
          "model_module_version": "1.2.0",
          "state": {
            "_model_module": "@jupyter-widgets/base",
            "_model_module_version": "1.2.0",
            "_model_name": "LayoutModel",
            "_view_count": null,
            "_view_module": "@jupyter-widgets/base",
            "_view_module_version": "1.2.0",
            "_view_name": "LayoutView",
            "align_content": null,
            "align_items": null,
            "align_self": null,
            "border": null,
            "bottom": null,
            "display": null,
            "flex": null,
            "flex_flow": null,
            "grid_area": null,
            "grid_auto_columns": null,
            "grid_auto_flow": null,
            "grid_auto_rows": null,
            "grid_column": null,
            "grid_gap": null,
            "grid_row": null,
            "grid_template_areas": null,
            "grid_template_columns": null,
            "grid_template_rows": null,
            "height": null,
            "justify_content": null,
            "justify_items": null,
            "left": null,
            "margin": null,
            "max_height": null,
            "max_width": null,
            "min_height": null,
            "min_width": null,
            "object_fit": null,
            "object_position": null,
            "order": null,
            "overflow": null,
            "overflow_x": null,
            "overflow_y": null,
            "padding": null,
            "right": null,
            "top": null,
            "visibility": null,
            "width": null
          }
        },
        "179a44b49c0e468b8288431ffe236407": {
          "model_module": "@jupyter-widgets/controls",
          "model_name": "DescriptionStyleModel",
          "model_module_version": "1.5.0",
          "state": {
            "_model_module": "@jupyter-widgets/controls",
            "_model_module_version": "1.5.0",
            "_model_name": "DescriptionStyleModel",
            "_view_count": null,
            "_view_module": "@jupyter-widgets/base",
            "_view_module_version": "1.2.0",
            "_view_name": "StyleView",
            "description_width": ""
          }
        },
        "4518ae82b3a04f6c8ca1543203a28742": {
          "model_module": "@jupyter-widgets/base",
          "model_name": "LayoutModel",
          "model_module_version": "1.2.0",
          "state": {
            "_model_module": "@jupyter-widgets/base",
            "_model_module_version": "1.2.0",
            "_model_name": "LayoutModel",
            "_view_count": null,
            "_view_module": "@jupyter-widgets/base",
            "_view_module_version": "1.2.0",
            "_view_name": "LayoutView",
            "align_content": null,
            "align_items": null,
            "align_self": null,
            "border": null,
            "bottom": null,
            "display": null,
            "flex": null,
            "flex_flow": null,
            "grid_area": null,
            "grid_auto_columns": null,
            "grid_auto_flow": null,
            "grid_auto_rows": null,
            "grid_column": null,
            "grid_gap": null,
            "grid_row": null,
            "grid_template_areas": null,
            "grid_template_columns": null,
            "grid_template_rows": null,
            "height": null,
            "justify_content": null,
            "justify_items": null,
            "left": null,
            "margin": null,
            "max_height": null,
            "max_width": null,
            "min_height": null,
            "min_width": null,
            "object_fit": null,
            "object_position": null,
            "order": null,
            "overflow": null,
            "overflow_x": null,
            "overflow_y": null,
            "padding": null,
            "right": null,
            "top": null,
            "visibility": null,
            "width": null
          }
        },
        "f58e97115e6f4ad38d38ba9484e201ec": {
          "model_module": "@jupyter-widgets/controls",
          "model_name": "ProgressStyleModel",
          "model_module_version": "1.5.0",
          "state": {
            "_model_module": "@jupyter-widgets/controls",
            "_model_module_version": "1.5.0",
            "_model_name": "ProgressStyleModel",
            "_view_count": null,
            "_view_module": "@jupyter-widgets/base",
            "_view_module_version": "1.2.0",
            "_view_name": "StyleView",
            "bar_color": null,
            "description_width": ""
          }
        },
        "ff6c4ec646a94d59a63ced1db57403b4": {
          "model_module": "@jupyter-widgets/base",
          "model_name": "LayoutModel",
          "model_module_version": "1.2.0",
          "state": {
            "_model_module": "@jupyter-widgets/base",
            "_model_module_version": "1.2.0",
            "_model_name": "LayoutModel",
            "_view_count": null,
            "_view_module": "@jupyter-widgets/base",
            "_view_module_version": "1.2.0",
            "_view_name": "LayoutView",
            "align_content": null,
            "align_items": null,
            "align_self": null,
            "border": null,
            "bottom": null,
            "display": null,
            "flex": null,
            "flex_flow": null,
            "grid_area": null,
            "grid_auto_columns": null,
            "grid_auto_flow": null,
            "grid_auto_rows": null,
            "grid_column": null,
            "grid_gap": null,
            "grid_row": null,
            "grid_template_areas": null,
            "grid_template_columns": null,
            "grid_template_rows": null,
            "height": null,
            "justify_content": null,
            "justify_items": null,
            "left": null,
            "margin": null,
            "max_height": null,
            "max_width": null,
            "min_height": null,
            "min_width": null,
            "object_fit": null,
            "object_position": null,
            "order": null,
            "overflow": null,
            "overflow_x": null,
            "overflow_y": null,
            "padding": null,
            "right": null,
            "top": null,
            "visibility": null,
            "width": null
          }
        },
        "0fda65b28551446c9214a4e51f7f7abb": {
          "model_module": "@jupyter-widgets/controls",
          "model_name": "DescriptionStyleModel",
          "model_module_version": "1.5.0",
          "state": {
            "_model_module": "@jupyter-widgets/controls",
            "_model_module_version": "1.5.0",
            "_model_name": "DescriptionStyleModel",
            "_view_count": null,
            "_view_module": "@jupyter-widgets/base",
            "_view_module_version": "1.2.0",
            "_view_name": "StyleView",
            "description_width": ""
          }
        },
        "7b127e3802e847efba2b482a2760cbdb": {
          "model_module": "@jupyter-widgets/controls",
          "model_name": "HBoxModel",
          "model_module_version": "1.5.0",
          "state": {
            "_dom_classes": [],
            "_model_module": "@jupyter-widgets/controls",
            "_model_module_version": "1.5.0",
            "_model_name": "HBoxModel",
            "_view_count": null,
            "_view_module": "@jupyter-widgets/controls",
            "_view_module_version": "1.5.0",
            "_view_name": "HBoxView",
            "box_style": "",
            "children": [
              "IPY_MODEL_399560b556ac4075a4c7b241475e6277",
              "IPY_MODEL_1a54de4ec97e43648bc001a356ae660b",
              "IPY_MODEL_ffa6a37ab8044697bc95e7fe538bd91e"
            ],
            "layout": "IPY_MODEL_f849c03fc99c49d79c04f3b26f885013"
          }
        },
        "399560b556ac4075a4c7b241475e6277": {
          "model_module": "@jupyter-widgets/controls",
          "model_name": "HTMLModel",
          "model_module_version": "1.5.0",
          "state": {
            "_dom_classes": [],
            "_model_module": "@jupyter-widgets/controls",
            "_model_module_version": "1.5.0",
            "_model_name": "HTMLModel",
            "_view_count": null,
            "_view_module": "@jupyter-widgets/controls",
            "_view_module_version": "1.5.0",
            "_view_name": "HTMLView",
            "description": "",
            "description_tooltip": null,
            "layout": "IPY_MODEL_07b016a4a9c940bcbb393f76e8f28d9c",
            "placeholder": "​",
            "style": "IPY_MODEL_c50f514f587d4bf3a2c109c4b137e801",
            "value": "Map: 100%"
          }
        },
        "1a54de4ec97e43648bc001a356ae660b": {
          "model_module": "@jupyter-widgets/controls",
          "model_name": "FloatProgressModel",
          "model_module_version": "1.5.0",
          "state": {
            "_dom_classes": [],
            "_model_module": "@jupyter-widgets/controls",
            "_model_module_version": "1.5.0",
            "_model_name": "FloatProgressModel",
            "_view_count": null,
            "_view_module": "@jupyter-widgets/controls",
            "_view_module_version": "1.5.0",
            "_view_name": "ProgressView",
            "bar_style": "success",
            "description": "",
            "description_tooltip": null,
            "layout": "IPY_MODEL_39e34f18edd44583b61193b3d0d25187",
            "max": 60791,
            "min": 0,
            "orientation": "horizontal",
            "style": "IPY_MODEL_61e4dba5b05a4b068ae9bd0b1b0ca890",
            "value": 60791
          }
        },
        "ffa6a37ab8044697bc95e7fe538bd91e": {
          "model_module": "@jupyter-widgets/controls",
          "model_name": "HTMLModel",
          "model_module_version": "1.5.0",
          "state": {
            "_dom_classes": [],
            "_model_module": "@jupyter-widgets/controls",
            "_model_module_version": "1.5.0",
            "_model_name": "HTMLModel",
            "_view_count": null,
            "_view_module": "@jupyter-widgets/controls",
            "_view_module_version": "1.5.0",
            "_view_name": "HTMLView",
            "description": "",
            "description_tooltip": null,
            "layout": "IPY_MODEL_f11a9d1dd3f447b7bc4d4c16cce0abda",
            "placeholder": "​",
            "style": "IPY_MODEL_dac5a3e3852f4db78341ac383ddc536a",
            "value": " 60791/60791 [00:17&lt;00:00, 3699.08 examples/s]"
          }
        },
        "f849c03fc99c49d79c04f3b26f885013": {
          "model_module": "@jupyter-widgets/base",
          "model_name": "LayoutModel",
          "model_module_version": "1.2.0",
          "state": {
            "_model_module": "@jupyter-widgets/base",
            "_model_module_version": "1.2.0",
            "_model_name": "LayoutModel",
            "_view_count": null,
            "_view_module": "@jupyter-widgets/base",
            "_view_module_version": "1.2.0",
            "_view_name": "LayoutView",
            "align_content": null,
            "align_items": null,
            "align_self": null,
            "border": null,
            "bottom": null,
            "display": null,
            "flex": null,
            "flex_flow": null,
            "grid_area": null,
            "grid_auto_columns": null,
            "grid_auto_flow": null,
            "grid_auto_rows": null,
            "grid_column": null,
            "grid_gap": null,
            "grid_row": null,
            "grid_template_areas": null,
            "grid_template_columns": null,
            "grid_template_rows": null,
            "height": null,
            "justify_content": null,
            "justify_items": null,
            "left": null,
            "margin": null,
            "max_height": null,
            "max_width": null,
            "min_height": null,
            "min_width": null,
            "object_fit": null,
            "object_position": null,
            "order": null,
            "overflow": null,
            "overflow_x": null,
            "overflow_y": null,
            "padding": null,
            "right": null,
            "top": null,
            "visibility": null,
            "width": null
          }
        },
        "07b016a4a9c940bcbb393f76e8f28d9c": {
          "model_module": "@jupyter-widgets/base",
          "model_name": "LayoutModel",
          "model_module_version": "1.2.0",
          "state": {
            "_model_module": "@jupyter-widgets/base",
            "_model_module_version": "1.2.0",
            "_model_name": "LayoutModel",
            "_view_count": null,
            "_view_module": "@jupyter-widgets/base",
            "_view_module_version": "1.2.0",
            "_view_name": "LayoutView",
            "align_content": null,
            "align_items": null,
            "align_self": null,
            "border": null,
            "bottom": null,
            "display": null,
            "flex": null,
            "flex_flow": null,
            "grid_area": null,
            "grid_auto_columns": null,
            "grid_auto_flow": null,
            "grid_auto_rows": null,
            "grid_column": null,
            "grid_gap": null,
            "grid_row": null,
            "grid_template_areas": null,
            "grid_template_columns": null,
            "grid_template_rows": null,
            "height": null,
            "justify_content": null,
            "justify_items": null,
            "left": null,
            "margin": null,
            "max_height": null,
            "max_width": null,
            "min_height": null,
            "min_width": null,
            "object_fit": null,
            "object_position": null,
            "order": null,
            "overflow": null,
            "overflow_x": null,
            "overflow_y": null,
            "padding": null,
            "right": null,
            "top": null,
            "visibility": null,
            "width": null
          }
        },
        "c50f514f587d4bf3a2c109c4b137e801": {
          "model_module": "@jupyter-widgets/controls",
          "model_name": "DescriptionStyleModel",
          "model_module_version": "1.5.0",
          "state": {
            "_model_module": "@jupyter-widgets/controls",
            "_model_module_version": "1.5.0",
            "_model_name": "DescriptionStyleModel",
            "_view_count": null,
            "_view_module": "@jupyter-widgets/base",
            "_view_module_version": "1.2.0",
            "_view_name": "StyleView",
            "description_width": ""
          }
        },
        "39e34f18edd44583b61193b3d0d25187": {
          "model_module": "@jupyter-widgets/base",
          "model_name": "LayoutModel",
          "model_module_version": "1.2.0",
          "state": {
            "_model_module": "@jupyter-widgets/base",
            "_model_module_version": "1.2.0",
            "_model_name": "LayoutModel",
            "_view_count": null,
            "_view_module": "@jupyter-widgets/base",
            "_view_module_version": "1.2.0",
            "_view_name": "LayoutView",
            "align_content": null,
            "align_items": null,
            "align_self": null,
            "border": null,
            "bottom": null,
            "display": null,
            "flex": null,
            "flex_flow": null,
            "grid_area": null,
            "grid_auto_columns": null,
            "grid_auto_flow": null,
            "grid_auto_rows": null,
            "grid_column": null,
            "grid_gap": null,
            "grid_row": null,
            "grid_template_areas": null,
            "grid_template_columns": null,
            "grid_template_rows": null,
            "height": null,
            "justify_content": null,
            "justify_items": null,
            "left": null,
            "margin": null,
            "max_height": null,
            "max_width": null,
            "min_height": null,
            "min_width": null,
            "object_fit": null,
            "object_position": null,
            "order": null,
            "overflow": null,
            "overflow_x": null,
            "overflow_y": null,
            "padding": null,
            "right": null,
            "top": null,
            "visibility": null,
            "width": null
          }
        },
        "61e4dba5b05a4b068ae9bd0b1b0ca890": {
          "model_module": "@jupyter-widgets/controls",
          "model_name": "ProgressStyleModel",
          "model_module_version": "1.5.0",
          "state": {
            "_model_module": "@jupyter-widgets/controls",
            "_model_module_version": "1.5.0",
            "_model_name": "ProgressStyleModel",
            "_view_count": null,
            "_view_module": "@jupyter-widgets/base",
            "_view_module_version": "1.2.0",
            "_view_name": "StyleView",
            "bar_color": null,
            "description_width": ""
          }
        },
        "f11a9d1dd3f447b7bc4d4c16cce0abda": {
          "model_module": "@jupyter-widgets/base",
          "model_name": "LayoutModel",
          "model_module_version": "1.2.0",
          "state": {
            "_model_module": "@jupyter-widgets/base",
            "_model_module_version": "1.2.0",
            "_model_name": "LayoutModel",
            "_view_count": null,
            "_view_module": "@jupyter-widgets/base",
            "_view_module_version": "1.2.0",
            "_view_name": "LayoutView",
            "align_content": null,
            "align_items": null,
            "align_self": null,
            "border": null,
            "bottom": null,
            "display": null,
            "flex": null,
            "flex_flow": null,
            "grid_area": null,
            "grid_auto_columns": null,
            "grid_auto_flow": null,
            "grid_auto_rows": null,
            "grid_column": null,
            "grid_gap": null,
            "grid_row": null,
            "grid_template_areas": null,
            "grid_template_columns": null,
            "grid_template_rows": null,
            "height": null,
            "justify_content": null,
            "justify_items": null,
            "left": null,
            "margin": null,
            "max_height": null,
            "max_width": null,
            "min_height": null,
            "min_width": null,
            "object_fit": null,
            "object_position": null,
            "order": null,
            "overflow": null,
            "overflow_x": null,
            "overflow_y": null,
            "padding": null,
            "right": null,
            "top": null,
            "visibility": null,
            "width": null
          }
        },
        "dac5a3e3852f4db78341ac383ddc536a": {
          "model_module": "@jupyter-widgets/controls",
          "model_name": "DescriptionStyleModel",
          "model_module_version": "1.5.0",
          "state": {
            "_model_module": "@jupyter-widgets/controls",
            "_model_module_version": "1.5.0",
            "_model_name": "DescriptionStyleModel",
            "_view_count": null,
            "_view_module": "@jupyter-widgets/base",
            "_view_module_version": "1.2.0",
            "_view_name": "StyleView",
            "description_width": ""
          }
        }
      }
    }
  },
  "cells": [
    {
      "cell_type": "markdown",
      "metadata": {
        "id": "kLB3I4FKZ5Lr"
      },
      "source": [
        "# Fine-tuning BERT (and friends) for multi-label text classification\n",
        "\n",
        "In this notebook, we are going to fine-tune BERT to predict one or more labels for a given piece of text. Note that this notebook illustrates how to fine-tune a bert-base-uncased model, but you can also fine-tune a RoBERTa, DeBERTa, DistilBERT, CANINE, ... checkpoint in the same way.\n",
        "\n",
        "All of those work in the same way: they add a linear layer on top of the base model, which is used to produce a tensor of shape (batch_size, num_labels), indicating the unnormalized scores for a number of labels for every example in the batch.\n",
        "\n",
        "\n",
        "\n",
        "## Set-up environment\n",
        "\n",
        "First, we install the libraries which we'll use: HuggingFace Transformers and Datasets."
      ]
    },
    {
      "cell_type": "code",
      "source": [],
      "metadata": {
        "id": "axqZhpNUTlAG"
      },
      "execution_count": null,
      "outputs": []
    },
    {
      "cell_type": "code",
      "metadata": {
        "id": "4wxY3x-ZZz8h",
        "executionInfo": {
          "status": "ok",
          "timestamp": 1709508654051,
          "user_tz": 480,
          "elapsed": 6422,
          "user": {
            "displayName": "",
            "userId": ""
          }
        }
      },
      "source": [
        "!pip install -q transformers datasets"
      ],
      "execution_count": 438,
      "outputs": []
    },
    {
      "cell_type": "markdown",
      "metadata": {
        "id": "bIH9NP0MZ6-O"
      },
      "source": [
        "## Load dataset\n",
        "\n",
        "Next, let's download a multi-label text classification dataset from the [hub](https://huggingface.co/).\n",
        "\n",
        "At the time of writing, I picked a random one as follows:   \n",
        "\n",
        "* first, go to the \"datasets\" tab on huggingface.co\n",
        "* next, select the \"multi-label-classification\" tag on the left as well as the the \"1k<10k\" tag (fo find a relatively small dataset).\n",
        "\n",
        "Note that you can also easily load your local data (i.e. csv files, txt files, Parquet files, JSON, ...) as explained [here](https://huggingface.co/docs/datasets/loading.html#local-and-remote-files).\n",
        "\n"
      ]
    },
    {
      "cell_type": "code",
      "source": [
        "# !pip install pyarrow==0.17.1\n",
        "\n",
        "import pandas as pd\n",
        "from datasets import Dataset"
      ],
      "metadata": {
        "id": "-SyuJcZm9ytT",
        "executionInfo": {
          "status": "ok",
          "timestamp": 1709508654051,
          "user_tz": 480,
          "elapsed": 2,
          "user": {
            "displayName": "",
            "userId": ""
          }
        }
      },
      "execution_count": 439,
      "outputs": []
    },
    {
      "cell_type": "code",
      "source": [
        "data_file= '/content/RRAVIPRA_train_final_.25%.csv'\n",
        "df_train = pd.read_csv(data_file)\n",
        "\n",
        "data_file= '/content/RRAVIPRA_test_final_.25%.csv'\n",
        "df_test = pd.read_csv(data_file)\n",
        "\n",
        "data_file= '/content/RRAVIPRA_val_final_.25%.csv'\n",
        "df_val = pd.read_csv(data_file)\n",
        "\n",
        "print(\"train len: \",len(df_train))\n",
        "print(\"test len: \",len(df_test))\n",
        "print(\"val len: \",len(df_val))"
      ],
      "metadata": {
        "colab": {
          "base_uri": "https://localhost:8080/"
        },
        "id": "93C9ZLvA8zr3",
        "executionInfo": {
          "status": "ok",
          "timestamp": 1709508655213,
          "user_tz": 480,
          "elapsed": 1164,
          "user": {
            "displayName": "",
            "userId": ""
          }
        },
        "outputId": "d31564ee-4c71-4567-a28c-2c6851025781"
      },
      "execution_count": 440,
      "outputs": [
        {
          "output_type": "stream",
          "name": "stdout",
          "text": [
            "train len:  283685\n",
            "test len:  60791\n",
            "val len:  60791\n"
          ]
        }
      ]
    },
    {
      "cell_type": "code",
      "source": [
        "#TESTER\n",
        "# df_train = df_train.iloc[:15000,:]\n",
        "# df_test = df_test.iloc[:1500,:]\n",
        "# df_val = df_val.iloc[:1500,:]"
      ],
      "metadata": {
        "id": "xBcb7o2n_109",
        "executionInfo": {
          "status": "ok",
          "timestamp": 1709508655213,
          "user_tz": 480,
          "elapsed": 4,
          "user": {
            "displayName": "",
            "userId": ""
          }
        }
      },
      "execution_count": 441,
      "outputs": []
    },
    {
      "cell_type": "code",
      "source": [
        "# #synthetic data\n",
        "# import pandas as pd\n",
        "# from datasets import Dataset\n",
        "# data_file= '/content/RRAVIPRA_train_final_.25%.csv'\n",
        "\n",
        "# df = pd.read_csv(data_file)\n",
        "# display(df.head())\n",
        "# # rename the columns\n",
        "# # df = df[['toxicity','text']]\n",
        "# # df.rename(columns={'toxicity':'label', 'text':'message'}, inplace=True)\n",
        "# # df_new = balance_dataset(df)\n",
        "# print(df.head())\n",
        "# df = df.reset_index(drop=True)\n",
        "# display(df.head())\n",
        "# # dataset = Dataset.from_pandas(df)"
      ],
      "metadata": {
        "id": "ppCTyUYjMpPE",
        "executionInfo": {
          "status": "ok",
          "timestamp": 1709508655213,
          "user_tz": 480,
          "elapsed": 4,
          "user": {
            "displayName": "",
            "userId": ""
          }
        }
      },
      "execution_count": 442,
      "outputs": []
    },
    {
      "cell_type": "code",
      "source": [
        "# Check the distribution of labels in the balanced DataFrame\n",
        "label_distribution = df_train['label'].value_counts()\n",
        "\n",
        "# Display the label distribution\n",
        "print(label_distribution)"
      ],
      "metadata": {
        "colab": {
          "base_uri": "https://localhost:8080/"
        },
        "id": "ZvvcjnK-Bh1q",
        "executionInfo": {
          "status": "ok",
          "timestamp": 1709508655213,
          "user_tz": 480,
          "elapsed": 4,
          "user": {
            "displayName": "",
            "userId": ""
          }
        },
        "outputId": "9d5765d6-8120-418d-e68b-a407ffaff74e"
      },
      "execution_count": 443,
      "outputs": [
        {
          "output_type": "stream",
          "name": "stdout",
          "text": [
            "0    282964\n",
            "1       721\n",
            "Name: label, dtype: int64\n"
          ]
        }
      ]
    },
    {
      "cell_type": "code",
      "source": [
        "# !pip install -U imbalanced-learn\n"
      ],
      "metadata": {
        "id": "5eNP5y_vBQsc",
        "executionInfo": {
          "status": "ok",
          "timestamp": 1709508655214,
          "user_tz": 480,
          "elapsed": 5,
          "user": {
            "displayName": "",
            "userId": ""
          }
        }
      },
      "execution_count": 444,
      "outputs": []
    },
    {
      "cell_type": "code",
      "source": [
        "#Testing out baalcned dataset\n",
        "# print(len(df))"
      ],
      "metadata": {
        "id": "4IecQgoKF2kS",
        "executionInfo": {
          "status": "ok",
          "timestamp": 1709508655214,
          "user_tz": 480,
          "elapsed": 4,
          "user": {
            "displayName": "",
            "userId": ""
          }
        }
      },
      "execution_count": 445,
      "outputs": []
    },
    {
      "cell_type": "code",
      "source": [
        "# import pandas as pd\n",
        "# from imblearn.under_sampling import RandomUnderSampler\n",
        "\n",
        "\n",
        "# # Separate features and labels\n",
        "# X = df[['message']]\n",
        "# y = df['label']\n",
        "\n",
        "# # Create an undersampler\n",
        "# undersampler = RandomUnderSampler(sampling_strategy='auto', random_state=42)\n",
        "\n",
        "# # Fit and transform the data to create a balanced DataFrame\n",
        "# X_resampled, y_resampled = undersampler.fit_resample(X, y)\n",
        "\n",
        "# # Create a new DataFrame with the balanced data\n",
        "# balanced_df = pd.DataFrame({'message': X_resampled['message'], 'label': y_resampled})\n",
        "\n",
        "# # Check the distribution of labels in the balanced DataFrame\n",
        "# label_distribution = balanced_df['label'].value_counts()\n",
        "\n",
        "# # Display the label distribution\n",
        "# print(label_distribution)\n",
        "# df = balanced_df.copy()"
      ],
      "metadata": {
        "id": "SPOys67zBTiH",
        "executionInfo": {
          "status": "ok",
          "timestamp": 1709508655214,
          "user_tz": 480,
          "elapsed": 4,
          "user": {
            "displayName": "",
            "userId": ""
          }
        }
      },
      "execution_count": 446,
      "outputs": []
    },
    {
      "cell_type": "code",
      "source": [
        "# label_distribution = df['label'].value_counts()\n",
        "\n",
        "# # Display the label distribution\n",
        "# print(label_distribution)"
      ],
      "metadata": {
        "id": "2xwYVkf9D46F",
        "executionInfo": {
          "status": "ok",
          "timestamp": 1709508655214,
          "user_tz": 480,
          "elapsed": 4,
          "user": {
            "displayName": "",
            "userId": ""
          }
        }
      },
      "execution_count": 447,
      "outputs": []
    },
    {
      "cell_type": "code",
      "source": [
        "# print(len(df))\n",
        "# shuffled_df = df.sample(frac=1, random_state=42)  # Set a random_state for reproducibility\n",
        "# shuffled_df = shuffled_df.dropna()\n",
        "# print(len(shuffled_df))\n",
        "# # Extract 3765 rows\n",
        "# # df_synthetic = shuffled_df.head(3765)\n",
        "# # len(df_synthetic)\n",
        "# df=shuffled_df.copy()"
      ],
      "metadata": {
        "id": "eetGBl0rx5Xp",
        "executionInfo": {
          "status": "ok",
          "timestamp": 1709508655214,
          "user_tz": 480,
          "elapsed": 4,
          "user": {
            "displayName": "",
            "userId": ""
          }
        }
      },
      "execution_count": 448,
      "outputs": []
    },
    {
      "cell_type": "code",
      "source": [
        "\n",
        "# df_synthetic=df_synthetic.reset_index(drop=True)\n",
        "# df_synthetic.head()"
      ],
      "metadata": {
        "id": "fRw_ggz9IAF7",
        "executionInfo": {
          "status": "ok",
          "timestamp": 1709508655214,
          "user_tz": 480,
          "elapsed": 4,
          "user": {
            "displayName": "",
            "userId": ""
          }
        }
      },
      "execution_count": 449,
      "outputs": []
    },
    {
      "cell_type": "code",
      "source": [
        "# df_synthetic['label'] = df_synthetic['label'].fillna(0)\n",
        "# print(\"print\",df_synthetic.dtypes)\n",
        "# df_synthetic['label'] = df_synthetic['label'].astype(int)"
      ],
      "metadata": {
        "id": "c3hrYQrT4fC-",
        "executionInfo": {
          "status": "ok",
          "timestamp": 1709508655214,
          "user_tz": 480,
          "elapsed": 4,
          "user": {
            "displayName": "",
            "userId": ""
          }
        }
      },
      "execution_count": 450,
      "outputs": []
    },
    {
      "cell_type": "code",
      "source": [
        "# #original dataset\n",
        "# import pandas as pd\n",
        "# from datasets import Dataset\n",
        "# data_file= '/content/combined_dataset.csv'\n",
        "\n",
        "# df = pd.read_csv(data_file)\n",
        "# # rename the columns\n",
        "# df = df[['toxicity','text']]\n",
        "# df.rename(columns={'toxicity':'label', 'text':'message'}, inplace=True)\n",
        "# # df_new = balance_dataset(df)\n",
        "# # print(df.head())\n",
        "# df = df.reset_index(drop=True)\n",
        "# display(df.head())\n",
        "\n",
        "# shuffled_df_orig = df.sample(frac=1, random_state=42)\n",
        "\n",
        "# # Extract 151130 rows -> val + test set (30%)\n",
        "# df_test_val = shuffled_df_orig.head(151130)\n",
        "# print(\"len of df_test_val: \",len(df_test_val))\n",
        "# # dataset = Dataset.from_pandas(df)\n",
        "\n",
        "# # Remaining rows for the training set\n",
        "# df_train = shuffled_df_orig[~shuffled_df_orig.index.isin(df_test_val.index)]\n",
        "\n",
        "# # Save the remaining rows in a DataFrame called df_train\n",
        "# df_train.reset_index(drop=True, inplace=True)\n",
        "# print(\"len of df_train: \",len(df_train))"
      ],
      "metadata": {
        "id": "2ntqM3OEz7qA",
        "executionInfo": {
          "status": "ok",
          "timestamp": 1709508655214,
          "user_tz": 480,
          "elapsed": 4,
          "user": {
            "displayName": "",
            "userId": ""
          }
        }
      },
      "execution_count": 451,
      "outputs": []
    },
    {
      "cell_type": "code",
      "source": [
        "# df_train=df_train.reset_index(drop=True)\n",
        "# df_test_val=df_test_val.reset_index(drop=True)\n",
        "\n",
        "# display(df_train.head())\n",
        "# print(df_train.dtypes)\n",
        "# print(df_test_val.dtypes)\n",
        "# display(df_test_val.head())"
      ],
      "metadata": {
        "id": "EL7Jotg37prx",
        "executionInfo": {
          "status": "ok",
          "timestamp": 1709508655214,
          "user_tz": 480,
          "elapsed": 4,
          "user": {
            "displayName": "",
            "userId": ""
          }
        }
      },
      "execution_count": 452,
      "outputs": []
    },
    {
      "cell_type": "code",
      "source": [
        "# #Union of the two\n",
        "# union_df_train = pd.concat([df_train, df_synthetic], ignore_index=True)\n",
        "# union_df_train = union_df_train.sample(frac=1, random_state=42)"
      ],
      "metadata": {
        "id": "nK_TokR90TSx",
        "executionInfo": {
          "status": "ok",
          "timestamp": 1709508655214,
          "user_tz": 480,
          "elapsed": 4,
          "user": {
            "displayName": "",
            "userId": ""
          }
        }
      },
      "execution_count": 453,
      "outputs": []
    },
    {
      "cell_type": "code",
      "source": [
        "# len(union_df_train)"
      ],
      "metadata": {
        "id": "2plKLKGF0d5b",
        "executionInfo": {
          "status": "ok",
          "timestamp": 1709508655214,
          "user_tz": 480,
          "elapsed": 4,
          "user": {
            "displayName": "",
            "userId": ""
          }
        }
      },
      "execution_count": 454,
      "outputs": []
    },
    {
      "cell_type": "code",
      "source": [
        "# from sklearn.model_selection import train_test_split\n",
        "# train_df, val_df = train_test_split(df, test_size=0.2)\n",
        "# test_df, val_df = train_test_split(val_df, test_size=0.5)\n",
        "# # train_df=union_df_train"
      ],
      "metadata": {
        "id": "2o-tBfhX34Kt",
        "executionInfo": {
          "status": "ok",
          "timestamp": 1709508655214,
          "user_tz": 480,
          "elapsed": 4,
          "user": {
            "displayName": "",
            "userId": ""
          }
        }
      },
      "execution_count": 455,
      "outputs": []
    },
    {
      "cell_type": "code",
      "source": [
        "# test_df.to_csv('AB_test_1%.csv')\n",
        "# val_df.to_csv('AB_val_1%.csv')\n",
        "# train_df.to_csv('AB_train_1%.csv')"
      ],
      "metadata": {
        "id": "BvZFItJHJugS",
        "executionInfo": {
          "status": "ok",
          "timestamp": 1709508655214,
          "user_tz": 480,
          "elapsed": 3,
          "user": {
            "displayName": "",
            "userId": ""
          }
        }
      },
      "execution_count": 456,
      "outputs": []
    },
    {
      "cell_type": "code",
      "source": [
        "from sklearn.model_selection import train_test_split\n",
        "from datasets import Dataset, DatasetDict\n",
        "\n",
        "# Assuming df is your full DataFrame\n",
        "# train_df, test_df = train_test_split(df, test_size=0.3)\n",
        "# # Further split the test dataframe into test and validation\n",
        "# test_df, val_df = train_test_split(test_df, test_size=0.5)\n",
        "\n",
        "# Convert the DataFrames into huggingface datasets\n",
        "train_dataset = Dataset.from_pandas(df_train)\n",
        "test_dataset = Dataset.from_pandas(df_test)\n",
        "val_dataset = Dataset.from_pandas(df_val)\n",
        "\n",
        "# Create a DatasetDict\n",
        "dataset = DatasetDict({\n",
        "    'train': train_dataset,\n",
        "    'test': test_dataset,\n",
        "    'validation': val_dataset\n",
        "})\n"
      ],
      "metadata": {
        "id": "2gGt8OeNOzyx",
        "executionInfo": {
          "status": "ok",
          "timestamp": 1709508655932,
          "user_tz": 480,
          "elapsed": 721,
          "user": {
            "displayName": "",
            "userId": ""
          }
        }
      },
      "execution_count": 457,
      "outputs": []
    },
    {
      "cell_type": "code",
      "source": [
        "dataset"
      ],
      "metadata": {
        "colab": {
          "base_uri": "https://localhost:8080/"
        },
        "id": "6JRW0sZjNi3V",
        "executionInfo": {
          "status": "ok",
          "timestamp": 1709508655932,
          "user_tz": 480,
          "elapsed": 13,
          "user": {
            "displayName": "",
            "userId": ""
          }
        },
        "outputId": "56a8bd8a-0236-42fe-a16b-3501c7d45be0"
      },
      "execution_count": 458,
      "outputs": [
        {
          "output_type": "execute_result",
          "data": {
            "text/plain": [
              "DatasetDict({\n",
              "    train: Dataset({\n",
              "        features: ['message', 'label'],\n",
              "        num_rows: 283685\n",
              "    })\n",
              "    test: Dataset({\n",
              "        features: ['message', 'label'],\n",
              "        num_rows: 60791\n",
              "    })\n",
              "    validation: Dataset({\n",
              "        features: ['message', 'label'],\n",
              "        num_rows: 60791\n",
              "    })\n",
              "})"
            ]
          },
          "metadata": {},
          "execution_count": 458
        }
      ]
    },
    {
      "cell_type": "code",
      "metadata": {
        "id": "sd1LiXGjZ420",
        "executionInfo": {
          "status": "ok",
          "timestamp": 1709508655932,
          "user_tz": 480,
          "elapsed": 12,
          "user": {
            "displayName": "",
            "userId": ""
          }
        }
      },
      "source": [
        "# from datasets import load_dataset\n",
        "\n",
        "# dataset = load_dataset(\"sem_eval_2018_task_1\", \"subtask5.english\")"
      ],
      "execution_count": 459,
      "outputs": []
    },
    {
      "cell_type": "markdown",
      "metadata": {
        "id": "QCL02vQgxYTO"
      },
      "source": [
        "As we can see, the dataset contains 3 splits: one for training, one for validation and one for testing."
      ]
    },
    {
      "cell_type": "code",
      "metadata": {
        "colab": {
          "base_uri": "https://localhost:8080/"
        },
        "id": "pRd1kXQZjYIY",
        "outputId": "10d9b85b-afb8-4772-b3c0-ff6203d05733",
        "executionInfo": {
          "status": "ok",
          "timestamp": 1709508655932,
          "user_tz": 480,
          "elapsed": 12,
          "user": {
            "displayName": "",
            "userId": ""
          }
        }
      },
      "source": [
        "dataset"
      ],
      "execution_count": 460,
      "outputs": [
        {
          "output_type": "execute_result",
          "data": {
            "text/plain": [
              "DatasetDict({\n",
              "    train: Dataset({\n",
              "        features: ['message', 'label'],\n",
              "        num_rows: 283685\n",
              "    })\n",
              "    test: Dataset({\n",
              "        features: ['message', 'label'],\n",
              "        num_rows: 60791\n",
              "    })\n",
              "    validation: Dataset({\n",
              "        features: ['message', 'label'],\n",
              "        num_rows: 60791\n",
              "    })\n",
              "})"
            ]
          },
          "metadata": {},
          "execution_count": 460
        }
      ]
    },
    {
      "cell_type": "code",
      "source": [
        "\n",
        "\n",
        "# dataset=dataset.remove_columns(column_names='__index_level_0__')\n",
        "\n",
        "# # Print the updated dataset information\n",
        "# print(dataset)"
      ],
      "metadata": {
        "id": "8_yBQeq6TQt4",
        "executionInfo": {
          "status": "ok",
          "timestamp": 1709508655932,
          "user_tz": 480,
          "elapsed": 11,
          "user": {
            "displayName": "",
            "userId": ""
          }
        }
      },
      "execution_count": 461,
      "outputs": []
    },
    {
      "cell_type": "code",
      "source": [
        "# Assuming your dataset is named 'dataset'\n",
        "dataset['train'] = dataset['train'].map(lambda example: {'message': example['message'], 'positive': example['label'] == 1, 'negative': example['label'] == 0})\n",
        "\n",
        "\n",
        "dataset['validation'] = dataset['validation'].map(lambda example: {'message': example['message'], 'positive': example['label'] == 1, 'negative': example['label'] == 0})\n",
        "# dataset=dataset.remove_columns(column_names='label')\n",
        "\n",
        "dataset['test'] = dataset['test'].map(lambda example: {'message': example['message'], 'positive': example['label'] == 1, 'negative': example['label'] == 0})\n",
        "# dataset=dataset.remove_columns(column_names='label')\n",
        "dataset=dataset.remove_columns(column_names='label')\n",
        "# Check the modified dataset\n",
        "print(dataset)\n"
      ],
      "metadata": {
        "colab": {
          "base_uri": "https://localhost:8080/",
          "height": 363,
          "referenced_widgets": [
            "dbe2fe209c334e6a826b187ab05b2126",
            "698082d0113b499b8561e08bc7b7909d",
            "fa7e3055a523469bae6c82575af367d4",
            "d6debb50563d4a39bf81f9f621c66701",
            "0ce4415a8d1c4244b85d483e31f9bd3a",
            "59f7a221787942a1acacb19b929b1dab",
            "8e2db855b21f4d5591ca305a7873b6c5",
            "f5371104fe67457b8b4586f1e093fbc3",
            "8ad264a057aa4836bdb328cca73e5537",
            "7769192d881a4eb5a3b3d881df06a3b8",
            "a88530d7ec74492780f381aaa9e2cfeb",
            "977d3253e42e4170b85cc5632782f116",
            "84cd3c3ec3a04ee5b8b36bd118788dd9",
            "8c235ceadff2426d994f768fc807dc28",
            "05c928c92f8b4893abd71e0699f716c1",
            "3ff21253eccd4a599be3854dc79d3493",
            "126adf290a4a4afa951dc9ff8fbffe82",
            "5982d56c8abb4dada8352b046d7e9018",
            "a978b63bd73a48a2a7cd2e000c2b16a8",
            "8235fe9700e64bec8f851503945171c1",
            "45f6a0d06c1b46859bcfff38d85108b4",
            "c275848275634c5e8e98872f80f065c9",
            "b6140d89b0634d18aae11f21d88d5070",
            "06a8007f83cf4015a36498e56e1c38b6",
            "7eeaf3d95f4d41199931fdd6594d7b34",
            "4739d33bfe5348ca8b309dd23c47e6b2",
            "910e3ff7a9a841d8a37e48bb54e5e1a1",
            "f1a9214388174e2884b3de9de7dfb4fc",
            "800a9922669a4079943237af057dd0d7",
            "76b5f85050c248e086a45a54635b5fc2",
            "0312680ba7034daf856363a275769d37",
            "331bb11a11d04b2bb19c2d371bcd67b9",
            "1e1aa4cb20be4e7aa8d619f9b333ca6a"
          ]
        },
        "id": "t4MVW5ZxUIOZ",
        "executionInfo": {
          "status": "ok",
          "timestamp": 1709508677223,
          "user_tz": 480,
          "elapsed": 21302,
          "user": {
            "displayName": "",
            "userId": ""
          }
        },
        "outputId": "c7597acd-aefa-4bf6-c85a-994232dce2a1"
      },
      "execution_count": 462,
      "outputs": [
        {
          "output_type": "display_data",
          "data": {
            "text/plain": [
              "Map:   0%|          | 0/283685 [00:00<?, ? examples/s]"
            ],
            "application/vnd.jupyter.widget-view+json": {
              "version_major": 2,
              "version_minor": 0,
              "model_id": "dbe2fe209c334e6a826b187ab05b2126"
            }
          },
          "metadata": {}
        },
        {
          "output_type": "display_data",
          "data": {
            "text/plain": [
              "Map:   0%|          | 0/60791 [00:00<?, ? examples/s]"
            ],
            "application/vnd.jupyter.widget-view+json": {
              "version_major": 2,
              "version_minor": 0,
              "model_id": "977d3253e42e4170b85cc5632782f116"
            }
          },
          "metadata": {}
        },
        {
          "output_type": "display_data",
          "data": {
            "text/plain": [
              "Map:   0%|          | 0/60791 [00:00<?, ? examples/s]"
            ],
            "application/vnd.jupyter.widget-view+json": {
              "version_major": 2,
              "version_minor": 0,
              "model_id": "b6140d89b0634d18aae11f21d88d5070"
            }
          },
          "metadata": {}
        },
        {
          "output_type": "stream",
          "name": "stdout",
          "text": [
            "DatasetDict({\n",
            "    train: Dataset({\n",
            "        features: ['message', 'positive', 'negative'],\n",
            "        num_rows: 283685\n",
            "    })\n",
            "    test: Dataset({\n",
            "        features: ['message', 'positive', 'negative'],\n",
            "        num_rows: 60791\n",
            "    })\n",
            "    validation: Dataset({\n",
            "        features: ['message', 'positive', 'negative'],\n",
            "        num_rows: 60791\n",
            "    })\n",
            "})\n"
          ]
        }
      ]
    },
    {
      "cell_type": "markdown",
      "metadata": {
        "id": "PgS0wMWExcqP"
      },
      "source": [
        "\n",
        "Let's check the first example of the training split:"
      ]
    },
    {
      "cell_type": "code",
      "metadata": {
        "colab": {
          "base_uri": "https://localhost:8080/"
        },
        "id": "unjuTtKUjZI3",
        "outputId": "9fbb2437-2fe8-4423-b5e0-b2f8d4968369",
        "executionInfo": {
          "status": "ok",
          "timestamp": 1709508677223,
          "user_tz": 480,
          "elapsed": 3,
          "user": {
            "displayName": "",
            "userId": ""
          }
        }
      },
      "source": [
        "example = dataset['train'][0]\n",
        "example"
      ],
      "execution_count": 463,
      "outputs": [
        {
          "output_type": "execute_result",
          "data": {
            "text/plain": [
              "{'message': \"She's what's commonly eager to as a lost cause. Don't waste your breath. Move\",\n",
              " 'positive': False,\n",
              " 'negative': True}"
            ]
          },
          "metadata": {},
          "execution_count": 463
        }
      ]
    },
    {
      "cell_type": "markdown",
      "metadata": {
        "id": "6DV0Rtetxgd4"
      },
      "source": [
        "The dataset consists of tweets, labeled with one or more emotions.\n",
        "\n",
        "Let's create a list that contains the labels, as well as 2 dictionaries that map labels to integers and back."
      ]
    },
    {
      "cell_type": "code",
      "source": [
        "# # Assuming your dataset is a list of dictionaries and each dictionary has a 'your_label_column' key\n",
        "# unique_labels = set(example['label'] for example in dataset['train'])\n",
        "# print(\"Unique Labels:\", unique_labels)\n"
      ],
      "metadata": {
        "id": "rE_64bEnOr6L",
        "executionInfo": {
          "status": "ok",
          "timestamp": 1709508677610,
          "user_tz": 480,
          "elapsed": 388,
          "user": {
            "displayName": "",
            "userId": ""
          }
        }
      },
      "execution_count": 464,
      "outputs": []
    },
    {
      "cell_type": "code",
      "source": [
        "#Positive = True; Means HOT\n",
        "example = dataset['train'][1]\n",
        "example"
      ],
      "metadata": {
        "colab": {
          "base_uri": "https://localhost:8080/"
        },
        "id": "2x_PEfN4SH-A",
        "executionInfo": {
          "status": "ok",
          "timestamp": 1709508677610,
          "user_tz": 480,
          "elapsed": 5,
          "user": {
            "displayName": "",
            "userId": ""
          }
        },
        "outputId": "3689ac84-95e9-45d5-b4a1-24fbc101d28f"
      },
      "execution_count": 465,
      "outputs": [
        {
          "output_type": "execute_result",
          "data": {
            "text/plain": [
              "{'message': '**Spoiler Warning:** All officially-released show and book content allowed, including trailers and pre-released chapters. No leaked information or paparazzi photos of the set. For more info please check the [spoiler guide](/r/gameofthrones/w/spoiler_guide).\\n\\n*I am a bot, and this action was performed automatically. Please [contact the moderators of this subreddit](/message/compose/?to=/r/gameofthrones) if you have any questions or concerns.*',\n",
              " 'positive': False,\n",
              " 'negative': True}"
            ]
          },
          "metadata": {},
          "execution_count": 465
        }
      ]
    },
    {
      "cell_type": "code",
      "metadata": {
        "colab": {
          "base_uri": "https://localhost:8080/"
        },
        "id": "e5vZhQpvkE8s",
        "outputId": "fcbf3ed5-a00b-4b6d-a384-ceeead610ed4",
        "executionInfo": {
          "status": "ok",
          "timestamp": 1709508677610,
          "user_tz": 480,
          "elapsed": 5,
          "user": {
            "displayName": "",
            "userId": ""
          }
        }
      },
      "source": [
        "labels = [label for label in dataset['train'].features.keys() if label not in ['message']]\n",
        "# id2label = {idx:label for idx, label in enumerate(labels)}\n",
        "# label2id = {label:idx for idx, label in enumerate(labels)}\n",
        "# print(labels)\n",
        "#TESTTT\n",
        "labels = ['negative', 'positive']\n",
        "\n",
        "# Create id2label mapping\n",
        "id2label = {idx: label for idx, label in enumerate(labels)}\n",
        "\n",
        "# Create label2id mapping\n",
        "label2id = {label: idx for idx, label in enumerate(labels)}\n",
        "\n",
        "# Manually set the mapping for 'positive' to 1 and 'negative' to 0\n",
        "label2id['positive'] = 1\n",
        "label2id['negative'] = 0\n",
        "\n",
        "print(\"id2label:\", id2label)\n",
        "print(\"label2id:\", label2id)"
      ],
      "execution_count": 466,
      "outputs": [
        {
          "output_type": "stream",
          "name": "stdout",
          "text": [
            "id2label: {0: 'negative', 1: 'positive'}\n",
            "label2id: {'negative': 0, 'positive': 1}\n"
          ]
        }
      ]
    },
    {
      "cell_type": "markdown",
      "metadata": {
        "id": "nJ3Teyjmank2"
      },
      "source": [
        "## Preprocess data\n",
        "\n",
        "As models like BERT don't expect text as direct input, but rather `input_ids`, etc., we tokenize the text using the tokenizer. Here I'm using the `AutoTokenizer` API, which will automatically load the appropriate tokenizer based on the checkpoint on the hub.\n",
        "\n",
        "What's a bit tricky is that we also need to provide labels to the model. For multi-label text classification, this is a matrix of shape (batch_size, num_labels). Also important: this should be a tensor of floats rather than integers, otherwise PyTorch' `BCEWithLogitsLoss` (which the model will use) will complain, as explained [here](https://discuss.pytorch.org/t/multi-label-binary-classification-result-type-float-cant-be-cast-to-the-desired-output-type-long/117915/3)."
      ]
    },
    {
      "cell_type": "code",
      "source": [
        "#pip list | grep jax"
      ],
      "metadata": {
        "id": "l-sD_vTrFzxx",
        "executionInfo": {
          "status": "ok",
          "timestamp": 1709508677610,
          "user_tz": 480,
          "elapsed": 4,
          "user": {
            "displayName": "",
            "userId": ""
          }
        }
      },
      "execution_count": 467,
      "outputs": []
    },
    {
      "cell_type": "code",
      "source": [
        "#!pip install -U jax jaxlib"
      ],
      "metadata": {
        "id": "-puzjgm3F4SL",
        "executionInfo": {
          "status": "ok",
          "timestamp": 1709508677610,
          "user_tz": 480,
          "elapsed": 4,
          "user": {
            "displayName": "",
            "userId": ""
          }
        }
      },
      "execution_count": 468,
      "outputs": []
    },
    {
      "cell_type": "code",
      "metadata": {
        "id": "AFWlSsbZaRLc",
        "executionInfo": {
          "status": "ok",
          "timestamp": 1709508677611,
          "user_tz": 480,
          "elapsed": 5,
          "user": {
            "displayName": "",
            "userId": ""
          }
        }
      },
      "source": [
        "from transformers import AutoTokenizer\n",
        "import numpy as np\n",
        "\n",
        "tokenizer = AutoTokenizer.from_pretrained(\"bert-base-uncased\")\n",
        "\n",
        "def preprocess_data(examples):\n",
        "  # take a batch of texts\n",
        "  text = examples[\"message\"]\n",
        "  # display(text)\n",
        "  # encode them\n",
        "  encoding = tokenizer(text, padding=\"max_length\", truncation=True, max_length=512)\n",
        "  # add labels\n",
        "  labels_batch = {k: examples[k] for k in examples.keys() if k in labels}\n",
        "  # print(\"labels_batch: \",labels_batch)\n",
        "  # create numpy array of shape (batch_size, num_labels)\n",
        "  labels_matrix = np.zeros((len(text), len(labels)))\n",
        "  # fill numpy array\n",
        "  for idx, label in enumerate(labels):\n",
        "    print(\"idx: \",idx, \"label: \", label)\n",
        "    labels_matrix[:, idx] = labels_batch[label]\n",
        "\n",
        "  encoding[\"labels\"] = labels_matrix.tolist()\n",
        "\n",
        "  return encoding"
      ],
      "execution_count": 469,
      "outputs": []
    },
    {
      "cell_type": "code",
      "metadata": {
        "colab": {
          "base_uri": "https://localhost:8080/",
          "height": 1000,
          "referenced_widgets": [
            "1d80e4ca543d43adb5c7ab26fa0cf654",
            "da3233391917457f9ab4b1ba6346c4b9",
            "9facee684a244e01a9c0bdc38b5ab18f",
            "95b96ecefdf54da799d51efcf40ccb75",
            "7dadb123da6a448b93389b6c73682cac",
            "e6f7695654bb47d38310e54346cf68b8",
            "8b90e6975f3b48f6b7189d9cf8a88ae8",
            "d419c37b4bb9426495b70003d2e17980",
            "7c74b98da25e411e90f6d83f11c6936b",
            "152a66356443438bac199f15bb040e6a",
            "e6ec3a906eac481d81c2174da580e868",
            "8fe8b1f529b442adbf3700ab0426663a",
            "5b2dd07a1b6546f28851f4ce830d34c8",
            "15e43ad2d41b43e9a5e3db4b83b6788e",
            "21eedae097674ff7807b7e0339cf58ed",
            "728740fc29f74c7599a4059c589bdeab",
            "743c626c1f9840668534873d3573f5b5",
            "179a44b49c0e468b8288431ffe236407",
            "4518ae82b3a04f6c8ca1543203a28742",
            "f58e97115e6f4ad38d38ba9484e201ec",
            "ff6c4ec646a94d59a63ced1db57403b4",
            "0fda65b28551446c9214a4e51f7f7abb",
            "7b127e3802e847efba2b482a2760cbdb",
            "399560b556ac4075a4c7b241475e6277",
            "1a54de4ec97e43648bc001a356ae660b",
            "ffa6a37ab8044697bc95e7fe538bd91e",
            "f849c03fc99c49d79c04f3b26f885013",
            "07b016a4a9c940bcbb393f76e8f28d9c",
            "c50f514f587d4bf3a2c109c4b137e801",
            "39e34f18edd44583b61193b3d0d25187",
            "61e4dba5b05a4b068ae9bd0b1b0ca890",
            "f11a9d1dd3f447b7bc4d4c16cce0abda",
            "dac5a3e3852f4db78341ac383ddc536a"
          ]
        },
        "id": "i4ENBTdulBEI",
        "outputId": "98d69119-9d62-4232-a384-ac3aa6950b63",
        "executionInfo": {
          "status": "ok",
          "timestamp": 1709508791343,
          "user_tz": 480,
          "elapsed": 113736,
          "user": {
            "displayName": "",
            "userId": ""
          }
        }
      },
      "source": [
        "encoded_dataset = dataset.map(preprocess_data, batched=True, remove_columns=dataset['train'].column_names)"
      ],
      "execution_count": 470,
      "outputs": [
        {
          "output_type": "display_data",
          "data": {
            "text/plain": [
              "Map:   0%|          | 0/283685 [00:00<?, ? examples/s]"
            ],
            "application/vnd.jupyter.widget-view+json": {
              "version_major": 2,
              "version_minor": 0,
              "model_id": "1d80e4ca543d43adb5c7ab26fa0cf654"
            }
          },
          "metadata": {}
        },
        {
          "output_type": "stream",
          "name": "stdout",
          "text": [
            "idx:  0 label:  negative\n",
            "idx:  1 label:  positive\n",
            "idx:  0 label:  negative\n",
            "idx:  1 label:  positive\n",
            "idx:  0 label:  negative\n",
            "idx:  1 label:  positive\n",
            "idx:  0 label:  negative\n",
            "idx:  1 label:  positive\n",
            "idx:  0 label:  negative\n",
            "idx:  1 label:  positive\n",
            "idx:  0 label:  negative\n",
            "idx:  1 label:  positive\n",
            "idx:  0 label:  negative\n",
            "idx:  1 label:  positive\n",
            "idx:  0 label:  negative\n",
            "idx:  1 label:  positive\n",
            "idx:  0 label:  negative\n",
            "idx:  1 label:  positive\n",
            "idx:  0 label:  negative\n",
            "idx:  1 label:  positive\n",
            "idx:  0 label:  negative\n",
            "idx:  1 label:  positive\n",
            "idx:  0 label:  negative\n",
            "idx:  1 label:  positive\n",
            "idx:  0 label:  negative\n",
            "idx:  1 label:  positive\n",
            "idx:  0 label:  negative\n",
            "idx:  1 label:  positive\n",
            "idx:  0 label:  negative\n",
            "idx:  1 label:  positive\n",
            "idx:  0 label:  negative\n",
            "idx:  1 label:  positive\n",
            "idx:  0 label:  negative\n",
            "idx:  1 label:  positive\n",
            "idx:  0 label:  negative\n",
            "idx:  1 label:  positive\n",
            "idx:  0 label:  negative\n",
            "idx:  1 label:  positive\n",
            "idx:  0 label:  negative\n",
            "idx:  1 label:  positive\n",
            "idx:  0 label:  negative\n",
            "idx:  1 label:  positive\n",
            "idx:  0 label:  negative\n",
            "idx:  1 label:  positive\n",
            "idx:  0 label:  negative\n",
            "idx:  1 label:  positive\n",
            "idx:  0 label:  negative\n",
            "idx:  1 label:  positive\n",
            "idx:  0 label:  negative\n",
            "idx:  1 label:  positive\n",
            "idx:  0 label:  negative\n",
            "idx:  1 label:  positive\n",
            "idx:  0 label:  negative\n",
            "idx:  1 label:  positive\n",
            "idx:  0 label:  negative\n",
            "idx:  1 label:  positive\n",
            "idx:  0 label:  negative\n",
            "idx:  1 label:  positive\n",
            "idx:  0 label:  negative\n",
            "idx:  1 label:  positive\n",
            "idx:  0 label:  negative\n",
            "idx:  1 label:  positive\n",
            "idx:  0 label:  negative\n",
            "idx:  1 label:  positive\n",
            "idx:  0 label:  negative\n",
            "idx:  1 label:  positive\n",
            "idx:  0 label:  negative\n",
            "idx:  1 label:  positive\n",
            "idx:  0 label:  negative\n",
            "idx:  1 label:  positive\n",
            "idx:  0 label:  negative\n",
            "idx:  1 label:  positive\n",
            "idx:  0 label:  negative\n",
            "idx:  1 label:  positive\n",
            "idx:  0 label:  negative\n",
            "idx:  1 label:  positive\n",
            "idx:  0 label:  negative\n",
            "idx:  1 label:  positive\n",
            "idx:  0 label:  negative\n",
            "idx:  1 label:  positive\n",
            "idx:  0 label:  negative\n",
            "idx:  1 label:  positive\n",
            "idx:  0 label:  negative\n",
            "idx:  1 label:  positive\n",
            "idx:  0 label:  negative\n",
            "idx:  1 label:  positive\n",
            "idx:  0 label:  negative\n",
            "idx:  1 label:  positive\n",
            "idx:  0 label:  negative\n",
            "idx:  1 label:  positive\n",
            "idx:  0 label:  negative\n",
            "idx:  1 label:  positive\n",
            "idx:  0 label:  negative\n",
            "idx:  1 label:  positive\n",
            "idx:  0 label:  negative\n",
            "idx:  1 label:  positive\n",
            "idx:  0 label:  negative\n",
            "idx:  1 label:  positive\n",
            "idx:  0 label:  negative\n",
            "idx:  1 label:  positive\n",
            "idx:  0 label:  negative\n",
            "idx:  1 label:  positive\n",
            "idx:  0 label:  negative\n",
            "idx:  1 label:  positive\n",
            "idx:  0 label:  negative\n",
            "idx:  1 label:  positive\n",
            "idx:  0 label:  negative\n",
            "idx:  1 label:  positive\n",
            "idx:  0 label:  negative\n",
            "idx:  1 label:  positive\n",
            "idx:  0 label:  negative\n",
            "idx:  1 label:  positive\n",
            "idx:  0 label:  negative\n",
            "idx:  1 label:  positive\n",
            "idx:  0 label:  negative\n",
            "idx:  1 label:  positive\n",
            "idx:  0 label:  negative\n",
            "idx:  1 label:  positive\n",
            "idx:  0 label:  negative\n",
            "idx:  1 label:  positive\n",
            "idx:  0 label:  negative\n",
            "idx:  1 label:  positive\n",
            "idx:  0 label:  negative\n",
            "idx:  1 label:  positive\n",
            "idx:  0 label:  negative\n",
            "idx:  1 label:  positive\n",
            "idx:  0 label:  negative\n",
            "idx:  1 label:  positive\n",
            "idx:  0 label:  negative\n",
            "idx:  1 label:  positive\n",
            "idx:  0 label:  negative\n",
            "idx:  1 label:  positive\n",
            "idx:  0 label:  negative\n",
            "idx:  1 label:  positive\n",
            "idx:  0 label:  negative\n",
            "idx:  1 label:  positive\n",
            "idx:  0 label:  negative\n",
            "idx:  1 label:  positive\n",
            "idx:  0 label:  negative\n",
            "idx:  1 label:  positive\n",
            "idx:  0 label:  negative\n",
            "idx:  1 label:  positive\n",
            "idx:  0 label:  negative\n",
            "idx:  1 label:  positive\n",
            "idx:  0 label:  negative\n",
            "idx:  1 label:  positive\n",
            "idx:  0 label:  negative\n",
            "idx:  1 label:  positive\n",
            "idx:  0 label:  negative\n",
            "idx:  1 label:  positive\n",
            "idx:  0 label:  negative\n",
            "idx:  1 label:  positive\n",
            "idx:  0 label:  negative\n",
            "idx:  1 label:  positive\n",
            "idx:  0 label:  negative\n",
            "idx:  1 label:  positive\n",
            "idx:  0 label:  negative\n",
            "idx:  1 label:  positive\n",
            "idx:  0 label:  negative\n",
            "idx:  1 label:  positive\n",
            "idx:  0 label:  negative\n",
            "idx:  1 label:  positive\n",
            "idx:  0 label:  negative\n",
            "idx:  1 label:  positive\n",
            "idx:  0 label:  negative\n",
            "idx:  1 label:  positive\n",
            "idx:  0 label:  negative\n",
            "idx:  1 label:  positive\n",
            "idx:  0 label:  negative\n",
            "idx:  1 label:  positive\n",
            "idx:  0 label:  negative\n",
            "idx:  1 label:  positive\n",
            "idx:  0 label:  negative\n",
            "idx:  1 label:  positive\n",
            "idx:  0 label:  negative\n",
            "idx:  1 label:  positive\n",
            "idx:  0 label:  negative\n",
            "idx:  1 label:  positive\n",
            "idx:  0 label:  negative\n",
            "idx:  1 label:  positive\n",
            "idx:  0 label:  negative\n",
            "idx:  1 label:  positive\n",
            "idx:  0 label:  negative\n",
            "idx:  1 label:  positive\n",
            "idx:  0 label:  negative\n",
            "idx:  1 label:  positive\n",
            "idx:  0 label:  negative\n",
            "idx:  1 label:  positive\n",
            "idx:  0 label:  negative\n",
            "idx:  1 label:  positive\n",
            "idx:  0 label:  negative\n",
            "idx:  1 label:  positive\n",
            "idx:  0 label:  negative\n",
            "idx:  1 label:  positive\n",
            "idx:  0 label:  negative\n",
            "idx:  1 label:  positive\n",
            "idx:  0 label:  negative\n",
            "idx:  1 label:  positive\n",
            "idx:  0 label:  negative\n",
            "idx:  1 label:  positive\n",
            "idx:  0 label:  negative\n",
            "idx:  1 label:  positive\n",
            "idx:  0 label:  negative\n",
            "idx:  1 label:  positive\n",
            "idx:  0 label:  negative\n",
            "idx:  1 label:  positive\n",
            "idx:  0 label:  negative\n",
            "idx:  1 label:  positive\n",
            "idx:  0 label:  negative\n",
            "idx:  1 label:  positive\n",
            "idx:  0 label:  negative\n",
            "idx:  1 label:  positive\n",
            "idx:  0 label:  negative\n",
            "idx:  1 label:  positive\n",
            "idx:  0 label:  negative\n",
            "idx:  1 label:  positive\n",
            "idx:  0 label:  negative\n",
            "idx:  1 label:  positive\n",
            "idx:  0 label:  negative\n",
            "idx:  1 label:  positive\n",
            "idx:  0 label:  negative\n",
            "idx:  1 label:  positive\n",
            "idx:  0 label:  negative\n",
            "idx:  1 label:  positive\n",
            "idx:  0 label:  negative\n",
            "idx:  1 label:  positive\n",
            "idx:  0 label:  negative\n",
            "idx:  1 label:  positive\n",
            "idx:  0 label:  negative\n",
            "idx:  1 label:  positive\n",
            "idx:  0 label:  negative\n",
            "idx:  1 label:  positive\n",
            "idx:  0 label:  negative\n",
            "idx:  1 label:  positive\n",
            "idx:  0 label:  negative\n",
            "idx:  1 label:  positive\n",
            "idx:  0 label:  negative\n",
            "idx:  1 label:  positive\n",
            "idx:  0 label:  negative\n",
            "idx:  1 label:  positive\n",
            "idx:  0 label:  negative\n",
            "idx:  1 label:  positive\n",
            "idx:  0 label:  negative\n",
            "idx:  1 label:  positive\n",
            "idx:  0 label:  negative\n",
            "idx:  1 label:  positive\n",
            "idx:  0 label:  negative\n",
            "idx:  1 label:  positive\n",
            "idx:  0 label:  negative\n",
            "idx:  1 label:  positive\n",
            "idx:  0 label:  negative\n",
            "idx:  1 label:  positive\n",
            "idx:  0 label:  negative\n",
            "idx:  1 label:  positive\n",
            "idx:  0 label:  negative\n",
            "idx:  1 label:  positive\n",
            "idx:  0 label:  negative\n",
            "idx:  1 label:  positive\n",
            "idx:  0 label:  negative\n",
            "idx:  1 label:  positive\n",
            "idx:  0 label:  negative\n",
            "idx:  1 label:  positive\n",
            "idx:  0 label:  negative\n",
            "idx:  1 label:  positive\n",
            "idx:  0 label:  negative\n",
            "idx:  1 label:  positive\n",
            "idx:  0 label:  negative\n",
            "idx:  1 label:  positive\n",
            "idx:  0 label:  negative\n",
            "idx:  1 label:  positive\n",
            "idx:  0 label:  negative\n",
            "idx:  1 label:  positive\n",
            "idx:  0 label:  negative\n",
            "idx:  1 label:  positive\n",
            "idx:  0 label:  negative\n",
            "idx:  1 label:  positive\n",
            "idx:  0 label:  negative\n",
            "idx:  1 label:  positive\n",
            "idx:  0 label:  negative\n",
            "idx:  1 label:  positive\n",
            "idx:  0 label:  negative\n",
            "idx:  1 label:  positive\n",
            "idx:  0 label:  negative\n",
            "idx:  1 label:  positive\n",
            "idx:  0 label:  negative\n",
            "idx:  1 label:  positive\n",
            "idx:  0 label:  negative\n",
            "idx:  1 label:  positive\n",
            "idx:  0 label:  negative\n",
            "idx:  1 label:  positive\n",
            "idx:  0 label:  negative\n",
            "idx:  1 label:  positive\n",
            "idx:  0 label:  negative\n",
            "idx:  1 label:  positive\n",
            "idx:  0 label:  negative\n",
            "idx:  1 label:  positive\n",
            "idx:  0 label:  negative\n",
            "idx:  1 label:  positive\n",
            "idx:  0 label:  negative\n",
            "idx:  1 label:  positive\n",
            "idx:  0 label:  negative\n",
            "idx:  1 label:  positive\n",
            "idx:  0 label:  negative\n",
            "idx:  1 label:  positive\n",
            "idx:  0 label:  negative\n",
            "idx:  1 label:  positive\n",
            "idx:  0 label:  negative\n",
            "idx:  1 label:  positive\n",
            "idx:  0 label:  negative\n",
            "idx:  1 label:  positive\n",
            "idx:  0 label:  negative\n",
            "idx:  1 label:  positive\n",
            "idx:  0 label:  negative\n",
            "idx:  1 label:  positive\n",
            "idx:  0 label:  negative\n",
            "idx:  1 label:  positive\n",
            "idx:  0 label:  negative\n",
            "idx:  1 label:  positive\n",
            "idx:  0 label:  negative\n",
            "idx:  1 label:  positive\n",
            "idx:  0 label:  negative\n",
            "idx:  1 label:  positive\n",
            "idx:  0 label:  negative\n",
            "idx:  1 label:  positive\n",
            "idx:  0 label:  negative\n",
            "idx:  1 label:  positive\n",
            "idx:  0 label:  negative\n",
            "idx:  1 label:  positive\n",
            "idx:  0 label:  negative\n",
            "idx:  1 label:  positive\n",
            "idx:  0 label:  negative\n",
            "idx:  1 label:  positive\n",
            "idx:  0 label:  negative\n",
            "idx:  1 label:  positive\n",
            "idx:  0 label:  negative\n",
            "idx:  1 label:  positive\n",
            "idx:  0 label:  negative\n",
            "idx:  1 label:  positive\n",
            "idx:  0 label:  negative\n",
            "idx:  1 label:  positive\n",
            "idx:  0 label:  negative\n",
            "idx:  1 label:  positive\n",
            "idx:  0 label:  negative\n",
            "idx:  1 label:  positive\n",
            "idx:  0 label:  negative\n",
            "idx:  1 label:  positive\n",
            "idx:  0 label:  negative\n",
            "idx:  1 label:  positive\n",
            "idx:  0 label:  negative\n",
            "idx:  1 label:  positive\n",
            "idx:  0 label:  negative\n",
            "idx:  1 label:  positive\n",
            "idx:  0 label:  negative\n",
            "idx:  1 label:  positive\n",
            "idx:  0 label:  negative\n",
            "idx:  1 label:  positive\n",
            "idx:  0 label:  negative\n",
            "idx:  1 label:  positive\n",
            "idx:  0 label:  negative\n",
            "idx:  1 label:  positive\n",
            "idx:  0 label:  negative\n",
            "idx:  1 label:  positive\n",
            "idx:  0 label:  negative\n",
            "idx:  1 label:  positive\n",
            "idx:  0 label:  negative\n",
            "idx:  1 label:  positive\n",
            "idx:  0 label:  negative\n",
            "idx:  1 label:  positive\n",
            "idx:  0 label:  negative\n",
            "idx:  1 label:  positive\n",
            "idx:  0 label:  negative\n",
            "idx:  1 label:  positive\n",
            "idx:  0 label:  negative\n",
            "idx:  1 label:  positive\n",
            "idx:  0 label:  negative\n",
            "idx:  1 label:  positive\n",
            "idx:  0 label:  negative\n",
            "idx:  1 label:  positive\n",
            "idx:  0 label:  negative\n",
            "idx:  1 label:  positive\n",
            "idx:  0 label:  negative\n",
            "idx:  1 label:  positive\n",
            "idx:  0 label:  negative\n",
            "idx:  1 label:  positive\n",
            "idx:  0 label:  negative\n",
            "idx:  1 label:  positive\n",
            "idx:  0 label:  negative\n",
            "idx:  1 label:  positive\n",
            "idx:  0 label:  negative\n",
            "idx:  1 label:  positive\n",
            "idx:  0 label:  negative\n",
            "idx:  1 label:  positive\n",
            "idx:  0 label:  negative\n",
            "idx:  1 label:  positive\n",
            "idx:  0 label:  negative\n",
            "idx:  1 label:  positive\n",
            "idx:  0 label:  negative\n",
            "idx:  1 label:  positive\n",
            "idx:  0 label:  negative\n",
            "idx:  1 label:  positive\n",
            "idx:  0 label:  negative\n",
            "idx:  1 label:  positive\n",
            "idx:  0 label:  negative\n",
            "idx:  1 label:  positive\n",
            "idx:  0 label:  negative\n",
            "idx:  1 label:  positive\n",
            "idx:  0 label:  negative\n",
            "idx:  1 label:  positive\n",
            "idx:  0 label:  negative\n",
            "idx:  1 label:  positive\n",
            "idx:  0 label:  negative\n",
            "idx:  1 label:  positive\n",
            "idx:  0 label:  negative\n",
            "idx:  1 label:  positive\n",
            "idx:  0 label:  negative\n",
            "idx:  1 label:  positive\n",
            "idx:  0 label:  negative\n",
            "idx:  1 label:  positive\n",
            "idx:  0 label:  negative\n",
            "idx:  1 label:  positive\n",
            "idx:  0 label:  negative\n",
            "idx:  1 label:  positive\n",
            "idx:  0 label:  negative\n",
            "idx:  1 label:  positive\n",
            "idx:  0 label:  negative\n",
            "idx:  1 label:  positive\n",
            "idx:  0 label:  negative\n",
            "idx:  1 label:  positive\n",
            "idx:  0 label:  negative\n",
            "idx:  1 label:  positive\n",
            "idx:  0 label:  negative\n",
            "idx:  1 label:  positive\n",
            "idx:  0 label:  negative\n",
            "idx:  1 label:  positive\n",
            "idx:  0 label:  negative\n",
            "idx:  1 label:  positive\n",
            "idx:  0 label:  negative\n",
            "idx:  1 label:  positive\n",
            "idx:  0 label:  negative\n",
            "idx:  1 label:  positive\n",
            "idx:  0 label:  negative\n",
            "idx:  1 label:  positive\n",
            "idx:  0 label:  negative\n",
            "idx:  1 label:  positive\n",
            "idx:  0 label:  negative\n",
            "idx:  1 label:  positive\n",
            "idx:  0 label:  negative\n",
            "idx:  1 label:  positive\n",
            "idx:  0 label:  negative\n",
            "idx:  1 label:  positive\n",
            "idx:  0 label:  negative\n",
            "idx:  1 label:  positive\n",
            "idx:  0 label:  negative\n",
            "idx:  1 label:  positive\n",
            "idx:  0 label:  negative\n",
            "idx:  1 label:  positive\n",
            "idx:  0 label:  negative\n",
            "idx:  1 label:  positive\n",
            "idx:  0 label:  negative\n",
            "idx:  1 label:  positive\n",
            "idx:  0 label:  negative\n",
            "idx:  1 label:  positive\n",
            "idx:  0 label:  negative\n",
            "idx:  1 label:  positive\n",
            "idx:  0 label:  negative\n",
            "idx:  1 label:  positive\n",
            "idx:  0 label:  negative\n",
            "idx:  1 label:  positive\n",
            "idx:  0 label:  negative\n",
            "idx:  1 label:  positive\n",
            "idx:  0 label:  negative\n",
            "idx:  1 label:  positive\n",
            "idx:  0 label:  negative\n",
            "idx:  1 label:  positive\n",
            "idx:  0 label:  negative\n",
            "idx:  1 label:  positive\n",
            "idx:  0 label:  negative\n",
            "idx:  1 label:  positive\n",
            "idx:  0 label:  negative\n",
            "idx:  1 label:  positive\n",
            "idx:  0 label:  negative\n",
            "idx:  1 label:  positive\n",
            "idx:  0 label:  negative\n",
            "idx:  1 label:  positive\n",
            "idx:  0 label:  negative\n",
            "idx:  1 label:  positive\n",
            "idx:  0 label:  negative\n",
            "idx:  1 label:  positive\n",
            "idx:  0 label:  negative\n",
            "idx:  1 label:  positive\n",
            "idx:  0 label:  negative\n",
            "idx:  1 label:  positive\n",
            "idx:  0 label:  negative\n",
            "idx:  1 label:  positive\n",
            "idx:  0 label:  negative\n",
            "idx:  1 label:  positive\n",
            "idx:  0 label:  negative\n",
            "idx:  1 label:  positive\n",
            "idx:  0 label:  negative\n",
            "idx:  1 label:  positive\n",
            "idx:  0 label:  negative\n",
            "idx:  1 label:  positive\n",
            "idx:  0 label:  negative\n",
            "idx:  1 label:  positive\n",
            "idx:  0 label:  negative\n",
            "idx:  1 label:  positive\n",
            "idx:  0 label:  negative\n",
            "idx:  1 label:  positive\n",
            "idx:  0 label:  negative\n",
            "idx:  1 label:  positive\n",
            "idx:  0 label:  negative\n",
            "idx:  1 label:  positive\n",
            "idx:  0 label:  negative\n",
            "idx:  1 label:  positive\n",
            "idx:  0 label:  negative\n",
            "idx:  1 label:  positive\n",
            "idx:  0 label:  negative\n",
            "idx:  1 label:  positive\n",
            "idx:  0 label:  negative\n",
            "idx:  1 label:  positive\n",
            "idx:  0 label:  negative\n",
            "idx:  1 label:  positive\n",
            "idx:  0 label:  negative\n",
            "idx:  1 label:  positive\n",
            "idx:  0 label:  negative\n",
            "idx:  1 label:  positive\n",
            "idx:  0 label:  negative\n",
            "idx:  1 label:  positive\n",
            "idx:  0 label:  negative\n",
            "idx:  1 label:  positive\n",
            "idx:  0 label:  negative\n",
            "idx:  1 label:  positive\n",
            "idx:  0 label:  negative\n",
            "idx:  1 label:  positive\n",
            "idx:  0 label:  negative\n",
            "idx:  1 label:  positive\n",
            "idx:  0 label:  negative\n",
            "idx:  1 label:  positive\n",
            "idx:  0 label:  negative\n",
            "idx:  1 label:  positive\n",
            "idx:  0 label:  negative\n",
            "idx:  1 label:  positive\n",
            "idx:  0 label:  negative\n",
            "idx:  1 label:  positive\n",
            "idx:  0 label:  negative\n",
            "idx:  1 label:  positive\n",
            "idx:  0 label:  negative\n",
            "idx:  1 label:  positive\n",
            "idx:  0 label:  negative\n",
            "idx:  1 label:  positive\n",
            "idx:  0 label:  negative\n",
            "idx:  1 label:  positive\n",
            "idx:  0 label:  negative\n",
            "idx:  1 label:  positive\n",
            "idx:  0 label:  negative\n",
            "idx:  1 label:  positive\n",
            "idx:  0 label:  negative\n",
            "idx:  1 label:  positive\n",
            "idx:  0 label:  negative\n",
            "idx:  1 label:  positive\n",
            "idx:  0 label:  negative\n",
            "idx:  1 label:  positive\n",
            "idx:  0 label:  negative\n",
            "idx:  1 label:  positive\n",
            "idx:  0 label:  negative\n",
            "idx:  1 label:  positive\n",
            "idx:  0 label:  negative\n",
            "idx:  1 label:  positive\n"
          ]
        },
        {
          "output_type": "display_data",
          "data": {
            "text/plain": [
              "Map:   0%|          | 0/60791 [00:00<?, ? examples/s]"
            ],
            "application/vnd.jupyter.widget-view+json": {
              "version_major": 2,
              "version_minor": 0,
              "model_id": "8fe8b1f529b442adbf3700ab0426663a"
            }
          },
          "metadata": {}
        },
        {
          "output_type": "stream",
          "name": "stdout",
          "text": [
            "idx:  0 label:  negative\n",
            "idx:  1 label:  positive\n",
            "idx:  0 label:  negative\n",
            "idx:  1 label:  positive\n",
            "idx:  0 label:  negative\n",
            "idx:  1 label:  positive\n",
            "idx:  0 label:  negative\n",
            "idx:  1 label:  positive\n",
            "idx:  0 label:  negative\n",
            "idx:  1 label:  positive\n",
            "idx:  0 label:  negative\n",
            "idx:  1 label:  positive\n",
            "idx:  0 label:  negative\n",
            "idx:  1 label:  positive\n",
            "idx:  0 label:  negative\n",
            "idx:  1 label:  positive\n",
            "idx:  0 label:  negative\n",
            "idx:  1 label:  positive\n",
            "idx:  0 label:  negative\n",
            "idx:  1 label:  positive\n",
            "idx:  0 label:  negative\n",
            "idx:  1 label:  positive\n",
            "idx:  0 label:  negative\n",
            "idx:  1 label:  positive\n",
            "idx:  0 label:  negative\n",
            "idx:  1 label:  positive\n",
            "idx:  0 label:  negative\n",
            "idx:  1 label:  positive\n",
            "idx:  0 label:  negative\n",
            "idx:  1 label:  positive\n",
            "idx:  0 label:  negative\n",
            "idx:  1 label:  positive\n",
            "idx:  0 label:  negative\n",
            "idx:  1 label:  positive\n",
            "idx:  0 label:  negative\n",
            "idx:  1 label:  positive\n",
            "idx:  0 label:  negative\n",
            "idx:  1 label:  positive\n",
            "idx:  0 label:  negative\n",
            "idx:  1 label:  positive\n",
            "idx:  0 label:  negative\n",
            "idx:  1 label:  positive\n",
            "idx:  0 label:  negative\n",
            "idx:  1 label:  positive\n",
            "idx:  0 label:  negative\n",
            "idx:  1 label:  positive\n",
            "idx:  0 label:  negative\n",
            "idx:  1 label:  positive\n",
            "idx:  0 label:  negative\n",
            "idx:  1 label:  positive\n",
            "idx:  0 label:  negative\n",
            "idx:  1 label:  positive\n",
            "idx:  0 label:  negative\n",
            "idx:  1 label:  positive\n",
            "idx:  0 label:  negative\n",
            "idx:  1 label:  positive\n",
            "idx:  0 label:  negative\n",
            "idx:  1 label:  positive\n",
            "idx:  0 label:  negative\n",
            "idx:  1 label:  positive\n",
            "idx:  0 label:  negative\n",
            "idx:  1 label:  positive\n",
            "idx:  0 label:  negative\n",
            "idx:  1 label:  positive\n",
            "idx:  0 label:  negative\n",
            "idx:  1 label:  positive\n",
            "idx:  0 label:  negative\n",
            "idx:  1 label:  positive\n",
            "idx:  0 label:  negative\n",
            "idx:  1 label:  positive\n",
            "idx:  0 label:  negative\n",
            "idx:  1 label:  positive\n",
            "idx:  0 label:  negative\n",
            "idx:  1 label:  positive\n",
            "idx:  0 label:  negative\n",
            "idx:  1 label:  positive\n",
            "idx:  0 label:  negative\n",
            "idx:  1 label:  positive\n",
            "idx:  0 label:  negative\n",
            "idx:  1 label:  positive\n",
            "idx:  0 label:  negative\n",
            "idx:  1 label:  positive\n",
            "idx:  0 label:  negative\n",
            "idx:  1 label:  positive\n",
            "idx:  0 label:  negative\n",
            "idx:  1 label:  positive\n",
            "idx:  0 label:  negative\n",
            "idx:  1 label:  positive\n",
            "idx:  0 label:  negative\n",
            "idx:  1 label:  positive\n",
            "idx:  0 label:  negative\n",
            "idx:  1 label:  positive\n",
            "idx:  0 label:  negative\n",
            "idx:  1 label:  positive\n",
            "idx:  0 label:  negative\n",
            "idx:  1 label:  positive\n",
            "idx:  0 label:  negative\n",
            "idx:  1 label:  positive\n",
            "idx:  0 label:  negative\n",
            "idx:  1 label:  positive\n",
            "idx:  0 label:  negative\n",
            "idx:  1 label:  positive\n",
            "idx:  0 label:  negative\n",
            "idx:  1 label:  positive\n",
            "idx:  0 label:  negative\n",
            "idx:  1 label:  positive\n",
            "idx:  0 label:  negative\n",
            "idx:  1 label:  positive\n",
            "idx:  0 label:  negative\n",
            "idx:  1 label:  positive\n",
            "idx:  0 label:  negative\n",
            "idx:  1 label:  positive\n",
            "idx:  0 label:  negative\n",
            "idx:  1 label:  positive\n",
            "idx:  0 label:  negative\n",
            "idx:  1 label:  positive\n",
            "idx:  0 label:  negative\n",
            "idx:  1 label:  positive\n",
            "idx:  0 label:  negative\n",
            "idx:  1 label:  positive\n",
            "idx:  0 label:  negative\n",
            "idx:  1 label:  positive\n"
          ]
        },
        {
          "output_type": "display_data",
          "data": {
            "text/plain": [
              "Map:   0%|          | 0/60791 [00:00<?, ? examples/s]"
            ],
            "application/vnd.jupyter.widget-view+json": {
              "version_major": 2,
              "version_minor": 0,
              "model_id": "7b127e3802e847efba2b482a2760cbdb"
            }
          },
          "metadata": {}
        },
        {
          "output_type": "stream",
          "name": "stdout",
          "text": [
            "idx:  0 label:  negative\n",
            "idx:  1 label:  positive\n",
            "idx:  0 label:  negative\n",
            "idx:  1 label:  positive\n",
            "idx:  0 label:  negative\n",
            "idx:  1 label:  positive\n",
            "idx:  0 label:  negative\n",
            "idx:  1 label:  positive\n",
            "idx:  0 label:  negative\n",
            "idx:  1 label:  positive\n",
            "idx:  0 label:  negative\n",
            "idx:  1 label:  positive\n",
            "idx:  0 label:  negative\n",
            "idx:  1 label:  positive\n",
            "idx:  0 label:  negative\n",
            "idx:  1 label:  positive\n",
            "idx:  0 label:  negative\n",
            "idx:  1 label:  positive\n",
            "idx:  0 label:  negative\n",
            "idx:  1 label:  positive\n",
            "idx:  0 label:  negative\n",
            "idx:  1 label:  positive\n",
            "idx:  0 label:  negative\n",
            "idx:  1 label:  positive\n",
            "idx:  0 label:  negative\n",
            "idx:  1 label:  positive\n",
            "idx:  0 label:  negative\n",
            "idx:  1 label:  positive\n",
            "idx:  0 label:  negative\n",
            "idx:  1 label:  positive\n",
            "idx:  0 label:  negative\n",
            "idx:  1 label:  positive\n",
            "idx:  0 label:  negative\n",
            "idx:  1 label:  positive\n",
            "idx:  0 label:  negative\n",
            "idx:  1 label:  positive\n",
            "idx:  0 label:  negative\n",
            "idx:  1 label:  positive\n",
            "idx:  0 label:  negative\n",
            "idx:  1 label:  positive\n",
            "idx:  0 label:  negative\n",
            "idx:  1 label:  positive\n",
            "idx:  0 label:  negative\n",
            "idx:  1 label:  positive\n",
            "idx:  0 label:  negative\n",
            "idx:  1 label:  positive\n",
            "idx:  0 label:  negative\n",
            "idx:  1 label:  positive\n",
            "idx:  0 label:  negative\n",
            "idx:  1 label:  positive\n",
            "idx:  0 label:  negative\n",
            "idx:  1 label:  positive\n",
            "idx:  0 label:  negative\n",
            "idx:  1 label:  positive\n",
            "idx:  0 label:  negative\n",
            "idx:  1 label:  positive\n",
            "idx:  0 label:  negative\n",
            "idx:  1 label:  positive\n",
            "idx:  0 label:  negative\n",
            "idx:  1 label:  positive\n",
            "idx:  0 label:  negative\n",
            "idx:  1 label:  positive\n",
            "idx:  0 label:  negative\n",
            "idx:  1 label:  positive\n",
            "idx:  0 label:  negative\n",
            "idx:  1 label:  positive\n",
            "idx:  0 label:  negative\n",
            "idx:  1 label:  positive\n",
            "idx:  0 label:  negative\n",
            "idx:  1 label:  positive\n",
            "idx:  0 label:  negative\n",
            "idx:  1 label:  positive\n",
            "idx:  0 label:  negative\n",
            "idx:  1 label:  positive\n",
            "idx:  0 label:  negative\n",
            "idx:  1 label:  positive\n",
            "idx:  0 label:  negative\n",
            "idx:  1 label:  positive\n",
            "idx:  0 label:  negative\n",
            "idx:  1 label:  positive\n",
            "idx:  0 label:  negative\n",
            "idx:  1 label:  positive\n",
            "idx:  0 label:  negative\n",
            "idx:  1 label:  positive\n",
            "idx:  0 label:  negative\n",
            "idx:  1 label:  positive\n",
            "idx:  0 label:  negative\n",
            "idx:  1 label:  positive\n",
            "idx:  0 label:  negative\n",
            "idx:  1 label:  positive\n",
            "idx:  0 label:  negative\n",
            "idx:  1 label:  positive\n",
            "idx:  0 label:  negative\n",
            "idx:  1 label:  positive\n",
            "idx:  0 label:  negative\n",
            "idx:  1 label:  positive\n",
            "idx:  0 label:  negative\n",
            "idx:  1 label:  positive\n",
            "idx:  0 label:  negative\n",
            "idx:  1 label:  positive\n",
            "idx:  0 label:  negative\n",
            "idx:  1 label:  positive\n",
            "idx:  0 label:  negative\n",
            "idx:  1 label:  positive\n",
            "idx:  0 label:  negative\n",
            "idx:  1 label:  positive\n",
            "idx:  0 label:  negative\n",
            "idx:  1 label:  positive\n",
            "idx:  0 label:  negative\n",
            "idx:  1 label:  positive\n",
            "idx:  0 label:  negative\n",
            "idx:  1 label:  positive\n",
            "idx:  0 label:  negative\n",
            "idx:  1 label:  positive\n",
            "idx:  0 label:  negative\n",
            "idx:  1 label:  positive\n",
            "idx:  0 label:  negative\n",
            "idx:  1 label:  positive\n",
            "idx:  0 label:  negative\n",
            "idx:  1 label:  positive\n",
            "idx:  0 label:  negative\n",
            "idx:  1 label:  positive\n"
          ]
        }
      ]
    },
    {
      "cell_type": "code",
      "metadata": {
        "id": "0enAb0W9o25W",
        "colab": {
          "base_uri": "https://localhost:8080/"
        },
        "executionInfo": {
          "status": "ok",
          "timestamp": 1709508791343,
          "user_tz": 480,
          "elapsed": 21,
          "user": {
            "displayName": "",
            "userId": ""
          }
        },
        "outputId": "d3a1c7ad-cc6f-45bb-8d8c-7525b2979608"
      },
      "source": [
        "example = encoded_dataset['train'][0]\n",
        "print(example.keys())"
      ],
      "execution_count": 471,
      "outputs": [
        {
          "output_type": "stream",
          "name": "stdout",
          "text": [
            "dict_keys(['input_ids', 'token_type_ids', 'attention_mask', 'labels'])\n"
          ]
        }
      ]
    },
    {
      "cell_type": "code",
      "metadata": {
        "id": "D0McCtJ8HRJY",
        "colab": {
          "base_uri": "https://localhost:8080/",
          "height": 178
        },
        "executionInfo": {
          "status": "ok",
          "timestamp": 1709508791343,
          "user_tz": 480,
          "elapsed": 9,
          "user": {
            "displayName": "",
            "userId": ""
          }
        },
        "outputId": "35e71ec5-7d09-4715-ea26-486d4a35d059"
      },
      "source": [
        "tokenizer.decode(example['input_ids'])"
      ],
      "execution_count": 472,
      "outputs": [
        {
          "output_type": "execute_result",
          "data": {
            "text/plain": [
              "\"[CLS] she's what's commonly eager to as a lost cause. don't waste your breath. move [SEP] [PAD] [PAD] [PAD] [PAD] [PAD] [PAD] [PAD] [PAD] [PAD] [PAD] [PAD] [PAD] [PAD] [PAD] [PAD] [PAD] [PAD] [PAD] [PAD] [PAD] [PAD] [PAD] [PAD] [PAD] [PAD] [PAD] [PAD] [PAD] [PAD] [PAD] [PAD] [PAD] [PAD] [PAD] [PAD] [PAD] [PAD] [PAD] [PAD] [PAD] [PAD] [PAD] [PAD] [PAD] [PAD] [PAD] [PAD] [PAD] [PAD] [PAD] [PAD] [PAD] [PAD] [PAD] [PAD] [PAD] [PAD] [PAD] [PAD] [PAD] [PAD] [PAD] [PAD] [PAD] [PAD] [PAD] [PAD] [PAD] [PAD] [PAD] [PAD] [PAD] [PAD] [PAD] [PAD] [PAD] [PAD] [PAD] [PAD] [PAD] [PAD] [PAD] [PAD] [PAD] [PAD] [PAD] [PAD] [PAD] [PAD] [PAD] [PAD] [PAD] [PAD] [PAD] [PAD] [PAD] [PAD] [PAD] [PAD] [PAD] [PAD] [PAD] [PAD] [PAD] [PAD] [PAD] [PAD] [PAD] [PAD] [PAD] [PAD] [PAD] [PAD] [PAD] [PAD] [PAD] [PAD] [PAD] [PAD] [PAD] [PAD] [PAD] [PAD] [PAD] [PAD] [PAD] [PAD] [PAD] [PAD] [PAD] [PAD] [PAD] [PAD] [PAD] [PAD] [PAD] [PAD] [PAD] [PAD] [PAD] [PAD] [PAD] [PAD] [PAD] [PAD] [PAD] [PAD] [PAD] [PAD] [PAD] [PAD] [PAD] [PAD] [PAD] [PAD] [PAD] [PAD] [PAD] [PAD] [PAD] [PAD] [PAD] [PAD] [PAD] [PAD] [PAD] [PAD] [PAD] [PAD] [PAD] [PAD] [PAD] [PAD] [PAD] [PAD] [PAD] [PAD] [PAD] [PAD] [PAD] [PAD] [PAD] [PAD] [PAD] [PAD] [PAD] [PAD] [PAD] [PAD] [PAD] [PAD] [PAD] [PAD] [PAD] [PAD] [PAD] [PAD] [PAD] [PAD] [PAD] [PAD] [PAD] [PAD] [PAD] [PAD] [PAD] [PAD] [PAD] [PAD] [PAD] [PAD] [PAD] [PAD] [PAD] [PAD] [PAD] [PAD] [PAD] [PAD] [PAD] [PAD] [PAD] [PAD] [PAD] [PAD] [PAD] [PAD] [PAD] [PAD] [PAD] [PAD] [PAD] [PAD] [PAD] [PAD] [PAD] [PAD] [PAD] [PAD] [PAD] [PAD] [PAD] [PAD] [PAD] [PAD] [PAD] [PAD] [PAD] [PAD] [PAD] [PAD] [PAD] [PAD] [PAD] [PAD] [PAD] [PAD] [PAD] [PAD] [PAD] [PAD] [PAD] [PAD] [PAD] [PAD] [PAD] [PAD] [PAD] [PAD] [PAD] [PAD] [PAD] [PAD] [PAD] [PAD] [PAD] [PAD] [PAD] [PAD] [PAD] [PAD] [PAD] [PAD] [PAD] [PAD] [PAD] [PAD] [PAD] [PAD] [PAD] [PAD] [PAD] [PAD] [PAD] [PAD] [PAD] [PAD] [PAD] [PAD] [PAD] [PAD] [PAD] [PAD] [PAD] [PAD] [PAD] [PAD] [PAD] [PAD] [PAD] [PAD] [PAD] [PAD] [PAD] [PAD] [PAD] [PAD] [PAD] [PAD] [PAD] [PAD] [PAD] [PAD] [PAD] [PAD] [PAD] [PAD] [PAD] [PAD] [PAD] [PAD] [PAD] [PAD] [PAD] [PAD] [PAD] [PAD] [PAD] [PAD] [PAD] [PAD] [PAD] [PAD] [PAD] [PAD] [PAD] [PAD] [PAD] [PAD] [PAD] [PAD] [PAD] [PAD] [PAD] [PAD] [PAD] [PAD] [PAD] [PAD] [PAD] [PAD] [PAD] [PAD] [PAD] [PAD] [PAD] [PAD] [PAD] [PAD] [PAD] [PAD] [PAD] [PAD] [PAD] [PAD] [PAD] [PAD] [PAD] [PAD] [PAD] [PAD] [PAD] [PAD] [PAD] [PAD] [PAD] [PAD] [PAD] [PAD] [PAD] [PAD] [PAD] [PAD] [PAD] [PAD] [PAD] [PAD] [PAD] [PAD] [PAD] [PAD] [PAD] [PAD] [PAD] [PAD] [PAD] [PAD] [PAD] [PAD] [PAD] [PAD] [PAD] [PAD] [PAD] [PAD] [PAD] [PAD] [PAD] [PAD] [PAD] [PAD] [PAD] [PAD] [PAD] [PAD] [PAD] [PAD] [PAD] [PAD] [PAD] [PAD] [PAD] [PAD] [PAD] [PAD] [PAD] [PAD] [PAD] [PAD] [PAD] [PAD] [PAD] [PAD] [PAD] [PAD] [PAD] [PAD] [PAD] [PAD] [PAD] [PAD] [PAD] [PAD] [PAD] [PAD] [PAD] [PAD] [PAD] [PAD] [PAD] [PAD] [PAD] [PAD] [PAD] [PAD] [PAD] [PAD] [PAD] [PAD] [PAD] [PAD] [PAD] [PAD] [PAD] [PAD] [PAD] [PAD] [PAD] [PAD] [PAD] [PAD] [PAD] [PAD] [PAD] [PAD] [PAD] [PAD] [PAD]\""
            ],
            "application/vnd.google.colaboratory.intrinsic+json": {
              "type": "string"
            }
          },
          "metadata": {},
          "execution_count": 472
        }
      ]
    },
    {
      "cell_type": "code",
      "metadata": {
        "id": "VdIvj6WjHeZQ",
        "colab": {
          "base_uri": "https://localhost:8080/"
        },
        "executionInfo": {
          "status": "ok",
          "timestamp": 1709508791344,
          "user_tz": 480,
          "elapsed": 7,
          "user": {
            "displayName": "",
            "userId": ""
          }
        },
        "outputId": "cfcebabf-0205-474f-8e34-af8dcb72a20f"
      },
      "source": [
        "example['labels']"
      ],
      "execution_count": 473,
      "outputs": [
        {
          "output_type": "execute_result",
          "data": {
            "text/plain": [
              "[1.0, 0.0]"
            ]
          },
          "metadata": {},
          "execution_count": 473
        }
      ]
    },
    {
      "cell_type": "code",
      "metadata": {
        "id": "q4Dx95t2o6N9",
        "colab": {
          "base_uri": "https://localhost:8080/"
        },
        "executionInfo": {
          "status": "ok",
          "timestamp": 1709508791344,
          "user_tz": 480,
          "elapsed": 6,
          "user": {
            "displayName": "",
            "userId": ""
          }
        },
        "outputId": "f254fbb6-9252-4fa5-bede-a543597d9ea5"
      },
      "source": [
        "[id2label[idx] for idx, label in enumerate(example['labels']) if label == 0.0]"
      ],
      "execution_count": 474,
      "outputs": [
        {
          "output_type": "execute_result",
          "data": {
            "text/plain": [
              "['positive']"
            ]
          },
          "metadata": {},
          "execution_count": 474
        }
      ]
    },
    {
      "cell_type": "markdown",
      "metadata": {
        "id": "HgpKXDfvKBxn"
      },
      "source": [
        "Finally, we set the format of our data to PyTorch tensors. This will turn the training, validation and test sets into standard PyTorch [datasets](https://pytorch.org/docs/stable/data.html)."
      ]
    },
    {
      "cell_type": "code",
      "metadata": {
        "id": "Lk6Cq9duKBkA",
        "executionInfo": {
          "status": "ok",
          "timestamp": 1709508791344,
          "user_tz": 480,
          "elapsed": 4,
          "user": {
            "displayName": "",
            "userId": ""
          }
        }
      },
      "source": [
        "encoded_dataset.set_format(\"torch\")"
      ],
      "execution_count": 475,
      "outputs": []
    },
    {
      "cell_type": "markdown",
      "metadata": {
        "id": "w5qSmCgWefWs"
      },
      "source": [
        "## Define model\n",
        "\n",
        "Here we define a model that includes a pre-trained base (i.e. the weights from bert-base-uncased) are loaded, with a random initialized classification head (linear layer) on top. One should fine-tune this head, together with the pre-trained base on a labeled dataset.\n",
        "\n",
        "This is also printed by the warning.\n",
        "\n",
        "We set the `problem_type` to be \"multi_label_classification\", as this will make sure the appropriate loss function is used (namely [`BCEWithLogitsLoss`](https://pytorch.org/docs/stable/generated/torch.nn.BCEWithLogitsLoss.html)). We also make sure the output layer has `len(labels)` output neurons, and we set the id2label and label2id mappings."
      ]
    },
    {
      "cell_type": "code",
      "metadata": {
        "id": "6XPL1Z_RegBF",
        "colab": {
          "base_uri": "https://localhost:8080/"
        },
        "executionInfo": {
          "status": "ok",
          "timestamp": 1709508791639,
          "user_tz": 480,
          "elapsed": 299,
          "user": {
            "displayName": "",
            "userId": ""
          }
        },
        "outputId": "68bd1d01-ba84-4ea3-a87c-8e8d91084e6e"
      },
      "source": [
        "from transformers import AutoModelForSequenceClassification\n",
        "print(len(labels))\n",
        "\n",
        "model = AutoModelForSequenceClassification.from_pretrained(\"bert-base-uncased\",\n",
        "                                                           problem_type=\"multi_label_classification\",\n",
        "                                                           num_labels=len(labels),\n",
        "                                                           id2label=id2label,\n",
        "                                                           label2id=label2id)"
      ],
      "execution_count": 476,
      "outputs": [
        {
          "output_type": "stream",
          "name": "stdout",
          "text": [
            "2\n"
          ]
        },
        {
          "output_type": "stream",
          "name": "stderr",
          "text": [
            "Some weights of BertForSequenceClassification were not initialized from the model checkpoint at bert-base-uncased and are newly initialized: ['classifier.bias', 'classifier.weight']\n",
            "You should probably TRAIN this model on a down-stream task to be able to use it for predictions and inference.\n"
          ]
        }
      ]
    },
    {
      "cell_type": "markdown",
      "metadata": {
        "id": "mjJGEXShp7te"
      },
      "source": [
        "## Train the model!\n",
        "\n",
        "We are going to train the model using HuggingFace's Trainer API. This requires us to define 2 things:\n",
        "\n",
        "* `TrainingArguments`, which specify training hyperparameters. All options can be found in the [docs](https://huggingface.co/transformers/main_classes/trainer.html#trainingarguments). Below, we for example specify that we want to evaluate after every epoch of training, we would like to save the model every epoch, we set the learning rate, the batch size to use for training/evaluation, how many epochs to train for, and so on.\n",
        "* a `Trainer` object (docs can be found [here](https://huggingface.co/transformers/main_classes/trainer.html#id1))."
      ]
    },
    {
      "cell_type": "code",
      "metadata": {
        "id": "K5a8_vIKqr7P",
        "executionInfo": {
          "status": "ok",
          "timestamp": 1709508791639,
          "user_tz": 480,
          "elapsed": 3,
          "user": {
            "displayName": "",
            "userId": ""
          }
        }
      },
      "source": [
        "batch_size = 16\n",
        "metric_name = \"f1\""
      ],
      "execution_count": 477,
      "outputs": []
    },
    {
      "cell_type": "code",
      "source": [
        "# !pip install accelerate -U"
      ],
      "metadata": {
        "id": "Qm0nr6F4G2bV",
        "executionInfo": {
          "status": "ok",
          "timestamp": 1709508791639,
          "user_tz": 480,
          "elapsed": 3,
          "user": {
            "displayName": "",
            "userId": ""
          }
        }
      },
      "execution_count": 478,
      "outputs": []
    },
    {
      "cell_type": "code",
      "source": [
        "# !pip install transformers[torch]"
      ],
      "metadata": {
        "id": "XynrSQNUG78A",
        "executionInfo": {
          "status": "ok",
          "timestamp": 1709508791639,
          "user_tz": 480,
          "elapsed": 2,
          "user": {
            "displayName": "",
            "userId": ""
          }
        }
      },
      "execution_count": 479,
      "outputs": []
    },
    {
      "cell_type": "code",
      "source": [
        "!pip show transformers\n",
        "!pip show accelerate\n"
      ],
      "metadata": {
        "colab": {
          "base_uri": "https://localhost:8080/"
        },
        "id": "0a2wrrrQHpOV",
        "executionInfo": {
          "status": "ok",
          "timestamp": 1709508803032,
          "user_tz": 480,
          "elapsed": 11395,
          "user": {
            "displayName": "",
            "userId": ""
          }
        },
        "outputId": "a1869b85-c968-4b2b-c741-74a9b6248e7b"
      },
      "execution_count": 480,
      "outputs": [
        {
          "output_type": "stream",
          "name": "stdout",
          "text": [
            "Name: transformers\n",
            "Version: 4.37.2\n",
            "Summary: State-of-the-art Machine Learning for JAX, PyTorch and TensorFlow\n",
            "Home-page: https://github.com/huggingface/transformers\n",
            "Author: The Hugging Face team (past and future) with the help of all our contributors (https://github.com/huggingface/transformers/graphs/contributors)\n",
            "Author-email: transformers@huggingface.co\n",
            "License: Apache 2.0 License\n",
            "Location: /usr/local/lib/python3.10/dist-packages\n",
            "Requires: filelock, huggingface-hub, numpy, packaging, pyyaml, regex, requests, safetensors, tokenizers, tqdm\n",
            "Required-by: \n",
            "Name: accelerate\n",
            "Version: 0.22.0\n",
            "Summary: Accelerate\n",
            "Home-page: https://github.com/huggingface/accelerate\n",
            "Author: The HuggingFace team\n",
            "Author-email: sylvain@huggingface.co\n",
            "License: Apache\n",
            "Location: /usr/local/lib/python3.10/dist-packages\n",
            "Requires: numpy, packaging, psutil, pyyaml, torch\n",
            "Required-by: \n"
          ]
        }
      ]
    },
    {
      "cell_type": "code",
      "source": [
        "import accelerate\n",
        "\n",
        "accelerate.__version__"
      ],
      "metadata": {
        "colab": {
          "base_uri": "https://localhost:8080/",
          "height": 35
        },
        "id": "OUC-bcihIAoZ",
        "executionInfo": {
          "status": "ok",
          "timestamp": 1709508803032,
          "user_tz": 480,
          "elapsed": 18,
          "user": {
            "displayName": "",
            "userId": ""
          }
        },
        "outputId": "3a1ed99d-a1d4-403a-c6ef-3b199e529a3b"
      },
      "execution_count": 481,
      "outputs": [
        {
          "output_type": "execute_result",
          "data": {
            "text/plain": [
              "'0.22.0'"
            ],
            "application/vnd.google.colaboratory.intrinsic+json": {
              "type": "string"
            }
          },
          "metadata": {},
          "execution_count": 481
        }
      ]
    },
    {
      "cell_type": "code",
      "metadata": {
        "id": "dR2GmpvDqbuZ",
        "executionInfo": {
          "status": "ok",
          "timestamp": 1709508803032,
          "user_tz": 480,
          "elapsed": 16,
          "user": {
            "displayName": "",
            "userId": ""
          }
        }
      },
      "source": [
        "# !pip install accelerate -U\n",
        "from transformers import TrainingArguments, Trainer\n",
        "\n",
        "args = TrainingArguments(\n",
        "    f\"bert-finetuned\",\n",
        "    evaluation_strategy = \"epoch\",\n",
        "    save_strategy = \"epoch\",\n",
        "    learning_rate=2e-5,\n",
        "    per_device_train_batch_size=batch_size,\n",
        "    per_device_eval_batch_size=batch_size,\n",
        "    num_train_epochs=3,\n",
        "    weight_decay=0.01,\n",
        "    load_best_model_at_end=True,\n",
        "    metric_for_best_model=metric_name,\n",
        "    # gradient_accumulation_steps=2,\n",
        "    logging_strategy = \"epoch\",\n",
        "    logging_steps = 0.1\n",
        "    #push_to_hub=True,\n",
        ")"
      ],
      "execution_count": 482,
      "outputs": []
    },
    {
      "cell_type": "code",
      "source": [
        "# !pip show accelerate\n"
      ],
      "metadata": {
        "id": "GBN8a3tyX3BO",
        "executionInfo": {
          "status": "ok",
          "timestamp": 1709508803032,
          "user_tz": 480,
          "elapsed": 16,
          "user": {
            "displayName": "",
            "userId": ""
          }
        }
      },
      "execution_count": 483,
      "outputs": []
    },
    {
      "cell_type": "markdown",
      "metadata": {
        "id": "1_v2fPFFJ3-v"
      },
      "source": [
        "We are also going to compute metrics while training. For this, we need to define a `compute_metrics` function, that returns a dictionary with the desired metric values."
      ]
    },
    {
      "cell_type": "code",
      "metadata": {
        "id": "797b2WHJqUgZ",
        "executionInfo": {
          "status": "ok",
          "timestamp": 1709508803032,
          "user_tz": 480,
          "elapsed": 16,
          "user": {
            "displayName": "",
            "userId": ""
          }
        }
      },
      "source": [
        "from sklearn.metrics import f1_score, roc_auc_score, accuracy_score, precision_score, recall_score, multilabel_confusion_matrix, classification_report\n",
        "from transformers import EvalPrediction\n",
        "import torch\n",
        "import numpy as np\n",
        "import seaborn as sns\n",
        "import matplotlib.pyplot as plt\n",
        "\n",
        "# source: https://jesusleal.io/2021/04/21/Longformer-multilabel-classification/\n",
        "def multi_label_metrics(predictions, labels, threshold=0.5):\n",
        "    # first, apply sigmoid on predictions which are of shape (batch_size, num_labels)\n",
        "    sigmoid = torch.nn.Sigmoid()\n",
        "    probs = sigmoid(torch.Tensor(predictions))\n",
        "    # next, use threshold to turn them into integer predictions\n",
        "    y_pred = np.zeros(probs.shape)\n",
        "    y_pred[np.where(probs >= threshold)] = 1\n",
        "\n",
        "    y_pred = y_pred[:, 1]\n",
        "    labels = np.array(labels)[:, 1]\n",
        "    # finally, compute metrics\n",
        "    y_true = labels\n",
        "    f1_micro_average = f1_score(y_true=y_true, y_pred=y_pred)\n",
        "    roc_auc = roc_auc_score(y_true, y_pred)\n",
        "    accuracy = accuracy_score(y_true, y_pred)\n",
        "    precision = precision_score(y_true, y_pred)\n",
        "    recall = recall_score(y_true, y_pred)\n",
        "\n",
        "    # Print the confusion matrix to understand class distribution\n",
        "    # confusion_mat = confusion_matrix(y_true.cpu().numpy(), y_pred.cpu().numpy())\n",
        "\n",
        "    cm =  multilabel_confusion_matrix(labels, y_pred)\n",
        "    print(cm[1])\n",
        "\n",
        "    # Visualize confusion matrix using Seaborn\n",
        "    # plt.figure(figsize=(8, 6))\n",
        "    # sns.heatmap(cm, annot=True, fmt=\"d\", cmap=\"Blues\", cbar=False)\n",
        "    # plt.xlabel('Predicted Label')\n",
        "    # plt.ylabel('True Label')\n",
        "    # plt.title('Confusion Matrix')\n",
        "    # plt.show()\n",
        "\n",
        "    # return as dictionary\n",
        "    metrics = {'f1': f1_micro_average,\n",
        "               'roc_auc': roc_auc,\n",
        "               'accuracy': accuracy,\n",
        "               'precision': precision,\n",
        "               'recall': recall}\n",
        "    return metrics\n",
        "\n",
        "def compute_metrics(p: EvalPrediction):\n",
        "    preds = p.predictions[0] if isinstance(p.predictions,\n",
        "            tuple) else p.predictions\n",
        "    result = multi_label_metrics(\n",
        "        predictions=preds,\n",
        "        labels=p.label_ids)\n",
        "    return result"
      ],
      "execution_count": 484,
      "outputs": []
    },
    {
      "cell_type": "markdown",
      "metadata": {
        "id": "fxNo4_TsvzDm"
      },
      "source": [
        "Let's verify a batch as well as a forward pass:"
      ]
    },
    {
      "cell_type": "code",
      "metadata": {
        "id": "IlOgGiojuWwG",
        "colab": {
          "base_uri": "https://localhost:8080/",
          "height": 35
        },
        "executionInfo": {
          "status": "ok",
          "timestamp": 1709508803032,
          "user_tz": 480,
          "elapsed": 15,
          "user": {
            "displayName": "",
            "userId": ""
          }
        },
        "outputId": "e77c8496-f8ff-4006-b0ce-552fe77d2f32"
      },
      "source": [
        "encoded_dataset['train'][0]['labels'].type()"
      ],
      "execution_count": 485,
      "outputs": [
        {
          "output_type": "execute_result",
          "data": {
            "text/plain": [
              "'torch.FloatTensor'"
            ],
            "application/vnd.google.colaboratory.intrinsic+json": {
              "type": "string"
            }
          },
          "metadata": {},
          "execution_count": 485
        }
      ]
    },
    {
      "cell_type": "code",
      "metadata": {
        "id": "Y41Kre_jvD7x",
        "colab": {
          "base_uri": "https://localhost:8080/"
        },
        "executionInfo": {
          "status": "ok",
          "timestamp": 1709508803703,
          "user_tz": 480,
          "elapsed": 685,
          "user": {
            "displayName": "",
            "userId": ""
          }
        },
        "outputId": "4790207a-fb93-4a0c-809b-eff9e95b2804"
      },
      "source": [
        "encoded_dataset['train']['input_ids'][0]"
      ],
      "execution_count": 486,
      "outputs": [
        {
          "output_type": "execute_result",
          "data": {
            "text/plain": [
              "tensor([ 101, 2016, 1005, 1055, 2054, 1005, 1055, 4141, 9461, 2000, 2004, 1037,\n",
              "        2439, 3426, 1012, 2123, 1005, 1056, 5949, 2115, 3052, 1012, 2693,  102,\n",
              "           0,    0,    0,    0,    0,    0,    0,    0,    0,    0,    0,    0,\n",
              "           0,    0,    0,    0,    0,    0,    0,    0,    0,    0,    0,    0,\n",
              "           0,    0,    0,    0,    0,    0,    0,    0,    0,    0,    0,    0,\n",
              "           0,    0,    0,    0,    0,    0,    0,    0,    0,    0,    0,    0,\n",
              "           0,    0,    0,    0,    0,    0,    0,    0,    0,    0,    0,    0,\n",
              "           0,    0,    0,    0,    0,    0,    0,    0,    0,    0,    0,    0,\n",
              "           0,    0,    0,    0,    0,    0,    0,    0,    0,    0,    0,    0,\n",
              "           0,    0,    0,    0,    0,    0,    0,    0,    0,    0,    0,    0,\n",
              "           0,    0,    0,    0,    0,    0,    0,    0,    0,    0,    0,    0,\n",
              "           0,    0,    0,    0,    0,    0,    0,    0,    0,    0,    0,    0,\n",
              "           0,    0,    0,    0,    0,    0,    0,    0,    0,    0,    0,    0,\n",
              "           0,    0,    0,    0,    0,    0,    0,    0,    0,    0,    0,    0,\n",
              "           0,    0,    0,    0,    0,    0,    0,    0,    0,    0,    0,    0,\n",
              "           0,    0,    0,    0,    0,    0,    0,    0,    0,    0,    0,    0,\n",
              "           0,    0,    0,    0,    0,    0,    0,    0,    0,    0,    0,    0,\n",
              "           0,    0,    0,    0,    0,    0,    0,    0,    0,    0,    0,    0,\n",
              "           0,    0,    0,    0,    0,    0,    0,    0,    0,    0,    0,    0,\n",
              "           0,    0,    0,    0,    0,    0,    0,    0,    0,    0,    0,    0,\n",
              "           0,    0,    0,    0,    0,    0,    0,    0,    0,    0,    0,    0,\n",
              "           0,    0,    0,    0,    0,    0,    0,    0,    0,    0,    0,    0,\n",
              "           0,    0,    0,    0,    0,    0,    0,    0,    0,    0,    0,    0,\n",
              "           0,    0,    0,    0,    0,    0,    0,    0,    0,    0,    0,    0,\n",
              "           0,    0,    0,    0,    0,    0,    0,    0,    0,    0,    0,    0,\n",
              "           0,    0,    0,    0,    0,    0,    0,    0,    0,    0,    0,    0,\n",
              "           0,    0,    0,    0,    0,    0,    0,    0,    0,    0,    0,    0,\n",
              "           0,    0,    0,    0,    0,    0,    0,    0,    0,    0,    0,    0,\n",
              "           0,    0,    0,    0,    0,    0,    0,    0,    0,    0,    0,    0,\n",
              "           0,    0,    0,    0,    0,    0,    0,    0,    0,    0,    0,    0,\n",
              "           0,    0,    0,    0,    0,    0,    0,    0,    0,    0,    0,    0,\n",
              "           0,    0,    0,    0,    0,    0,    0,    0,    0,    0,    0,    0,\n",
              "           0,    0,    0,    0,    0,    0,    0,    0,    0,    0,    0,    0,\n",
              "           0,    0,    0,    0,    0,    0,    0,    0,    0,    0,    0,    0,\n",
              "           0,    0,    0,    0,    0,    0,    0,    0,    0,    0,    0,    0,\n",
              "           0,    0,    0,    0,    0,    0,    0,    0,    0,    0,    0,    0,\n",
              "           0,    0,    0,    0,    0,    0,    0,    0,    0,    0,    0,    0,\n",
              "           0,    0,    0,    0,    0,    0,    0,    0,    0,    0,    0,    0,\n",
              "           0,    0,    0,    0,    0,    0,    0,    0,    0,    0,    0,    0,\n",
              "           0,    0,    0,    0,    0,    0,    0,    0,    0,    0,    0,    0,\n",
              "           0,    0,    0,    0,    0,    0,    0,    0,    0,    0,    0,    0,\n",
              "           0,    0,    0,    0,    0,    0,    0,    0,    0,    0,    0,    0,\n",
              "           0,    0,    0,    0,    0,    0,    0,    0])"
            ]
          },
          "metadata": {},
          "execution_count": 486
        }
      ]
    },
    {
      "cell_type": "code",
      "metadata": {
        "id": "sxWcnZ8ku12V",
        "colab": {
          "base_uri": "https://localhost:8080/"
        },
        "executionInfo": {
          "status": "ok",
          "timestamp": 1709508805184,
          "user_tz": 480,
          "elapsed": 1482,
          "user": {
            "displayName": "",
            "userId": ""
          }
        },
        "outputId": "fb4d5e11-408b-4e24-ac9f-64cef2f4c46f"
      },
      "source": [
        "#forward pass\n",
        "\n",
        "outputs = model(input_ids=encoded_dataset['train']['input_ids'][0].unsqueeze(0),attention_mask=encoded_dataset['train']['attention_mask'][0].unsqueeze(0), labels=encoded_dataset['train'][0]['labels'].unsqueeze(0))\n",
        "outputs"
      ],
      "execution_count": 487,
      "outputs": [
        {
          "output_type": "execute_result",
          "data": {
            "text/plain": [
              "SequenceClassifierOutput(loss=tensor(0.9170, grad_fn=<BinaryCrossEntropyWithLogitsBackward0>), logits=tensor([[-0.5582,  0.2452]], grad_fn=<AddmmBackward0>), hidden_states=None, attentions=None)"
            ]
          },
          "metadata": {},
          "execution_count": 487
        }
      ]
    },
    {
      "cell_type": "markdown",
      "metadata": {
        "id": "f-X2brZcv0X6"
      },
      "source": [
        "Let's start training!"
      ]
    },
    {
      "cell_type": "code",
      "source": [
        "# del trainer\n",
        "import os\n",
        "torch.cuda.empty_cache()\n",
        "os.environ['PYTORCH_CUDA_ALLOC_CONF'] = 'max_split_size_mb:100'"
      ],
      "metadata": {
        "id": "KfA9GLEUo_zq",
        "executionInfo": {
          "status": "ok",
          "timestamp": 1709508805451,
          "user_tz": 480,
          "elapsed": 2,
          "user": {
            "displayName": "",
            "userId": ""
          }
        }
      },
      "execution_count": 488,
      "outputs": []
    },
    {
      "cell_type": "code",
      "source": [
        "from accelerate import Accelerator"
      ],
      "metadata": {
        "id": "qK4uAkYQDSXp",
        "executionInfo": {
          "status": "ok",
          "timestamp": 1709508805451,
          "user_tz": 480,
          "elapsed": 2,
          "user": {
            "displayName": "",
            "userId": ""
          }
        }
      },
      "execution_count": 489,
      "outputs": []
    },
    {
      "cell_type": "code",
      "metadata": {
        "id": "chq_3nUz73ib",
        "executionInfo": {
          "status": "ok",
          "timestamp": 1709508805451,
          "user_tz": 480,
          "elapsed": 2,
          "user": {
            "displayName": "",
            "userId": ""
          }
        }
      },
      "source": [
        "trainer = Trainer(\n",
        "    model,\n",
        "    args,\n",
        "    train_dataset=encoded_dataset[\"train\"],\n",
        "    eval_dataset=encoded_dataset[\"validation\"],\n",
        "    tokenizer=tokenizer,\n",
        "    compute_metrics=compute_metrics\n",
        ")\n"
      ],
      "execution_count": 490,
      "outputs": []
    },
    {
      "cell_type": "code",
      "source": [
        "# import os\n",
        "\n",
        "# Set environment variable for PyTorch CUDA allocator configuration\n",
        "# Adjust max_split_size_mb to an appropriate value for your system\n",
        "# os.environ['PYTORCH_CUDA_ALLOC_CONF'] = 'max_split_size_mb:50'\n",
        "\n",
        "# !pip install torch==2.0.0\n",
        "\n"
      ],
      "metadata": {
        "id": "DWGnlBF8bXic",
        "executionInfo": {
          "status": "ok",
          "timestamp": 1709508805451,
          "user_tz": 480,
          "elapsed": 2,
          "user": {
            "displayName": "",
            "userId": ""
          }
        }
      },
      "execution_count": 491,
      "outputs": []
    },
    {
      "cell_type": "code",
      "source": [
        "# Example: Handling scalar tensor\n",
        "scalar_tensor = torch.tensor(42)  # Replace with your actual tensor\n",
        "scalar_tensor = scalar_tensor.unsqueeze(0)  # Unsqueezing to create a one-dimensional tensor\n",
        "print(scalar_tensor)"
      ],
      "metadata": {
        "id": "NDfAAzMoJ52V",
        "executionInfo": {
          "status": "ok",
          "timestamp": 1709508805451,
          "user_tz": 480,
          "elapsed": 2,
          "user": {
            "displayName": "",
            "userId": ""
          }
        },
        "colab": {
          "base_uri": "https://localhost:8080/"
        },
        "outputId": "be13a9ad-8b9d-4352-8a84-105b4a38e732"
      },
      "execution_count": 492,
      "outputs": [
        {
          "output_type": "stream",
          "name": "stdout",
          "text": [
            "tensor([42])\n"
          ]
        }
      ]
    },
    {
      "cell_type": "code",
      "metadata": {
        "id": "KXmFds8js6P8",
        "colab": {
          "base_uri": "https://localhost:8080/",
          "height": 457
        },
        "outputId": "6284bf7f-e73b-49f8-d4e0-c95784c3ecdd",
        "executionInfo": {
          "status": "ok",
          "timestamp": 1709533979539,
          "user_tz": 480,
          "elapsed": 14131502,
          "user": {
            "displayName": "",
            "userId": ""
          }
        }
      },
      "source": [
        "trainer.train()"
      ],
      "execution_count": 493,
      "outputs": [
        {
          "output_type": "stream",
          "name": "stderr",
          "text": [
            "/usr/local/lib/python3.10/dist-packages/torch/nn/parallel/_functions.py:68: UserWarning: Was asked to gather along dimension 0, but all input tensors were scalars; will instead unsqueeze and return a vector.\n",
            "  warnings.warn('Was asked to gather along dimension 0, but all '\n"
          ]
        },
        {
          "output_type": "display_data",
          "data": {
            "text/plain": [
              "<IPython.core.display.HTML object>"
            ],
            "text/html": [
              "\n",
              "    <div>\n",
              "      \n",
              "      <progress value='26598' max='26598' style='width:300px; height:20px; vertical-align: middle;'></progress>\n",
              "      [26598/26598 6:59:32, Epoch 3/3]\n",
              "    </div>\n",
              "    <table border=\"1\" class=\"dataframe\">\n",
              "  <thead>\n",
              " <tr style=\"text-align: left;\">\n",
              "      <th>Epoch</th>\n",
              "      <th>Training Loss</th>\n",
              "      <th>Validation Loss</th>\n",
              "      <th>F1</th>\n",
              "      <th>Roc Auc</th>\n",
              "      <th>Accuracy</th>\n",
              "      <th>Precision</th>\n",
              "      <th>Recall</th>\n",
              "    </tr>\n",
              "  </thead>\n",
              "  <tbody>\n",
              "    <tr>\n",
              "      <td>1</td>\n",
              "      <td>0.014400</td>\n",
              "      <td>0.010296</td>\n",
              "      <td>0.617391</td>\n",
              "      <td>0.728999</td>\n",
              "      <td>0.998552</td>\n",
              "      <td>0.946667</td>\n",
              "      <td>0.458065</td>\n",
              "    </tr>\n",
              "    <tr>\n",
              "      <td>2</td>\n",
              "      <td>0.010500</td>\n",
              "      <td>0.008698</td>\n",
              "      <td>0.669291</td>\n",
              "      <td>0.774078</td>\n",
              "      <td>0.998618</td>\n",
              "      <td>0.858586</td>\n",
              "      <td>0.548387</td>\n",
              "    </tr>\n",
              "    <tr>\n",
              "      <td>3</td>\n",
              "      <td>0.007600</td>\n",
              "      <td>0.008515</td>\n",
              "      <td>0.641026</td>\n",
              "      <td>0.741903</td>\n",
              "      <td>0.998618</td>\n",
              "      <td>0.949367</td>\n",
              "      <td>0.483871</td>\n",
              "    </tr>\n",
              "  </tbody>\n",
              "</table><p>"
            ]
          },
          "metadata": {}
        },
        {
          "output_type": "stream",
          "name": "stdout",
          "text": [
            "[[60632     4]\n",
            " [   84    71]]\n"
          ]
        },
        {
          "output_type": "stream",
          "name": "stderr",
          "text": [
            "/usr/local/lib/python3.10/dist-packages/torch/nn/parallel/_functions.py:68: UserWarning: Was asked to gather along dimension 0, but all input tensors were scalars; will instead unsqueeze and return a vector.\n",
            "  warnings.warn('Was asked to gather along dimension 0, but all '\n"
          ]
        },
        {
          "output_type": "stream",
          "name": "stdout",
          "text": [
            "[[60622    14]\n",
            " [   70    85]]\n"
          ]
        },
        {
          "output_type": "stream",
          "name": "stderr",
          "text": [
            "/usr/local/lib/python3.10/dist-packages/torch/nn/parallel/_functions.py:68: UserWarning: Was asked to gather along dimension 0, but all input tensors were scalars; will instead unsqueeze and return a vector.\n",
            "  warnings.warn('Was asked to gather along dimension 0, but all '\n"
          ]
        },
        {
          "output_type": "stream",
          "name": "stdout",
          "text": [
            "[[60632     4]\n",
            " [   80    75]]\n"
          ]
        },
        {
          "output_type": "execute_result",
          "data": {
            "text/plain": [
              "TrainOutput(global_step=26598, training_loss=0.010845226778626595, metrics={'train_runtime': 25173.5279, 'train_samples_per_second': 33.808, 'train_steps_per_second': 1.057, 'total_flos': 2.239219792194048e+17, 'train_loss': 0.010845226778626595, 'epoch': 3.0})"
            ]
          },
          "metadata": {},
          "execution_count": 493
        }
      ]
    },
    {
      "cell_type": "code",
      "source": [
        "# eval_results = trainer.evaluate()\n",
        "# # Access confusion matrix from evaluation results\n",
        "# confusion_matrix_result = eval_results['confusion_mat']\n",
        "# print(\"Confusion Matrix:\")\n",
        "# print(confusion_matrix_result)"
      ],
      "metadata": {
        "id": "akItu2fDJUYm",
        "executionInfo": {
          "status": "ok",
          "timestamp": 1709533979539,
          "user_tz": 480,
          "elapsed": 3,
          "user": {
            "displayName": "",
            "userId": ""
          }
        }
      },
      "execution_count": 494,
      "outputs": []
    },
    {
      "cell_type": "code",
      "source": [
        "from transformers import Trainer, TrainingArguments\n",
        "from sklearn.metrics import multilabel_confusion_matrix, ConfusionMatrixDisplay\n",
        "import torch\n",
        "import matplotlib.pyplot as plt\n",
        "\n",
        "# Define your Trainer and TrainingArguments\n",
        "# ...\n",
        "\n",
        "# Evaluate the model on your test dataset\n",
        "results = trainer.predict(encoded_dataset[\"test\"])\n",
        "\n",
        "# Get true labels and predicted probabilities\n",
        "true_labels = results.label_ids\n",
        "predicted_probs = torch.nn.Softmax(dim=1)(torch.Tensor(results.predictions))\n",
        "\n",
        "# Apply a threshold to convert probabilities to binary predictions\n",
        "threshold = 0.5\n",
        "predicted_labels = (predicted_probs >= threshold).int()\n",
        "\n",
        "# Calculate multi-label confusion matrix\n",
        "conf_matrix = multilabel_confusion_matrix(true_labels, predicted_labels)\n",
        "print(classification_report(true_labels, predicted_labels))\n",
        "\n",
        "# Display the confusion matrix for each label separately\n",
        "for i, mat in enumerate(conf_matrix):\n",
        "    disp = ConfusionMatrixDisplay(confusion_matrix=mat)\n",
        "    disp.plot(cmap='viridis', values_format='d')\n",
        "    plt.title(f'Confusion Matrix - Label {i}')\n",
        "    plt.show()\n"
      ],
      "metadata": {
        "id": "8hc1jXzcoo2E",
        "colab": {
          "base_uri": "https://localhost:8080/",
          "height": 1000
        },
        "executionInfo": {
          "status": "ok",
          "timestamp": 1709534604438,
          "user_tz": 480,
          "elapsed": 624902,
          "user": {
            "displayName": "",
            "userId": ""
          }
        },
        "outputId": "c112d377-ffaa-407e-d02a-445175d8874c"
      },
      "execution_count": 495,
      "outputs": [
        {
          "output_type": "stream",
          "name": "stderr",
          "text": [
            "/usr/local/lib/python3.10/dist-packages/torch/nn/parallel/_functions.py:68: UserWarning: Was asked to gather along dimension 0, but all input tensors were scalars; will instead unsqueeze and return a vector.\n",
            "  warnings.warn('Was asked to gather along dimension 0, but all '\n"
          ]
        },
        {
          "output_type": "display_data",
          "data": {
            "text/plain": [
              "<IPython.core.display.HTML object>"
            ],
            "text/html": []
          },
          "metadata": {}
        },
        {
          "output_type": "stream",
          "name": "stdout",
          "text": [
            "[[60618    18]\n",
            " [   70    85]]\n",
            "              precision    recall  f1-score   support\n",
            "\n",
            "           0       1.00      1.00      1.00     60636\n",
            "           1       0.83      0.55      0.66       155\n",
            "\n",
            "   micro avg       1.00      1.00      1.00     60791\n",
            "   macro avg       0.91      0.77      0.83     60791\n",
            "weighted avg       1.00      1.00      1.00     60791\n",
            " samples avg       1.00      1.00      1.00     60791\n",
            "\n"
          ]
        },
        {
          "output_type": "display_data",
          "data": {
            "text/plain": [
              "<Figure size 640x480 with 2 Axes>"
            ],
            "image/png": "[encoded data removed]"
          },
          "metadata": {}
        },
        {
          "output_type": "display_data",
          "data": {
            "text/plain": [
              "<Figure size 640x480 with 2 Axes>"
            ],
            "image/png": "[encoded data removed]"
          },
          "metadata": {}
        }
      ]
    },
    {
      "cell_type": "code",
      "source": [
        "# print(true_labels)"
      ],
      "metadata": {
        "id": "sAz7jiAa79Vx",
        "executionInfo": {
          "status": "ok",
          "timestamp": 1709534604439,
          "user_tz": 480,
          "elapsed": 1,
          "user": {
            "displayName": "",
            "userId": ""
          }
        }
      },
      "execution_count": 496,
      "outputs": []
    },
    {
      "cell_type": "code",
      "source": [
        "train_logs = trainer.state.log_history\n",
        "\n",
        "# Extract training and validation losses\n",
        "train_losses = [log['loss'] for log in train_logs if 'loss' in log and 'eval_loss' not in log]\n",
        "eval_losses = [log['eval_loss'] for log in train_logs if 'eval_loss' in log]\n",
        "\n",
        "# Generate a gradient of colors\n",
        "gradient = np.linspace(0, 1, len(train_losses))\n",
        "\n",
        "# Plot the training and validation loss with a gradient\n",
        "plt.plot(train_losses, label=\"Train Loss\", color=plt.cm.coolwarm(gradient[0]), linewidth=2)\n",
        "plt.plot(eval_losses, label=\"Validation Loss\", color=plt.cm.coolwarm(gradient[-1]), linewidth=2)\n",
        "plt.xlabel(\"Training Steps\")\n",
        "plt.ylabel(\"Loss\")\n",
        "plt.legend()\n",
        "\n",
        "# Show the plot\n",
        "plt.show()"
      ],
      "metadata": {
        "id": "wv_zMW8ltKvP",
        "colab": {
          "base_uri": "https://localhost:8080/",
          "height": 449
        },
        "executionInfo": {
          "status": "ok",
          "timestamp": 1709534604771,
          "user_tz": 480,
          "elapsed": 333,
          "user": {
            "displayName": "",
            "userId": ""
          }
        },
        "outputId": "85572fa1-22b1-424d-ee6c-9e8a7e9059c3"
      },
      "execution_count": 497,
      "outputs": [
        {
          "output_type": "display_data",
          "data": {
            "text/plain": [
              "<Figure size 640x480 with 1 Axes>"
            ],
            "image/png": "[encoded data removed]"
          },
          "metadata": {}
        }
      ]
    },
    {
      "cell_type": "markdown",
      "metadata": {
        "id": "hiloh9eMK91o"
      },
      "source": [
        "## Evaluate\n",
        "\n",
        "After training, we evaluate our model on the validation set."
      ]
    },
    {
      "cell_type": "code",
      "source": [
        "#Overfitting above"
      ],
      "metadata": {
        "id": "FmUcFAA16fAS",
        "executionInfo": {
          "status": "ok",
          "timestamp": 1709534604771,
          "user_tz": 480,
          "elapsed": 0,
          "user": {
            "displayName": "",
            "userId": ""
          }
        }
      },
      "execution_count": 498,
      "outputs": []
    },
    {
      "cell_type": "code",
      "metadata": {
        "id": "cMlebJ83LRYG",
        "colab": {
          "base_uri": "https://localhost:8080/",
          "height": 307
        },
        "executionInfo": {
          "status": "ok",
          "timestamp": 1709535229143,
          "user_tz": 480,
          "elapsed": 624372,
          "user": {
            "displayName": "",
            "userId": ""
          }
        },
        "outputId": "81538d42-7504-441c-9395-7d82ee9dbd72"
      },
      "source": [
        "trainer.evaluate()"
      ],
      "execution_count": 499,
      "outputs": [
        {
          "output_type": "stream",
          "name": "stderr",
          "text": [
            "/usr/local/lib/python3.10/dist-packages/torch/nn/parallel/_functions.py:68: UserWarning: Was asked to gather along dimension 0, but all input tensors were scalars; will instead unsqueeze and return a vector.\n",
            "  warnings.warn('Was asked to gather along dimension 0, but all '\n"
          ]
        },
        {
          "output_type": "display_data",
          "data": {
            "text/plain": [
              "<IPython.core.display.HTML object>"
            ],
            "text/html": [
              "\n",
              "    <div>\n",
              "      \n",
              "      <progress value='1900' max='1900' style='width:300px; height:20px; vertical-align: middle;'></progress>\n",
              "      [1900/1900 10:24]\n",
              "    </div>\n",
              "    "
            ]
          },
          "metadata": {}
        },
        {
          "output_type": "stream",
          "name": "stdout",
          "text": [
            "[[60622    14]\n",
            " [   70    85]]\n"
          ]
        },
        {
          "output_type": "execute_result",
          "data": {
            "text/plain": [
              "{'eval_loss': 0.00869782641530037,\n",
              " 'eval_f1': 0.6692913385826771,\n",
              " 'eval_roc_auc': 0.7740781054159246,\n",
              " 'eval_accuracy': 0.9986182165123126,\n",
              " 'eval_precision': 0.8585858585858586,\n",
              " 'eval_recall': 0.5483870967741935,\n",
              " 'eval_runtime': 624.4885,\n",
              " 'eval_samples_per_second': 97.345,\n",
              " 'eval_steps_per_second': 3.042,\n",
              " 'epoch': 3.0}"
            ]
          },
          "metadata": {},
          "execution_count": 499
        }
      ]
    },
    {
      "cell_type": "markdown",
      "metadata": {
        "id": "3nmvJp0pLq-3"
      },
      "source": [
        "## Inference\n",
        "\n",
        "Let's test the model on a new sentence:"
      ]
    },
    {
      "cell_type": "code",
      "metadata": {
        "id": "3fxjfr8PLD42",
        "executionInfo": {
          "status": "ok",
          "timestamp": 1709535229144,
          "user_tz": 480,
          "elapsed": 4,
          "user": {
            "displayName": "",
            "userId": ""
          }
        }
      },
      "source": [
        "text = \"Fuck you\"\n",
        "\n",
        "encoding = tokenizer(text, return_tensors=\"pt\")\n",
        "encoding = {k: v.to(trainer.model.device) for k,v in encoding.items()}\n",
        "\n",
        "outputs = trainer.model(**encoding)"
      ],
      "execution_count": 500,
      "outputs": []
    },
    {
      "cell_type": "markdown",
      "metadata": {
        "id": "8THm5-XgNHPm"
      },
      "source": [
        "The logits that come out of the model are of shape (batch_size, num_labels). As we are only forwarding a single sentence through the model, the `batch_size` equals 1. The logits is a tensor that contains the (unnormalized) scores for every individual label."
      ]
    },
    {
      "cell_type": "code",
      "metadata": {
        "id": "KOBosj4UL2tU",
        "colab": {
          "base_uri": "https://localhost:8080/"
        },
        "executionInfo": {
          "status": "ok",
          "timestamp": 1709535229144,
          "user_tz": 480,
          "elapsed": 4,
          "user": {
            "displayName": "",
            "userId": ""
          }
        },
        "outputId": "c107563c-521c-4524-a297-aa50ede627b3"
      },
      "source": [
        "logits = outputs.logits\n",
        "logits.shape"
      ],
      "execution_count": 501,
      "outputs": [
        {
          "output_type": "execute_result",
          "data": {
            "text/plain": [
              "torch.Size([1, 2])"
            ]
          },
          "metadata": {},
          "execution_count": 501
        }
      ]
    },
    {
      "cell_type": "markdown",
      "metadata": {
        "id": "DC4XdDaHNVcd"
      },
      "source": [
        "To turn them into actual predicted labels, we first apply a sigmoid function independently to every score, such that every score is turned into a number between 0 and 1, that can be interpreted as a \"probability\" for how certain the model is that a given class belongs to the input text.\n",
        "\n",
        "Next, we use a threshold (typically, 0.5) to turn every probability into either a 1 (which means, we predict the label for the given example) or a 0 (which means, we don't predict the label for the given example)."
      ]
    },
    {
      "cell_type": "code",
      "metadata": {
        "id": "mEkAQleMMT0k",
        "colab": {
          "base_uri": "https://localhost:8080/"
        },
        "executionInfo": {
          "status": "ok",
          "timestamp": 1709535229144,
          "user_tz": 480,
          "elapsed": 2,
          "user": {
            "displayName": "",
            "userId": ""
          }
        },
        "outputId": "ddbfd142-4247-4ade-db62-ff5edbedd3cd"
      },
      "source": [
        "# apply sigmoid + threshold\n",
        "sigmoid = torch.nn.Sigmoid()\n",
        "probs = sigmoid(logits.squeeze().cpu())\n",
        "predictions = np.zeros(probs.shape)\n",
        "print(predictions.shape)\n",
        "predictions[np.where(probs >= 0.5)] = 1\n",
        "# turn predicted id's into actual label names\n",
        "predicted_labels = [id2label[idx] for idx, label in enumerate(predictions) if label == 0.0]\n",
        "print(predicted_labels)"
      ],
      "execution_count": 502,
      "outputs": [
        {
          "output_type": "stream",
          "name": "stdout",
          "text": [
            "(2,)\n",
            "['positive']\n"
          ]
        }
      ]
    },
    {
      "cell_type": "code",
      "source": [
        "trainer.predict(encoded_dataset[\"test\"])"
      ],
      "metadata": {
        "id": "l0GyDQPqt69V",
        "colab": {
          "base_uri": "https://localhost:8080/",
          "height": 394
        },
        "executionInfo": {
          "status": "ok",
          "timestamp": 1709535853486,
          "user_tz": 480,
          "elapsed": 624343,
          "user": {
            "displayName": "",
            "userId": ""
          }
        },
        "outputId": "23d39218-c0a4-491e-cf54-e6b413d18648"
      },
      "execution_count": 503,
      "outputs": [
        {
          "output_type": "stream",
          "name": "stderr",
          "text": [
            "/usr/local/lib/python3.10/dist-packages/torch/nn/parallel/_functions.py:68: UserWarning: Was asked to gather along dimension 0, but all input tensors were scalars; will instead unsqueeze and return a vector.\n",
            "  warnings.warn('Was asked to gather along dimension 0, but all '\n"
          ]
        },
        {
          "output_type": "display_data",
          "data": {
            "text/plain": [
              "<IPython.core.display.HTML object>"
            ],
            "text/html": []
          },
          "metadata": {}
        },
        {
          "output_type": "stream",
          "name": "stdout",
          "text": [
            "[[60618    18]\n",
            " [   70    85]]\n"
          ]
        },
        {
          "output_type": "execute_result",
          "data": {
            "text/plain": [
              "PredictionOutput(predictions=array([[ 6.782035 , -6.8324304],\n",
              "       [ 7.318239 , -7.348715 ],\n",
              "       [ 6.7939553, -6.8453684],\n",
              "       ...,\n",
              "       [ 7.5125327, -7.487436 ],\n",
              "       [ 7.3788104, -7.3943577],\n",
              "       [ 7.1923995, -7.243364 ]], dtype=float32), label_ids=array([[1., 0.],\n",
              "       [1., 0.],\n",
              "       [1., 0.],\n",
              "       ...,\n",
              "       [1., 0.],\n",
              "       [1., 0.],\n",
              "       [1., 0.]], dtype=float32), metrics={'test_loss': 0.008530281484127045, 'test_f1': 0.6589147286821705, 'test_roc_auc': 0.7740451217098753, 'test_accuracy': 0.9985524172986133, 'test_precision': 0.8252427184466019, 'test_recall': 0.5483870967741935, 'test_runtime': 624.3738, 'test_samples_per_second': 97.363, 'test_steps_per_second': 3.043})"
            ]
          },
          "metadata": {},
          "execution_count": 503
        }
      ]
    },
    {
      "cell_type": "code",
      "source": [
        "#high test cz most are zeroes and would ve assigned the same i presume?"
      ],
      "metadata": {
        "id": "bgkPuA0gydZ3",
        "executionInfo": {
          "status": "ok",
          "timestamp": 1709535853487,
          "user_tz": 480,
          "elapsed": 2,
          "user": {
            "displayName": "",
            "userId": ""
          }
        }
      },
      "execution_count": 504,
      "outputs": []
    },
    {
      "cell_type": "code",
      "source": [],
      "metadata": {
        "id": "lLRuGUNO99co",
        "executionInfo": {
          "status": "ok",
          "timestamp": 1709505994304,
          "user_tz": 480,
          "elapsed": 9,
          "user": {
            "displayName": "",
            "userId": ""
          }
        }
      },
      "execution_count": 359,
      "outputs": []
    }
  ]
}